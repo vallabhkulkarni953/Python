{
 "cells": [
  {
   "cell_type": "markdown",
   "id": "5d676a89-8a0b-480b-aee0-6d5b6bf61fff",
   "metadata": {},
   "source": [
    "# Emails with Python"
   ]
  },
  {
   "cell_type": "code",
   "execution_count": 3,
   "id": "5cc45479-7cba-4f66-9937-757147c53689",
   "metadata": {},
   "outputs": [],
   "source": [
    "# How to send emails with python?"
   ]
  },
  {
   "cell_type": "code",
   "execution_count": 5,
   "id": "85cfe94e-4ae0-4bae-a4bf-ac968d341349",
   "metadata": {},
   "outputs": [],
   "source": [
    "# How to check your inbox for recieved messages?"
   ]
  },
  {
   "cell_type": "markdown",
   "id": "9663bd44-d665-4c00-8741-6b48c96676bb",
   "metadata": {},
   "source": [
    "## Sending Emails "
   ]
  },
  {
   "cell_type": "markdown",
   "id": "bdd211b5-c362-4ccd-91cf-a54f2ca66edc",
   "metadata": {},
   "source": [
    "To send emails with Python:\n",
    "1) Connect to an Email Server\n",
    "2) Confirm the Connection\n",
    "3) Set up a Protocol\n",
    "4) Log on to Email Server\n",
    "5) Send the Mail"
   ]
  },
  {
   "cell_type": "code",
   "execution_count": 9,
   "id": "060c6be4-d6d4-406d-83d5-6836b6abfc86",
   "metadata": {},
   "outputs": [],
   "source": [
    "# smtlib library does these steps with simple function calls"
   ]
  },
  {
   "cell_type": "markdown",
   "id": "56a8646d-c49f-461d-9777-8fd177a2f8a0",
   "metadata": {},
   "source": [
    "For Gmail users, you need to generate an app password instead of normal password "
   ]
  },
  {
   "cell_type": "markdown",
   "id": "03da66a4-9e50-4585-9e3f-052bf49d1a42",
   "metadata": {},
   "source": [
    "This let's Gmail know that the Python Script attempting to access your account is authorized by you."
   ]
  },
  {
   "attachments": {
    "fb7e9ad3-ff90-4f68-954b-c739ab204f35.png": {
     "image/png": "[encoded data removed]"
    }
   },
   "cell_type": "markdown",
   "id": "0852e13a-2639-47dd-b659-b04b23cef6ea",
   "metadata": {},
   "source": [
    "![image.png](attachment:fb7e9ad3-ff90-4f68-954b-c739ab204f35.png)"
   ]
  },
  {
   "cell_type": "code",
   "execution_count": 14,
   "id": "d255bc13-61c5-4eee-84e2-342b650a7b28",
   "metadata": {},
   "outputs": [],
   "source": [
    "import smtplib"
   ]
  },
  {
   "cell_type": "code",
   "execution_count": 16,
   "id": "95e4f734-c18c-434f-ba50-5656b0fc6d02",
   "metadata": {},
   "outputs": [],
   "source": [
    "smtp_object = smtplib.SMTP('smtp.gmail.com',port = 587)"
   ]
  },
  {
   "cell_type": "code",
   "execution_count": 18,
   "id": "c4faad5a-0d13-4b6f-813a-55b38b957e4a",
   "metadata": {},
   "outputs": [
    {
     "data": {
      "text/plain": [
       "(250,\n",
       " b'smtp.gmail.com at your service, [2409:4081:e9d:1080:2dcf:f2df:da91:6037]\\nSIZE 35882577\\n8BITMIME\\nSTARTTLS\\nENHANCEDSTATUSCODES\\nPIPELINING\\nCHUNKING\\nSMTPUTF8')"
      ]
     },
     "execution_count": 18,
     "metadata": {},
     "output_type": "execute_result"
    }
   ],
   "source": [
    "smtp_object.ehlo()"
   ]
  },
  {
   "cell_type": "code",
   "execution_count": 20,
   "id": "46a6bc8b-72b9-4e39-b228-9bcd42eeeb84",
   "metadata": {},
   "outputs": [],
   "source": [
    "# The above message means you have successful connection"
   ]
  },
  {
   "cell_type": "code",
   "execution_count": 22,
   "id": "dbaea6e4-e0b0-44b8-9d55-289f758b23e6",
   "metadata": {},
   "outputs": [
    {
     "data": {
      "text/plain": [
       "(220, b'2.0.0 Ready to start TLS')"
      ]
     },
     "execution_count": 22,
     "metadata": {},
     "output_type": "execute_result"
    }
   ],
   "source": [
    "smtp_object.starttls()"
   ]
  },
  {
   "cell_type": "code",
   "execution_count": 24,
   "id": "d76edf75-eb28-403d-b593-1c3cb8d49c77",
   "metadata": {},
   "outputs": [],
   "source": [
    "import getpass"
   ]
  },
  {
   "cell_type": "code",
   "execution_count": 30,
   "id": "22f2bb7e-9d77-4423-b9d6-375bfffe1fe5",
   "metadata": {},
   "outputs": [
    {
     "name": "stdin",
     "output_type": "stream",
     "text": [
      "Please enter your password :  ········\n"
     ]
    }
   ],
   "source": [
    "password = getpass.getpass(\"Please enter your password : \")"
   ]
  },
  {
   "cell_type": "code",
   "execution_count": null,
   "id": "23529ef1-3ec6-4ad3-977c-4e790164d980",
   "metadata": {},
   "outputs": [],
   "source": [
    "print(password)"
   ]
  },
  {
   "cell_type": "code",
   "execution_count": 34,
   "id": "ddad94b4-9c8c-4d0c-8a98-384f6d3beac1",
   "metadata": {},
   "outputs": [
    {
     "name": "stdin",
     "output_type": "stream",
     "text": [
      "Enter your Email ID :  ········\n",
      "Enter your Password :  ········\n"
     ]
    }
   ],
   "source": [
    "email = getpass.getpass(\"Enter your Email ID : \")\n",
    "password = getpass.getpass(\"Enter your Password : \")"
   ]
  },
  {
   "cell_type": "code",
   "execution_count": 36,
   "id": "1eea22bd-d7d0-4f98-9ed7-cd5cb79a4995",
   "metadata": {},
   "outputs": [
    {
     "data": {
      "text/plain": [
       "(235, b'2.7.0 Accepted')"
      ]
     },
     "execution_count": 36,
     "metadata": {},
     "output_type": "execute_result"
    }
   ],
   "source": [
    "smtp_object.login(email,password)"
   ]
  },
  {
   "cell_type": "code",
   "execution_count": 40,
   "id": "cc4f87b4-6b04-4e91-a9d7-8309b98a8308",
   "metadata": {},
   "outputs": [
    {
     "name": "stdin",
     "output_type": "stream",
     "text": [
      "Enter the Subject to Your Email :  Favourite Color\n",
      "Enter the Body Message :  Hey There! I just wanted to tell you that my Favourite Color is Yellow ! \n"
     ]
    },
    {
     "data": {
      "text/plain": [
       "{}"
      ]
     },
     "execution_count": 40,
     "metadata": {},
     "output_type": "execute_result"
    }
   ],
   "source": [
    "from_address = email\n",
    "to_address = email\n",
    "Subject = input(\"Enter the Subject to Your Email : \")\n",
    "message = input(\"Enter the Body Message : \")\n",
    "msg = \"Subject: \" + Subject + '\\n' + message \n",
    "\n",
    "smtp_object.sendmail(from_address,to_address,msg)"
   ]
  },
  {
   "cell_type": "code",
   "execution_count": 42,
   "id": "05435e7f-107c-41e3-b634-05b4d55d3be7",
   "metadata": {},
   "outputs": [
    {
     "data": {
      "text/plain": [
       "(221,\n",
       " b'2.0.0 closing connection 41be03b00d2f7-b2f5f8951besm3445746a12.70 - gsmtp')"
      ]
     },
     "execution_count": 42,
     "metadata": {},
     "output_type": "execute_result"
    }
   ],
   "source": [
    "smtp_object.quit()"
   ]
  },
  {
   "cell_type": "code",
   "execution_count": null,
   "id": "d6e9dffc-2272-4c17-8615-a3dd6920c938",
   "metadata": {},
   "outputs": [],
   "source": []
  },
  {
   "cell_type": "markdown",
   "id": "3723d062-9c38-444b-bd2a-6e841c5b7bec",
   "metadata": {},
   "source": [
    "## Receiving Emails "
   ]
  },
  {
   "cell_type": "code",
   "execution_count": 46,
   "id": "8c5417dd-279b-4f13-8560-0dbdd732870e",
   "metadata": {},
   "outputs": [],
   "source": [
    "# imaplib library and email library from Python"
   ]
  },
  {
   "cell_type": "code",
   "execution_count": 48,
   "id": "59d64e85-fe64-4b3d-8cc5-f600b76162c8",
   "metadata": {},
   "outputs": [],
   "source": [
    "# impalib library has a special syntax for searching inbox"
   ]
  },
  {
   "cell_type": "code",
   "execution_count": 50,
   "id": "5f95d46c-1b73-4bd2-9d5a-2737ab814488",
   "metadata": {},
   "outputs": [],
   "source": [
    "import imaplib"
   ]
  },
  {
   "cell_type": "code",
   "execution_count": 52,
   "id": "72fa3a27-56fb-4244-9941-c5d4ef134e55",
   "metadata": {},
   "outputs": [],
   "source": [
    "M = imaplib.IMAP4_SSL('imap.gmail.com')"
   ]
  },
  {
   "attachments": {
    "3bf46b71-a4de-482b-b575-5ef7674390b8.png": {
     "image/png": "[encoded data removed]"
    }
   },
   "cell_type": "markdown",
   "id": "509d4f5c-cf11-471b-acfd-b9ec723bf67c",
   "metadata": {},
   "source": [
    "![image.png](attachment:3bf46b71-a4de-482b-b575-5ef7674390b8.png)"
   ]
  },
  {
   "cell_type": "code",
   "execution_count": 53,
   "id": "a4cbdf18-7ff3-499e-8e6d-74fb248b601f",
   "metadata": {},
   "outputs": [],
   "source": [
    "import getpass"
   ]
  },
  {
   "cell_type": "code",
   "execution_count": 60,
   "id": "95763cd3-678e-4c7f-9c30-35a51863820f",
   "metadata": {},
   "outputs": [
    {
     "name": "stdin",
     "output_type": "stream",
     "text": [
      "Email :  ········\n",
      "Password :  ········\n"
     ]
    }
   ],
   "source": [
    "email = getpass.getpass('Email : ')\n",
    "password = getpass.getpass('Password : ')"
   ]
  },
  {
   "cell_type": "code",
   "execution_count": 62,
   "id": "45fda662-8617-4c3e-8413-c5460abb197c",
   "metadata": {},
   "outputs": [
    {
     "data": {
      "text/plain": [
       "('OK', [b'vallabhkul953@gmail.com authenticated (Success)'])"
      ]
     },
     "execution_count": 62,
     "metadata": {},
     "output_type": "execute_result"
    }
   ],
   "source": [
    "M.login(email,password)"
   ]
  },
  {
   "cell_type": "code",
   "execution_count": null,
   "id": "5498b493-9451-40e4-b142-1b1f0b14b6ac",
   "metadata": {},
   "outputs": [],
   "source": [
    "M.list()"
   ]
  },
  {
   "cell_type": "code",
   "execution_count": 66,
   "id": "4a068e9f-acd9-40cb-9a51-8a88ef0b56b5",
   "metadata": {},
   "outputs": [
    {
     "data": {
      "text/plain": [
       "('OK', [b'4681'])"
      ]
     },
     "execution_count": 66,
     "metadata": {},
     "output_type": "execute_result"
    }
   ],
   "source": [
    "M.select('inbox')"
   ]
  },
  {
   "cell_type": "code",
   "execution_count": 68,
   "id": "3895a9da-55ea-4ee6-a659-b2b3ef8bb3ee",
   "metadata": {},
   "outputs": [],
   "source": [
    "# typ, data = M.search(None,'BEFORE 01-May-2025')"
   ]
  },
  {
   "cell_type": "code",
   "execution_count": 70,
   "id": "031f76b8-a387-4605-9c09-20e76ccd18f8",
   "metadata": {},
   "outputs": [],
   "source": [
    "typ, data = M.search(None, 'SUBJECT \"Favourite Color\"')"
   ]
  },
  {
   "cell_type": "code",
   "execution_count": 72,
   "id": "de954182-d032-439d-9069-13939b45b890",
   "metadata": {},
   "outputs": [
    {
     "data": {
      "text/plain": [
       "'OK'"
      ]
     },
     "execution_count": 72,
     "metadata": {},
     "output_type": "execute_result"
    }
   ],
   "source": [
    "typ"
   ]
  },
  {
   "cell_type": "code",
   "execution_count": 74,
   "id": "4662b789-2567-4d08-988d-a5ce18788a31",
   "metadata": {},
   "outputs": [
    {
     "data": {
      "text/plain": [
       "[b'4681']"
      ]
     },
     "execution_count": 74,
     "metadata": {},
     "output_type": "execute_result"
    }
   ],
   "source": [
    "data"
   ]
  },
  {
   "cell_type": "code",
   "execution_count": 76,
   "id": "cb14c9be-ec93-41ab-93cd-c799973aca51",
   "metadata": {},
   "outputs": [
    {
     "data": {
      "text/plain": [
       "b'4681'"
      ]
     },
     "execution_count": 76,
     "metadata": {},
     "output_type": "execute_result"
    }
   ],
   "source": [
    "data[0]"
   ]
  },
  {
   "cell_type": "code",
   "execution_count": 78,
   "id": "481e15c2-2bb1-4b2c-b6fe-9af48bb7bc57",
   "metadata": {},
   "outputs": [],
   "source": [
    "email_id = data[0]"
   ]
  },
  {
   "cell_type": "code",
   "execution_count": 82,
   "id": "041771f4-48f7-48cd-97c9-fa2d132db637",
   "metadata": {},
   "outputs": [],
   "source": [
    "result, email_data = M.fetch(email_id, '(RFC822)')"
   ]
  },
  {
   "cell_type": "code",
   "execution_count": null,
   "id": "49c0e2b2-69e9-4471-967c-f3fcc5ff85fb",
   "metadata": {},
   "outputs": [],
   "source": [
    "email_data"
   ]
  },
  {
   "cell_type": "code",
   "execution_count": 86,
   "id": "fd7b1398-b102-42f9-a5b4-fe8653227281",
   "metadata": {},
   "outputs": [],
   "source": [
    "raw_email = email_data[0][1]"
   ]
  },
  {
   "cell_type": "code",
   "execution_count": 88,
   "id": "69b99e5a-35b2-485c-a42b-278c44eec0d8",
   "metadata": {},
   "outputs": [],
   "source": [
    "raw_email_string = raw_email.decode('utf-8')"
   ]
  },
  {
   "cell_type": "code",
   "execution_count": 90,
   "id": "21f2ccbe-50c4-45c3-b0d7-eb959e3630b7",
   "metadata": {},
   "outputs": [],
   "source": [
    "import email"
   ]
  },
  {
   "cell_type": "code",
   "execution_count": 92,
   "id": "929a7105-8447-46ac-bc79-837bb730c800",
   "metadata": {},
   "outputs": [],
   "source": [
    "email_message = email.message_from_string(raw_email_string)"
   ]
  },
  {
   "cell_type": "code",
   "execution_count": 94,
   "id": "6c37f014-a70d-434d-93cc-23b5483b0b32",
   "metadata": {},
   "outputs": [
    {
     "name": "stdout",
     "output_type": "stream",
     "text": [
      "b'Hey There! I just wanted to tell you that my Favourite Color is Yellow ! \\r\\n'\n"
     ]
    }
   ],
   "source": [
    "for part in email_message.walk():\n",
    "    if part.get_content_type() == 'text/plain':\n",
    "        body = part.get_payload(decode = True)\n",
    "        print(body)"
   ]
  },
  {
   "cell_type": "code",
   "execution_count": null,
   "id": "67b3a93c-045b-43df-9c89-c74d2e42c662",
   "metadata": {},
   "outputs": [],
   "source": []
  }
 ],
 "metadata": {
  "kernelspec": {
   "display_name": "Python 3 (ipykernel)",
   "language": "python",
   "name": "python3"
  },
  "language_info": {
   "codemirror_mode": {
    "name": "ipython",
    "version": 3
   },
   "file_extension": ".py",
   "mimetype": "text/x-python",
   "name": "python",
   "nbconvert_exporter": "python",
   "pygments_lexer": "ipython3",
   "version": "3.11.5"
  }
 },
 "nbformat": 4,
 "nbformat_minor": 5
}
