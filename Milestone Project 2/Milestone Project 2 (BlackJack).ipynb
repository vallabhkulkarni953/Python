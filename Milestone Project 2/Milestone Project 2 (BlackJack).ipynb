{
 "cells": [
  {
   "cell_type": "markdown",
   "id": "83f7b4c9-2784-43bc-b477-866cdd331d2b",
   "metadata": {},
   "source": [
    "# BlackJack Game using Object Oriented Programming in Python (No UI)"
   ]
  },
  {
   "cell_type": "markdown",
   "id": "eac859c1-eaef-43b0-bae4-ef6b3766cd1e",
   "metadata": {},
   "source": [
    "#### Project by Vallabh Kulkarni \n",
    "#### Github : https://github.com/vallabhkulkarni953/\n",
    "#### LinkedIn : https://www.linkedin.com/in/vallabhkul953/"
   ]
  },
  {
   "cell_type": "markdown",
   "id": "a0e4d62d-6656-4965-aafa-eed834410894",
   "metadata": {},
   "source": [
    "<hr>\n"
   ]
  },
  {
   "cell_type": "markdown",
   "id": "9379e460-b9e8-49dc-9af3-6739bf1955e7",
   "metadata": {},
   "source": [
    "#### BlackJack Card Game:\n",
    "<p>Blackjack is a popular casino card game that combines strategy and luck. The goal is to have a hand value as close to 21 as possible, without exceeding it, while also beating the dealer's hand.\n",
    "\n",
    "<b>Basic Rules</b><br>\n",
    "<b>Players and Dealer:</b>\n",
    "\n",
    "- Blackjack is typically played between a dealer and one or more players.\n",
    "- Each player competes against the dealer, not against other players.\n",
    "\n",
    "<b>Card Values:</b>\n",
    "\n",
    "- Number cards (2–10) are worth their face value.\n",
    "- Face cards (Jack, Queen, King) are worth 10 points.\n",
    "- Aces can be worth 1 or 11 points, whichever benefits the hand most.\n",
    "\n",
    "<b>The Deal:</b>\n",
    "\n",
    "- Each player and the dealer receive two cards.\n",
    "- Players' cards are dealt face-up.\n",
    "- The dealer has one card face-up and one face-down (the \"hole card\").\n",
    "\n",
    "<b>Gameplay:</b>\n",
    "\n",
    "- Players decide how to play their hand, aiming for a total value as close to 21 as possible.\n",
    "- If a player's total exceeds 21, they \"bust\" and lose the round.\n",
    "\n",
    "<b>Player Options:</b>\n",
    "- Hit: Take another card to increase the hand value.\n",
    "- Stand: Keep the current hand and end the turn.\n",
    "- Double Down: Double the initial bet, take exactly one more card, and stand afterward.\n",
    "- Split: If the first two cards are of equal value (e.g., two 8s), they can be split into two separate hands. Each hand gets an additional card, and the player places a second bet equal to the first.\n",
    "- Surrender: Forfeit half the bet and end the round (available in some versions).\n",
    "\n",
    "<b>Dealer Rules:</b>\n",
    "The dealer must follow specific rules:\n",
    "\n",
    "- Hit if their hand value is 16 or less.\n",
    "- Stand if their hand value is 17 or more (in most versions).\n",
    "- The dealer does not make strategic choices; their moves are automatic based on the rules.\n",
    "\n",
    "<b>Winning Conditions:</b>\n",
    "A player wins if:\n",
    "\n",
    "- Their hand value is closer to 21 than the dealer's.\n",
    "- The dealer busts (exceeds 21) while the player does not.\n",
    "\n",
    "<b>Betting:</b>\n",
    "Before the cards are dealt, each player places a bet.\n",
    "Players win or lose based on their hand versus the dealer’s.\n",
    "</p>"
   ]
  },
  {
   "cell_type": "markdown",
   "id": "71c8b9cc-d703-4ed5-9eca-4eb2dc7dd5e8",
   "metadata": {},
   "source": [
    "<hr>"
   ]
  },
  {
   "cell_type": "markdown",
   "id": "79f4f5da-c427-4855-95b9-44c3617b011d",
   "metadata": {},
   "source": [
    "## Importing and Setting Global Variables "
   ]
  },
  {
   "cell_type": "code",
   "execution_count": 8,
   "id": "25c3889b-d251-4695-8f41-cef31476c1a5",
   "metadata": {},
   "outputs": [],
   "source": [
    "# Importing Random Library which is required to shuffle the deck\n",
    "import random"
   ]
  },
  {
   "cell_type": "code",
   "execution_count": 9,
   "id": "52a52345-8543-497e-b1d5-8d2c080e50d2",
   "metadata": {},
   "outputs": [],
   "source": [
    "# First let's create global variables :\n",
    "suits = ('Spade','Hearts','Club','Diamonds')\n",
    "ranks = ('Ace','Two','Three','Four','Five','Six','Seven','Eight','Nine','Ten','Jack','Queen','King')\n",
    "values = {'Ace': 11,'Two': 2,'Three':3,'Four':4,'Five':5,'Six':6,'Seven':7,'Eight':8,'Nine':9,'Ten':10,\n",
    "          'Jack':10,'Queen':10,'King':10}\n",
    "\n",
    "playing = True"
   ]
  },
  {
   "cell_type": "markdown",
   "id": "609a2893-04e1-452c-8bd3-1043e5328231",
   "metadata": {},
   "source": [
    "## Classes "
   ]
  },
  {
   "cell_type": "code",
   "execution_count": 11,
   "id": "c2238a10-ffe2-4b6e-a4ef-98eb6ca15f54",
   "metadata": {},
   "outputs": [],
   "source": [
    "# As Card is a real world entity with attributes and methonds, we will create the class Card\n",
    "\n",
    "class Card():\n",
    "    def __init__(self,suit,rank):\n",
    "        self.suit = suit\n",
    "        self.rank = rank\n",
    "\n",
    "    def __str__(self):\n",
    "        return f\"{self.rank} of {self.suit}\""
   ]
  },
  {
   "cell_type": "code",
   "execution_count": 12,
   "id": "e78059b0-8423-44f7-9801-b227b072122c",
   "metadata": {},
   "outputs": [],
   "source": [
    "my_card = Card('Spade','Ace')"
   ]
  },
  {
   "cell_type": "code",
   "execution_count": 13,
   "id": "0612ccee-d3e9-450d-b6a2-4af1874495b9",
   "metadata": {},
   "outputs": [
    {
     "name": "stdout",
     "output_type": "stream",
     "text": [
      "Ace of Spade\n"
     ]
    }
   ],
   "source": [
    "print(my_card)"
   ]
  },
  {
   "cell_type": "code",
   "execution_count": 14,
   "id": "ffbba77c-a6eb-4a97-8de8-0949b91904f8",
   "metadata": {},
   "outputs": [],
   "source": [
    "# Let's create the deck of cards \n",
    "class Deck():\n",
    "    def __init__(self):\n",
    "        self.deck = [] # LIST TO STORE THE CARD OBJECTS\n",
    "        for suit in suits:\n",
    "            for rank in ranks:\n",
    "                card = Card(suit,rank)\n",
    "                self.deck.append(card)\n",
    "\n",
    "\n",
    "    def __str__(self):\n",
    "        deck_desc = ''\n",
    "        for current_card in self.deck:\n",
    "            deck_desc += \"\\n\" + current_card.__str__()\n",
    "        return \"The Deck Consist of : \" + deck_desc\n",
    "\n",
    "    def shuffle(self):\n",
    "        random.shuffle(self.deck) # SHUFFLES THE DECK IN PLACE\n",
    "\n",
    "    def pick_one(self):\n",
    "        single_card = self.deck.pop()\n",
    "        return single_card\n",
    "        "
   ]
  },
  {
   "cell_type": "code",
   "execution_count": 15,
   "id": "901fe9fa-4a4d-4dc6-80e4-1252c0c441e0",
   "metadata": {},
   "outputs": [],
   "source": [
    "my_deck = Deck()"
   ]
  },
  {
   "cell_type": "code",
   "execution_count": 16,
   "id": "0fe24021-cfcb-4cdd-916d-21d8b72a6230",
   "metadata": {},
   "outputs": [
    {
     "name": "stdout",
     "output_type": "stream",
     "text": [
      "The Deck Consist of : \n",
      "Ace of Spade\n",
      "Two of Spade\n",
      "Three of Spade\n",
      "Four of Spade\n",
      "Five of Spade\n",
      "Six of Spade\n",
      "Seven of Spade\n",
      "Eight of Spade\n",
      "Nine of Spade\n",
      "Ten of Spade\n",
      "Jack of Spade\n",
      "Queen of Spade\n",
      "King of Spade\n",
      "Ace of Hearts\n",
      "Two of Hearts\n",
      "Three of Hearts\n",
      "Four of Hearts\n",
      "Five of Hearts\n",
      "Six of Hearts\n",
      "Seven of Hearts\n",
      "Eight of Hearts\n",
      "Nine of Hearts\n",
      "Ten of Hearts\n",
      "Jack of Hearts\n",
      "Queen of Hearts\n",
      "King of Hearts\n",
      "Ace of Club\n",
      "Two of Club\n",
      "Three of Club\n",
      "Four of Club\n",
      "Five of Club\n",
      "Six of Club\n",
      "Seven of Club\n",
      "Eight of Club\n",
      "Nine of Club\n",
      "Ten of Club\n",
      "Jack of Club\n",
      "Queen of Club\n",
      "King of Club\n",
      "Ace of Diamonds\n",
      "Two of Diamonds\n",
      "Three of Diamonds\n",
      "Four of Diamonds\n",
      "Five of Diamonds\n",
      "Six of Diamonds\n",
      "Seven of Diamonds\n",
      "Eight of Diamonds\n",
      "Nine of Diamonds\n",
      "Ten of Diamonds\n",
      "Jack of Diamonds\n",
      "Queen of Diamonds\n",
      "King of Diamonds\n"
     ]
    }
   ],
   "source": [
    "print(my_deck)"
   ]
  },
  {
   "cell_type": "code",
   "execution_count": 17,
   "id": "dcb9b2ef-1ba6-4082-b8a2-a3ad79b6bec5",
   "metadata": {},
   "outputs": [],
   "source": [
    "my_deck.shuffle()"
   ]
  },
  {
   "cell_type": "code",
   "execution_count": 18,
   "id": "1ffdf36c-e09d-4f9c-a969-5d7c094bd265",
   "metadata": {},
   "outputs": [
    {
     "name": "stdout",
     "output_type": "stream",
     "text": [
      "The Deck Consist of : \n",
      "Four of Spade\n",
      "Seven of Hearts\n",
      "Three of Hearts\n",
      "Seven of Diamonds\n",
      "King of Diamonds\n",
      "King of Club\n",
      "Ace of Diamonds\n",
      "Ace of Hearts\n",
      "Ace of Spade\n",
      "Nine of Club\n",
      "Five of Club\n",
      "Nine of Diamonds\n",
      "Five of Hearts\n",
      "Seven of Club\n",
      "Three of Diamonds\n",
      "Eight of Hearts\n",
      "Three of Spade\n",
      "Two of Hearts\n",
      "Five of Spade\n",
      "Three of Club\n",
      "Jack of Spade\n",
      "Four of Diamonds\n",
      "Queen of Hearts\n",
      "King of Hearts\n",
      "Jack of Diamonds\n",
      "Two of Spade\n",
      "Four of Hearts\n",
      "Queen of Diamonds\n",
      "Queen of Club\n",
      "Six of Hearts\n",
      "Nine of Spade\n",
      "Six of Diamonds\n",
      "Ten of Diamonds\n",
      "Eight of Diamonds\n",
      "Eight of Spade\n",
      "Two of Diamonds\n",
      "Seven of Spade\n",
      "Six of Spade\n",
      "Six of Club\n",
      "Nine of Hearts\n",
      "Jack of Club\n",
      "Queen of Spade\n",
      "Ace of Club\n",
      "Two of Club\n",
      "Eight of Club\n",
      "Ten of Hearts\n",
      "King of Spade\n",
      "Four of Club\n",
      "Ten of Club\n",
      "Ten of Spade\n",
      "Jack of Hearts\n",
      "Five of Diamonds\n"
     ]
    }
   ],
   "source": [
    "print(my_deck)"
   ]
  },
  {
   "cell_type": "code",
   "execution_count": 19,
   "id": "61182b51-c42b-46e6-9407-d7d667564426",
   "metadata": {},
   "outputs": [],
   "source": [
    "# Let us create a Hand Class that means the cards and value in player/dealer hand\n",
    "class Hand():\n",
    "    def __init__(self):\n",
    "        self.cards = [] # EMPTY LIST TO STORE CARDS IN HAND\n",
    "        self.value = 0\n",
    "        self.aces = 0\n",
    "\n",
    "    def add_card(self,card):\n",
    "        self.cards.append(card)\n",
    "        self.value += values[card.rank]\n",
    "\n",
    "        if card.rank == 'Ace':\n",
    "            self.aces += 1\n",
    "\n",
    "    def adjust_for_ace(self):\n",
    "        # If total value goes above 21, we will adjust value of ace as 1 instead of 11\n",
    "        if self.value > 21 and self.aces:\n",
    "            self.value -= 10\n",
    "            self.aces -= 1"
   ]
  },
  {
   "cell_type": "code",
   "execution_count": 20,
   "id": "6f89b290-ea12-4b5e-aa17-a233d932c28a",
   "metadata": {},
   "outputs": [],
   "source": [
    "# Creating a Chips class to deal with winning and losing bets \n",
    "class Chips:\n",
    "    def __init__(self):\n",
    "        self.total = 1000 # Initial Chips for Betting \n",
    "        self.bet = 0\n",
    "\n",
    "    def win_bet(self):\n",
    "        self.total += self.bet\n",
    "\n",
    "    def lose_bet(self):\n",
    "        self.total -= self.bet"
   ]
  },
  {
   "cell_type": "markdown",
   "id": "ad60cf23-b75d-4530-9483-4bef01da8d27",
   "metadata": {},
   "source": [
    "## Functions "
   ]
  },
  {
   "cell_type": "code",
   "execution_count": 22,
   "id": "544bb318-c76f-46c5-9a59-102254d16485",
   "metadata": {},
   "outputs": [],
   "source": [
    "# Let's create global functions to deal with the classes and objects in the game"
   ]
  },
  {
   "cell_type": "code",
   "execution_count": 23,
   "id": "2fc0294f-e481-40f4-b830-af474b838e20",
   "metadata": {},
   "outputs": [],
   "source": [
    "# Function to place bet by the player\n",
    "def place_bet(chips):\n",
    "    while True:\n",
    "        try:\n",
    "            chips.bet = int(input(\"Amount of Chips to bet: \"))\n",
    "        except ValueError:\n",
    "            print(\"Sorry! Bet must be an Integer\")\n",
    "        else:\n",
    "            if chips.bet > chips.total:\n",
    "                print(\"Can't place bet more than \",chips.total)\n",
    "            else:\n",
    "                break   "
   ]
  },
  {
   "cell_type": "code",
   "execution_count": 24,
   "id": "e990c77b-9a43-4944-aa90-c438feef3dcc",
   "metadata": {},
   "outputs": [],
   "source": [
    "# Function to hit the deck i.e to pick one card \n",
    "def hit(hand,deck):\n",
    "    single_card = deck.pick_one()\n",
    "    hand.add_card(single_card)\n",
    "    hand.adjust_for_ace()"
   ]
  },
  {
   "cell_type": "code",
   "execution_count": 25,
   "id": "fd3c59f0-685b-4171-9292-74e22ec3c397",
   "metadata": {},
   "outputs": [],
   "source": [
    "# Function to give user a choice hit or stand \n",
    "def hit_or_stand(hand,deck):\n",
    "    global playing\n",
    "        \n",
    "    while True:\n",
    "        choice = input(\"Hit or Stand ? \\nEnter 'H' or 'S'\")\n",
    "\n",
    "        if choice[0].lower() == 'h':\n",
    "            hit(deck,hand)\n",
    "            \n",
    "        elif choice[0].lower() =='s':\n",
    "            print(\"Player Stands. The Dealer is Playing.\")\n",
    "            playing = False\n",
    "\n",
    "        else:\n",
    "            print(\"Sorry, please enter 'H' or 'S' Only! \")\n",
    "            continue\n",
    "        break"
   ]
  },
  {
   "cell_type": "code",
   "execution_count": 26,
   "id": "f5ad91f0-abfe-4283-9fc6-d9f4faa06970",
   "metadata": {},
   "outputs": [],
   "source": [
    "# Function to display some cards of dealer as his first card is hidden\n",
    "def show_some(player,dealer):\n",
    "    # Show only ONE of the dealer cards\n",
    "    print(\"\\nDealer's Hand : \")\n",
    "    print(\"First Card Hidden !!\")\n",
    "    print(dealer.cards[1])\n",
    "\n",
    "     # print(\"\\nPlayer's Hand:\", *player.cards, sep='\\n ')\n",
    "\n",
    "    # Show all (2) cards of the player hands\n",
    "    print(\"\\nPlayer's Hand : \")\n",
    "    for card in player.cards:\n",
    "        print(card)\n",
    "  "
   ]
  },
  {
   "cell_type": "code",
   "execution_count": 27,
   "id": "4fd514a3-b499-44a0-b29e-4d082ab58b29",
   "metadata": {},
   "outputs": [],
   "source": [
    "# Function to show all the cards od dealer and player\n",
    "def show_all(player,dealer):\n",
    "    # show all the dealer's cards\n",
    "    print(\"\\nDealer's Hand : \")\n",
    "    for card in dealer.cards:\n",
    "        print(card)\n",
    "\n",
    "    ## can be used : print(\"\\n Dealer's Hand:\",*dealer.cards,sep = '\\n')\n",
    "\n",
    "    ## Calculate and display values of cards in Hand of Dealer\n",
    "    print(f\"Value of Dealer's Hand is : {dealer.value}\")\n",
    "    \n",
    "    # show all the Player's cards\n",
    "    print(\"\\nPlayer's Hand : \")\n",
    "    for card in player.cards:\n",
    "        print(card)\n",
    "\n",
    "    ## can be used : print(\"\\n Player's Hand:\",*player.cards,sep = '\\n')\n",
    "\n",
    "    ## Calculate and display values of cards in Hand of Dealer\n",
    "    print(f\"Value of Player's Hand is : {player.value}\")"
   ]
  },
  {
   "cell_type": "code",
   "execution_count": 28,
   "id": "c0780a06-c986-4ddc-8472-afac12ff2232",
   "metadata": {},
   "outputs": [],
   "source": [
    "# Functions to Handle the Game Scenarios\n",
    "def player_busts(player, dealer, chips):\n",
    "    print(\"BUST PLAYER !\")\n",
    "    chips.lose_bet()\n",
    "    \n",
    "def player_wins(player, dealer, chips):\n",
    "    print(\"PLAYER WINS !\")\n",
    "    chips.win_bet()\n",
    "\n",
    "def dealer_busts(player, dealer, chips):\n",
    "    print(\"PLAYER WINS ! DEALER BUSTED !\")\n",
    "    chips.win_bet()\n",
    "    \n",
    "def dealer_wins(player, dealer, chips):\n",
    "    print(\"DEALER WINS !\")\n",
    "    chips.lose_bet()\n",
    "    \n",
    "def push(player, dealer):\n",
    "    print(\"Dealer and Player Tie! PUSH\")\n"
   ]
  },
  {
   "cell_type": "markdown",
   "id": "578e90f1-0992-4d0c-aba3-7520d6f9dd47",
   "metadata": {},
   "source": [
    "## Actual Game "
   ]
  },
  {
   "cell_type": "code",
   "execution_count": 30,
   "id": "06881079-7e52-4fd3-b2eb-fd9aa4288faa",
   "metadata": {},
   "outputs": [
    {
     "name": "stdout",
     "output_type": "stream",
     "text": [
      "\n",
      "\n",
      "\n",
      "\n",
      "\n",
      "WELCOME TO BLACKJACK\n",
      "\n",
      "\n",
      "Chips Available :  1000\n"
     ]
    },
    {
     "name": "stdin",
     "output_type": "stream",
     "text": [
      "Amount of Chips to bet:  400\n"
     ]
    },
    {
     "name": "stdout",
     "output_type": "stream",
     "text": [
      "\n",
      "Dealer's Hand : \n",
      "First Card Hidden !!\n",
      "Ace of Hearts\n",
      "\n",
      "Player's Hand : \n",
      "Seven of Club\n",
      "King of Club\n"
     ]
    },
    {
     "name": "stdin",
     "output_type": "stream",
     "text": [
      "Hit or Stand ? \n",
      "Enter 'H' or 'S' S\n"
     ]
    },
    {
     "name": "stdout",
     "output_type": "stream",
     "text": [
      "Player Stands. The Dealer is Playing.\n",
      "\n",
      "Dealer's Hand : \n",
      "First Card Hidden !!\n",
      "Ace of Hearts\n",
      "\n",
      "Player's Hand : \n",
      "Seven of Club\n",
      "King of Club\n",
      "\n",
      "Dealer's Hand : \n",
      "King of Diamonds\n",
      "Ace of Hearts\n",
      "Value of Dealer's Hand is : 21\n",
      "\n",
      "Player's Hand : \n",
      "Seven of Club\n",
      "King of Club\n",
      "Value of Player's Hand is : 17\n",
      "DEALER WINS !\n",
      "\n",
      "Player Total Chips are at : 600\n"
     ]
    },
    {
     "name": "stdin",
     "output_type": "stream",
     "text": [
      "Would you like to play another hand ? (y,n) y\n"
     ]
    },
    {
     "name": "stdout",
     "output_type": "stream",
     "text": [
      "\n",
      "\n",
      "\n",
      "\n",
      "\n",
      "WELCOME TO BLACKJACK\n",
      "\n",
      "\n",
      "Chips Available :  1000\n"
     ]
    },
    {
     "name": "stdin",
     "output_type": "stream",
     "text": [
      "Amount of Chips to bet:  600\n"
     ]
    },
    {
     "name": "stdout",
     "output_type": "stream",
     "text": [
      "\n",
      "Dealer's Hand : \n",
      "First Card Hidden !!\n",
      "Two of Hearts\n",
      "\n",
      "Player's Hand : \n",
      "King of Hearts\n",
      "Nine of Spade\n"
     ]
    },
    {
     "name": "stdin",
     "output_type": "stream",
     "text": [
      "Hit or Stand ? \n",
      "Enter 'H' or 'S' H\n"
     ]
    },
    {
     "name": "stdout",
     "output_type": "stream",
     "text": [
      "\n",
      "Dealer's Hand : \n",
      "First Card Hidden !!\n",
      "Two of Hearts\n",
      "\n",
      "Player's Hand : \n",
      "King of Hearts\n",
      "Nine of Spade\n",
      "Two of Club\n"
     ]
    },
    {
     "name": "stdin",
     "output_type": "stream",
     "text": [
      "Hit or Stand ? \n",
      "Enter 'H' or 'S' S\n"
     ]
    },
    {
     "name": "stdout",
     "output_type": "stream",
     "text": [
      "Player Stands. The Dealer is Playing.\n",
      "\n",
      "Dealer's Hand : \n",
      "First Card Hidden !!\n",
      "Two of Hearts\n",
      "\n",
      "Player's Hand : \n",
      "King of Hearts\n",
      "Nine of Spade\n",
      "Two of Club\n",
      "\n",
      "Dealer's Hand : \n",
      "Three of Spade\n",
      "Two of Hearts\n",
      "King of Club\n",
      "Ten of Spade\n",
      "Value of Dealer's Hand is : 25\n",
      "\n",
      "Player's Hand : \n",
      "King of Hearts\n",
      "Nine of Spade\n",
      "Two of Club\n",
      "Value of Player's Hand is : 21\n",
      "PLAYER WINS ! DEALER BUSTED !\n",
      "\n",
      "Player Total Chips are at : 1600\n"
     ]
    },
    {
     "name": "stdin",
     "output_type": "stream",
     "text": [
      "Would you like to play another hand ? (y,n) n\n"
     ]
    },
    {
     "name": "stdout",
     "output_type": "stream",
     "text": [
      "Thank You For Playing!\n"
     ]
    }
   ],
   "source": [
    "while True:\n",
    "    print(\"\\n\\n\\n\\n\\nWELCOME TO BLACKJACK\\n\\n\")\n",
    "\n",
    "    # Create the Deck class\n",
    "    deck = Deck()\n",
    "    \n",
    "    # Shuffle the deck before distributing\n",
    "    deck.shuffle()\n",
    "\n",
    "    player_hand = Hand()\n",
    "    player_hand.add_card(deck.pick_one())\n",
    "    player_hand.add_card(deck.pick_one())\n",
    "\n",
    "    dealer_hand = Hand()\n",
    "    dealer_hand.add_card(deck.pick_one())\n",
    "    dealer_hand.add_card(deck.pick_one())\n",
    "\n",
    "    # Setup the Player Chips \n",
    "    player_chips = Chips()\n",
    "\n",
    "    # Show current Chips \n",
    "    print(\"Chips Available : \",player_chips.total)\n",
    "    \n",
    "    # Prompt the Player for their bet\n",
    "    place_bet(player_chips)\n",
    "\n",
    "    # Show cards keeping the one dealer card Hidden\n",
    "    show_some(player_hand,dealer_hand)\n",
    "\n",
    "    while playing:\n",
    "        # Prompt for Player to Hit or Stand\n",
    "        hit_or_stand(deck,player_hand)\n",
    "        \n",
    "        # Show cards (but keep one dealer card hidden)\n",
    "        show_some(player_hand, dealer_hand)\n",
    "        \n",
    "        # If player's hand exceeds 21, run player_busts() and break out of loop\n",
    "        if player_hand.value > 21:\n",
    "            player_busts(player_hand,dealer_hand,player_chips)\n",
    "\n",
    "            break\n",
    "\n",
    "    # If Player hasn't busted, play Dealer's hand until Dealer reaches 17\n",
    "    if player_hand.value <= 21:\n",
    "        while dealer_hand.value < 17 :\n",
    "            hit(dealer_hand,deck)\n",
    "            \n",
    "        # Show all cards\n",
    "        show_all(player_hand,dealer_hand)\n",
    "        \n",
    "        # Run different winning scenarios\n",
    "        if dealer_hand.value > 21:\n",
    "            dealer_busts(player_hand,dealer_hand,player_chips)\n",
    "        elif dealer_hand.value > player_hand.value:\n",
    "            dealer_wins(player_hand,dealer_hand,player_chips)\n",
    "        elif dealer_hand.value < player_hand.value:\n",
    "            player_wins(player_hand,dealer_hand,player_chips)\n",
    "        else:\n",
    "            push(player_hand,dealer_hand)\n",
    "    \n",
    "    # Inform Player of their chips total \n",
    "    print(\"\\nPlayer Total Chips are at : {}\".format(player_chips.total))\n",
    "    \n",
    "    # Ask to play again\n",
    "    new_game = input(\"Would you like to play another hand ? (y,n)\")\n",
    "\n",
    "    if new_game[0].lower() == 'y':\n",
    "        playing = True\n",
    "        continue\n",
    "    else:\n",
    "        print(\"Thank You For Playing!\")\n",
    "              \n",
    "        break"
   ]
  },
  {
   "cell_type": "code",
   "execution_count": null,
   "id": "bad992f7-b3a8-4c95-8611-07fdbc66cade",
   "metadata": {},
   "outputs": [],
   "source": []
  },
  {
   "cell_type": "code",
   "execution_count": null,
   "id": "29279d75-ba3c-45ac-be1b-30568c9909f8",
   "metadata": {},
   "outputs": [],
   "source": []
  },
  {
   "cell_type": "code",
   "execution_count": null,
   "id": "04ef3b34-26d8-4b5a-9dda-e1bb47061297",
   "metadata": {},
   "outputs": [],
   "source": []
  },
  {
   "cell_type": "code",
   "execution_count": null,
   "id": "c66e5467-5272-40ba-8141-49e9d44d1bc1",
   "metadata": {},
   "outputs": [],
   "source": []
  },
  {
   "cell_type": "markdown",
   "id": "920b4cb7-640d-41d0-85d7-809bd4d23871",
   "metadata": {},
   "source": [
    "## You reached to the End !!!"
   ]
  },
  {
   "cell_type": "markdown",
   "id": "11fac3bf-d21c-4604-8730-05537dd11f49",
   "metadata": {},
   "source": [
    "#### Project by Vallabh Kulkarni \n",
    "#### Github : https://github.com/vallabhkulkarni953/\n",
    "#### LinkedIn : https://www.linkedin.com/in/vallabhkul953/"
   ]
  },
  {
   "cell_type": "markdown",
   "id": "cce9e5ba-9ee3-4977-a647-ac698e0623ed",
   "metadata": {},
   "source": [
    "### Thanks for Visiting This Project !!! <br>Please do check out other projects too !!"
   ]
  },
  {
   "cell_type": "code",
   "execution_count": null,
   "id": "6258b03c-30bc-4ea0-9618-853a53685446",
   "metadata": {},
   "outputs": [],
   "source": []
  },
  {
   "cell_type": "code",
   "execution_count": null,
   "id": "bd598e54-bd6f-4976-9dee-0d66b240c83c",
   "metadata": {},
   "outputs": [],
   "source": []
  }
 ],
 "metadata": {
  "kernelspec": {
   "display_name": "Python 3 (ipykernel)",
   "language": "python",
   "name": "python3"
  },
  "language_info": {
   "codemirror_mode": {
    "name": "ipython",
    "version": 3
   },
   "file_extension": ".py",
   "mimetype": "text/x-python",
   "name": "python",
   "nbconvert_exporter": "python",
   "pygments_lexer": "ipython3",
   "version": "3.11.5"
  }
 },
 "nbformat": 4,
 "nbformat_minor": 5
}
