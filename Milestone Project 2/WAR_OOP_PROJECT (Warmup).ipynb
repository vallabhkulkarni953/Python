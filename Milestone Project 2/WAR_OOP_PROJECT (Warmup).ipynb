{
 "cells": [
  {
   "cell_type": "code",
   "execution_count": 1,
   "id": "e89a11e1-ccc1-45b1-8cd7-95d9bdf9501e",
   "metadata": {},
   "outputs": [],
   "source": [
    "import random \n",
    "\n",
    "suits = ('Hearts', 'Diamonds','Spades','Clubs')\n",
    "ranks = ('Two','Three', 'Four', 'Five','Six','Seven','Eight',\n",
    "          'Nine','Ten', 'Jack', 'Queen', 'King', 'Ace')\n",
    "values = {'Two':2,'Three':3, 'Four':4, 'Five':5,'Six':6,'Seven':7,'Eight':8,\n",
    "          'Nine':9,'Ten':10, 'Jack':11, 'Queen':12, 'King':13, 'Ace':14}"
   ]
  },
  {
   "cell_type": "code",
   "execution_count": 2,
   "id": "d7ae3ee8-80c5-4dbe-b2dc-39bfe65c29af",
   "metadata": {},
   "outputs": [],
   "source": [
    "# CARD CLASS \n",
    "# SUIT, RANK, VALUE\n",
    "\n",
    "# DECK \n",
    "\n",
    "# PLAYER"
   ]
  },
  {
   "cell_type": "code",
   "execution_count": 3,
   "id": "4496507d-9691-492f-9e9f-92dd2f8d2b66",
   "metadata": {},
   "outputs": [],
   "source": [
    "class Card():\n",
    "    def __init__(self,suit,rank):\n",
    "        self.suit = suit\n",
    "        self.rank = rank\n",
    "        self.value = values[rank]\n",
    "\n",
    "    def __str__(self):\n",
    "        return self.rank+ \" of \" + self.suit"
   ]
  },
  {
   "cell_type": "code",
   "execution_count": 4,
   "id": "c92764d0-7025-49c4-a44a-39e9e7a41e03",
   "metadata": {},
   "outputs": [],
   "source": [
    "two_hearts = Card(\"Hearts\",\"Two\")"
   ]
  },
  {
   "cell_type": "code",
   "execution_count": 5,
   "id": "d7a46485-6541-45c2-86a9-75ad977447e2",
   "metadata": {},
   "outputs": [
    {
     "name": "stdout",
     "output_type": "stream",
     "text": [
      "Two of Hearts\n"
     ]
    }
   ],
   "source": [
    "print(two_hearts)"
   ]
  },
  {
   "cell_type": "code",
   "execution_count": 6,
   "id": "bb4b39ee-1251-4141-ad2f-68322b818a41",
   "metadata": {},
   "outputs": [
    {
     "data": {
      "text/plain": [
       "'Hearts'"
      ]
     },
     "execution_count": 6,
     "metadata": {},
     "output_type": "execute_result"
    }
   ],
   "source": [
    "two_hearts.suit"
   ]
  },
  {
   "cell_type": "code",
   "execution_count": 7,
   "id": "36e74a29-b7ab-4a6a-9b29-166232d68cdc",
   "metadata": {},
   "outputs": [
    {
     "data": {
      "text/plain": [
       "'Two'"
      ]
     },
     "execution_count": 7,
     "metadata": {},
     "output_type": "execute_result"
    }
   ],
   "source": [
    "two_hearts.rank"
   ]
  },
  {
   "cell_type": "code",
   "execution_count": 8,
   "id": "8291d49a-fec6-4b92-b8fa-8cffc29aae7f",
   "metadata": {},
   "outputs": [],
   "source": [
    "values = {'Two':2,'Three':3, 'Four':4, 'Five':5,'Six':6,'Seven':7,'Eight':8,\n",
    "          'Nine':9,'Ten':10, 'Jack':11, 'Queen':12, 'King':13, 'Ace':14}"
   ]
  },
  {
   "cell_type": "code",
   "execution_count": 9,
   "id": "f072519e-f943-420d-86c4-b61ee19c9fec",
   "metadata": {},
   "outputs": [
    {
     "data": {
      "text/plain": [
       "2"
      ]
     },
     "execution_count": 9,
     "metadata": {},
     "output_type": "execute_result"
    }
   ],
   "source": [
    "values[two_hearts.rank]"
   ]
  },
  {
   "cell_type": "code",
   "execution_count": 10,
   "id": "65476570-8ce6-45d4-b52f-77e7f8f3dd31",
   "metadata": {},
   "outputs": [],
   "source": [
    "three_of_clubs = Card(\"Clubs\",'Three')"
   ]
  },
  {
   "cell_type": "code",
   "execution_count": 11,
   "id": "ef5d22e3-4ef2-4cfe-bbe4-0fbf99beda3f",
   "metadata": {},
   "outputs": [
    {
     "data": {
      "text/plain": [
       "3"
      ]
     },
     "execution_count": 11,
     "metadata": {},
     "output_type": "execute_result"
    }
   ],
   "source": [
    "three_of_clubs.value"
   ]
  },
  {
   "cell_type": "code",
   "execution_count": 12,
   "id": "2bed0cf5-276a-4365-8a44-f51178cb2548",
   "metadata": {},
   "outputs": [
    {
     "data": {
      "text/plain": [
       "'Clubs'"
      ]
     },
     "execution_count": 12,
     "metadata": {},
     "output_type": "execute_result"
    }
   ],
   "source": [
    "three_of_clubs.suit"
   ]
  },
  {
   "cell_type": "code",
   "execution_count": 13,
   "id": "b815869c-dd19-4842-9bbe-ec605d4bc324",
   "metadata": {},
   "outputs": [
    {
     "data": {
      "text/plain": [
       "'Three'"
      ]
     },
     "execution_count": 13,
     "metadata": {},
     "output_type": "execute_result"
    }
   ],
   "source": [
    "three_of_clubs.rank"
   ]
  },
  {
   "cell_type": "code",
   "execution_count": 14,
   "id": "90d9d150-95f7-41fb-afa6-2f26d941ad9a",
   "metadata": {},
   "outputs": [
    {
     "data": {
      "text/plain": [
       "True"
      ]
     },
     "execution_count": 14,
     "metadata": {},
     "output_type": "execute_result"
    }
   ],
   "source": [
    "two_hearts.value < three_of_clubs.value"
   ]
  },
  {
   "cell_type": "code",
   "execution_count": 15,
   "id": "c71779de-1eed-4b15-9124-8ea605733ac2",
   "metadata": {},
   "outputs": [
    {
     "data": {
      "text/plain": [
       "False"
      ]
     },
     "execution_count": 15,
     "metadata": {},
     "output_type": "execute_result"
    }
   ],
   "source": [
    "two_hearts.value == three_of_clubs.value"
   ]
  },
  {
   "cell_type": "code",
   "execution_count": 16,
   "id": "f9efde66-c129-4f6a-bef0-0f5852d1741f",
   "metadata": {},
   "outputs": [],
   "source": [
    "# CREATE A DECK OF 52 CARD OBJECTS AND KEEP THEM IN DECK CLASS"
   ]
  },
  {
   "cell_type": "code",
   "execution_count": 17,
   "id": "a16527e3-904f-4700-ac8c-353155c17958",
   "metadata": {},
   "outputs": [],
   "source": [
    "# SHUFFLE THE LIST USING RANDOM LIBRARY SHUFFLE FUNCTION"
   ]
  },
  {
   "cell_type": "code",
   "execution_count": 18,
   "id": "132d96c3-a407-456a-b391-1647713fa5af",
   "metadata": {},
   "outputs": [],
   "source": [
    "# DEAL WITH CARDS USING POP METHOD"
   ]
  },
  {
   "cell_type": "code",
   "execution_count": 19,
   "id": "09fed723-635d-49a8-b762-bcd17bb4dfc8",
   "metadata": {},
   "outputs": [],
   "source": [
    "# DECK CLASS WILL RETURN CARD CLASS OBJECT INSTANCES "
   ]
  },
  {
   "cell_type": "code",
   "execution_count": 20,
   "id": "413b47fe-725f-4259-ae37-81df427fd4f3",
   "metadata": {},
   "outputs": [],
   "source": [
    "class Deck:\n",
    "    def __init__(self):\n",
    "        self.all_cards = []\n",
    "\n",
    "        for suit in suits:\n",
    "            for rank in ranks:\n",
    "                # CREATE THE CARD OBJECT\n",
    "                created_card = Card(suit,rank)\n",
    "                self.all_cards.append(created_card)\n",
    "\n",
    "    def shuffle(self):\n",
    "        random.shuffle(self.all_cards)\n",
    "\n",
    "    def deal_one(self):\n",
    "        return self.all_cards.pop()"
   ]
  },
  {
   "cell_type": "code",
   "execution_count": 21,
   "id": "bef33301-e75b-4524-ba08-ebc736cda438",
   "metadata": {},
   "outputs": [],
   "source": [
    "new_deck = Deck()"
   ]
  },
  {
   "cell_type": "code",
   "execution_count": 22,
   "id": "6dca1824-2888-48a7-bdd0-2938d144cb71",
   "metadata": {},
   "outputs": [
    {
     "data": {
      "text/plain": [
       "[<__main__.Card at 0x142e944e910>,\n",
       " <__main__.Card at 0x142e9489750>,\n",
       " <__main__.Card at 0x142e948a890>,\n",
       " <__main__.Card at 0x142e948a550>,\n",
       " <__main__.Card at 0x142e948a8d0>,\n",
       " <__main__.Card at 0x142e948a950>,\n",
       " <__main__.Card at 0x142e948a990>,\n",
       " <__main__.Card at 0x142e948a9d0>,\n",
       " <__main__.Card at 0x142e948aa10>,\n",
       " <__main__.Card at 0x142e948a910>,\n",
       " <__main__.Card at 0x142e948aa50>,\n",
       " <__main__.Card at 0x142e948aa90>,\n",
       " <__main__.Card at 0x142e948aad0>,\n",
       " <__main__.Card at 0x142e948ab10>,\n",
       " <__main__.Card at 0x142e948ab50>,\n",
       " <__main__.Card at 0x142e948ab90>,\n",
       " <__main__.Card at 0x142e948abd0>,\n",
       " <__main__.Card at 0x142e948ac10>,\n",
       " <__main__.Card at 0x142e948ac50>,\n",
       " <__main__.Card at 0x142e948ac90>,\n",
       " <__main__.Card at 0x142e948acd0>,\n",
       " <__main__.Card at 0x142e948ad10>,\n",
       " <__main__.Card at 0x142e948ad90>,\n",
       " <__main__.Card at 0x142e948add0>,\n",
       " <__main__.Card at 0x142e948ae10>,\n",
       " <__main__.Card at 0x142e948ae50>,\n",
       " <__main__.Card at 0x142e948ae90>,\n",
       " <__main__.Card at 0x142e948aed0>,\n",
       " <__main__.Card at 0x142e948af10>,\n",
       " <__main__.Card at 0x142e948af50>,\n",
       " <__main__.Card at 0x142e948af90>,\n",
       " <__main__.Card at 0x142e948afd0>,\n",
       " <__main__.Card at 0x142e948b010>,\n",
       " <__main__.Card at 0x142e948b050>,\n",
       " <__main__.Card at 0x142e948b090>,\n",
       " <__main__.Card at 0x142e948b0d0>,\n",
       " <__main__.Card at 0x142e948b110>,\n",
       " <__main__.Card at 0x142e948b150>,\n",
       " <__main__.Card at 0x142e948b190>,\n",
       " <__main__.Card at 0x142e948b1d0>,\n",
       " <__main__.Card at 0x142e948b210>,\n",
       " <__main__.Card at 0x142e948b250>,\n",
       " <__main__.Card at 0x142e948b290>,\n",
       " <__main__.Card at 0x142e948b2d0>,\n",
       " <__main__.Card at 0x142e948b310>,\n",
       " <__main__.Card at 0x142e948b350>,\n",
       " <__main__.Card at 0x142e948b390>,\n",
       " <__main__.Card at 0x142e948b3d0>,\n",
       " <__main__.Card at 0x142e948b410>,\n",
       " <__main__.Card at 0x142e948b450>,\n",
       " <__main__.Card at 0x142e948b490>,\n",
       " <__main__.Card at 0x142e948b4d0>]"
      ]
     },
     "execution_count": 22,
     "metadata": {},
     "output_type": "execute_result"
    }
   ],
   "source": [
    "new_deck.all_cards"
   ]
  },
  {
   "cell_type": "code",
   "execution_count": 23,
   "id": "72d3eb03-2000-4acb-bf05-29976643a98e",
   "metadata": {},
   "outputs": [],
   "source": [
    "first_card = new_deck.all_cards[0]"
   ]
  },
  {
   "cell_type": "code",
   "execution_count": 24,
   "id": "edb207af-8ec2-41da-b8fa-e97e08cc4d13",
   "metadata": {},
   "outputs": [
    {
     "name": "stdout",
     "output_type": "stream",
     "text": [
      "Two of Hearts\n"
     ]
    }
   ],
   "source": [
    "print(first_card)"
   ]
  },
  {
   "cell_type": "code",
   "execution_count": 25,
   "id": "1a8ccb23-f08c-41d8-8542-4436ee1a6c20",
   "metadata": {},
   "outputs": [],
   "source": [
    "last_card = new_deck.all_cards[-1]"
   ]
  },
  {
   "cell_type": "code",
   "execution_count": 26,
   "id": "afa6e76c-8296-49d6-8d8e-e3dede349517",
   "metadata": {},
   "outputs": [
    {
     "name": "stdout",
     "output_type": "stream",
     "text": [
      "Ace of Clubs\n"
     ]
    }
   ],
   "source": [
    "print(last_card)"
   ]
  },
  {
   "cell_type": "code",
   "execution_count": 27,
   "id": "fb839972-8418-43dd-b35c-a6d534d8c952",
   "metadata": {},
   "outputs": [
    {
     "name": "stdout",
     "output_type": "stream",
     "text": [
      "Two of Hearts\n",
      "Three of Hearts\n",
      "Four of Hearts\n",
      "Five of Hearts\n",
      "Six of Hearts\n",
      "Seven of Hearts\n",
      "Eight of Hearts\n",
      "Nine of Hearts\n",
      "Ten of Hearts\n",
      "Jack of Hearts\n",
      "Queen of Hearts\n",
      "King of Hearts\n",
      "Ace of Hearts\n",
      "Two of Diamonds\n",
      "Three of Diamonds\n",
      "Four of Diamonds\n",
      "Five of Diamonds\n",
      "Six of Diamonds\n",
      "Seven of Diamonds\n",
      "Eight of Diamonds\n",
      "Nine of Diamonds\n",
      "Ten of Diamonds\n",
      "Jack of Diamonds\n",
      "Queen of Diamonds\n",
      "King of Diamonds\n",
      "Ace of Diamonds\n",
      "Two of Spades\n",
      "Three of Spades\n",
      "Four of Spades\n",
      "Five of Spades\n",
      "Six of Spades\n",
      "Seven of Spades\n",
      "Eight of Spades\n",
      "Nine of Spades\n",
      "Ten of Spades\n",
      "Jack of Spades\n",
      "Queen of Spades\n",
      "King of Spades\n",
      "Ace of Spades\n",
      "Two of Clubs\n",
      "Three of Clubs\n",
      "Four of Clubs\n",
      "Five of Clubs\n",
      "Six of Clubs\n",
      "Seven of Clubs\n",
      "Eight of Clubs\n",
      "Nine of Clubs\n",
      "Ten of Clubs\n",
      "Jack of Clubs\n",
      "Queen of Clubs\n",
      "King of Clubs\n",
      "Ace of Clubs\n"
     ]
    }
   ],
   "source": [
    "for card in new_deck.all_cards:\n",
    "    print(card)"
   ]
  },
  {
   "cell_type": "code",
   "execution_count": 28,
   "id": "86e5ab2b-b158-4b5c-aede-21acad3f9f28",
   "metadata": {},
   "outputs": [],
   "source": [
    "mylist = [1,2,3,4,5]"
   ]
  },
  {
   "cell_type": "code",
   "execution_count": 29,
   "id": "cd2f8469-3415-47dd-9fc4-3a38809c88a8",
   "metadata": {},
   "outputs": [
    {
     "data": {
      "text/plain": [
       "[1, 2, 3, 4, 5]"
      ]
     },
     "execution_count": 29,
     "metadata": {},
     "output_type": "execute_result"
    }
   ],
   "source": [
    "mylist"
   ]
  },
  {
   "cell_type": "code",
   "execution_count": 30,
   "id": "bbb8c734-ede7-4d15-9356-07883515e12e",
   "metadata": {},
   "outputs": [],
   "source": [
    "random.shuffle(mylist)"
   ]
  },
  {
   "cell_type": "code",
   "execution_count": 31,
   "id": "8efd9c26-4558-4b7e-8c07-4657c348c013",
   "metadata": {},
   "outputs": [
    {
     "data": {
      "text/plain": [
       "[4, 3, 5, 1, 2]"
      ]
     },
     "execution_count": 31,
     "metadata": {},
     "output_type": "execute_result"
    }
   ],
   "source": [
    "mylist"
   ]
  },
  {
   "cell_type": "code",
   "execution_count": 32,
   "id": "b5e738da-6220-4500-818b-ca2480d1d181",
   "metadata": {},
   "outputs": [],
   "source": [
    "from random import shuffle"
   ]
  },
  {
   "cell_type": "code",
   "execution_count": 33,
   "id": "c735d3fd-1a51-418c-9158-a795349e49ff",
   "metadata": {},
   "outputs": [],
   "source": [
    "shuffle(mylist)"
   ]
  },
  {
   "cell_type": "code",
   "execution_count": 34,
   "id": "eb38aa1d-bf8f-46d1-8c6f-a150d1d4d1e3",
   "metadata": {},
   "outputs": [
    {
     "data": {
      "text/plain": [
       "[3, 4, 2, 1, 5]"
      ]
     },
     "execution_count": 34,
     "metadata": {},
     "output_type": "execute_result"
    }
   ],
   "source": [
    "mylist"
   ]
  },
  {
   "cell_type": "code",
   "execution_count": 35,
   "id": "06a7bb1b-4a42-4912-8d45-0bf3d82260ba",
   "metadata": {},
   "outputs": [],
   "source": [
    "# SHUFFLE DOES NOT RETURN ANYTHING. IT SHUFFLES ELEMENTS IN PLACE"
   ]
  },
  {
   "cell_type": "code",
   "execution_count": 36,
   "id": "5bd09cb9-dc7a-4881-baa7-4e8f3d89a87f",
   "metadata": {},
   "outputs": [],
   "source": [
    "new_deck.shuffle()"
   ]
  },
  {
   "cell_type": "code",
   "execution_count": 37,
   "id": "e3d1527b-b923-4e38-b798-8046e48567a8",
   "metadata": {},
   "outputs": [
    {
     "name": "stdout",
     "output_type": "stream",
     "text": [
      "Five of Spades\n"
     ]
    }
   ],
   "source": [
    "print(new_deck.all_cards[-1])"
   ]
  },
  {
   "cell_type": "code",
   "execution_count": null,
   "id": "553ba8b1-91a7-402c-9be2-b7811659fb98",
   "metadata": {},
   "outputs": [],
   "source": []
  },
  {
   "cell_type": "code",
   "execution_count": null,
   "id": "6d02dbff-de84-42cc-8f41-a03886ab9331",
   "metadata": {},
   "outputs": [],
   "source": []
  },
  {
   "cell_type": "code",
   "execution_count": 38,
   "id": "e66dc850-5a11-48b4-a8d2-822dbe73055e",
   "metadata": {},
   "outputs": [],
   "source": [
    "new_deck = Deck()"
   ]
  },
  {
   "cell_type": "code",
   "execution_count": 39,
   "id": "600a275a-4931-4351-98d7-7e950f305f96",
   "metadata": {},
   "outputs": [],
   "source": [
    "new_deck.shuffle()"
   ]
  },
  {
   "cell_type": "code",
   "execution_count": 40,
   "id": "8a222793-4909-406e-bf68-9b970cfe2f55",
   "metadata": {},
   "outputs": [],
   "source": [
    "mycard = new_deck.deal_one()"
   ]
  },
  {
   "cell_type": "code",
   "execution_count": 41,
   "id": "ff58851a-dd29-4adf-b4dc-1ad771157978",
   "metadata": {},
   "outputs": [
    {
     "data": {
      "text/plain": [
       "<__main__.Card at 0x142e94fbe50>"
      ]
     },
     "execution_count": 41,
     "metadata": {},
     "output_type": "execute_result"
    }
   ],
   "source": [
    "mycard"
   ]
  },
  {
   "cell_type": "code",
   "execution_count": 42,
   "id": "90a61431-0aa3-49cf-8c1b-acbdbe1338bd",
   "metadata": {},
   "outputs": [
    {
     "name": "stdout",
     "output_type": "stream",
     "text": [
      "Two of Diamonds\n"
     ]
    }
   ],
   "source": [
    "print(mycard)"
   ]
  },
  {
   "cell_type": "code",
   "execution_count": 43,
   "id": "30846207-e592-45ba-910b-39576032030d",
   "metadata": {},
   "outputs": [
    {
     "data": {
      "text/plain": [
       "51"
      ]
     },
     "execution_count": 43,
     "metadata": {},
     "output_type": "execute_result"
    }
   ],
   "source": [
    "len(new_deck.all_cards)"
   ]
  },
  {
   "cell_type": "code",
   "execution_count": null,
   "id": "42da40b3-7778-4dd1-bd9a-b6735e803c34",
   "metadata": {},
   "outputs": [],
   "source": []
  },
  {
   "cell_type": "code",
   "execution_count": null,
   "id": "e41b077d-1bc9-4f4c-a34f-7124df07e096",
   "metadata": {},
   "outputs": [],
   "source": []
  },
  {
   "cell_type": "code",
   "execution_count": null,
   "id": "25a9c42f-96a7-4919-8813-a32cf32b0ba5",
   "metadata": {},
   "outputs": [],
   "source": []
  },
  {
   "cell_type": "code",
   "execution_count": 44,
   "id": "8f7f6b67-3bf3-445f-88c5-a9f115d41187",
   "metadata": {},
   "outputs": [],
   "source": [
    "# PLAYER CLASS"
   ]
  },
  {
   "cell_type": "code",
   "execution_count": 45,
   "id": "98a38bfd-c540-462c-8cfe-05d381b67682",
   "metadata": {},
   "outputs": [],
   "source": [
    "# PLAYER CLASS SHOULD BE USED TO HOLD CURRENT LIST OF CARDS IN PLAYER'S HAND"
   ]
  },
  {
   "cell_type": "code",
   "execution_count": 46,
   "id": "3d6e3d12-08ac-4840-aee0-08a02ae3eb9c",
   "metadata": {},
   "outputs": [],
   "source": [
    "# PLAYER SHOULD BE ABLE TO ADD OR REMOVE CARDS FROM THEIR HAND"
   ]
  },
  {
   "cell_type": "code",
   "execution_count": 47,
   "id": "0a1398cd-0e99-49b8-a6c5-6425e37a22db",
   "metadata": {},
   "outputs": [],
   "source": [
    "# cards.pop(0) to remove card \n",
    "# cards.append(w) to add card\n",
    "# cards.append(Z) to append multiple cards list"
   ]
  },
  {
   "cell_type": "code",
   "execution_count": 48,
   "id": "b89b8312-d6c1-433f-8bca-1e05770507b2",
   "metadata": {},
   "outputs": [],
   "source": [
    "class Player:\n",
    "    def __init__(self,name):\n",
    "        self.name = name\n",
    "        self.all_cards = []\n",
    "\n",
    "    def remove_one(self):\n",
    "        return self.all_cards.pop(0)\n",
    "\n",
    "    def add_cards(self,new_cards):\n",
    "        if type(new_cards) == type([]):\n",
    "            self.all_cards.extend(new_cards)\n",
    "        else:\n",
    "            self.all_cards.append(new_cards)\n",
    "\n",
    "    def __str__(self):\n",
    "        return f'Player {self.name} has {len(self.all_cards)} cards.'\n",
    "        "
   ]
  },
  {
   "cell_type": "code",
   "execution_count": 49,
   "id": "88c8ca4c-58a8-4d42-97f3-0e56a6971e0c",
   "metadata": {},
   "outputs": [],
   "source": [
    "new_player = Player('Vallabh')"
   ]
  },
  {
   "cell_type": "code",
   "execution_count": 50,
   "id": "8eba4cdd-fe29-4294-b3ff-b579cc28b76a",
   "metadata": {},
   "outputs": [
    {
     "name": "stdout",
     "output_type": "stream",
     "text": [
      "Player Vallabh has 0 cards.\n"
     ]
    }
   ],
   "source": [
    "print(new_player)"
   ]
  },
  {
   "cell_type": "code",
   "execution_count": 51,
   "id": "1d5774ad-8364-4a27-ad4a-2e42dbd2dde8",
   "metadata": {},
   "outputs": [],
   "source": [
    "new_player.add_cards(mycard)"
   ]
  },
  {
   "cell_type": "code",
   "execution_count": 52,
   "id": "ca60b250-ec69-4a02-b6d5-cc2da0b02e36",
   "metadata": {},
   "outputs": [
    {
     "name": "stdout",
     "output_type": "stream",
     "text": [
      "Two of Diamonds\n"
     ]
    }
   ],
   "source": [
    "print(mycard)"
   ]
  },
  {
   "cell_type": "code",
   "execution_count": 53,
   "id": "e4c3c90f-655b-4524-a728-714088eeed8d",
   "metadata": {},
   "outputs": [
    {
     "name": "stdout",
     "output_type": "stream",
     "text": [
      "Player Vallabh has 1 cards.\n"
     ]
    }
   ],
   "source": [
    "print(new_player)"
   ]
  },
  {
   "cell_type": "code",
   "execution_count": 54,
   "id": "4d8ec49d-0cb1-432c-b8fb-179fabb1cb96",
   "metadata": {},
   "outputs": [
    {
     "name": "stdout",
     "output_type": "stream",
     "text": [
      "Two of Diamonds\n"
     ]
    }
   ],
   "source": [
    "print(new_player.all_cards[0])"
   ]
  },
  {
   "cell_type": "code",
   "execution_count": 55,
   "id": "1d7b70af-4fd7-4894-8018-882c9463acd4",
   "metadata": {},
   "outputs": [],
   "source": [
    "new_player.add_cards([mycard,mycard,mycard])"
   ]
  },
  {
   "cell_type": "code",
   "execution_count": 56,
   "id": "ea318c05-ba78-4ad2-8e92-93f0c8713529",
   "metadata": {},
   "outputs": [
    {
     "name": "stdout",
     "output_type": "stream",
     "text": [
      "Player Vallabh has 4 cards.\n"
     ]
    }
   ],
   "source": [
    "print(new_player)"
   ]
  },
  {
   "cell_type": "code",
   "execution_count": 57,
   "id": "ae7f0bab-7e53-4e9c-8fed-ec024c924445",
   "metadata": {},
   "outputs": [
    {
     "data": {
      "text/plain": [
       "<__main__.Card at 0x142e94fbe50>"
      ]
     },
     "execution_count": 57,
     "metadata": {},
     "output_type": "execute_result"
    }
   ],
   "source": [
    "new_player.remove_one()"
   ]
  },
  {
   "cell_type": "code",
   "execution_count": 58,
   "id": "bcf76d89-cdb0-4b68-9b67-a25821e8c5e4",
   "metadata": {},
   "outputs": [
    {
     "name": "stdout",
     "output_type": "stream",
     "text": [
      "Player Vallabh has 3 cards.\n"
     ]
    }
   ],
   "source": [
    "print(new_player)"
   ]
  },
  {
   "cell_type": "code",
   "execution_count": null,
   "id": "37239eb0-582e-4637-bfd0-f4c76b78b2b2",
   "metadata": {},
   "outputs": [],
   "source": []
  },
  {
   "cell_type": "code",
   "execution_count": null,
   "id": "ab7d22fc-c96c-4ee7-860d-2f6aa954b708",
   "metadata": {},
   "outputs": [],
   "source": []
  },
  {
   "cell_type": "code",
   "execution_count": 59,
   "id": "1cffa792-7e95-4f80-bafe-e5cb2a6091ae",
   "metadata": {},
   "outputs": [],
   "source": [
    "# GAME SETUP"
   ]
  },
  {
   "cell_type": "code",
   "execution_count": 126,
   "id": "2017d5b4-6eb5-4fa2-a0ce-8a17b47715da",
   "metadata": {},
   "outputs": [],
   "source": [
    "player_one = Player('One') # INSTANCE OF PLAYER ONE \n",
    "player_two = Player('Two') # INSTANCE OF PLAYER TWO\n",
    "\n",
    "new_deck = Deck() # THIS IS INITIAL DECK OF OUR CARDS\n",
    "new_deck.shuffle() # SHUFFLING CARDS TO HAVE A RANDOM ORDER\n",
    "\n",
    "for x in range(26):\n",
    "    # ADD CARDS TO THE PLAYERS' HANDS\n",
    "    player_one.add_cards(new_deck.deal_one()) \n",
    "    player_two.add_cards(new_deck.deal_one())"
   ]
  },
  {
   "cell_type": "code",
   "execution_count": 128,
   "id": "82a1e412-2315-4944-93d8-affaf601e113",
   "metadata": {},
   "outputs": [
    {
     "data": {
      "text/plain": [
       "26"
      ]
     },
     "execution_count": 128,
     "metadata": {},
     "output_type": "execute_result"
    }
   ],
   "source": [
    "len(player_one.all_cards)"
   ]
  },
  {
   "cell_type": "code",
   "execution_count": 130,
   "id": "f3b8fa3c-20a6-42de-8eef-44d297122c6b",
   "metadata": {},
   "outputs": [
    {
     "name": "stdout",
     "output_type": "stream",
     "text": [
      "Player One has 26 cards.\n"
     ]
    }
   ],
   "source": [
    "print(player_one)"
   ]
  },
  {
   "cell_type": "code",
   "execution_count": 132,
   "id": "92d5aae8-a389-474d-bd59-6d9a485b4e27",
   "metadata": {},
   "outputs": [
    {
     "name": "stdout",
     "output_type": "stream",
     "text": [
      "Jack of Diamonds\n"
     ]
    }
   ],
   "source": [
    "print(player_one.all_cards[0])"
   ]
  },
  {
   "cell_type": "code",
   "execution_count": 134,
   "id": "614b0440-9394-4e6b-b8d3-c1b0f2955e1a",
   "metadata": {},
   "outputs": [],
   "source": [
    "# HENCE WE HAVE SUCCESSFULLY SPLITTED THE DECK AND DISTRIBUTED THE CARDS"
   ]
  },
  {
   "cell_type": "code",
   "execution_count": 136,
   "id": "9bdbf5bb-a9ed-40c0-a137-1f211f2cecad",
   "metadata": {},
   "outputs": [],
   "source": [
    "game_on = True"
   ]
  },
  {
   "cell_type": "code",
   "execution_count": 138,
   "id": "2da588ef-e477-4385-9884-3e9adb150e07",
   "metadata": {},
   "outputs": [
    {
     "name": "stdout",
     "output_type": "stream",
     "text": [
      "Round 1\n",
      "Round 2\n",
      "Round 3\n",
      "Round 4\n",
      "Round 5\n",
      "Round 6\n",
      "WAR!\n",
      "Round 7\n",
      "Round 8\n",
      "Round 9\n",
      "Round 10\n",
      "Round 11\n",
      "Round 12\n",
      "Round 13\n",
      "Round 14\n",
      "Round 15\n",
      "Round 16\n",
      "Round 17\n",
      "Round 18\n",
      "Round 19\n",
      "Round 20\n",
      "Round 21\n",
      "Round 22\n",
      "Round 23\n",
      "Round 24\n",
      "Round 25\n",
      "Round 26\n",
      "Round 27\n",
      "WAR!\n",
      "Round 28\n",
      "Round 29\n",
      "Round 30\n",
      "Round 31\n",
      "Round 32\n",
      "Round 33\n",
      "Round 34\n",
      "Round 35\n",
      "Round 36\n",
      "Round 37\n",
      "Round 38\n",
      "Round 39\n",
      "Round 40\n",
      "Round 41\n",
      "Round 42\n",
      "Round 43\n",
      "Round 44\n",
      "Round 45\n",
      "Round 46\n",
      "Round 47\n",
      "Round 48\n",
      "Round 49\n",
      "Round 50\n",
      "Round 51\n",
      "Round 52\n",
      "Round 53\n",
      "Round 54\n",
      "Round 55\n",
      "Round 56\n",
      "Round 57\n",
      "Round 58\n",
      "Round 59\n",
      "Round 60\n",
      "Round 61\n",
      "Round 62\n",
      "Round 63\n",
      "Round 64\n",
      "WAR!\n",
      "Round 65\n",
      "Round 66\n",
      "Round 67\n",
      "Round 68\n",
      "Round 69\n",
      "Round 70\n",
      "Round 71\n",
      "Round 72\n",
      "Round 73\n",
      "Round 74\n",
      "Round 75\n",
      "Round 76\n",
      "Round 77\n",
      "Round 78\n",
      "Round 79\n",
      "Round 80\n",
      "Round 81\n",
      "Round 82\n",
      "Round 83\n",
      "Round 84\n",
      "Round 85\n",
      "Round 86\n",
      "Round 87\n",
      "Round 88\n",
      "Round 89\n",
      "Round 90\n",
      "Round 91\n",
      "Round 92\n",
      "Round 93\n",
      "Round 94\n",
      "Round 95\n",
      "Round 96\n",
      "Round 97\n",
      "Round 98\n",
      "Round 99\n",
      "Round 100\n",
      "Round 101\n",
      "Round 102\n",
      "Round 103\n",
      "Round 104\n",
      "WAR!\n",
      "Round 105\n",
      "Round 106\n",
      "Round 107\n",
      "Round 108\n",
      "Round 109\n",
      "Round 110\n",
      "Round 111\n",
      "WAR!\n",
      "Round 112\n",
      "Round 113\n",
      "Round 114\n",
      "Round 115\n",
      "Round 116\n",
      "Round 117\n",
      "Round 118\n",
      "Round 119\n",
      "Round 120\n",
      "Round 121\n",
      "Round 122\n",
      "Round 123\n",
      "Round 124\n",
      "Round 125\n",
      "Round 126\n",
      "WAR!\n",
      "Round 127\n",
      "Round 128\n",
      "Round 129\n",
      "Round 130\n",
      "Round 131\n",
      "Round 132\n",
      "Round 133\n",
      "Round 134\n",
      "Round 135\n",
      "Round 136\n",
      "Round 137\n",
      "Round 138\n",
      "Round 139\n",
      "Round 140\n",
      "WAR!\n",
      "Round 141\n",
      "Round 142\n",
      "Round 143\n",
      "Round 144\n",
      "Round 145\n",
      "Round 146\n",
      "Round 147\n",
      "Round 148\n",
      "Round 149\n",
      "Round 150\n",
      "Round 151\n",
      "Round 152\n",
      "WAR!\n",
      "Round 153\n",
      "Round 154\n",
      "Round 155\n",
      "Round 156\n",
      "Round 157\n",
      "Round 158\n",
      "WAR!\n",
      "Round 159\n",
      "Round 160\n",
      "Round 161\n",
      "Round 162\n",
      "Round 163\n",
      "Round 164\n",
      "Round 165\n",
      "Round 166\n",
      "Round 167\n",
      "Round 168\n",
      "Round 169\n",
      "Round 170\n",
      "Round 171\n",
      "Round 172\n",
      "Round 173\n",
      "Round 174\n",
      "Round 175\n",
      "Round 176\n",
      "Round 177\n",
      "Round 178\n",
      "Round 179\n",
      "Round 180\n",
      "Round 181\n",
      "Round 182\n",
      "Round 183\n",
      "Round 184\n",
      "Round 185\n",
      "Round 186\n",
      "Round 187\n",
      "Round 188\n",
      "Round 189\n",
      "Round 190\n",
      "Round 191\n",
      "Round 192\n",
      "Round 193\n",
      "Round 194\n",
      "Round 195\n",
      "Round 196\n",
      "Round 197\n",
      "Round 198\n",
      "Round 199\n",
      "Round 200\n",
      "Round 201\n",
      "Round 202\n",
      "Round 203\n",
      "Round 204\n",
      "Round 205\n",
      "Round 206\n",
      "Round 207\n",
      "Round 208\n",
      "Round 209\n",
      "Round 210\n",
      "WAR!\n",
      "Round 211\n",
      "Round 212\n",
      "Round 213\n",
      "Round 214\n",
      "Round 215\n",
      "Round 216\n",
      "Round 217\n",
      "WAR!\n",
      "Round 218\n",
      "Round 219\n",
      "Round 220\n",
      "Round 221\n",
      "Round 222\n",
      "Round 223\n",
      "WAR!\n",
      "Round 224\n",
      "Round 225\n",
      "Round 226\n",
      "Round 227\n",
      "Round 228\n",
      "Round 229\n",
      "Round 230\n",
      "WAR!\n",
      "Round 231\n",
      "Round 232\n",
      "Round 233\n",
      "Round 234\n",
      "Round 235\n",
      "Round 236\n",
      "Round 237\n",
      "Round 238\n",
      "Round 239\n",
      "Round 240\n",
      "Player One, out of cards! Player Two Wins !\n"
     ]
    }
   ],
   "source": [
    "round_num = 0\n",
    "\n",
    "while game_on:\n",
    "    round_num += 1\n",
    "    print(f'Round {round_num}') \n",
    "\n",
    "    if len(player_one.all_cards) == 0:\n",
    "        print('Player One, out of cards! Player Two Wins !')\n",
    "        game_on = False\n",
    "        break\n",
    "\n",
    "    if len(player_two.all_cards) == 0:\n",
    "        print('Player Two, out of cards! Player One Wins !')\n",
    "        game_on = False\n",
    "        break \n",
    "    \n",
    "    # START A NEW ROUND : Keep cards on the table \n",
    "    player_one_cards = []\n",
    "    player_one_cards.append(player_one.remove_one())\n",
    "    \n",
    "    player_two_cards = []\n",
    "    player_two_cards.append(player_two.remove_one())\n",
    "\n",
    "    at_war = True\n",
    "\n",
    "    while at_war:\n",
    "        if player_one_cards[-1].value > player_two_cards[-1].value:\n",
    "            player_one.add_cards(player_one_cards)\n",
    "            player_one.add_cards(player_two_cards)\n",
    "\n",
    "            at_war = False\n",
    "\n",
    "        elif player_one_cards[-1].value < player_two_cards[-1].value:\n",
    "            player_two.add_cards(player_two_cards)\n",
    "            player_two.add_cards(player_one_cards)\n",
    "\n",
    "            at_war = False\n",
    "\n",
    "        else:\n",
    "            print(\"WAR!\")\n",
    "            cards_to_draw = 5\n",
    "\n",
    "            if len(player_one.all_cards) < cards_to_draw:\n",
    "                print(\"Player One is Unable to Declare a War!\")\n",
    "                print(\"PLAYER TWO WINS\")\n",
    "                game_on = False\n",
    "                break\n",
    "\n",
    "            elif len(player_two.all_cards) < cards_to_draw:\n",
    "                print(\"Player Two is Unable to Declare a War!\")\n",
    "                print(\"PLAYER ONE WINS\")\n",
    "                game_on = False\n",
    "                break\n",
    "\n",
    "            else:\n",
    "                for num in range(cards_to_draw):\n",
    "                    player_one_cards.append(player_one.remove_one())\n",
    "                    player_two_cards.append(player_two.remove_one())\n",
    "\n"
   ]
  },
  {
   "cell_type": "code",
   "execution_count": null,
   "id": "1c0d5288-4614-42dd-af40-557dc7920fe0",
   "metadata": {},
   "outputs": [],
   "source": []
  },
  {
   "cell_type": "code",
   "execution_count": null,
   "id": "aa4aea31-5dd4-47b3-9c73-ccbbbf311028",
   "metadata": {},
   "outputs": [],
   "source": []
  },
  {
   "cell_type": "code",
   "execution_count": null,
   "id": "e9fb18fe-6a47-4a2b-badf-0a229ecd03b1",
   "metadata": {},
   "outputs": [],
   "source": []
  }
 ],
 "metadata": {
  "kernelspec": {
   "display_name": "Python 3 (ipykernel)",
   "language": "python",
   "name": "python3"
  },
  "language_info": {
   "codemirror_mode": {
    "name": "ipython",
    "version": 3
   },
   "file_extension": ".py",
   "mimetype": "text/x-python",
   "name": "python",
   "nbconvert_exporter": "python",
   "pygments_lexer": "ipython3",
   "version": "3.11.5"
  }
 },
 "nbformat": 4,
 "nbformat_minor": 5
}
