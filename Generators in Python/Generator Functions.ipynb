{
 "cells": [
  {
   "cell_type": "markdown",
   "id": "19b0335e-cde4-4a07-839d-14162b6b9249",
   "metadata": {},
   "source": [
    "### Generator Functions \n",
    "- Generator Functions allow us to write a function that can send back a value and then later resume to pick up where it left off.\n",
    "- They allow to generate a sequence of values over time.\n",
    "- They use the 'yield' statement for this.\n",
    "- Generator functions will automatically suspend and resume their execution and state around the last point of value generation\n",
    "\n",
    "#### Note:\n",
    "- Instead of having to compute an entire series of values up front, the generator computes one value waits until the next value is called for.\n",
    "\n",
    "#### Example:\n",
    "The range function doesn't produce any list in memory for all the values from start to the stop. It just keeps track of the last number and the step size, to provide a flow of numbers. It doesn't store all the numbers anywhere in memory.\n",
    "\n",
    "- If the user needs that list, he needs to transform the generator to a list like : list(range(0,100))\n"
   ]
  },
  {
   "cell_type": "markdown",
   "id": "c516ab71-8623-468a-8d24-f0f11b41271c",
   "metadata": {},
   "source": [
    "# Creating our own Generator Function"
   ]
  },
  {
   "cell_type": "code",
   "execution_count": 17,
   "id": "641b02f0-1947-4d69-83a4-c6b47e910c37",
   "metadata": {},
   "outputs": [],
   "source": [
    "def create_cubes(n):\n",
    "    result = []\n",
    "    for x in range(n):\n",
    "        result.append(x**3)\n",
    "    return result"
   ]
  },
  {
   "cell_type": "code",
   "execution_count": 19,
   "id": "53b77ced-76f1-4221-b59f-2f6882fefd9e",
   "metadata": {},
   "outputs": [
    {
     "data": {
      "text/plain": [
       "[0, 1, 8, 27, 64, 125, 216, 343, 512, 729]"
      ]
     },
     "execution_count": 19,
     "metadata": {},
     "output_type": "execute_result"
    }
   ],
   "source": [
    "create_cubes(10)"
   ]
  },
  {
   "cell_type": "code",
   "execution_count": 23,
   "id": "651bb407-d74b-4fb5-8599-675880516d95",
   "metadata": {},
   "outputs": [
    {
     "name": "stdout",
     "output_type": "stream",
     "text": [
      "0\n",
      "1\n",
      "8\n",
      "27\n",
      "64\n",
      "125\n",
      "216\n",
      "343\n",
      "512\n",
      "729\n"
     ]
    }
   ],
   "source": [
    "for x in create_cubes(10):\n",
    "    print(x)"
   ]
  },
  {
   "cell_type": "code",
   "execution_count": null,
   "id": "5e3cf1f1-47e8-4ce8-b0d2-2b8a6ce8e4f4",
   "metadata": {},
   "outputs": [],
   "source": []
  },
  {
   "cell_type": "code",
   "execution_count": 26,
   "id": "7628cb70-405a-4f97-b422-af70812df62c",
   "metadata": {},
   "outputs": [],
   "source": [
    "def create_cubes(n):\n",
    "    for x in range(n):\n",
    "        yield x**3"
   ]
  },
  {
   "cell_type": "code",
   "execution_count": 32,
   "id": "868b2b86-9622-42c0-854d-3ed27ca4522d",
   "metadata": {},
   "outputs": [
    {
     "name": "stdout",
     "output_type": "stream",
     "text": [
      "0\n",
      "1\n",
      "8\n",
      "27\n",
      "64\n",
      "125\n",
      "216\n",
      "343\n",
      "512\n",
      "729\n"
     ]
    }
   ],
   "source": [
    "for x in create_cubes(10):\n",
    "    print(x)"
   ]
  },
  {
   "cell_type": "code",
   "execution_count": 34,
   "id": "343f7994-4ac8-4ead-b12b-99494fc73d9e",
   "metadata": {},
   "outputs": [
    {
     "data": {
      "text/plain": [
       "<generator object create_cubes at 0x0000018E45CC1CB0>"
      ]
     },
     "execution_count": 34,
     "metadata": {},
     "output_type": "execute_result"
    }
   ],
   "source": [
    "create_cubes(10)"
   ]
  },
  {
   "cell_type": "code",
   "execution_count": 36,
   "id": "71b93f9d-186a-45ad-b312-a410730b49da",
   "metadata": {},
   "outputs": [],
   "source": [
    "# Here we don't have any list and the values are generated as they come."
   ]
  },
  {
   "cell_type": "code",
   "execution_count": 38,
   "id": "c6e558fa-5716-4043-8ca7-0ce1289f2dff",
   "metadata": {},
   "outputs": [
    {
     "data": {
      "text/plain": [
       "[0, 1, 8, 27, 64, 125, 216, 343, 512, 729]"
      ]
     },
     "execution_count": 38,
     "metadata": {},
     "output_type": "execute_result"
    }
   ],
   "source": [
    "# However, you can get the list as : \n",
    "list(create_cubes(10))"
   ]
  },
  {
   "cell_type": "code",
   "execution_count": null,
   "id": "4d9d03a0-ca07-466b-9bd5-cd63f1eaa9df",
   "metadata": {},
   "outputs": [],
   "source": []
  },
  {
   "cell_type": "markdown",
   "id": "e2b17165-ac00-4fda-a367-ae166d3be9a3",
   "metadata": {},
   "source": [
    "### Generator Function to create a Fibonacci Series"
   ]
  },
  {
   "cell_type": "code",
   "execution_count": 48,
   "id": "68d4d2ff-853f-482e-a60d-208b2066b13c",
   "metadata": {},
   "outputs": [],
   "source": [
    "def generate_fibonacci(n):\n",
    "    n1 = 0\n",
    "    n2 = 1\n",
    "    # output = [] Memory unefficient approach\n",
    "\n",
    "    for i in range(n):\n",
    "        yield n1\n",
    "        n1,n2 = n2,n1+n2"
   ]
  },
  {
   "cell_type": "code",
   "execution_count": 50,
   "id": "9170a1b9-a0c2-4424-b77a-a940906de47a",
   "metadata": {},
   "outputs": [
    {
     "name": "stdout",
     "output_type": "stream",
     "text": [
      "0\n",
      "1\n",
      "1\n",
      "2\n",
      "3\n",
      "5\n",
      "8\n",
      "13\n",
      "21\n",
      "34\n"
     ]
    }
   ],
   "source": [
    "for number in generate_fibonacci(10):\n",
    "    print(number)"
   ]
  },
  {
   "cell_type": "code",
   "execution_count": null,
   "id": "c12de2ea-e5ce-4e5a-8d87-349d650db50a",
   "metadata": {},
   "outputs": [],
   "source": []
  },
  {
   "cell_type": "markdown",
   "id": "0e0e36f8-b724-4bdc-ad58-0d0f3a3116e3",
   "metadata": {},
   "source": [
    "### Next Function"
   ]
  },
  {
   "cell_type": "code",
   "execution_count": 60,
   "id": "21d69237-6906-4c3c-98b1-c4cae7b86ae9",
   "metadata": {},
   "outputs": [],
   "source": [
    "def simple_generator():\n",
    "    for x in range(3):\n",
    "        yield x"
   ]
  },
  {
   "cell_type": "code",
   "execution_count": 62,
   "id": "39cab938-1d4b-4bfa-b737-83ef88646b1c",
   "metadata": {},
   "outputs": [
    {
     "name": "stdout",
     "output_type": "stream",
     "text": [
      "0\n",
      "1\n",
      "2\n"
     ]
    }
   ],
   "source": [
    "for number in simple_generator():\n",
    "    print(number)"
   ]
  },
  {
   "cell_type": "code",
   "execution_count": 64,
   "id": "acd35d3c-8609-4bbc-894c-8db8a80ba148",
   "metadata": {},
   "outputs": [],
   "source": [
    "g = simple_generator()"
   ]
  },
  {
   "cell_type": "code",
   "execution_count": 66,
   "id": "12c59494-1a95-4431-81ce-032536911360",
   "metadata": {},
   "outputs": [
    {
     "data": {
      "text/plain": [
       "<generator object simple_generator at 0x0000018E47FBEC20>"
      ]
     },
     "execution_count": 66,
     "metadata": {},
     "output_type": "execute_result"
    }
   ],
   "source": [
    "g"
   ]
  },
  {
   "cell_type": "code",
   "execution_count": 68,
   "id": "3def658e-a8d2-4667-8590-673e435cf867",
   "metadata": {},
   "outputs": [
    {
     "name": "stdout",
     "output_type": "stream",
     "text": [
      "0\n"
     ]
    }
   ],
   "source": [
    "print(next(g))"
   ]
  },
  {
   "cell_type": "code",
   "execution_count": 70,
   "id": "c774f6e3-7e4a-41e4-93da-4f71cb72fb93",
   "metadata": {},
   "outputs": [
    {
     "name": "stdout",
     "output_type": "stream",
     "text": [
      "1\n"
     ]
    }
   ],
   "source": [
    "print(next(g))"
   ]
  },
  {
   "cell_type": "code",
   "execution_count": 72,
   "id": "4265e4dc-c6ce-4304-877a-0df7068c6a9b",
   "metadata": {},
   "outputs": [
    {
     "name": "stdout",
     "output_type": "stream",
     "text": [
      "2\n"
     ]
    }
   ],
   "source": [
    "print(next(g))"
   ]
  },
  {
   "cell_type": "code",
   "execution_count": 74,
   "id": "62b2429d-0bfa-4633-895d-70348888c242",
   "metadata": {},
   "outputs": [
    {
     "ename": "StopIteration",
     "evalue": "",
     "output_type": "error",
     "traceback": [
      "\u001b[1;31m---------------------------------------------------------------------------\u001b[0m",
      "\u001b[1;31mStopIteration\u001b[0m                             Traceback (most recent call last)",
      "Cell \u001b[1;32mIn[74], line 1\u001b[0m\n\u001b[1;32m----> 1\u001b[0m \u001b[38;5;28mprint\u001b[39m(\u001b[38;5;28;43mnext\u001b[39;49m\u001b[43m(\u001b[49m\u001b[43mg\u001b[49m\u001b[43m)\u001b[49m)\n",
      "\u001b[1;31mStopIteration\u001b[0m: "
     ]
    }
   ],
   "source": [
    "print(next(g))"
   ]
  },
  {
   "cell_type": "code",
   "execution_count": null,
   "id": "67409572-cd68-45ca-886f-0a433556e40b",
   "metadata": {},
   "outputs": [],
   "source": []
  },
  {
   "cell_type": "markdown",
   "id": "6386acde-1d84-4ad4-973e-e4f1a1b3d8f9",
   "metadata": {},
   "source": [
    "### Iter Function"
   ]
  },
  {
   "cell_type": "code",
   "execution_count": 78,
   "id": "743d0990-bf79-4b49-a164-5c0df73a843d",
   "metadata": {},
   "outputs": [],
   "source": [
    "# It is used to automatically iterate through object"
   ]
  },
  {
   "cell_type": "code",
   "execution_count": 80,
   "id": "a9128361-37da-4019-922c-0fc6f703707b",
   "metadata": {},
   "outputs": [],
   "source": [
    "s = \"hello\""
   ]
  },
  {
   "cell_type": "code",
   "execution_count": 84,
   "id": "63adcd9a-f43e-4ed3-aeed-5f805e221133",
   "metadata": {},
   "outputs": [
    {
     "name": "stdout",
     "output_type": "stream",
     "text": [
      "h\n",
      "e\n",
      "l\n",
      "l\n",
      "o\n"
     ]
    }
   ],
   "source": [
    "for letter in s:\n",
    "    print(letter)"
   ]
  },
  {
   "cell_type": "code",
   "execution_count": 86,
   "id": "5d79eedf-e3e6-482e-8312-8811e82cf173",
   "metadata": {},
   "outputs": [
    {
     "ename": "TypeError",
     "evalue": "'str' object is not an iterator",
     "output_type": "error",
     "traceback": [
      "\u001b[1;31m---------------------------------------------------------------------------\u001b[0m",
      "\u001b[1;31mTypeError\u001b[0m                                 Traceback (most recent call last)",
      "Cell \u001b[1;32mIn[86], line 1\u001b[0m\n\u001b[1;32m----> 1\u001b[0m \u001b[38;5;28;43mnext\u001b[39;49m\u001b[43m(\u001b[49m\u001b[43ms\u001b[49m\u001b[43m)\u001b[49m\n",
      "\u001b[1;31mTypeError\u001b[0m: 'str' object is not an iterator"
     ]
    }
   ],
   "source": [
    "next(s)"
   ]
  },
  {
   "cell_type": "code",
   "execution_count": 88,
   "id": "705e8ff9-40fb-4209-8bb5-1d54e8ec6108",
   "metadata": {},
   "outputs": [],
   "source": [
    "s_iter = iter(s)"
   ]
  },
  {
   "cell_type": "code",
   "execution_count": 90,
   "id": "b088f1e9-a3b6-40c0-a4b8-145d95496506",
   "metadata": {},
   "outputs": [
    {
     "data": {
      "text/plain": [
       "'h'"
      ]
     },
     "execution_count": 90,
     "metadata": {},
     "output_type": "execute_result"
    }
   ],
   "source": [
    "next(s_iter)"
   ]
  },
  {
   "cell_type": "code",
   "execution_count": 92,
   "id": "6a2c6324-79f1-4f6a-beab-012bc497f9f4",
   "metadata": {},
   "outputs": [
    {
     "data": {
      "text/plain": [
       "'e'"
      ]
     },
     "execution_count": 92,
     "metadata": {},
     "output_type": "execute_result"
    }
   ],
   "source": [
    "next(s_iter)"
   ]
  },
  {
   "cell_type": "code",
   "execution_count": 94,
   "id": "7cb9de07-2c89-4954-832e-f86f5b87f17d",
   "metadata": {},
   "outputs": [
    {
     "data": {
      "text/plain": [
       "'l'"
      ]
     },
     "execution_count": 94,
     "metadata": {},
     "output_type": "execute_result"
    }
   ],
   "source": [
    "next(s_iter)"
   ]
  },
  {
   "cell_type": "code",
   "execution_count": 96,
   "id": "2474ffcb-f37d-4108-aff3-9adbeea8cd8c",
   "metadata": {},
   "outputs": [
    {
     "data": {
      "text/plain": [
       "'l'"
      ]
     },
     "execution_count": 96,
     "metadata": {},
     "output_type": "execute_result"
    }
   ],
   "source": [
    "next(s_iter)"
   ]
  },
  {
   "cell_type": "code",
   "execution_count": 98,
   "id": "81f0d13b-81d9-4583-aa0f-9e8abf2c49b8",
   "metadata": {},
   "outputs": [
    {
     "data": {
      "text/plain": [
       "'o'"
      ]
     },
     "execution_count": 98,
     "metadata": {},
     "output_type": "execute_result"
    }
   ],
   "source": [
    "next(s_iter)"
   ]
  },
  {
   "cell_type": "code",
   "execution_count": 100,
   "id": "5cdf3c0d-bab0-462b-b216-2ec0db435324",
   "metadata": {},
   "outputs": [
    {
     "ename": "StopIteration",
     "evalue": "",
     "output_type": "error",
     "traceback": [
      "\u001b[1;31m---------------------------------------------------------------------------\u001b[0m",
      "\u001b[1;31mStopIteration\u001b[0m                             Traceback (most recent call last)",
      "Cell \u001b[1;32mIn[100], line 1\u001b[0m\n\u001b[1;32m----> 1\u001b[0m \u001b[38;5;28;43mnext\u001b[39;49m\u001b[43m(\u001b[49m\u001b[43ms_iter\u001b[49m\u001b[43m)\u001b[49m\n",
      "\u001b[1;31mStopIteration\u001b[0m: "
     ]
    }
   ],
   "source": [
    "next(s_iter)"
   ]
  },
  {
   "cell_type": "code",
   "execution_count": null,
   "id": "20b81071-d7d4-41aa-9f7b-15af628e84e3",
   "metadata": {},
   "outputs": [],
   "source": []
  }
 ],
 "metadata": {
  "kernelspec": {
   "display_name": "Python 3 (ipykernel)",
   "language": "python",
   "name": "python3"
  },
  "language_info": {
   "codemirror_mode": {
    "name": "ipython",
    "version": 3
   },
   "file_extension": ".py",
   "mimetype": "text/x-python",
   "name": "python",
   "nbconvert_exporter": "python",
   "pygments_lexer": "ipython3",
   "version": "3.11.5"
  }
 },
 "nbformat": 4,
 "nbformat_minor": 5
}
