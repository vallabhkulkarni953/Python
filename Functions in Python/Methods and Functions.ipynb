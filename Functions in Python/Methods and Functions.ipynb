{
 "cells": [
  {
   "cell_type": "code",
   "execution_count": 1,
   "id": "d06505b7-cfd8-47cd-ba5e-c0f11b2c88a4",
   "metadata": {},
   "outputs": [],
   "source": [
    "# Methods and Functions"
   ]
  },
  {
   "cell_type": "code",
   "execution_count": 2,
   "id": "58ae79b3-6051-45c4-a059-1bc6cdd9ef3e",
   "metadata": {},
   "outputs": [],
   "source": [
    "mylist = [1,2,3]"
   ]
  },
  {
   "cell_type": "code",
   "execution_count": 3,
   "id": "682454cf-8f44-48e6-86a1-356a3ffb0232",
   "metadata": {},
   "outputs": [],
   "source": [
    "mylist.append(4)"
   ]
  },
  {
   "cell_type": "code",
   "execution_count": 4,
   "id": "b6ca15c5-dd20-4541-bab9-9b4f99c1745a",
   "metadata": {},
   "outputs": [
    {
     "data": {
      "text/plain": [
       "[1, 2, 3, 4]"
      ]
     },
     "execution_count": 4,
     "metadata": {},
     "output_type": "execute_result"
    }
   ],
   "source": [
    "mylist"
   ]
  },
  {
   "cell_type": "code",
   "execution_count": 5,
   "id": "514704ec-a7ee-4ef4-9a5b-d62fc0ba0477",
   "metadata": {},
   "outputs": [
    {
     "data": {
      "text/plain": [
       "4"
      ]
     },
     "execution_count": 5,
     "metadata": {},
     "output_type": "execute_result"
    }
   ],
   "source": [
    "mylist.pop()"
   ]
  },
  {
   "cell_type": "code",
   "execution_count": 6,
   "id": "925826cf-7077-4014-bb0d-d0c027b7e20e",
   "metadata": {},
   "outputs": [
    {
     "data": {
      "text/plain": [
       "[1, 2, 3]"
      ]
     },
     "execution_count": 6,
     "metadata": {},
     "output_type": "execute_result"
    }
   ],
   "source": [
    "mylist"
   ]
  },
  {
   "cell_type": "code",
   "execution_count": 7,
   "id": "3b775502-9ee6-41d7-a48e-d93fb5c2047d",
   "metadata": {},
   "outputs": [],
   "source": [
    "mylist.reverse()"
   ]
  },
  {
   "cell_type": "code",
   "execution_count": 8,
   "id": "77aa0ada-4329-4f97-bb23-23d42b53ef48",
   "metadata": {},
   "outputs": [
    {
     "data": {
      "text/plain": [
       "[3, 2, 1]"
      ]
     },
     "execution_count": 8,
     "metadata": {},
     "output_type": "execute_result"
    }
   ],
   "source": [
    "mylist"
   ]
  },
  {
   "cell_type": "code",
   "execution_count": 9,
   "id": "6804a0cb-cd64-4edf-bb4c-1c6cb9bc7813",
   "metadata": {},
   "outputs": [
    {
     "name": "stdout",
     "output_type": "stream",
     "text": [
      "Help on built-in function insert:\n",
      "\n",
      "insert(index, object, /) method of builtins.list instance\n",
      "    Insert object before index.\n",
      "\n"
     ]
    }
   ],
   "source": [
    "help(mylist.insert)"
   ]
  },
  {
   "cell_type": "code",
   "execution_count": 10,
   "id": "707ed0f7-d23b-4491-88a2-38a4c244ff3f",
   "metadata": {},
   "outputs": [],
   "source": [
    "#functions"
   ]
  },
  {
   "cell_type": "code",
   "execution_count": 18,
   "id": "30ebee9d-6364-4618-9614-564e5dc5b019",
   "metadata": {},
   "outputs": [],
   "source": [
    "def greetings():\n",
    "    '''\n",
    "    '''\n",
    "    print('Hello')"
   ]
  },
  {
   "cell_type": "code",
   "execution_count": 19,
   "id": "31227708-6223-41c3-be10-711876167c51",
   "metadata": {},
   "outputs": [
    {
     "name": "stdout",
     "output_type": "stream",
     "text": [
      "Hello\n"
     ]
    }
   ],
   "source": [
    "greetings()"
   ]
  },
  {
   "cell_type": "code",
   "execution_count": 23,
   "id": "1a2e955f-bc07-429f-ba68-fad4809d18ae",
   "metadata": {},
   "outputs": [],
   "source": [
    "def greetings(name):\n",
    "    '''\n",
    "    '''\n",
    "    print('Hello ' + name)"
   ]
  },
  {
   "cell_type": "code",
   "execution_count": 24,
   "id": "94e9fabe-f137-4e90-ada1-73a05ea4fe72",
   "metadata": {},
   "outputs": [
    {
     "name": "stdout",
     "output_type": "stream",
     "text": [
      "Hello Vallabh\n"
     ]
    }
   ],
   "source": [
    "greetings('Vallabh')"
   ]
  },
  {
   "cell_type": "code",
   "execution_count": 25,
   "id": "cf44643a-336d-407c-9e70-01c191cd4317",
   "metadata": {},
   "outputs": [
    {
     "data": {
      "text/plain": [
       "<function __main__.greetings(name)>"
      ]
     },
     "execution_count": 25,
     "metadata": {},
     "output_type": "execute_result"
    }
   ],
   "source": [
    "greetings"
   ]
  },
  {
   "cell_type": "code",
   "execution_count": 26,
   "id": "5670af57-128d-4b4f-b5c0-97fa268f429d",
   "metadata": {},
   "outputs": [],
   "source": [
    "def greetings(name='Default'):\n",
    "    print(f'Hello {name}')"
   ]
  },
  {
   "cell_type": "code",
   "execution_count": 27,
   "id": "7d54e6b4-e267-4c45-b933-8c5e957daefa",
   "metadata": {},
   "outputs": [
    {
     "name": "stdout",
     "output_type": "stream",
     "text": [
      "Hello Default\n"
     ]
    }
   ],
   "source": [
    "greetings()"
   ]
  },
  {
   "cell_type": "code",
   "execution_count": 28,
   "id": "0f933aeb-1c75-4363-8066-530fcd0802c5",
   "metadata": {},
   "outputs": [],
   "source": [
    "def add_num(n1,n2):\n",
    "    return n1+n2"
   ]
  },
  {
   "cell_type": "code",
   "execution_count": 29,
   "id": "386f6dd0-051b-425b-8a9f-58a8512e8002",
   "metadata": {},
   "outputs": [
    {
     "data": {
      "text/plain": [
       "30"
      ]
     },
     "execution_count": 29,
     "metadata": {},
     "output_type": "execute_result"
    }
   ],
   "source": [
    "add_num(10,20)"
   ]
  },
  {
   "cell_type": "code",
   "execution_count": 30,
   "id": "dbf0afe7-08a6-4a26-9e83-ed03bf468afe",
   "metadata": {},
   "outputs": [],
   "source": [
    "result = add_num(10,20)"
   ]
  },
  {
   "cell_type": "code",
   "execution_count": 31,
   "id": "5973c0a3-8dd7-4921-a8c2-b5d05ed3c614",
   "metadata": {},
   "outputs": [
    {
     "data": {
      "text/plain": [
       "30"
      ]
     },
     "execution_count": 31,
     "metadata": {},
     "output_type": "execute_result"
    }
   ],
   "source": [
    "result"
   ]
  },
  {
   "cell_type": "code",
   "execution_count": 32,
   "id": "85678191-7892-413d-90c7-74a4ee2618a4",
   "metadata": {},
   "outputs": [
    {
     "data": {
      "text/plain": [
       "'1020'"
      ]
     },
     "execution_count": 32,
     "metadata": {},
     "output_type": "execute_result"
    }
   ],
   "source": [
    "add_num('10','20')"
   ]
  },
  {
   "cell_type": "code",
   "execution_count": 34,
   "id": "9aaaefad-6262-453e-b622-28142b391637",
   "metadata": {},
   "outputs": [],
   "source": [
    "def even_or_odd(num):\n",
    "    if(num%2==0):\n",
    "        return 'even'\n",
    "    else:\n",
    "        return 'odd'\n",
    "        "
   ]
  },
  {
   "cell_type": "code",
   "execution_count": 35,
   "id": "cedae0d4-ef3b-4073-bebf-a3cb1ca7ed17",
   "metadata": {},
   "outputs": [
    {
     "data": {
      "text/plain": [
       "'even'"
      ]
     },
     "execution_count": 35,
     "metadata": {},
     "output_type": "execute_result"
    }
   ],
   "source": [
    "even_or_odd(20)"
   ]
  },
  {
   "cell_type": "code",
   "execution_count": 36,
   "id": "e4484e35-387b-48c8-a3b2-88593d5f92aa",
   "metadata": {},
   "outputs": [
    {
     "data": {
      "text/plain": [
       "'odd'"
      ]
     },
     "execution_count": 36,
     "metadata": {},
     "output_type": "execute_result"
    }
   ],
   "source": [
    "even_or_odd(13)"
   ]
  },
  {
   "cell_type": "code",
   "execution_count": 37,
   "id": "72f9bc51-3fef-4607-97f6-b20cd4707640",
   "metadata": {},
   "outputs": [],
   "source": [
    "def check_even(num):\n",
    "    return num%2==0"
   ]
  },
  {
   "cell_type": "code",
   "execution_count": 38,
   "id": "df402ab9-4a44-42a9-aaa2-be0b5c027a9d",
   "metadata": {},
   "outputs": [
    {
     "data": {
      "text/plain": [
       "True"
      ]
     },
     "execution_count": 38,
     "metadata": {},
     "output_type": "execute_result"
    }
   ],
   "source": [
    "check_even(20)"
   ]
  },
  {
   "cell_type": "code",
   "execution_count": 39,
   "id": "88389263-2dca-44dc-bc00-5d1d396c5f3f",
   "metadata": {},
   "outputs": [],
   "source": [
    "#Return true if any number is even inside a list"
   ]
  },
  {
   "cell_type": "code",
   "execution_count": 52,
   "id": "2ce5593c-cb5f-47da-8416-d943da8d659b",
   "metadata": {},
   "outputs": [],
   "source": [
    "def even_exists(list):\n",
    "    for num in list:\n",
    "        if(num%2==0):\n",
    "            return True\n",
    "        else: \n",
    "            pass\n",
    "    return False"
   ]
  },
  {
   "cell_type": "code",
   "execution_count": 59,
   "id": "2bedaa6a-6a1a-49f0-a284-db61168fd72e",
   "metadata": {},
   "outputs": [],
   "source": [
    "mylist=[3,7,9,6,5,46,5,9,4,32]"
   ]
  },
  {
   "cell_type": "code",
   "execution_count": 60,
   "id": "5bc01522-03c0-4a41-9ecd-a06c70eb3f99",
   "metadata": {},
   "outputs": [
    {
     "data": {
      "text/plain": [
       "[6, 46, 4, 32]"
      ]
     },
     "execution_count": 60,
     "metadata": {},
     "output_type": "execute_result"
    }
   ],
   "source": [
    "even_exists(mylist)"
   ]
  },
  {
   "cell_type": "code",
   "execution_count": 61,
   "id": "a6ce68fd-61c1-439d-b290-88da9ead57d7",
   "metadata": {},
   "outputs": [
    {
     "data": {
      "text/plain": [
       "[]"
      ]
     },
     "execution_count": 61,
     "metadata": {},
     "output_type": "execute_result"
    }
   ],
   "source": [
    "even_exists([11,33,55,77,99])"
   ]
  },
  {
   "cell_type": "code",
   "execution_count": 62,
   "id": "cb9cef66-a69b-4057-973d-5a3af1cd875a",
   "metadata": {},
   "outputs": [],
   "source": [
    "def even_exists(list):\n",
    "    even_numbers = []\n",
    "    for num in list:\n",
    "        if num%2==0:\n",
    "            even_numbers.append(num)\n",
    "    return even_numbers"
   ]
  },
  {
   "cell_type": "code",
   "execution_count": 63,
   "id": "f11a2b61-e1ad-4dbc-b3ce-ecc0eaae1f60",
   "metadata": {},
   "outputs": [
    {
     "data": {
      "text/plain": [
       "[6, 46, 4, 32]"
      ]
     },
     "execution_count": 63,
     "metadata": {},
     "output_type": "execute_result"
    }
   ],
   "source": [
    "even_exists(mylist)"
   ]
  },
  {
   "cell_type": "code",
   "execution_count": 19,
   "id": "163efaa0-e415-4ab6-91bd-b9844e3359b4",
   "metadata": {},
   "outputs": [],
   "source": [
    "# Tuple Unpacking Using Functions"
   ]
  },
  {
   "cell_type": "code",
   "execution_count": 20,
   "id": "3dd2edf9-9889-464a-90b9-90de4122ea82",
   "metadata": {},
   "outputs": [],
   "source": [
    "stock_prices = [('Apple',200),('Google',400),('Microsoft',700)]"
   ]
  },
  {
   "cell_type": "code",
   "execution_count": 21,
   "id": "48ef0996-97b4-4823-a642-c447ef3da2e9",
   "metadata": {},
   "outputs": [
    {
     "name": "stdout",
     "output_type": "stream",
     "text": [
      "('Apple', 200)\n",
      "('Google', 400)\n",
      "('Microsoft', 700)\n"
     ]
    }
   ],
   "source": [
    "for item in stock_prices:\n",
    "    print(item)"
   ]
  },
  {
   "cell_type": "code",
   "execution_count": 22,
   "id": "1fa119e0-54c4-44ba-bd20-58fd7a3f282c",
   "metadata": {},
   "outputs": [
    {
     "name": "stdout",
     "output_type": "stream",
     "text": [
      "220.0\n",
      "440.0\n",
      "770.0\n"
     ]
    }
   ],
   "source": [
    "for ticker,price in stock_prices:\n",
    "    print(price+0.1*price)"
   ]
  },
  {
   "cell_type": "code",
   "execution_count": 23,
   "id": "5fd50f78-7068-4880-a02a-b131e72cee7b",
   "metadata": {},
   "outputs": [],
   "source": [
    "work_hours = [('Abby',100),('Billy',4000),('Cassie',800)]"
   ]
  },
  {
   "cell_type": "code",
   "execution_count": 24,
   "id": "d0121e6e-46ce-40a2-884d-7a0a4ed0168e",
   "metadata": {},
   "outputs": [],
   "source": [
    "def employee_check(work_hours):\n",
    "    current_max = 0\n",
    "    employee_of_month = ''\n",
    "\n",
    "    for employee,hours in work_hours:\n",
    "        if current_max < hours:\n",
    "            current_max = hours\n",
    "            employee_of_month = employee\n",
    "        else:\n",
    "            pass\n",
    "    return (employee_of_month,current_max)"
   ]
  },
  {
   "cell_type": "code",
   "execution_count": 25,
   "id": "f8a12b14-b5c4-4a66-b21a-3ffb8cab21b0",
   "metadata": {},
   "outputs": [],
   "source": [
    "result = employee_check(work_hours)"
   ]
  },
  {
   "cell_type": "code",
   "execution_count": 26,
   "id": "783ed0d6-2365-48f1-9ee0-71483d1747d9",
   "metadata": {},
   "outputs": [
    {
     "data": {
      "text/plain": [
       "('Billy', 4000)"
      ]
     },
     "execution_count": 26,
     "metadata": {},
     "output_type": "execute_result"
    }
   ],
   "source": [
    "result"
   ]
  },
  {
   "cell_type": "code",
   "execution_count": 27,
   "id": "ec140007-600b-4724-9dc2-1909b9ecf9a7",
   "metadata": {},
   "outputs": [],
   "source": [
    "name,hours = employee_check(work_hours)"
   ]
  },
  {
   "cell_type": "code",
   "execution_count": 28,
   "id": "a7edc5d1-2e53-4bd2-ae1f-ad717ff56aa5",
   "metadata": {},
   "outputs": [
    {
     "data": {
      "text/plain": [
       "'Billy'"
      ]
     },
     "execution_count": 28,
     "metadata": {},
     "output_type": "execute_result"
    }
   ],
   "source": [
    "name"
   ]
  },
  {
   "cell_type": "code",
   "execution_count": 29,
   "id": "e60dd35d-8e17-4613-acf0-d7d2d8aea128",
   "metadata": {},
   "outputs": [
    {
     "data": {
      "text/plain": [
       "4000"
      ]
     },
     "execution_count": 29,
     "metadata": {},
     "output_type": "execute_result"
    }
   ],
   "source": [
    "hours"
   ]
  },
  {
   "cell_type": "code",
   "execution_count": 30,
   "id": "c7e79d99-60a1-4d61-b0dc-5d5b2b73ef02",
   "metadata": {},
   "outputs": [],
   "source": [
    "# Interaction Between Functions"
   ]
  },
  {
   "cell_type": "code",
   "execution_count": 31,
   "id": "529dba50-cc57-42e6-b04a-cd542f6b9811",
   "metadata": {},
   "outputs": [],
   "source": [
    "example = [1,2,3,4,5,6,7]"
   ]
  },
  {
   "cell_type": "code",
   "execution_count": 32,
   "id": "be26bc31-d1ff-4576-ac2b-11c16f6ea46b",
   "metadata": {},
   "outputs": [],
   "source": [
    "from random import shuffle"
   ]
  },
  {
   "cell_type": "code",
   "execution_count": 33,
   "id": "7142094b-8f5b-4950-8bfd-eac450489ace",
   "metadata": {},
   "outputs": [],
   "source": [
    "shuffle(example)"
   ]
  },
  {
   "cell_type": "code",
   "execution_count": 34,
   "id": "0bfb7f16-015c-458a-a089-2d386e829c39",
   "metadata": {},
   "outputs": [
    {
     "data": {
      "text/plain": [
       "[4, 7, 1, 5, 6, 3, 2]"
      ]
     },
     "execution_count": 34,
     "metadata": {},
     "output_type": "execute_result"
    }
   ],
   "source": [
    "example"
   ]
  },
  {
   "cell_type": "code",
   "execution_count": 35,
   "id": "f5130224-453b-427c-88a3-00d920b8890e",
   "metadata": {},
   "outputs": [],
   "source": [
    "def shuffle_list(list):\n",
    "    shuffle(list)\n",
    "    return list"
   ]
  },
  {
   "cell_type": "code",
   "execution_count": 36,
   "id": "b5963b58-1132-46cd-932f-70eee626ea21",
   "metadata": {},
   "outputs": [],
   "source": [
    "result = shuffle_list(example)"
   ]
  },
  {
   "cell_type": "code",
   "execution_count": 37,
   "id": "1dc6e48d-9a5a-42cc-9397-f85c9a247ab1",
   "metadata": {},
   "outputs": [
    {
     "data": {
      "text/plain": [
       "[4, 1, 2, 3, 7, 5, 6]"
      ]
     },
     "execution_count": 37,
     "metadata": {},
     "output_type": "execute_result"
    }
   ],
   "source": [
    "result"
   ]
  },
  {
   "cell_type": "code",
   "execution_count": 38,
   "id": "d1203566-3971-446c-89c3-ff4b77a44094",
   "metadata": {},
   "outputs": [],
   "source": [
    "# The Redball guessing game"
   ]
  },
  {
   "cell_type": "code",
   "execution_count": 39,
   "id": "ffcf1cf1-b463-4235-9a50-4541227ddfd8",
   "metadata": {},
   "outputs": [],
   "source": [
    "cups = ['','O','']"
   ]
  },
  {
   "cell_type": "code",
   "execution_count": 40,
   "id": "eb0d4f8f-1c9a-4f5f-adc6-3db967536ad9",
   "metadata": {},
   "outputs": [
    {
     "data": {
      "text/plain": [
       "['O', '', '']"
      ]
     },
     "execution_count": 40,
     "metadata": {},
     "output_type": "execute_result"
    }
   ],
   "source": [
    "shuffle_list(cups)"
   ]
  },
  {
   "cell_type": "code",
   "execution_count": 51,
   "id": "df4d317e-0240-481b-9f38-15e6d524c9e5",
   "metadata": {},
   "outputs": [],
   "source": [
    "def player_guess():\n",
    "    guess = ''\n",
    "    \n",
    "    while guess not in ['0','1','2']:\n",
    "        guess = input('Pick a Number : 0,1 or 2 Input : ')\n",
    "        \n",
    "    return int(guess)"
   ]
  },
  {
   "cell_type": "code",
   "execution_count": 53,
   "id": "b6a276d8-341d-483d-b977-355cdd3ba59b",
   "metadata": {},
   "outputs": [
    {
     "name": "stdin",
     "output_type": "stream",
     "text": [
      "Pick a Number : 0,1 or 2 Input :  8\n",
      "Pick a Number : 0,1 or 2 Input :  2\n"
     ]
    },
    {
     "data": {
      "text/plain": [
       "2"
      ]
     },
     "execution_count": 53,
     "metadata": {},
     "output_type": "execute_result"
    }
   ],
   "source": [
    "player_guess()"
   ]
  },
  {
   "cell_type": "code",
   "execution_count": 55,
   "id": "cba265a7-e89a-4b0a-8c3b-555ddec935d3",
   "metadata": {},
   "outputs": [
    {
     "name": "stdin",
     "output_type": "stream",
     "text": [
      "Pick a Number : 0,1 or 2 Input :  2\n"
     ]
    }
   ],
   "source": [
    "myindex = player_guess()"
   ]
  },
  {
   "cell_type": "code",
   "execution_count": 56,
   "id": "3d201c7c-4630-481a-913f-54e71a40a800",
   "metadata": {},
   "outputs": [
    {
     "data": {
      "text/plain": [
       "2"
      ]
     },
     "execution_count": 56,
     "metadata": {},
     "output_type": "execute_result"
    }
   ],
   "source": [
    "myindex"
   ]
  },
  {
   "cell_type": "code",
   "execution_count": 57,
   "id": "3f335bae-f548-4097-b972-50eb25bdd284",
   "metadata": {},
   "outputs": [],
   "source": [
    "def check_guess(list,guess):\n",
    "    if list[guess] == 'O':\n",
    "        print('Correct!')\n",
    "    else:\n",
    "        print('Wrong Guess :(')\n",
    "        print(list)"
   ]
  },
  {
   "cell_type": "code",
   "execution_count": 59,
   "id": "b7c3142d-b51a-49a7-a86c-57da5b658aa6",
   "metadata": {},
   "outputs": [
    {
     "name": "stdin",
     "output_type": "stream",
     "text": [
      "Pick a Number : 0,1 or 2 Input :  2\n"
     ]
    },
    {
     "name": "stdout",
     "output_type": "stream",
     "text": [
      "Wrong Guess :(\n",
      "['', 'O', '']\n"
     ]
    }
   ],
   "source": [
    "shuffle_list(cups)\n",
    "check_guess(cups,player_guess())"
   ]
  },
  {
   "cell_type": "code",
   "execution_count": 61,
   "id": "2a5d1e4d-2e22-4753-92f9-a9d3be302f7d",
   "metadata": {},
   "outputs": [
    {
     "name": "stdin",
     "output_type": "stream",
     "text": [
      "Pick a Number : 0,1 or 2 Input :  2\n"
     ]
    },
    {
     "name": "stdout",
     "output_type": "stream",
     "text": [
      "Wrong Guess :(\n",
      "['', 'O', '']\n"
     ]
    }
   ],
   "source": [
    "#Initial list\n",
    "cups = ['','O','']\n",
    "\n",
    "#shuffle list\n",
    "mixed_list = shuffle_list(cups)\n",
    "\n",
    "#user guess\n",
    "guess = player_guess()\n",
    "\n",
    "#check guess\n",
    "check_guess(mixed_list,guess)"
   ]
  },
  {
   "cell_type": "code",
   "execution_count": 63,
   "id": "eb7356af-3622-42e0-b25f-8df5666aa09d",
   "metadata": {},
   "outputs": [],
   "source": [
    "# *args and **kwargs : arguments and keyword arguments"
   ]
  },
  {
   "cell_type": "code",
   "execution_count": 64,
   "id": "65212e2f-e15a-441f-9d56-38a079b821b0",
   "metadata": {},
   "outputs": [],
   "source": [
    "def myfunc(a,b):\n",
    "    # Returns 5% of the sum of a and b\n",
    "    return sum((a,b)) * 0.05"
   ]
  },
  {
   "cell_type": "code",
   "execution_count": 65,
   "id": "2c65c0d0-d2a0-40b5-9908-7a01a97d7669",
   "metadata": {},
   "outputs": [
    {
     "data": {
      "text/plain": [
       "5.0"
      ]
     },
     "execution_count": 65,
     "metadata": {},
     "output_type": "execute_result"
    }
   ],
   "source": [
    "myfunc(40,60)"
   ]
  },
  {
   "cell_type": "code",
   "execution_count": 66,
   "id": "df8998d8-f19a-489a-984f-03341bcfa9e2",
   "metadata": {},
   "outputs": [],
   "source": [
    "def myfunc(a,b,c=0,d=0,e=0):\n",
    "    return sum((a,b,c,d,e)) * 0.05"
   ]
  },
  {
   "cell_type": "code",
   "execution_count": 67,
   "id": "0710bbe0-ef6f-47a9-827d-95a37a894c8a",
   "metadata": {},
   "outputs": [
    {
     "data": {
      "text/plain": [
       "5.0"
      ]
     },
     "execution_count": 67,
     "metadata": {},
     "output_type": "execute_result"
    }
   ],
   "source": [
    "myfunc(40,60)"
   ]
  },
  {
   "cell_type": "code",
   "execution_count": 68,
   "id": "c87cfd6c-53c5-4fc8-9a5b-5af9fa54381b",
   "metadata": {},
   "outputs": [
    {
     "data": {
      "text/plain": [
       "10.0"
      ]
     },
     "execution_count": 68,
     "metadata": {},
     "output_type": "execute_result"
    }
   ],
   "source": [
    "myfunc(40,60,100)"
   ]
  },
  {
   "cell_type": "code",
   "execution_count": 69,
   "id": "cff88ea4-829f-4c55-8daa-cfdcabfe92ef",
   "metadata": {},
   "outputs": [
    {
     "ename": "TypeError",
     "evalue": "myfunc() takes from 2 to 5 positional arguments but 6 were given",
     "output_type": "error",
     "traceback": [
      "\u001b[1;31m---------------------------------------------------------------------------\u001b[0m",
      "\u001b[1;31mTypeError\u001b[0m                                 Traceback (most recent call last)",
      "Cell \u001b[1;32mIn[69], line 1\u001b[0m\n\u001b[1;32m----> 1\u001b[0m \u001b[43mmyfunc\u001b[49m\u001b[43m(\u001b[49m\u001b[38;5;241;43m40\u001b[39;49m\u001b[43m,\u001b[49m\u001b[38;5;241;43m60\u001b[39;49m\u001b[43m,\u001b[49m\u001b[38;5;241;43m100\u001b[39;49m\u001b[43m,\u001b[49m\u001b[38;5;241;43m100\u001b[39;49m\u001b[43m,\u001b[49m\u001b[38;5;241;43m3\u001b[39;49m\u001b[43m,\u001b[49m\u001b[38;5;241;43m4\u001b[39;49m\u001b[43m)\u001b[49m\n",
      "\u001b[1;31mTypeError\u001b[0m: myfunc() takes from 2 to 5 positional arguments but 6 were given"
     ]
    }
   ],
   "source": [
    "myfunc(40,60,100,100,3,4)"
   ]
  },
  {
   "cell_type": "code",
   "execution_count": 70,
   "id": "9f211733-1e08-4c41-bfbc-bd2747ea4d68",
   "metadata": {},
   "outputs": [],
   "source": [
    "def myfunc(*args):\n",
    "    return sum(args)*0.05"
   ]
  },
  {
   "cell_type": "code",
   "execution_count": 71,
   "id": "73f832b1-47a5-48dd-9f73-728735288023",
   "metadata": {},
   "outputs": [],
   "source": [
    "#Now we can pass as many arguments as we can"
   ]
  },
  {
   "cell_type": "code",
   "execution_count": 72,
   "id": "645a3160-6658-4b18-b110-667fe788ffa2",
   "metadata": {},
   "outputs": [
    {
     "data": {
      "text/plain": [
       "5.0"
      ]
     },
     "execution_count": 72,
     "metadata": {},
     "output_type": "execute_result"
    }
   ],
   "source": [
    "myfunc(40,60)"
   ]
  },
  {
   "cell_type": "code",
   "execution_count": 73,
   "id": "4ce3fc25-1b67-4495-8536-cae782723883",
   "metadata": {},
   "outputs": [
    {
     "data": {
      "text/plain": [
       "25.05"
      ]
     },
     "execution_count": 73,
     "metadata": {},
     "output_type": "execute_result"
    }
   ],
   "source": [
    "myfunc(40,60,100,100,1,200)"
   ]
  },
  {
   "cell_type": "code",
   "execution_count": 74,
   "id": "b0a27384-5078-4230-a95b-7fba4b4f85c9",
   "metadata": {},
   "outputs": [],
   "source": [
    "def myfunc(*args):\n",
    "    print(args)"
   ]
  },
  {
   "cell_type": "code",
   "execution_count": 75,
   "id": "5e00a35d-f016-40d6-9768-0e1e6a2df01d",
   "metadata": {},
   "outputs": [
    {
     "name": "stdout",
     "output_type": "stream",
     "text": [
      "(40, 6, 100, 100, 1, 200)\n"
     ]
    }
   ],
   "source": [
    "myfunc(40,6,100,100,1,200)"
   ]
  },
  {
   "cell_type": "code",
   "execution_count": 77,
   "id": "da2de345-e06a-481e-89a6-6e6242237e07",
   "metadata": {},
   "outputs": [],
   "source": [
    "# *args passes arguments as a tuple"
   ]
  },
  {
   "cell_type": "code",
   "execution_count": 82,
   "id": "17176ce1-de2c-47cd-8e6a-253cb8ca09d4",
   "metadata": {},
   "outputs": [],
   "source": [
    "def myfunc(**kwargs):\n",
    "    print(kwargs)\n",
    "    if 'fruit' in kwargs:\n",
    "        print('My Favourite Fruit is {}'.format(kwargs['fruit']))\n",
    "    else:\n",
    "        print('I did not find any fruit here')               "
   ]
  },
  {
   "cell_type": "code",
   "execution_count": 83,
   "id": "084114f9-689d-4e1b-9752-efcf285644de",
   "metadata": {},
   "outputs": [
    {
     "name": "stdout",
     "output_type": "stream",
     "text": [
      "{'fruit': 'mango', 'veggie': 'lettuce'}\n",
      "My Favourite Fruit is mango\n"
     ]
    }
   ],
   "source": [
    "myfunc(fruit = 'mango', veggie = 'lettuce')"
   ]
  },
  {
   "cell_type": "code",
   "execution_count": 84,
   "id": "c90d5823-5b14-4d17-b5c8-e7b8c930eb12",
   "metadata": {},
   "outputs": [],
   "source": [
    "# *args treats arguments as tuple and **kwargs treats arguments as dictionary"
   ]
  },
  {
   "cell_type": "code",
   "execution_count": 85,
   "id": "6d69cc29-8ddb-4c75-b09b-5268117520f6",
   "metadata": {},
   "outputs": [],
   "source": [
    "def myfunc(*args, **kwargs):\n",
    "    print('I would like {} {}'.format(args[0],kwargs['food']))"
   ]
  },
  {
   "cell_type": "code",
   "execution_count": 87,
   "id": "ca695875-97ff-4c2d-a422-383d6441a608",
   "metadata": {},
   "outputs": [
    {
     "name": "stdout",
     "output_type": "stream",
     "text": [
      "I would like 10 Pizzas\n"
     ]
    }
   ],
   "source": [
    "myfunc(10,20,30, fruit = 'mango', food = 'Pizzas', animal = 'Dog')"
   ]
  },
  {
   "cell_type": "code",
   "execution_count": 88,
   "id": "e42f4870-48cc-4705-8b39-ac6242858ebc",
   "metadata": {},
   "outputs": [],
   "source": [
    "# Order of arguments matters "
   ]
  },
  {
   "cell_type": "code",
   "execution_count": null,
   "id": "a448c9b2-ad19-4a21-8623-9602d7ce0e44",
   "metadata": {},
   "outputs": [],
   "source": []
  }
 ],
 "metadata": {
  "kernelspec": {
   "display_name": "Python 3 (ipykernel)",
   "language": "python",
   "name": "python3"
  },
  "language_info": {
   "codemirror_mode": {
    "name": "ipython",
    "version": 3
   },
   "file_extension": ".py",
   "mimetype": "text/x-python",
   "name": "python",
   "nbconvert_exporter": "python",
   "pygments_lexer": "ipython3",
   "version": "3.11.5"
  }
 },
 "nbformat": 4,
 "nbformat_minor": 5
}
