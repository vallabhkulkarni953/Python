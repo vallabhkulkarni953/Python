{
 "cells": [
  {
   "cell_type": "code",
   "execution_count": 1,
   "id": "3a622d15-2105-4a7b-b8d6-f62b97e386c1",
   "metadata": {},
   "outputs": [],
   "source": [
    "# Modules are just .py scripts that we call from another .py script"
   ]
  },
  {
   "cell_type": "code",
   "execution_count": 2,
   "id": "76b02b75-f48a-4de6-b13d-df91fdc5b238",
   "metadata": {},
   "outputs": [],
   "source": [
    "# Packages are a collection of Modules"
   ]
  },
  {
   "cell_type": "code",
   "execution_count": 3,
   "id": "25246f39-58f8-4f59-b9d6-eba08e7ce7be",
   "metadata": {},
   "outputs": [],
   "source": [
    "# A key is stored in the .py script so that to know python that this .py file belongs to this package"
   ]
  },
  {
   "cell_type": "code",
   "execution_count": 3,
   "id": "52648107-1e1d-4966-a76a-48af6c7b963c",
   "metadata": {},
   "outputs": [],
   "source": [
    "# Go to Sublime Text from here"
   ]
  },
  {
   "cell_type": "code",
   "execution_count": null,
   "id": "8cadacfe-072b-4d5a-baae-7ea8137b7c5c",
   "metadata": {},
   "outputs": [],
   "source": [
    "# We created a module named mymodule.py with a function my_func"
   ]
  },
  {
   "cell_type": "code",
   "execution_count": 1,
   "id": "80013fb8-fe58-470f-80ee-e4e36ea59b78",
   "metadata": {},
   "outputs": [],
   "source": [
    "from mymodule import my_func"
   ]
  },
  {
   "cell_type": "code",
   "execution_count": 2,
   "id": "88426b98-a8ef-480b-af60-f3f7c4490cbb",
   "metadata": {},
   "outputs": [
    {
     "name": "stdout",
     "output_type": "stream",
     "text": [
      "Hey ! I am in my module.py :)\n"
     ]
    }
   ],
   "source": [
    "my_func()"
   ]
  },
  {
   "cell_type": "code",
   "execution_count": 4,
   "id": "1b189133-3927-4c09-999d-a689afd85c25",
   "metadata": {},
   "outputs": [],
   "source": [
    "# Now we can create Packages also"
   ]
  },
  {
   "cell_type": "code",
   "execution_count": 5,
   "id": "b64155b5-c4bd-487c-b283-18fbacf13fae",
   "metadata": {},
   "outputs": [],
   "source": [
    "from MyMainPackage import some_main_script"
   ]
  },
  {
   "cell_type": "code",
   "execution_count": 6,
   "id": "9b62858f-f824-43ba-b63f-21df82d84ee5",
   "metadata": {},
   "outputs": [
    {
     "name": "stdout",
     "output_type": "stream",
     "text": [
      "Hey ! I am in Some Main Script in Main Package\n"
     ]
    }
   ],
   "source": [
    "some_main_script.main_report()"
   ]
  },
  {
   "cell_type": "code",
   "execution_count": 7,
   "id": "7e928131-b1a1-4411-9b23-37e32f8633b7",
   "metadata": {},
   "outputs": [],
   "source": [
    "# We can also create subpackages. Make sure to create __init__.py files to let python know that the folder is actually a python package"
   ]
  },
  {
   "cell_type": "code",
   "execution_count": 8,
   "id": "0a1a1a8a-0b2e-4d05-b1fb-3aa299d225fe",
   "metadata": {},
   "outputs": [],
   "source": [
    "from MyMainPackage.SubPackage import MySubScript"
   ]
  },
  {
   "cell_type": "code",
   "execution_count": 10,
   "id": "1be0c0d6-ff45-4491-831f-359ceb014d1f",
   "metadata": {},
   "outputs": [
    {
     "name": "stdout",
     "output_type": "stream",
     "text": [
      "Hey! I am inside MySubScript.\n"
     ]
    }
   ],
   "source": [
    "MySubScript.sub_report()"
   ]
  },
  {
   "cell_type": "code",
   "execution_count": null,
   "id": "7b8a9eeb-aef7-49d1-986b-8d86f0ed563d",
   "metadata": {},
   "outputs": [],
   "source": []
  }
 ],
 "metadata": {
  "kernelspec": {
   "display_name": "Python 3 (ipykernel)",
   "language": "python",
   "name": "python3"
  },
  "language_info": {
   "codemirror_mode": {
    "name": "ipython",
    "version": 3
   },
   "file_extension": ".py",
   "mimetype": "text/x-python",
   "name": "python",
   "nbconvert_exporter": "python",
   "pygments_lexer": "ipython3",
   "version": "3.11.5"
  }
 },
 "nbformat": 4,
 "nbformat_minor": 5
}
