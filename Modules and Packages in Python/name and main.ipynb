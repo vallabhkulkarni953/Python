{
 "cells": [
  {
   "cell_type": "code",
   "execution_count": 1,
   "id": "cf322a6a-c6ec-46e3-9228-c1b2646da11c",
   "metadata": {},
   "outputs": [],
   "source": [
    "if __name__ == \"__main__\":\n",
    "    pass"
   ]
  },
  {
   "cell_type": "code",
   "execution_count": null,
   "id": "2ff085a1-08e5-4442-ba5c-c0593fa8ac82",
   "metadata": {},
   "outputs": [],
   "source": []
  },
  {
   "cell_type": "markdown",
   "id": "e2b7353e-5b54-4a25-a2d3-ecf1faabe1af",
   "metadata": {},
   "source": [
    "Sometimes, when you are importing from a module, you would like to know whether a modules function is being used as an import, or if you are using the original.py file of that module"
   ]
  },
  {
   "cell_type": "markdown",
   "id": "8a111ca3-ebcc-4f46-a688-7deab118d30d",
   "metadata": {},
   "source": [
    "Unlike other languages, there is no main function in python\n",
    "Instead the code at indentation level 0 is executed when a .py file is called from cmd"
   ]
  },
  {
   "cell_type": "markdown",
   "id": "340b8450-0b3f-46e1-850c-23c220ac9b3e",
   "metadata": {},
   "source": [
    "In python, there is a built in variable called : "
   ]
  },
  {
   "cell_type": "code",
   "execution_count": 3,
   "id": "ca2a8e0a-750d-4873-9e02-d26be35f50fe",
   "metadata": {},
   "outputs": [
    {
     "data": {
      "text/plain": [
       "'__main__'"
      ]
     },
     "execution_count": 3,
     "metadata": {},
     "output_type": "execute_result"
    }
   ],
   "source": [
    "__name__"
   ]
  },
  {
   "cell_type": "raw",
   "id": "df517fef-0845-45a8-9343-22d6721a31c6",
   "metadata": {},
   "source": [
    "by default, the string \"__main__\" will be assigned to the variable __name__ whenever a .py file is created and called"
   ]
  },
  {
   "cell_type": "code",
   "execution_count": null,
   "id": "1fd3f513-3dd5-4f54-862d-17e2239ee730",
   "metadata": {},
   "outputs": [],
   "source": []
  }
 ],
 "metadata": {
  "kernelspec": {
   "display_name": "Python 3 (ipykernel)",
   "language": "python",
   "name": "python3"
  },
  "language_info": {
   "codemirror_mode": {
    "name": "ipython",
    "version": 3
   },
   "file_extension": ".py",
   "mimetype": "text/x-python",
   "name": "python",
   "nbconvert_exporter": "python",
   "pygments_lexer": "ipython3",
   "version": "3.11.5"
  }
 },
 "nbformat": 4,
 "nbformat_minor": 5
}
