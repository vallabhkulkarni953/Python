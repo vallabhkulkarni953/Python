{
 "cells": [
  {
   "cell_type": "markdown",
   "id": "9bf6ae64-0d93-467b-bbdd-698236bf3ccb",
   "metadata": {},
   "source": [
    "# Advance Python Modules"
   ]
  },
  {
   "cell_type": "markdown",
   "id": "fb169f02-f63b-44f2-b74c-3ed3d210aba6",
   "metadata": {},
   "source": [
    "## Regular Expressions"
   ]
  },
  {
   "cell_type": "code",
   "execution_count": 3,
   "id": "4118a43f-b752-4748-a00c-5542aa381cfd",
   "metadata": {},
   "outputs": [],
   "source": [
    "# Regular Expressions (regex) allow us to search for general patterns in text data"
   ]
  },
  {
   "cell_type": "markdown",
   "id": "0f1b6bd1-1ffb-48d9-8e7b-7c73c656cbb7",
   "metadata": {},
   "source": [
    "Example :\n",
    "user@gmail.com\n",
    "\n",
    "We look here for \"text\" + \"@\" + \"text\" + \".com\""
   ]
  },
  {
   "cell_type": "markdown",
   "id": "926f24eb-e889-4505-a490-2f0254e6fbc9",
   "metadata": {},
   "source": [
    "- The re library allows us to create specialized pattern strings and then search for matches within text."
   ]
  },
  {
   "cell_type": "markdown",
   "id": "544da1e8-bd3b-4b27-9399-379d10b77131",
   "metadata": {},
   "source": [
    "**Phone Number : (555)-555-5555 <br>\n",
    "Regex Pattern : r\"(\\d\\d\\d)-\\d\\d\\d-\\d\\d\\d\\d\" <br>\n",
    "Using Quantifiers : r\"(\\d{3})-\\d{3}-\\d{4}\"**"
   ]
  },
  {
   "cell_type": "code",
   "execution_count": 15,
   "id": "4ef6f2fc-2b26-40ff-b5bd-670e5707e214",
   "metadata": {},
   "outputs": [],
   "source": [
    "text = \"The Agen's phone number is 408-855-1234. Call Soon!\""
   ]
  },
  {
   "cell_type": "code",
   "execution_count": 17,
   "id": "fe6e8a79-760f-48e5-9522-f7eb9fe7cc8c",
   "metadata": {},
   "outputs": [
    {
     "data": {
      "text/plain": [
       "True"
      ]
     },
     "execution_count": 17,
     "metadata": {},
     "output_type": "execute_result"
    }
   ],
   "source": [
    "'phone' in text"
   ]
  },
  {
   "cell_type": "code",
   "execution_count": 19,
   "id": "d2216e83-63ec-4486-a368-a9af6e1f5d82",
   "metadata": {},
   "outputs": [],
   "source": [
    "import re"
   ]
  },
  {
   "cell_type": "code",
   "execution_count": 21,
   "id": "0e4efacb-37ef-452b-83ae-caf1b813d0e8",
   "metadata": {},
   "outputs": [],
   "source": [
    "pattern = 'phone'"
   ]
  },
  {
   "cell_type": "code",
   "execution_count": 23,
   "id": "435fd191-8a62-49a3-acfd-ae4a785ebf51",
   "metadata": {},
   "outputs": [
    {
     "data": {
      "text/plain": [
       "<re.Match object; span=(11, 16), match='phone'>"
      ]
     },
     "execution_count": 23,
     "metadata": {},
     "output_type": "execute_result"
    }
   ],
   "source": [
    "re.search(pattern,text)"
   ]
  },
  {
   "cell_type": "code",
   "execution_count": 25,
   "id": "17e63cab-09f9-4b01-b2a3-fdf8dd40b10c",
   "metadata": {},
   "outputs": [],
   "source": [
    "pattern = 'Not in text'"
   ]
  },
  {
   "cell_type": "code",
   "execution_count": 27,
   "id": "e3c26172-e2e5-49e2-8f55-cdbef26a1297",
   "metadata": {},
   "outputs": [],
   "source": [
    "re.search(pattern,text)"
   ]
  },
  {
   "cell_type": "code",
   "execution_count": 29,
   "id": "2e81dfb9-f3fc-4838-b1ba-eb79a7673502",
   "metadata": {},
   "outputs": [],
   "source": [
    "pattern = 'phone'"
   ]
  },
  {
   "cell_type": "code",
   "execution_count": 33,
   "id": "9b807209-8122-4619-92a2-56088f221d9d",
   "metadata": {},
   "outputs": [],
   "source": [
    "match = re.search(pattern,text)"
   ]
  },
  {
   "cell_type": "code",
   "execution_count": 35,
   "id": "f1af8386-f299-4667-bf68-dbd60de9014d",
   "metadata": {},
   "outputs": [
    {
     "data": {
      "text/plain": [
       "<re.Match object; span=(11, 16), match='phone'>"
      ]
     },
     "execution_count": 35,
     "metadata": {},
     "output_type": "execute_result"
    }
   ],
   "source": [
    "match"
   ]
  },
  {
   "cell_type": "code",
   "execution_count": 39,
   "id": "5032cf8c-92e3-4339-b0e6-60a0bb007be0",
   "metadata": {},
   "outputs": [
    {
     "data": {
      "text/plain": [
       "(11, 16)"
      ]
     },
     "execution_count": 39,
     "metadata": {},
     "output_type": "execute_result"
    }
   ],
   "source": [
    "match.span()"
   ]
  },
  {
   "cell_type": "code",
   "execution_count": 41,
   "id": "4c40ead9-87e9-4eaa-92f2-417210eef202",
   "metadata": {},
   "outputs": [
    {
     "data": {
      "text/plain": [
       "11"
      ]
     },
     "execution_count": 41,
     "metadata": {},
     "output_type": "execute_result"
    }
   ],
   "source": [
    "match.start()"
   ]
  },
  {
   "cell_type": "code",
   "execution_count": 43,
   "id": "d7682e71-5d6d-4141-8a30-13b10723f448",
   "metadata": {},
   "outputs": [
    {
     "data": {
      "text/plain": [
       "16"
      ]
     },
     "execution_count": 43,
     "metadata": {},
     "output_type": "execute_result"
    }
   ],
   "source": [
    "match.end()"
   ]
  },
  {
   "cell_type": "code",
   "execution_count": 45,
   "id": "36afc820-cccf-4af1-a3e9-54a6bbc481b1",
   "metadata": {},
   "outputs": [],
   "source": [
    "text = 'My phone once, my phone twice'"
   ]
  },
  {
   "cell_type": "code",
   "execution_count": 51,
   "id": "91a9b6c8-20b3-4de9-9e3c-bd0190416d8e",
   "metadata": {},
   "outputs": [],
   "source": [
    "match = re.search(pattern,text)"
   ]
  },
  {
   "cell_type": "code",
   "execution_count": 53,
   "id": "973d439c-b65a-4a84-8aa6-df4df77270f7",
   "metadata": {},
   "outputs": [
    {
     "data": {
      "text/plain": [
       "<re.Match object; span=(3, 8), match='phone'>"
      ]
     },
     "execution_count": 53,
     "metadata": {},
     "output_type": "execute_result"
    }
   ],
   "source": [
    "match"
   ]
  },
  {
   "cell_type": "code",
   "execution_count": 57,
   "id": "8636e329-cbd3-4707-b1d2-e625fc945c5e",
   "metadata": {},
   "outputs": [],
   "source": [
    "# It gives only the first occurence"
   ]
  },
  {
   "cell_type": "code",
   "execution_count": 59,
   "id": "7cce4c35-dea3-4012-83c0-d3f0e002a4d6",
   "metadata": {},
   "outputs": [],
   "source": [
    "# Instead use findall to get all matches"
   ]
  },
  {
   "cell_type": "code",
   "execution_count": 63,
   "id": "92af8c32-7f9c-4735-b250-09d9c356e082",
   "metadata": {},
   "outputs": [],
   "source": [
    "matches = re.findall(pattern,text)"
   ]
  },
  {
   "cell_type": "code",
   "execution_count": 79,
   "id": "a1b13669-efe9-4e9b-87bd-2fa3ee7da248",
   "metadata": {},
   "outputs": [
    {
     "data": {
      "text/plain": [
       "['phone', 'phone']"
      ]
     },
     "execution_count": 79,
     "metadata": {},
     "output_type": "execute_result"
    }
   ],
   "source": [
    "matches"
   ]
  },
  {
   "cell_type": "code",
   "execution_count": 81,
   "id": "56a872a0-e0f2-4940-928e-8ffb718f0e00",
   "metadata": {},
   "outputs": [
    {
     "name": "stdout",
     "output_type": "stream",
     "text": [
      "<re.Match object; span=(3, 8), match='phone'>\n",
      "<re.Match object; span=(18, 23), match='phone'>\n"
     ]
    }
   ],
   "source": [
    "for match in re.finditer(pattern,text):\n",
    "    print(match)"
   ]
  },
  {
   "cell_type": "code",
   "execution_count": 83,
   "id": "9c384553-c867-4122-8cc3-da886bda77cf",
   "metadata": {},
   "outputs": [
    {
     "name": "stdout",
     "output_type": "stream",
     "text": [
      "(3, 8)\n",
      "(18, 23)\n"
     ]
    }
   ],
   "source": [
    "for match in re.finditer(pattern,text):\n",
    "    print(match.span())"
   ]
  },
  {
   "cell_type": "code",
   "execution_count": 85,
   "id": "f64d7de1-7dc1-4a4f-af03-d16c6359bd44",
   "metadata": {},
   "outputs": [
    {
     "name": "stdout",
     "output_type": "stream",
     "text": [
      "phone\n",
      "phone\n"
     ]
    }
   ],
   "source": [
    "for match in re.finditer(pattern,text):\n",
    "    print(match.group())"
   ]
  },
  {
   "attachments": {
    "bdff0123-4d3c-4148-830e-071f43e55a00.png": {
     "image/png": "[encoded data removed]"
    }
   },
   "cell_type": "markdown",
   "id": "64d0b6bd-b69b-47cd-9b83-b4841104da91",
   "metadata": {},
   "source": [
    "### Identifiers for Characters in Patterns\n",
    "Characters such as a digit or a single string have different codes that represent them. You can use these to build up a pattern string. Notice how these make heavy use of the backwards slash \\ . Because of this when defining a pattern string for regular expression we use the format:\n",
    "\n",
    "r'mypattern'\n",
    "placing the r in front of the string allows python to understand that the \\ in the pattern string are not meant to be escape slashes.\n",
    "\n",
    "Below you can find a table of all the possible identifiers:\n",
    "\n",
    "![image.png](attachment:bdff0123-4d3c-4148-830e-071f43e55a00.png)\n"
   ]
  },
  {
   "cell_type": "code",
   "execution_count": 95,
   "id": "8f3a09dd-3cb0-4639-ab1c-2dcaaa4c6b22",
   "metadata": {},
   "outputs": [],
   "source": [
    "text = 'My phone number is 408-555-1234' "
   ]
  },
  {
   "cell_type": "code",
   "execution_count": 103,
   "id": "8cdc5c9b-55ca-4095-90d3-4510fe4125e3",
   "metadata": {},
   "outputs": [],
   "source": [
    "phone = re.search('408-555-1234',text)"
   ]
  },
  {
   "cell_type": "code",
   "execution_count": 105,
   "id": "c6569efb-6b45-441f-bfa3-2abf51f935b5",
   "metadata": {},
   "outputs": [
    {
     "data": {
      "text/plain": [
       "<re.Match object; span=(19, 31), match='408-555-1234'>"
      ]
     },
     "execution_count": 105,
     "metadata": {},
     "output_type": "execute_result"
    }
   ],
   "source": [
    "phone"
   ]
  },
  {
   "cell_type": "code",
   "execution_count": 107,
   "id": "34b6437a-644e-409b-8864-00975f195799",
   "metadata": {},
   "outputs": [],
   "source": [
    "pattern = r'\\d\\d\\d-\\d\\d\\d-\\d\\d\\d\\d'"
   ]
  },
  {
   "cell_type": "code",
   "execution_count": 109,
   "id": "cd359901-5f02-41f1-b386-73ed3ce355ba",
   "metadata": {},
   "outputs": [],
   "source": [
    "phone = re.search(pattern,text)"
   ]
  },
  {
   "cell_type": "code",
   "execution_count": 111,
   "id": "db17cca4-a823-4462-8f1d-17d45cbb8dc7",
   "metadata": {},
   "outputs": [
    {
     "data": {
      "text/plain": [
       "<re.Match object; span=(19, 31), match='408-555-1234'>"
      ]
     },
     "execution_count": 111,
     "metadata": {},
     "output_type": "execute_result"
    }
   ],
   "source": [
    "phone"
   ]
  },
  {
   "cell_type": "code",
   "execution_count": 113,
   "id": "3a1a3676-e0f6-49c4-bd89-db72e606f5ab",
   "metadata": {},
   "outputs": [
    {
     "data": {
      "text/plain": [
       "'408-555-1234'"
      ]
     },
     "execution_count": 113,
     "metadata": {},
     "output_type": "execute_result"
    }
   ],
   "source": [
    "phone.group()"
   ]
  },
  {
   "attachments": {
    "941a4dfb-dd34-4bb5-bb35-5e7888035689.png": {
     "image/png": "[encoded data removed]"
    }
   },
   "cell_type": "markdown",
   "id": "87d2471b-5d93-45c0-a792-061150c0400f",
   "metadata": {},
   "source": [
    "## Quantifiers\r\n",
    "Now that we know the special character designations, we can use them along with quantifiers to define how many we expect\n",
    "\n",
    "![image.png](attachment:941a4dfb-dd34-4bb5-bb35-5e7888035689.png)."
   ]
  },
  {
   "cell_type": "code",
   "execution_count": 125,
   "id": "e3cecfaf-cba9-4d5a-8222-cf02b87492fe",
   "metadata": {},
   "outputs": [],
   "source": [
    "# We use quantifiers to number the terms so as not to write huge strings"
   ]
  },
  {
   "cell_type": "code",
   "execution_count": 127,
   "id": "18589918-004b-447d-a5bb-04d2d184304c",
   "metadata": {},
   "outputs": [],
   "source": [
    "pattern = r\"\\d{3}-\\d{3}-\\d{4}\""
   ]
  },
  {
   "cell_type": "code",
   "execution_count": 129,
   "id": "eb6949a3-ffa4-4425-b486-9757427c0ea7",
   "metadata": {},
   "outputs": [],
   "source": [
    "phone = re.search(pattern,text)"
   ]
  },
  {
   "cell_type": "code",
   "execution_count": 131,
   "id": "bc103679-cf90-49ea-8b76-488cad84662b",
   "metadata": {},
   "outputs": [
    {
     "data": {
      "text/plain": [
       "<re.Match object; span=(19, 31), match='408-555-1234'>"
      ]
     },
     "execution_count": 131,
     "metadata": {},
     "output_type": "execute_result"
    }
   ],
   "source": [
    "phone"
   ]
  },
  {
   "cell_type": "code",
   "execution_count": 133,
   "id": "8d97ecf9-5bb8-4ea5-9967-b8d265803d47",
   "metadata": {},
   "outputs": [
    {
     "data": {
      "text/plain": [
       "'408-555-1234'"
      ]
     },
     "execution_count": 133,
     "metadata": {},
     "output_type": "execute_result"
    }
   ],
   "source": [
    "phone.group()"
   ]
  },
  {
   "cell_type": "code",
   "execution_count": 135,
   "id": "5f924cef-74f2-4744-a921-9898cf570e56",
   "metadata": {},
   "outputs": [],
   "source": [
    "phone_pattern = re.compile(r'(\\d{3})-(\\d{3})-(\\d{4})')"
   ]
  },
  {
   "cell_type": "code",
   "execution_count": 137,
   "id": "25134214-2da2-4eb5-9e62-c42e49aa3188",
   "metadata": {},
   "outputs": [],
   "source": [
    "results = re.search(phone_pattern,text)"
   ]
  },
  {
   "cell_type": "code",
   "execution_count": 139,
   "id": "b0595ab3-3521-46a3-834a-205e92f7363c",
   "metadata": {},
   "outputs": [
    {
     "data": {
      "text/plain": [
       "'408-555-1234'"
      ]
     },
     "execution_count": 139,
     "metadata": {},
     "output_type": "execute_result"
    }
   ],
   "source": [
    "results.group()"
   ]
  },
  {
   "cell_type": "code",
   "execution_count": 143,
   "id": "6bab2391-f540-43d7-a406-621065899bf2",
   "metadata": {},
   "outputs": [
    {
     "data": {
      "text/plain": [
       "'408'"
      ]
     },
     "execution_count": 143,
     "metadata": {},
     "output_type": "execute_result"
    }
   ],
   "source": [
    "results.group(1) # indexing from 1"
   ]
  },
  {
   "cell_type": "code",
   "execution_count": 146,
   "id": "693bd553-3174-4e71-8d9a-7672fc42f103",
   "metadata": {},
   "outputs": [
    {
     "data": {
      "text/plain": [
       "'555'"
      ]
     },
     "execution_count": 146,
     "metadata": {},
     "output_type": "execute_result"
    }
   ],
   "source": [
    "results.group(2)"
   ]
  },
  {
   "cell_type": "code",
   "execution_count": 148,
   "id": "9486ece5-dc2e-4a45-92dd-b662f60f5289",
   "metadata": {},
   "outputs": [
    {
     "data": {
      "text/plain": [
       "'1234'"
      ]
     },
     "execution_count": 148,
     "metadata": {},
     "output_type": "execute_result"
    }
   ],
   "source": [
    "results.group(3)"
   ]
  },
  {
   "cell_type": "code",
   "execution_count": 150,
   "id": "9c505338-1121-4df7-a740-a175a013113e",
   "metadata": {},
   "outputs": [
    {
     "ename": "IndexError",
     "evalue": "no such group",
     "output_type": "error",
     "traceback": [
      "\u001b[1;31m---------------------------------------------------------------------------\u001b[0m",
      "\u001b[1;31mIndexError\u001b[0m                                Traceback (most recent call last)",
      "Cell \u001b[1;32mIn[150], line 1\u001b[0m\n\u001b[1;32m----> 1\u001b[0m \u001b[43mresults\u001b[49m\u001b[38;5;241;43m.\u001b[39;49m\u001b[43mgroup\u001b[49m\u001b[43m(\u001b[49m\u001b[38;5;241;43m4\u001b[39;49m\u001b[43m)\u001b[49m\n",
      "\u001b[1;31mIndexError\u001b[0m: no such group"
     ]
    }
   ],
   "source": [
    "results.group(4)"
   ]
  },
  {
   "cell_type": "code",
   "execution_count": null,
   "id": "1b45861f-a6bf-4d8f-a983-0b6859eac4cb",
   "metadata": {},
   "outputs": [],
   "source": []
  },
  {
   "cell_type": "markdown",
   "id": "9a0dccc3-2282-4802-83be-4eac345513f1",
   "metadata": {},
   "source": [
    "## Additional Regex Syntax"
   ]
  },
  {
   "cell_type": "code",
   "execution_count": 154,
   "id": "e7b31bbc-dc28-43c0-a1ca-0859b02c2f71",
   "metadata": {},
   "outputs": [
    {
     "data": {
      "text/plain": [
       "<re.Match object; span=(4, 7), match='cat'>"
      ]
     },
     "execution_count": 154,
     "metadata": {},
     "output_type": "execute_result"
    }
   ],
   "source": [
    "re.search(r'cat','The cat is here')"
   ]
  },
  {
   "cell_type": "code",
   "execution_count": 156,
   "id": "0e653640-0b07-42c6-aea0-0d20330d43f9",
   "metadata": {},
   "outputs": [],
   "source": [
    "re.search(r'cat','The dog is here')"
   ]
  },
  {
   "cell_type": "code",
   "execution_count": 162,
   "id": "babf814c-ba90-4e64-a680-fea335ebef82",
   "metadata": {},
   "outputs": [],
   "source": [
    "# pipe operator : | works as an Or operator "
   ]
  },
  {
   "cell_type": "code",
   "execution_count": 176,
   "id": "c1c30072-99ba-4bd4-841f-ccebcaabd91e",
   "metadata": {},
   "outputs": [
    {
     "data": {
      "text/plain": [
       "<re.Match object; span=(4, 7), match='dog'>"
      ]
     },
     "execution_count": 176,
     "metadata": {},
     "output_type": "execute_result"
    }
   ],
   "source": [
    "re.search(r'cat|dog','The dog is here')"
   ]
  },
  {
   "cell_type": "code",
   "execution_count": 178,
   "id": "2c2c0577-d5ab-4039-894c-e74b2a224869",
   "metadata": {},
   "outputs": [],
   "source": [
    "# Wildcard characters"
   ]
  },
  {
   "cell_type": "code",
   "execution_count": 180,
   "id": "36e190e1-aff1-4fb7-b728-46c503e85b21",
   "metadata": {},
   "outputs": [
    {
     "data": {
      "text/plain": [
       "['at', 'at', 'at']"
      ]
     },
     "execution_count": 180,
     "metadata": {},
     "output_type": "execute_result"
    }
   ],
   "source": [
    "re.findall(r'at', 'The cat in the hat sat there.')"
   ]
  },
  {
   "cell_type": "code",
   "execution_count": 182,
   "id": "32281c63-e3dc-41f9-b264-daad9b272722",
   "metadata": {},
   "outputs": [
    {
     "data": {
      "text/plain": [
       "[' cat', ' hat', ' sat']"
      ]
     },
     "execution_count": 182,
     "metadata": {},
     "output_type": "execute_result"
    }
   ],
   "source": [
    "re.findall(r' .at', 'The cat in the hat sat there.')"
   ]
  },
  {
   "cell_type": "code",
   "execution_count": 184,
   "id": "0a25a1ad-5bee-45b9-8452-64a346f8329d",
   "metadata": {},
   "outputs": [
    {
     "data": {
      "text/plain": [
       "['e cat', 'e hat', 'splat']"
      ]
     },
     "execution_count": 184,
     "metadata": {},
     "output_type": "execute_result"
    }
   ],
   "source": [
    "re.findall(r'...at', 'The cat in the hat went splat.')"
   ]
  },
  {
   "cell_type": "code",
   "execution_count": 187,
   "id": "6eb7f9fc-b0fb-46b4-90bd-eff7a42aaf80",
   "metadata": {},
   "outputs": [],
   "source": [
    "# Starts With (^)"
   ]
  },
  {
   "cell_type": "code",
   "execution_count": 191,
   "id": "1409ccce-a9e4-467e-8eee-166e4b8ea406",
   "metadata": {},
   "outputs": [
    {
     "data": {
      "text/plain": [
       "['1']"
      ]
     },
     "execution_count": 191,
     "metadata": {},
     "output_type": "execute_result"
    }
   ],
   "source": [
    "re.findall(r'^\\d', '1 is a number')"
   ]
  },
  {
   "cell_type": "code",
   "execution_count": 195,
   "id": "10498503-be69-4969-a676-b8d13bb648c0",
   "metadata": {},
   "outputs": [
    {
     "data": {
      "text/plain": [
       "[]"
      ]
     },
     "execution_count": 195,
     "metadata": {},
     "output_type": "execute_result"
    }
   ],
   "source": [
    "re.findall(r'^\\d', 'The 2 is a number')"
   ]
  },
  {
   "cell_type": "code",
   "execution_count": 197,
   "id": "952efa9d-7777-41bc-85d4-ca3b9367f78a",
   "metadata": {},
   "outputs": [],
   "source": [
    "# It finds for the strings starting with digit"
   ]
  },
  {
   "cell_type": "code",
   "execution_count": 199,
   "id": "ecc34751-5bd3-4e22-968f-4733cfef1041",
   "metadata": {},
   "outputs": [],
   "source": [
    "# Ends with ($)"
   ]
  },
  {
   "cell_type": "code",
   "execution_count": 201,
   "id": "d5423523-4ae5-4de3-bc63-53ffa6eb7f85",
   "metadata": {},
   "outputs": [
    {
     "data": {
      "text/plain": [
       "[]"
      ]
     },
     "execution_count": 201,
     "metadata": {},
     "output_type": "execute_result"
    }
   ],
   "source": [
    "re.findall(r'\\d$', '1 is a number')"
   ]
  },
  {
   "cell_type": "code",
   "execution_count": 203,
   "id": "5e999f39-88b6-4da0-801d-31aece0121aa",
   "metadata": {},
   "outputs": [
    {
     "data": {
      "text/plain": [
       "['2']"
      ]
     },
     "execution_count": 203,
     "metadata": {},
     "output_type": "execute_result"
    }
   ],
   "source": [
    "re.findall(r'\\d$', 'The number is 2')"
   ]
  },
  {
   "cell_type": "code",
   "execution_count": 205,
   "id": "87e240d2-971f-4aff-8e28-6a6a1d0c0813",
   "metadata": {},
   "outputs": [],
   "source": [
    "# Exclusion [^]"
   ]
  },
  {
   "cell_type": "code",
   "execution_count": 208,
   "id": "839ac6ae-36d6-496a-97c5-072858200135",
   "metadata": {},
   "outputs": [],
   "source": [
    "phrase = 'There are 3 numbers 34 inside 5 this sentence'"
   ]
  },
  {
   "cell_type": "code",
   "execution_count": 210,
   "id": "2602952d-2c2f-4120-9053-959e6aa8c285",
   "metadata": {},
   "outputs": [],
   "source": [
    "pattern = r'[^\\d]'"
   ]
  },
  {
   "cell_type": "code",
   "execution_count": 212,
   "id": "393c2e93-5283-4e30-b91b-6bc9b291468c",
   "metadata": {},
   "outputs": [
    {
     "data": {
      "text/plain": [
       "['T',\n",
       " 'h',\n",
       " 'e',\n",
       " 'r',\n",
       " 'e',\n",
       " ' ',\n",
       " 'a',\n",
       " 'r',\n",
       " 'e',\n",
       " ' ',\n",
       " ' ',\n",
       " 'n',\n",
       " 'u',\n",
       " 'm',\n",
       " 'b',\n",
       " 'e',\n",
       " 'r',\n",
       " 's',\n",
       " ' ',\n",
       " ' ',\n",
       " 'i',\n",
       " 'n',\n",
       " 's',\n",
       " 'i',\n",
       " 'd',\n",
       " 'e',\n",
       " ' ',\n",
       " ' ',\n",
       " 't',\n",
       " 'h',\n",
       " 'i',\n",
       " 's',\n",
       " ' ',\n",
       " 's',\n",
       " 'e',\n",
       " 'n',\n",
       " 't',\n",
       " 'e',\n",
       " 'n',\n",
       " 'c',\n",
       " 'e']"
      ]
     },
     "execution_count": 212,
     "metadata": {},
     "output_type": "execute_result"
    }
   ],
   "source": [
    "re.findall(pattern,phrase)"
   ]
  },
  {
   "cell_type": "code",
   "execution_count": 216,
   "id": "fdbabb6c-43ca-430b-9b0b-1e871edc4265",
   "metadata": {},
   "outputs": [],
   "source": [
    "pattern = r'[^\\d]+' # To have one or more letters (words as in)"
   ]
  },
  {
   "cell_type": "code",
   "execution_count": 220,
   "id": "31d9fc9d-c47b-43f0-ac7c-d8e6cfe941e1",
   "metadata": {},
   "outputs": [
    {
     "data": {
      "text/plain": [
       "['There are ', ' numbers ', ' inside ', ' this sentence']"
      ]
     },
     "execution_count": 220,
     "metadata": {},
     "output_type": "execute_result"
    }
   ],
   "source": [
    "re.findall(pattern,phrase)"
   ]
  },
  {
   "cell_type": "code",
   "execution_count": 224,
   "id": "d31911ee-a784-4937-ba79-52ed91c333d4",
   "metadata": {},
   "outputs": [],
   "source": [
    "# These exclusions are useful to remove punctuations in the sentences"
   ]
  },
  {
   "cell_type": "code",
   "execution_count": 226,
   "id": "272a97e8-0610-4a7f-96a4-a75c8b741048",
   "metadata": {},
   "outputs": [],
   "source": [
    "test_phrase = 'This is a string! But it has punctuation. How can we remove it ?'"
   ]
  },
  {
   "cell_type": "code",
   "execution_count": 232,
   "id": "b7d3f871-db80-46f1-a6cd-326ef23fa20f",
   "metadata": {},
   "outputs": [
    {
     "data": {
      "text/plain": [
       "['This is a string', ' But it has punctuation', ' How can we remove it ']"
      ]
     },
     "execution_count": 232,
     "metadata": {},
     "output_type": "execute_result"
    }
   ],
   "source": [
    "re.findall(r'[^!.?]+',test_phrase)"
   ]
  },
  {
   "cell_type": "code",
   "execution_count": 236,
   "id": "def43c4c-6cd9-4573-ac29-17485b2eb1fb",
   "metadata": {},
   "outputs": [
    {
     "data": {
      "text/plain": [
       "['This',\n",
       " 'is',\n",
       " 'a',\n",
       " 'string',\n",
       " 'But',\n",
       " 'it',\n",
       " 'has',\n",
       " 'punctuation',\n",
       " 'How',\n",
       " 'can',\n",
       " 'we',\n",
       " 'remove',\n",
       " 'it']"
      ]
     },
     "execution_count": 236,
     "metadata": {},
     "output_type": "execute_result"
    }
   ],
   "source": [
    "re.findall(r'[^!.? ]+',test_phrase)"
   ]
  },
  {
   "cell_type": "code",
   "execution_count": 238,
   "id": "bc69948c-ce52-402d-b206-ca9b4fc198cd",
   "metadata": {},
   "outputs": [
    {
     "data": {
      "text/plain": [
       "'This is a string  But it has punctuation  How can we remove it '"
      ]
     },
     "execution_count": 238,
     "metadata": {},
     "output_type": "execute_result"
    }
   ],
   "source": [
    "clean = re.findall(r'[^!.?]+',test_phrase)\n",
    "' '.join(clean)"
   ]
  },
  {
   "cell_type": "code",
   "execution_count": 240,
   "id": "6220d165-8c06-4ccf-b1ab-36a85214a25b",
   "metadata": {},
   "outputs": [],
   "source": [
    "# Inclusion "
   ]
  },
  {
   "cell_type": "code",
   "execution_count": 252,
   "id": "477c8f1e-52c9-443c-8600-9b411d53ad70",
   "metadata": {},
   "outputs": [],
   "source": [
    "text = 'Only find the hypen-words in this sentence. But you do not know how long-ish they are.'"
   ]
  },
  {
   "cell_type": "code",
   "execution_count": 258,
   "id": "4555bae0-a077-4975-9296-bdd25905d23f",
   "metadata": {},
   "outputs": [],
   "source": [
    "pattern = r'[\\w]+'"
   ]
  },
  {
   "cell_type": "code",
   "execution_count": 260,
   "id": "671806d1-409d-4273-a2cd-ff8a62f75cfc",
   "metadata": {},
   "outputs": [
    {
     "data": {
      "text/plain": [
       "['Only',\n",
       " 'find',\n",
       " 'the',\n",
       " 'hypen',\n",
       " 'words',\n",
       " 'in',\n",
       " 'this',\n",
       " 'sentence',\n",
       " 'But',\n",
       " 'you',\n",
       " 'do',\n",
       " 'not',\n",
       " 'know',\n",
       " 'how',\n",
       " 'long',\n",
       " 'ish',\n",
       " 'they',\n",
       " 'are']"
      ]
     },
     "execution_count": 260,
     "metadata": {},
     "output_type": "execute_result"
    }
   ],
   "source": [
    "re.findall(pattern,text)"
   ]
  },
  {
   "cell_type": "code",
   "execution_count": 262,
   "id": "e73819be-8c29-42f6-a663-47c8f63d53fe",
   "metadata": {},
   "outputs": [],
   "source": [
    "pattern = r'[\\w]+-'"
   ]
  },
  {
   "cell_type": "code",
   "execution_count": 264,
   "id": "545d321b-c7e5-4e96-85b8-cc385e06e9fe",
   "metadata": {},
   "outputs": [
    {
     "data": {
      "text/plain": [
       "['hypen-', 'long-']"
      ]
     },
     "execution_count": 264,
     "metadata": {},
     "output_type": "execute_result"
    }
   ],
   "source": [
    "re.findall(pattern,text)"
   ]
  },
  {
   "cell_type": "code",
   "execution_count": 266,
   "id": "84125123-2fd0-4192-b4d8-64e0a4216418",
   "metadata": {},
   "outputs": [],
   "source": [
    "pattern = r'[\\w]+-[\\w]+' # OR r'\\w+-\\w+'"
   ]
  },
  {
   "cell_type": "code",
   "execution_count": 268,
   "id": "17ec2e21-fc1e-43a3-918a-098f98081553",
   "metadata": {},
   "outputs": [
    {
     "data": {
      "text/plain": [
       "['hypen-words', 'long-ish']"
      ]
     },
     "execution_count": 268,
     "metadata": {},
     "output_type": "execute_result"
    }
   ],
   "source": [
    "re.findall(pattern,text)"
   ]
  },
  {
   "cell_type": "code",
   "execution_count": 270,
   "id": "fa8d26d7-7d6f-44cf-92d8-e362cc3eeaf8",
   "metadata": {},
   "outputs": [],
   "source": [
    "# Find words that start with cat and end with one of these options: 'fish','nap', or 'claw'\n",
    "text = 'Hello, would you like some catfish?'\n",
    "texttwo = \"Hello, would you like to take a catnap?\"\n",
    "textthree = \"Hello, have you seen this caterpillar?\""
   ]
  },
  {
   "cell_type": "code",
   "execution_count": 274,
   "id": "2fc1f8a5-e7c4-4941-b10c-4c5b967c16d8",
   "metadata": {},
   "outputs": [
    {
     "data": {
      "text/plain": [
       "<re.Match object; span=(27, 34), match='catfish'>"
      ]
     },
     "execution_count": 274,
     "metadata": {},
     "output_type": "execute_result"
    }
   ],
   "source": [
    "re.search(r'cat(fish|nap|claw)',text)"
   ]
  },
  {
   "cell_type": "code",
   "execution_count": 276,
   "id": "f147b183-c48a-4997-8d85-89c20b52a5a7",
   "metadata": {},
   "outputs": [
    {
     "data": {
      "text/plain": [
       "<re.Match object; span=(32, 38), match='catnap'>"
      ]
     },
     "execution_count": 276,
     "metadata": {},
     "output_type": "execute_result"
    }
   ],
   "source": [
    "re.search(r'cat(fish|nap|claw)',texttwo)"
   ]
  },
  {
   "cell_type": "code",
   "execution_count": 278,
   "id": "47cbda7c-9b17-48dd-a9db-d1d5f03953c5",
   "metadata": {},
   "outputs": [],
   "source": [
    "re.search(r'cat(fish|nap|claw)',textthree)"
   ]
  },
  {
   "cell_type": "code",
   "execution_count": 282,
   "id": "cd6f705a-6bbf-4224-8bcd-78f4a1b80026",
   "metadata": {},
   "outputs": [
    {
     "data": {
      "text/plain": [
       "<re.Match object; span=(26, 37), match='caterpillar'>"
      ]
     },
     "execution_count": 282,
     "metadata": {},
     "output_type": "execute_result"
    }
   ],
   "source": [
    "re.search(r'cat(fish|nap|erpillar)',textthree)"
   ]
  },
  {
   "cell_type": "markdown",
   "id": "2503cc42-2be3-49b0-9bdb-5bf9f5abe3d4",
   "metadata": {},
   "source": [
    "https://docs.python.org/3/howto/regex.html"
   ]
  },
  {
   "cell_type": "code",
   "execution_count": null,
   "id": "e01ea1cc-9d1f-4a14-a7aa-e63972b693dd",
   "metadata": {},
   "outputs": [],
   "source": []
  }
 ],
 "metadata": {
  "kernelspec": {
   "display_name": "Python 3 (ipykernel)",
   "language": "python",
   "name": "python3"
  },
  "language_info": {
   "codemirror_mode": {
    "name": "ipython",
    "version": 3
   },
   "file_extension": ".py",
   "mimetype": "text/x-python",
   "name": "python",
   "nbconvert_exporter": "python",
   "pygments_lexer": "ipython3",
   "version": "3.11.5"
  }
 },
 "nbformat": 4,
 "nbformat_minor": 5
}
