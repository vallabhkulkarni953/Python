{
 "cells": [
  {
   "cell_type": "markdown",
   "id": "f0caf987-0819-42be-8149-cf6c73a15218",
   "metadata": {},
   "source": [
    "# Advance Python Modules"
   ]
  },
  {
   "cell_type": "markdown",
   "id": "2bf11870-da96-4f20-b138-6259c920e1ed",
   "metadata": {},
   "source": [
    "## Timeit module \n",
    "Special %%timeit is a magic for Jupyter Notebooks"
   ]
  },
  {
   "cell_type": "code",
   "execution_count": 1,
   "id": "e0247da4-27e6-438b-9ef7-d041bb69e1ad",
   "metadata": {},
   "outputs": [],
   "source": [
    "def func1(n):\n",
    "    return [str(num) for num in range(n)]"
   ]
  },
  {
   "cell_type": "code",
   "execution_count": 3,
   "id": "50485575-e43c-4923-befa-fb49046deacc",
   "metadata": {},
   "outputs": [
    {
     "data": {
      "text/plain": [
       "['0', '1', '2', '3', '4', '5', '6', '7', '8', '9']"
      ]
     },
     "execution_count": 3,
     "metadata": {},
     "output_type": "execute_result"
    }
   ],
   "source": [
    "func1(10)"
   ]
  },
  {
   "cell_type": "code",
   "execution_count": 5,
   "id": "93acc727-7d83-4c07-8d59-a16fc641dc89",
   "metadata": {},
   "outputs": [],
   "source": [
    "def func2(n):\n",
    "    return list(map(str,range(n)))"
   ]
  },
  {
   "cell_type": "code",
   "execution_count": 7,
   "id": "87721961-f2e1-4210-86ff-a0b27fba03ca",
   "metadata": {},
   "outputs": [
    {
     "data": {
      "text/plain": [
       "['0', '1', '2', '3', '4', '5', '6', '7', '8', '9']"
      ]
     },
     "execution_count": 7,
     "metadata": {},
     "output_type": "execute_result"
    }
   ],
   "source": [
    "func2(10)"
   ]
  },
  {
   "cell_type": "code",
   "execution_count": 9,
   "id": "e539ab27-705b-4a24-a763-a09857de3b5d",
   "metadata": {},
   "outputs": [],
   "source": [
    "import time"
   ]
  },
  {
   "cell_type": "code",
   "execution_count": 19,
   "id": "bf7ed2bc-b0b7-4643-a2c1-fbdcb35bdfa7",
   "metadata": {},
   "outputs": [
    {
     "name": "stdout",
     "output_type": "stream",
     "text": [
      "0.12055373191833496\n"
     ]
    }
   ],
   "source": [
    "# Current time before \n",
    "start_time = time.time()\n",
    "\n",
    "# Run code\n",
    "result = func1(1000000)\n",
    "\n",
    "# Current time after running code\n",
    "end_time = time.time()\n",
    "\n",
    "# Elapsed Time\n",
    "elapsed_time = end_time - start_time\n",
    "\n",
    "print(elapsed_time)"
   ]
  },
  {
   "cell_type": "code",
   "execution_count": 23,
   "id": "2443cc7e-0d73-415b-b528-5f02f2cd9ea0",
   "metadata": {},
   "outputs": [
    {
     "name": "stdout",
     "output_type": "stream",
     "text": [
      "0.12201261520385742\n"
     ]
    }
   ],
   "source": [
    "# Current time before \n",
    "start_time = time.time()\n",
    "\n",
    "# Run code\n",
    "result = func2(1000000)\n",
    "\n",
    "# Current time after running code\n",
    "end_time = time.time()\n",
    "\n",
    "# Elapsed Time\n",
    "elapsed_time = end_time - start_time\n",
    "\n",
    "print(elapsed_time)"
   ]
  },
  {
   "cell_type": "code",
   "execution_count": 25,
   "id": "454f36b3-a390-4f00-9398-1287b94deed3",
   "metadata": {},
   "outputs": [],
   "source": [
    "import timeit"
   ]
  },
  {
   "cell_type": "code",
   "execution_count": 27,
   "id": "bf872c7d-738c-4180-8059-6fc6d3255663",
   "metadata": {},
   "outputs": [],
   "source": [
    "# timeit.timeit"
   ]
  },
  {
   "cell_type": "code",
   "execution_count": 45,
   "id": "29cf7895-cee9-4260-9338-846ef889ae3f",
   "metadata": {},
   "outputs": [],
   "source": [
    "stmt = '''\n",
    "func1(100)\n",
    "'''"
   ]
  },
  {
   "cell_type": "code",
   "execution_count": 47,
   "id": "82bfec0e-fe41-4bfb-b2be-ded1964d2e3f",
   "metadata": {},
   "outputs": [],
   "source": [
    "setup = '''\n",
    "def func1(n):\n",
    "    return [str(num) for num in range(n)]\n",
    "'''"
   ]
  },
  {
   "cell_type": "code",
   "execution_count": 49,
   "id": "9f95d746-4ac4-43c8-b1eb-d67f598e04e1",
   "metadata": {},
   "outputs": [
    {
     "data": {
      "text/plain": [
       "7.513388099992881"
      ]
     },
     "execution_count": 49,
     "metadata": {},
     "output_type": "execute_result"
    }
   ],
   "source": [
    "timeit.timeit(stmt,setup,number=1000000)"
   ]
  },
  {
   "cell_type": "code",
   "execution_count": 50,
   "id": "35dd7201-9307-4d21-ae44-ed5bd9ad6432",
   "metadata": {},
   "outputs": [],
   "source": [
    "stmt = '''\n",
    "func2(100)\n",
    "'''"
   ]
  },
  {
   "cell_type": "code",
   "execution_count": 51,
   "id": "6a3180be-e676-4cce-97d3-d9387ee08fc3",
   "metadata": {},
   "outputs": [],
   "source": [
    "setup = '''\n",
    "def func2(n):\n",
    "    return list(map(str,range(n)))\n",
    "'''"
   ]
  },
  {
   "cell_type": "code",
   "execution_count": 52,
   "id": "0f05aea3-695a-4a7c-85ae-dd5ebbaf4d01",
   "metadata": {},
   "outputs": [
    {
     "data": {
      "text/plain": [
       "10.047791699995287"
      ]
     },
     "execution_count": 52,
     "metadata": {},
     "output_type": "execute_result"
    }
   ],
   "source": [
    "timeit.timeit(stmt,setup,number=1000000)"
   ]
  },
  {
   "cell_type": "code",
   "execution_count": null,
   "id": "248c76f0-7356-47a0-9a13-95e19a93b96a",
   "metadata": {},
   "outputs": [],
   "source": []
  },
  {
   "cell_type": "code",
   "execution_count": 58,
   "id": "9e82ee8b-c721-445e-8b9e-6e91acfe6c62",
   "metadata": {},
   "outputs": [
    {
     "name": "stdout",
     "output_type": "stream",
     "text": [
      "7.47 µs ± 133 ns per loop (mean ± std. dev. of 7 runs, 100,000 loops each)\n"
     ]
    }
   ],
   "source": [
    "%%timeit\n",
    "func1(100)"
   ]
  },
  {
   "cell_type": "code",
   "execution_count": 60,
   "id": "c01ac39f-5001-4ab0-a855-3c6d67c260fe",
   "metadata": {},
   "outputs": [
    {
     "name": "stdout",
     "output_type": "stream",
     "text": [
      "10.2 µs ± 230 ns per loop (mean ± std. dev. of 7 runs, 100,000 loops each)\n"
     ]
    }
   ],
   "source": [
    "%%timeit\n",
    "func2(100)"
   ]
  },
  {
   "cell_type": "code",
   "execution_count": null,
   "id": "07d2c3d6-0c38-47c3-b23f-4e034f572749",
   "metadata": {},
   "outputs": [],
   "source": []
  }
 ],
 "metadata": {
  "kernelspec": {
   "display_name": "Python 3 (ipykernel)",
   "language": "python",
   "name": "python3"
  },
  "language_info": {
   "codemirror_mode": {
    "name": "ipython",
    "version": 3
   },
   "file_extension": ".py",
   "mimetype": "text/x-python",
   "name": "python",
   "nbconvert_exporter": "python",
   "pygments_lexer": "ipython3",
   "version": "3.11.5"
  }
 },
 "nbformat": 4,
 "nbformat_minor": 5
}
