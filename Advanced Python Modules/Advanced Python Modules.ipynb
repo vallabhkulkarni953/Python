{
 "cells": [
  {
   "cell_type": "markdown",
   "id": "32dfc909-a535-45da-a0b0-6a8002ea9c1d",
   "metadata": {},
   "source": [
    "# Advanced Python Modules :\n",
    "## Modules Covered : \n",
    "##### Collections\n",
    "##### Os Module and Datetime\n",
    "##### Math and Random\n",
    "##### Python Debugger\n",
    "##### Timeit\n",
    "##### Regular Expressions\n",
    "##### Unzipping and Zipping Modules "
   ]
  },
  {
   "cell_type": "markdown",
   "id": "7f2abb05-58e9-4f2a-9ba6-923f785e3499",
   "metadata": {},
   "source": [
    "# Collections Module (Built In containers in Python)"
   ]
  },
  {
   "cell_type": "code",
   "execution_count": 40,
   "id": "ae20ae0d-4bc7-4294-8ba2-5ca993fc41dd",
   "metadata": {},
   "outputs": [],
   "source": [
    "from collections import Counter"
   ]
  },
  {
   "cell_type": "code",
   "execution_count": 41,
   "id": "b73813a0-c94e-48c7-9c3e-673a6d10e569",
   "metadata": {},
   "outputs": [],
   "source": [
    "mylist = [1,1,1,1,1,1,2,2,2,2,2,2,2,2,2,2,3,3,3,3,3,3,3]"
   ]
  },
  {
   "cell_type": "code",
   "execution_count": 42,
   "id": "d941d1e2-a621-4897-8169-640e55e61ba3",
   "metadata": {},
   "outputs": [
    {
     "data": {
      "text/plain": [
       "Counter({2: 10, 3: 7, 1: 6})"
      ]
     },
     "execution_count": 42,
     "metadata": {},
     "output_type": "execute_result"
    }
   ],
   "source": [
    "Counter(mylist)"
   ]
  },
  {
   "cell_type": "code",
   "execution_count": 43,
   "id": "01248848-ce7c-4340-96ee-7089b038a5c8",
   "metadata": {},
   "outputs": [],
   "source": [
    "chars = ['a','v','l','b','l','a','h']"
   ]
  },
  {
   "cell_type": "code",
   "execution_count": 44,
   "id": "62e631bf-873f-49c4-a514-cfec89c570fe",
   "metadata": {},
   "outputs": [
    {
     "data": {
      "text/plain": [
       "Counter({'a': 2, 'l': 2, 'v': 1, 'b': 1, 'h': 1})"
      ]
     },
     "execution_count": 44,
     "metadata": {},
     "output_type": "execute_result"
    }
   ],
   "source": [
    "Counter(chars)"
   ]
  },
  {
   "cell_type": "code",
   "execution_count": 45,
   "id": "1715e979-9611-488f-aafd-93ab3aaa7317",
   "metadata": {},
   "outputs": [
    {
     "data": {
      "text/plain": [
       "Counter({'a': 2, 'l': 2, 'V': 1, 'b': 1, 'h': 1})"
      ]
     },
     "execution_count": 45,
     "metadata": {},
     "output_type": "execute_result"
    }
   ],
   "source": [
    "Counter(\"Vallabh\")"
   ]
  },
  {
   "cell_type": "code",
   "execution_count": 46,
   "id": "eeb21259-49c9-42bf-bda9-5b794f6f6505",
   "metadata": {},
   "outputs": [],
   "source": [
    "sentence = \"How many times does each word show up in this sentence with a word\""
   ]
  },
  {
   "cell_type": "code",
   "execution_count": 47,
   "id": "3604f00b-198c-48f8-9543-38474796e919",
   "metadata": {},
   "outputs": [
    {
     "data": {
      "text/plain": [
       "Counter({' ': 13,\n",
       "         'e': 6,\n",
       "         'o': 5,\n",
       "         'w': 5,\n",
       "         's': 5,\n",
       "         'n': 4,\n",
       "         't': 4,\n",
       "         'i': 4,\n",
       "         'h': 4,\n",
       "         'a': 3,\n",
       "         'd': 3,\n",
       "         'm': 2,\n",
       "         'c': 2,\n",
       "         'r': 2,\n",
       "         'H': 1,\n",
       "         'y': 1,\n",
       "         'u': 1,\n",
       "         'p': 1})"
      ]
     },
     "execution_count": 47,
     "metadata": {},
     "output_type": "execute_result"
    }
   ],
   "source": [
    "Counter(sentence)"
   ]
  },
  {
   "cell_type": "code",
   "execution_count": 48,
   "id": "19f4ad10-3671-4540-a8d1-54e985fb3291",
   "metadata": {},
   "outputs": [
    {
     "data": {
      "text/plain": [
       "Counter({'word': 2,\n",
       "         'how': 1,\n",
       "         'many': 1,\n",
       "         'times': 1,\n",
       "         'does': 1,\n",
       "         'each': 1,\n",
       "         'show': 1,\n",
       "         'up': 1,\n",
       "         'in': 1,\n",
       "         'this': 1,\n",
       "         'sentence': 1,\n",
       "         'with': 1,\n",
       "         'a': 1})"
      ]
     },
     "execution_count": 48,
     "metadata": {},
     "output_type": "execute_result"
    }
   ],
   "source": [
    "Counter(sentence.lower().split())"
   ]
  },
  {
   "cell_type": "code",
   "execution_count": 49,
   "id": "f26a3e6c-0e5e-4cc9-9425-f5dc7983d2bb",
   "metadata": {},
   "outputs": [],
   "source": [
    "letters = 'aaaabbbbbccccccccdddddddddddddddddd'"
   ]
  },
  {
   "cell_type": "code",
   "execution_count": 50,
   "id": "b710bdb7-d4d3-4257-a8db-256898c018ba",
   "metadata": {},
   "outputs": [],
   "source": [
    "c = Counter(letters)"
   ]
  },
  {
   "cell_type": "code",
   "execution_count": 51,
   "id": "7cd9ee9d-f587-4a5c-a60d-9a64f94d5b5b",
   "metadata": {},
   "outputs": [
    {
     "data": {
      "text/plain": [
       "Counter({'d': 18, 'c': 8, 'b': 5, 'a': 4})"
      ]
     },
     "execution_count": 51,
     "metadata": {},
     "output_type": "execute_result"
    }
   ],
   "source": [
    "c"
   ]
  },
  {
   "cell_type": "code",
   "execution_count": 52,
   "id": "428fb69e-08ed-4227-8f58-351087f416cd",
   "metadata": {},
   "outputs": [
    {
     "data": {
      "text/plain": [
       "[('d', 18), ('c', 8), ('b', 5), ('a', 4)]"
      ]
     },
     "execution_count": 52,
     "metadata": {},
     "output_type": "execute_result"
    }
   ],
   "source": [
    "c.most_common()"
   ]
  },
  {
   "cell_type": "code",
   "execution_count": 53,
   "id": "6dc28901-576d-4dfd-8cf8-c27ccf90cd46",
   "metadata": {},
   "outputs": [
    {
     "data": {
      "text/plain": [
       "[('d', 18)]"
      ]
     },
     "execution_count": 53,
     "metadata": {},
     "output_type": "execute_result"
    }
   ],
   "source": [
    "c.most_common(1)"
   ]
  },
  {
   "cell_type": "code",
   "execution_count": 54,
   "id": "d9d224f2-34cc-417d-9b8e-f7a65e50c14f",
   "metadata": {},
   "outputs": [
    {
     "data": {
      "text/plain": [
       "Counter({'d': 18, 'c': 8, 'b': 5, 'a': 4})"
      ]
     },
     "execution_count": 54,
     "metadata": {},
     "output_type": "execute_result"
    }
   ],
   "source": [
    "c"
   ]
  },
  {
   "cell_type": "code",
   "execution_count": 55,
   "id": "4a313ced-10ee-4ac3-a4b6-4bab66ada7ff",
   "metadata": {},
   "outputs": [
    {
     "data": {
      "text/plain": [
       "['a', 'b', 'c', 'd']"
      ]
     },
     "execution_count": 55,
     "metadata": {},
     "output_type": "execute_result"
    }
   ],
   "source": [
    "list(c)"
   ]
  },
  {
   "cell_type": "code",
   "execution_count": 56,
   "id": "001ce3aa-264b-4737-a5e0-06c86146b430",
   "metadata": {},
   "outputs": [],
   "source": [
    "# Default Dictionary has a default values for the keys that are not in dictionary"
   ]
  },
  {
   "cell_type": "code",
   "execution_count": 57,
   "id": "a9a5bc80-0a59-4eb3-8c54-be634a261a8e",
   "metadata": {},
   "outputs": [],
   "source": [
    "from collections import defaultdict"
   ]
  },
  {
   "cell_type": "code",
   "execution_count": 58,
   "id": "14ae56aa-7e2d-4201-82fa-7dfe474e8acb",
   "metadata": {},
   "outputs": [],
   "source": [
    "d = {'a':10}"
   ]
  },
  {
   "cell_type": "code",
   "execution_count": 59,
   "id": "6da6750f-bede-4280-b413-c41132df5057",
   "metadata": {},
   "outputs": [
    {
     "data": {
      "text/plain": [
       "{'a': 10}"
      ]
     },
     "execution_count": 59,
     "metadata": {},
     "output_type": "execute_result"
    }
   ],
   "source": [
    "d"
   ]
  },
  {
   "cell_type": "code",
   "execution_count": 60,
   "id": "72da97d4-3ee1-44fd-8c11-24e737cb62b9",
   "metadata": {},
   "outputs": [
    {
     "data": {
      "text/plain": [
       "10"
      ]
     },
     "execution_count": 60,
     "metadata": {},
     "output_type": "execute_result"
    }
   ],
   "source": [
    "d['a']"
   ]
  },
  {
   "cell_type": "code",
   "execution_count": 61,
   "id": "1b3572e5-84a0-4f20-8be9-3f346d9c55b0",
   "metadata": {},
   "outputs": [
    {
     "ename": "KeyError",
     "evalue": "'wrong'",
     "output_type": "error",
     "traceback": [
      "\u001b[1;31m---------------------------------------------------------------------------\u001b[0m",
      "\u001b[1;31mKeyError\u001b[0m                                  Traceback (most recent call last)",
      "Cell \u001b[1;32mIn[61], line 1\u001b[0m\n\u001b[1;32m----> 1\u001b[0m \u001b[43md\u001b[49m\u001b[43m[\u001b[49m\u001b[38;5;124;43m'\u001b[39;49m\u001b[38;5;124;43mwrong\u001b[39;49m\u001b[38;5;124;43m'\u001b[39;49m\u001b[43m]\u001b[49m\n",
      "\u001b[1;31mKeyError\u001b[0m: 'wrong'"
     ]
    }
   ],
   "source": [
    "d['wrong']"
   ]
  },
  {
   "cell_type": "code",
   "execution_count": 92,
   "id": "7626b747-371b-485e-b685-1b9e26accc19",
   "metadata": {},
   "outputs": [],
   "source": [
    "d = defaultdict(lambda:0)"
   ]
  },
  {
   "cell_type": "code",
   "execution_count": 94,
   "id": "ce87a9d9-98f2-4e4e-9395-804cb5e47849",
   "metadata": {},
   "outputs": [
    {
     "data": {
      "text/plain": [
       "0"
      ]
     },
     "execution_count": 94,
     "metadata": {},
     "output_type": "execute_result"
    }
   ],
   "source": [
    "d['correct']"
   ]
  },
  {
   "cell_type": "code",
   "execution_count": 96,
   "id": "76496b01-a33a-4cd9-8585-98f32f6791bd",
   "metadata": {},
   "outputs": [],
   "source": [
    "d['correct'] = 100"
   ]
  },
  {
   "cell_type": "code",
   "execution_count": 98,
   "id": "1fc5d04e-f654-41d3-b441-929e2fbef9f6",
   "metadata": {},
   "outputs": [
    {
     "data": {
      "text/plain": [
       "100"
      ]
     },
     "execution_count": 98,
     "metadata": {},
     "output_type": "execute_result"
    }
   ],
   "source": [
    "d['correct']"
   ]
  },
  {
   "cell_type": "code",
   "execution_count": 100,
   "id": "b06f7c72-c2c8-43bc-9aa5-21bc04136bad",
   "metadata": {},
   "outputs": [
    {
     "data": {
      "text/plain": [
       "0"
      ]
     },
     "execution_count": 100,
     "metadata": {},
     "output_type": "execute_result"
    }
   ],
   "source": [
    "d['wrong key']"
   ]
  },
  {
   "cell_type": "code",
   "execution_count": 102,
   "id": "05506160-988c-464f-8531-616bd9dd5459",
   "metadata": {},
   "outputs": [
    {
     "data": {
      "text/plain": [
       "defaultdict(<function __main__.<lambda>()>, {'correct': 100, 'wrong key': 0})"
      ]
     },
     "execution_count": 102,
     "metadata": {},
     "output_type": "execute_result"
    }
   ],
   "source": [
    "d"
   ]
  },
  {
   "cell_type": "code",
   "execution_count": 104,
   "id": "e684685a-4b1f-43f0-8c17-700cecdf96e7",
   "metadata": {},
   "outputs": [],
   "source": [
    "# Named Tuple expands with the name to it\n",
    "# It is useful when you don't know on what index have you kept the element"
   ]
  },
  {
   "cell_type": "code",
   "execution_count": 106,
   "id": "27f5df42-6826-47b0-a921-891d8e08e472",
   "metadata": {},
   "outputs": [],
   "source": [
    "mytuple = (10,20,30)"
   ]
  },
  {
   "cell_type": "code",
   "execution_count": 108,
   "id": "7e6c085c-7f8e-485a-8546-2f2a3e6eea19",
   "metadata": {},
   "outputs": [
    {
     "data": {
      "text/plain": [
       "10"
      ]
     },
     "execution_count": 108,
     "metadata": {},
     "output_type": "execute_result"
    }
   ],
   "source": [
    "mytuple[0]"
   ]
  },
  {
   "cell_type": "code",
   "execution_count": 110,
   "id": "7c180959-dc46-4ed7-b313-d94607904a8d",
   "metadata": {},
   "outputs": [],
   "source": [
    "from collections import namedtuple"
   ]
  },
  {
   "cell_type": "code",
   "execution_count": 112,
   "id": "2ed7983f-cf0b-4b6e-aa03-959718834c8f",
   "metadata": {},
   "outputs": [],
   "source": [
    "Dog = namedtuple('Dog', ['age','breed','name'])"
   ]
  },
  {
   "cell_type": "code",
   "execution_count": 114,
   "id": "151f41f5-e68d-47b6-90a2-3202d810551a",
   "metadata": {},
   "outputs": [
    {
     "data": {
      "text/plain": [
       "__main__.Dog"
      ]
     },
     "execution_count": 114,
     "metadata": {},
     "output_type": "execute_result"
    }
   ],
   "source": [
    "Dog"
   ]
  },
  {
   "cell_type": "code",
   "execution_count": 116,
   "id": "d394270c-9877-4720-9501-2d064a0b4d8f",
   "metadata": {},
   "outputs": [],
   "source": [
    "sammy = Dog(age = 5, breed = 'Husky', name = 'Sam')"
   ]
  },
  {
   "cell_type": "code",
   "execution_count": 118,
   "id": "c9736f21-4b43-4ce1-8f83-495a0b6c71e7",
   "metadata": {},
   "outputs": [
    {
     "data": {
      "text/plain": [
       "__main__.Dog"
      ]
     },
     "execution_count": 118,
     "metadata": {},
     "output_type": "execute_result"
    }
   ],
   "source": [
    "type(sammy)"
   ]
  },
  {
   "cell_type": "code",
   "execution_count": 120,
   "id": "5676f155-e0c5-40b5-8099-3335d7db7cc5",
   "metadata": {},
   "outputs": [
    {
     "data": {
      "text/plain": [
       "5"
      ]
     },
     "execution_count": 120,
     "metadata": {},
     "output_type": "execute_result"
    }
   ],
   "source": [
    "sammy.age"
   ]
  },
  {
   "cell_type": "code",
   "execution_count": 122,
   "id": "50ae0855-f5be-47a0-82b4-fe14a9420159",
   "metadata": {},
   "outputs": [
    {
     "data": {
      "text/plain": [
       "'Husky'"
      ]
     },
     "execution_count": 122,
     "metadata": {},
     "output_type": "execute_result"
    }
   ],
   "source": [
    "sammy.breed"
   ]
  },
  {
   "cell_type": "code",
   "execution_count": 124,
   "id": "c9f4ee03-95d1-4308-9f52-39cf1b79e050",
   "metadata": {},
   "outputs": [
    {
     "data": {
      "text/plain": [
       "'Sam'"
      ]
     },
     "execution_count": 124,
     "metadata": {},
     "output_type": "execute_result"
    }
   ],
   "source": [
    "sammy.name"
   ]
  },
  {
   "cell_type": "code",
   "execution_count": null,
   "id": "1921b006-ed97-4a34-b922-02d709014b45",
   "metadata": {},
   "outputs": [],
   "source": []
  },
  {
   "cell_type": "markdown",
   "id": "4fabaca4-fd03-417d-9d0b-00f9356a7794",
   "metadata": {},
   "source": [
    "# Shutil or OS Modules (Opening and Reading Files and Folders)"
   ]
  },
  {
   "cell_type": "code",
   "execution_count": 128,
   "id": "6f7ce3f2-360d-4057-898b-5306256f622b",
   "metadata": {},
   "outputs": [
    {
     "data": {
      "text/plain": [
       "'C:\\\\Users\\\\VALLABH KULKARNI\\\\Python Codes\\\\Advanced Python Modules'"
      ]
     },
     "execution_count": 128,
     "metadata": {},
     "output_type": "execute_result"
    }
   ],
   "source": [
    "pwd"
   ]
  },
  {
   "cell_type": "code",
   "execution_count": 130,
   "id": "97a30ff0-7864-4023-9206-b957ed70f113",
   "metadata": {},
   "outputs": [],
   "source": [
    "f = open('practice.txt','w+')\n",
    "f.write(\"This is a test string\")\n",
    "f.close()"
   ]
  },
  {
   "cell_type": "code",
   "execution_count": 132,
   "id": "d0705c8a-9ddc-436a-8cb6-7089bba18d9f",
   "metadata": {},
   "outputs": [],
   "source": [
    "import os"
   ]
  },
  {
   "cell_type": "code",
   "execution_count": 134,
   "id": "f553e08a-cde1-49ec-a014-4afabf6a4cb9",
   "metadata": {},
   "outputs": [
    {
     "data": {
      "text/plain": [
       "'C:\\\\Users\\\\VALLABH KULKARNI\\\\Python Codes\\\\Advanced Python Modules'"
      ]
     },
     "execution_count": 134,
     "metadata": {},
     "output_type": "execute_result"
    }
   ],
   "source": [
    "os.getcwd()"
   ]
  },
  {
   "cell_type": "code",
   "execution_count": 136,
   "id": "6b4f4a03-285e-4c1f-b28c-8019e57e43df",
   "metadata": {},
   "outputs": [
    {
     "data": {
      "text/plain": [
       "['.ipynb_checkpoints', 'Advanced Python Modules.ipynb', 'practice.txt']"
      ]
     },
     "execution_count": 136,
     "metadata": {},
     "output_type": "execute_result"
    }
   ],
   "source": [
    "os.listdir()"
   ]
  },
  {
   "cell_type": "code",
   "execution_count": 138,
   "id": "fc3816e5-68a4-4d50-990d-ec82ef6ba7e0",
   "metadata": {},
   "outputs": [
    {
     "data": {
      "text/plain": [
       "['All Users',\n",
       " 'Default',\n",
       " 'Default User',\n",
       " 'desktop.ini',\n",
       " 'Public',\n",
       " 'VALLABH',\n",
       " 'VALLABH KULKARNI',\n",
       " 'VALLABH_000_vcRuntimeMinimum_x64.log',\n",
       " 'VALLABH_000_vcRuntimeMinimum_x86.log',\n",
       " 'VALLABH_001_vcRuntimeAdditional_x64.log',\n",
       " 'VALLABH_001_vcRuntimeAdditional_x86.log']"
      ]
     },
     "execution_count": 138,
     "metadata": {},
     "output_type": "execute_result"
    }
   ],
   "source": [
    "os.listdir(\"C:\\\\Users\\\\\")"
   ]
  },
  {
   "cell_type": "code",
   "execution_count": 140,
   "id": "6f3e6639-6096-4446-a130-c0b6fbd43bf6",
   "metadata": {},
   "outputs": [],
   "source": [
    "import shutil"
   ]
  },
  {
   "cell_type": "code",
   "execution_count": 142,
   "id": "f4dbf4db-64ff-431d-baa5-5f1c95f9dea7",
   "metadata": {},
   "outputs": [],
   "source": [
    "# shutil.move(src,dest)"
   ]
  },
  {
   "cell_type": "code",
   "execution_count": 144,
   "id": "9d079957-b632-4415-8eee-821b690d5d3e",
   "metadata": {},
   "outputs": [
    {
     "data": {
      "text/plain": [
       "'C:\\\\Users\\\\VALLABH KULKARNI\\\\Python Codes\\\\practice.txt'"
      ]
     },
     "execution_count": 144,
     "metadata": {},
     "output_type": "execute_result"
    }
   ],
   "source": [
    "shutil.move('practice.txt','C:\\\\Users\\\\VALLABH KULKARNI\\\\Python Codes')"
   ]
  },
  {
   "cell_type": "code",
   "execution_count": 146,
   "id": "05bd6855-61b2-4b15-95c8-a5141298dadc",
   "metadata": {},
   "outputs": [
    {
     "data": {
      "text/plain": [
       "['.ipynb_checkpoints',\n",
       " 'Advanced Python Modules',\n",
       " 'connecting_to_mongoDB.ipynb',\n",
       " 'Decorators in Python',\n",
       " 'Errors and Exception Handling',\n",
       " 'File Operations in Python',\n",
       " 'Functions in Python',\n",
       " 'Generators in Python',\n",
       " 'Milestone Project 1',\n",
       " 'Milestone Project 2',\n",
       " 'Modules and Packages in Python',\n",
       " 'OOP in Python',\n",
       " 'practice.txt',\n",
       " 'Python Basics']"
      ]
     },
     "execution_count": 146,
     "metadata": {},
     "output_type": "execute_result"
    }
   ],
   "source": [
    "os.listdir('C:\\\\Users\\\\VALLABH KULKARNI\\\\Python Codes\\\\')"
   ]
  },
  {
   "cell_type": "code",
   "execution_count": 148,
   "id": "763f6b73-b756-4081-ac91-30977d1ce788",
   "metadata": {},
   "outputs": [],
   "source": [
    "#Deleting Files "
   ]
  },
  {
   "cell_type": "markdown",
   "id": "b100a70d-b98e-43cd-91d3-eb2b000bdbd7",
   "metadata": {},
   "source": [
    "### Deleting Files \n",
    "\n",
    "#### NOTE : The os module provides 3 methods for deleting files:\n",
    "- os.unlink(path) : Deletes a file at the path you provide\n",
    "- os.rmdir(path) : Deletes a folder (the folder must be empty) at the path you have provided\n",
    "- os.rmtree(path) : This is the most dangerous command, it will remove all files and folders contained in the path.\n",
    "\n",
    "**All of these methods cannot be reversed ! Which means if you make a mistake, you won't be able to recover the file. Instead we will use the send2trash module. A safer alternative that sends deleted files to the trash bin instead of permanent removal.**"
   ]
  },
  {
   "cell_type": "code",
   "execution_count": 151,
   "id": "8b44b045-6fe7-4f95-bd79-9caf839cfb5f",
   "metadata": {},
   "outputs": [
    {
     "name": "stdout",
     "output_type": "stream",
     "text": [
      "Defaulting to user installation because normal site-packages is not writeable\n",
      "Requirement already satisfied: send2trash in c:\\programdata\\anaconda3\\lib\\site-packages (1.8.2)\n"
     ]
    }
   ],
   "source": [
    "!pip install send2trash"
   ]
  },
  {
   "cell_type": "code",
   "execution_count": 152,
   "id": "9507e13a-02cf-44cd-befc-6d34f183e6fa",
   "metadata": {},
   "outputs": [],
   "source": [
    "import send2trash"
   ]
  },
  {
   "cell_type": "code",
   "execution_count": 153,
   "id": "e5e9d7d1-9ef0-430d-aa11-d58446f9c41d",
   "metadata": {},
   "outputs": [
    {
     "data": {
      "text/plain": [
       "['.ipynb_checkpoints', 'Advanced Python Modules.ipynb']"
      ]
     },
     "execution_count": 153,
     "metadata": {},
     "output_type": "execute_result"
    }
   ],
   "source": [
    "os.listdir()"
   ]
  },
  {
   "cell_type": "code",
   "execution_count": 154,
   "id": "d872f4b2-321f-45dd-a179-313270fd3da1",
   "metadata": {},
   "outputs": [
    {
     "data": {
      "text/plain": [
       "'C:\\\\Users\\\\VALLABH KULKARNI\\\\Python Codes\\\\Advanced Python Modules'"
      ]
     },
     "execution_count": 154,
     "metadata": {},
     "output_type": "execute_result"
    }
   ],
   "source": [
    "os.getcwd()"
   ]
  },
  {
   "cell_type": "code",
   "execution_count": 155,
   "id": "34496213-6668-4210-ae8c-5a7023663416",
   "metadata": {},
   "outputs": [
    {
     "data": {
      "text/plain": [
       "'C:\\\\Users\\\\VALLABH KULKARNI\\\\Python Codes\\\\Advanced Python Modules\\\\practice.txt'"
      ]
     },
     "execution_count": 155,
     "metadata": {},
     "output_type": "execute_result"
    }
   ],
   "source": [
    "shutil.move(\"C:\\\\Users\\\\VALLABH KULKARNI\\\\Python Codes\\\\practice.txt\",os.getcwd())"
   ]
  },
  {
   "cell_type": "code",
   "execution_count": 156,
   "id": "416e7881-1750-4435-9312-6b5d9eb22e4d",
   "metadata": {},
   "outputs": [],
   "source": [
    "send2trash.send2trash('practice.txt')"
   ]
  },
  {
   "cell_type": "code",
   "execution_count": 157,
   "id": "6b81dd5a-284d-41d0-a632-076274207d66",
   "metadata": {},
   "outputs": [
    {
     "data": {
      "text/plain": [
       "['.ipynb_checkpoints', 'Advanced Python Modules.ipynb']"
      ]
     },
     "execution_count": 157,
     "metadata": {},
     "output_type": "execute_result"
    }
   ],
   "source": [
    "os.listdir()"
   ]
  },
  {
   "cell_type": "code",
   "execution_count": 158,
   "id": "87825829-63e5-4bed-afaa-927517bf79a6",
   "metadata": {
    "scrolled": true
   },
   "outputs": [
    {
     "name": "stdout",
     "output_type": "stream",
     "text": [
      "Currently looking at C:\\Users\\VALLABH KULKARNI\\Python Codes\n",
      "\n",
      "\n",
      "The Subfolders are : \n",
      "\tSubfolder : .ipynb_checkpoints\n",
      "\tSubfolder : Advanced Python Modules\n",
      "\tSubfolder : Decorators in Python\n",
      "\tSubfolder : Errors and Exception Handling\n",
      "\tSubfolder : File Operations in Python\n",
      "\tSubfolder : Functions in Python\n",
      "\tSubfolder : Generators in Python\n",
      "\tSubfolder : Milestone Project 1\n",
      "\tSubfolder : Milestone Project 2\n",
      "\tSubfolder : Modules and Packages in Python\n",
      "\tSubfolder : OOP in Python\n",
      "\tSubfolder : Python Basics\n",
      "\n",
      "\n",
      "The Files are : \n",
      "\tFile : connecting_to_mongoDB.ipynb\n",
      "\n",
      "\n",
      "Currently looking at C:\\Users\\VALLABH KULKARNI\\Python Codes\\.ipynb_checkpoints\n",
      "\n",
      "\n",
      "The Subfolders are : \n",
      "\n",
      "\n",
      "The Files are : \n",
      "\tFile : 02-Object Oriented Programming Homework-checkpoint.ipynb\n",
      "\tFile : 03-Function Practice Exercises-checkpoint.ipynb\n",
      "\tFile : 03-Milestone Project 1 - Complete Walkthrough Solution-checkpoint.ipynb\n",
      "\tFile : 04-OOP Challenge-checkpoint.ipynb\n",
      "\tFile : 07-Statements Assessment Test-checkpoint.ipynb\n",
      "\tFile : 08-Functions and Methods Homework-checkpoint.ipynb\n",
      "\tFile : 09-Objects and Data Structures Assessment Test-checkpoint.ipynb\n",
      "\tFile : Comparison_operators-checkpoint.ipynb\n",
      "\tFile : connecting_to_mongoDB-checkpoint.ipynb\n",
      "\tFile : File_Operations-checkpoint.ipynb\n",
      "\tFile : First_program-checkpoint.py\n",
      "\tFile : Labda Expressions, Maps and Filters-checkpoint.ipynb\n",
      "\tFile : Methods and Functions-checkpoint.ipynb\n",
      "\tFile : Milestone Project 1 - Walkthrough Steps Workbook-checkpoint.ipynb\n",
      "\tFile : Milestone Project 1 Practice (Minigame)-checkpoint.ipynb\n",
      "\tFile : Milestone Project 1(TicTacToe)-checkpoint.ipynb\n",
      "\tFile : Nested Statements and Scope-checkpoint.ipynb\n",
      "\tFile : OOP Using Python-checkpoint.ipynb\n",
      "\tFile : Python Data Types-checkpoint.ipynb\n",
      "\tFile : Python_statements-checkpoint.ipynb\n",
      "\n",
      "\n",
      "Currently looking at C:\\Users\\VALLABH KULKARNI\\Python Codes\\Advanced Python Modules\n",
      "\n",
      "\n",
      "The Subfolders are : \n",
      "\tSubfolder : .ipynb_checkpoints\n",
      "\n",
      "\n",
      "The Files are : \n",
      "\tFile : Advanced Python Modules.ipynb\n",
      "\n",
      "\n",
      "Currently looking at C:\\Users\\VALLABH KULKARNI\\Python Codes\\Advanced Python Modules\\.ipynb_checkpoints\n",
      "\n",
      "\n",
      "The Subfolders are : \n",
      "\n",
      "\n",
      "The Files are : \n",
      "\tFile : Advanced Python Modules-checkpoint.ipynb\n",
      "\tFile : practice-checkpoint.txt\n",
      "\n",
      "\n",
      "Currently looking at C:\\Users\\VALLABH KULKARNI\\Python Codes\\Decorators in Python\n",
      "\n",
      "\n",
      "The Subfolders are : \n",
      "\tSubfolder : .ipynb_checkpoints\n",
      "\n",
      "\n",
      "The Files are : \n",
      "\tFile : 02-Decorators Homework.ipynb\n",
      "\tFile : Decorators in Python.ipynb\n",
      "\n",
      "\n",
      "Currently looking at C:\\Users\\VALLABH KULKARNI\\Python Codes\\Decorators in Python\\.ipynb_checkpoints\n",
      "\n",
      "\n",
      "The Subfolders are : \n",
      "\n",
      "\n",
      "The Files are : \n",
      "\tFile : Decorators in Python-checkpoint.ipynb\n",
      "\n",
      "\n",
      "Currently looking at C:\\Users\\VALLABH KULKARNI\\Python Codes\\Errors and Exception Handling\n",
      "\n",
      "\n",
      "The Subfolders are : \n",
      "\tSubfolder : .ipynb_checkpoints\n",
      "\tSubfolder : Unit Testing\n",
      "\tSubfolder : __pycache__\n",
      "\n",
      "\n",
      "The Files are : \n",
      "\tFile : 02-Errors and Exceptions Homework.ipynb\n",
      "\tFile : 03-Errors and Exceptions Homework - Solution.ipynb\n",
      "\tFile : Errors and Exception Handling.ipynb\n",
      "\n",
      "\n",
      "Currently looking at C:\\Users\\VALLABH KULKARNI\\Python Codes\\Errors and Exception Handling\\.ipynb_checkpoints\n",
      "\n",
      "\n",
      "The Subfolders are : \n",
      "\n",
      "\n",
      "The Files are : \n",
      "\tFile : 02-Errors and Exceptions Homework-checkpoint.ipynb\n",
      "\tFile : Errors and Exception Handling-checkpoint.ipynb\n",
      "\tFile : Unit Testing-checkpoint.ipynb\n",
      "\n",
      "\n",
      "Currently looking at C:\\Users\\VALLABH KULKARNI\\Python Codes\\Errors and Exception Handling\\Unit Testing\n",
      "\n",
      "\n",
      "The Subfolders are : \n",
      "\tSubfolder : __pycache__\n",
      "\n",
      "\n",
      "The Files are : \n",
      "\tFile : cap.py\n",
      "\tFile : myfile.py\n",
      "\tFile : script.py\n",
      "\tFile : simple1.py\n",
      "\tFile : testfile\n",
      "\tFile : test_cap.py\n",
      "\tFile : test_script.py\n",
      "\tFile : Unit Testing.ipynb\n",
      "\n",
      "\n",
      "Currently looking at C:\\Users\\VALLABH KULKARNI\\Python Codes\\Errors and Exception Handling\\Unit Testing\\__pycache__\n",
      "\n",
      "\n",
      "The Subfolders are : \n",
      "\n",
      "\n",
      "The Files are : \n",
      "\tFile : cap.cpython-312.pyc\n",
      "\tFile : script.cpython-312.pyc\n",
      "\n",
      "\n",
      "Currently looking at C:\\Users\\VALLABH KULKARNI\\Python Codes\\Errors and Exception Handling\\__pycache__\n",
      "\n",
      "\n",
      "The Subfolders are : \n",
      "\n",
      "\n",
      "The Files are : \n",
      "\tFile : script.cpython-311.pyc\n",
      "\n",
      "\n",
      "Currently looking at C:\\Users\\VALLABH KULKARNI\\Python Codes\\File Operations in Python\n",
      "\n",
      "\n",
      "The Subfolders are : \n",
      "\n",
      "\n",
      "The Files are : \n",
      "\tFile : File_Operations.ipynb\n",
      "\tFile : myfile.txt\n",
      "\tFile : my_new_file.txt\n",
      "\tFile : New_file.txt\n",
      "\n",
      "\n",
      "Currently looking at C:\\Users\\VALLABH KULKARNI\\Python Codes\\Functions in Python\n",
      "\n",
      "\n",
      "The Subfolders are : \n",
      "\n",
      "\n",
      "The Files are : \n",
      "\tFile : 03-Function Practice Exercises.ipynb\n",
      "\tFile : 08-Functions and Methods Homework.ipynb\n",
      "\tFile : Labda Expressions, Maps and Filters.ipynb\n",
      "\tFile : Methods and Functions.ipynb\n",
      "\n",
      "\n",
      "Currently looking at C:\\Users\\VALLABH KULKARNI\\Python Codes\\Generators in Python\n",
      "\n",
      "\n",
      "The Subfolders are : \n",
      "\tSubfolder : .ipynb_checkpoints\n",
      "\n",
      "\n",
      "The Files are : \n",
      "\tFile : 02-Iterators and Generators Homework.ipynb\n",
      "\tFile : 03-Iterators and Generators Homework - Solution.ipynb\n",
      "\tFile : Generator Functions.ipynb\n",
      "\n",
      "\n",
      "Currently looking at C:\\Users\\VALLABH KULKARNI\\Python Codes\\Generators in Python\\.ipynb_checkpoints\n",
      "\n",
      "\n",
      "The Subfolders are : \n",
      "\n",
      "\n",
      "The Files are : \n",
      "\tFile : 02-Iterators and Generators Homework-checkpoint.ipynb\n",
      "\tFile : Generator Functions-checkpoint.ipynb\n",
      "\n",
      "\n",
      "Currently looking at C:\\Users\\VALLABH KULKARNI\\Python Codes\\Milestone Project 1\n",
      "\n",
      "\n",
      "The Subfolders are : \n",
      "\tSubfolder : .ipynb_checkpoints\n",
      "\n",
      "\n",
      "The Files are : \n",
      "\tFile : 03-Milestone Project 1 - Complete Walkthrough Solution.ipynb\n",
      "\tFile : Milestone Project 1 - Walkthrough Steps Workbook.ipynb\n",
      "\tFile : Milestone Project 1 Practice (Minigame).ipynb\n",
      "\tFile : Milestone Project 1(TicTacToe).ipynb\n",
      "\tFile : Output1.png\n",
      "\tFile : Output2.png\n",
      "\tFile : Output3.png\n",
      "\tFile : Output4.png\n",
      "\tFile : Output5.png\n",
      "\tFile : Output6.png\n",
      "\tFile : Output7.png\n",
      "\tFile : Output8.png\n",
      "\tFile : Output9.png\n",
      "\n",
      "\n",
      "Currently looking at C:\\Users\\VALLABH KULKARNI\\Python Codes\\Milestone Project 1\\.ipynb_checkpoints\n",
      "\n",
      "\n",
      "The Subfolders are : \n",
      "\n",
      "\n",
      "The Files are : \n",
      "\tFile : Milestone Project 1(TicTacToe)-checkpoint.ipynb\n",
      "\n",
      "\n",
      "Currently looking at C:\\Users\\VALLABH KULKARNI\\Python Codes\\Milestone Project 2\n",
      "\n",
      "\n",
      "The Subfolders are : \n",
      "\tSubfolder : .ipynb_checkpoints\n",
      "\n",
      "\n",
      "The Files are : \n",
      "\tFile : 01-Milestone Project 2 - Assignment.ipynb\n",
      "\tFile : 02-Milestone Project 2 - Walkthrough Steps Workbook.ipynb\n",
      "\tFile : 03-Milestone Project 2 - Complete Walkthrough Solution.ipynb\n",
      "\tFile : Milestone Project 2 (BlackJack).ipynb\n",
      "\tFile : output1.png\n",
      "\tFile : output2.png\n",
      "\tFile : output3.png\n",
      "\tFile : output4.png\n",
      "\tFile : output5.png\n",
      "\tFile : WAR_OOP_PROJECT (Warmup).ipynb\n",
      "\n",
      "\n",
      "Currently looking at C:\\Users\\VALLABH KULKARNI\\Python Codes\\Milestone Project 2\\.ipynb_checkpoints\n",
      "\n",
      "\n",
      "The Subfolders are : \n",
      "\n",
      "\n",
      "The Files are : \n",
      "\tFile : 01-Milestone Project 2 - Assignment-checkpoint.ipynb\n",
      "\tFile : 02-Milestone Project 2 - Walkthrough Steps Workbook-checkpoint.ipynb\n",
      "\tFile : 03-Milestone Project 2 - Complete Walkthrough Solution-checkpoint.ipynb\n",
      "\tFile : Milestone Project 2 (BlackJack)-checkpoint.ipynb\n",
      "\tFile : WAR_OOP_PROJECT (Warmup)-checkpoint.ipynb\n",
      "\tFile : WAR_OOP_PROJECT-checkpoint.ipynb\n",
      "\n",
      "\n",
      "Currently looking at C:\\Users\\VALLABH KULKARNI\\Python Codes\\Modules and Packages in Python\n",
      "\n",
      "\n",
      "The Subfolders are : \n",
      "\tSubfolder : .ipynb_checkpoints\n",
      "\tSubfolder : Creating Own Package\n",
      "\tSubfolder : __pycache__\n",
      "\n",
      "\n",
      "The Files are : \n",
      "\tFile : name and main.ipynb\n",
      "\tFile : one.py\n",
      "\tFile : PyPI with Pip Install.ipynb\n",
      "\tFile : two.py\n",
      "\n",
      "\n",
      "Currently looking at C:\\Users\\VALLABH KULKARNI\\Python Codes\\Modules and Packages in Python\\.ipynb_checkpoints\n",
      "\n",
      "\n",
      "The Subfolders are : \n",
      "\n",
      "\n",
      "The Files are : \n",
      "\tFile : name and main-checkpoint.ipynb\n",
      "\tFile : Own Modules and Packages-checkpoint.ipynb\n",
      "\tFile : PyPI with Pip Install-checkpoint.ipynb\n",
      "\n",
      "\n",
      "Currently looking at C:\\Users\\VALLABH KULKARNI\\Python Codes\\Modules and Packages in Python\\Creating Own Package\n",
      "\n",
      "\n",
      "The Subfolders are : \n",
      "\tSubfolder : .ipynb_checkpoints\n",
      "\tSubfolder : MyMainPackage\n",
      "\tSubfolder : __pycache__\n",
      "\n",
      "\n",
      "The Files are : \n",
      "\tFile : mymodule.py\n",
      "\tFile : myprogram.py\n",
      "\tFile : Own Modules and Packages.ipynb\n",
      "\n",
      "\n",
      "Currently looking at C:\\Users\\VALLABH KULKARNI\\Python Codes\\Modules and Packages in Python\\Creating Own Package\\.ipynb_checkpoints\n",
      "\n",
      "\n",
      "The Subfolders are : \n",
      "\n",
      "\n",
      "The Files are : \n",
      "\tFile : Own Modules and Packages-checkpoint.ipynb\n",
      "\n",
      "\n",
      "Currently looking at C:\\Users\\VALLABH KULKARNI\\Python Codes\\Modules and Packages in Python\\Creating Own Package\\MyMainPackage\n",
      "\n",
      "\n",
      "The Subfolders are : \n",
      "\tSubfolder : SubPackage\n",
      "\tSubfolder : __pycache__\n",
      "\n",
      "\n",
      "The Files are : \n",
      "\tFile : some_main_script.py\n",
      "\tFile : __init__.py\n",
      "\n",
      "\n",
      "Currently looking at C:\\Users\\VALLABH KULKARNI\\Python Codes\\Modules and Packages in Python\\Creating Own Package\\MyMainPackage\\SubPackage\n",
      "\n",
      "\n",
      "The Subfolders are : \n",
      "\tSubfolder : __pycache__\n",
      "\n",
      "\n",
      "The Files are : \n",
      "\tFile : MySubScript.py\n",
      "\tFile : __init__.py\n",
      "\n",
      "\n",
      "Currently looking at C:\\Users\\VALLABH KULKARNI\\Python Codes\\Modules and Packages in Python\\Creating Own Package\\MyMainPackage\\SubPackage\\__pycache__\n",
      "\n",
      "\n",
      "The Subfolders are : \n",
      "\n",
      "\n",
      "The Files are : \n",
      "\tFile : MySubScript.cpython-311.pyc\n",
      "\tFile : MySubScript.cpython-312.pyc\n",
      "\tFile : __init__.cpython-311.pyc\n",
      "\tFile : __init__.cpython-312.pyc\n",
      "\n",
      "\n",
      "Currently looking at C:\\Users\\VALLABH KULKARNI\\Python Codes\\Modules and Packages in Python\\Creating Own Package\\MyMainPackage\\__pycache__\n",
      "\n",
      "\n",
      "The Subfolders are : \n",
      "\n",
      "\n",
      "The Files are : \n",
      "\tFile : some_main_script.cpython-311.pyc\n",
      "\tFile : some_main_script.cpython-312.pyc\n",
      "\tFile : __init__.cpython-311.pyc\n",
      "\tFile : __init__.cpython-312.pyc\n",
      "\n",
      "\n",
      "Currently looking at C:\\Users\\VALLABH KULKARNI\\Python Codes\\Modules and Packages in Python\\Creating Own Package\\__pycache__\n",
      "\n",
      "\n",
      "The Subfolders are : \n",
      "\n",
      "\n",
      "The Files are : \n",
      "\tFile : mymodule.cpython-311.pyc\n",
      "\tFile : mymodule.cpython-312.pyc\n",
      "\n",
      "\n",
      "Currently looking at C:\\Users\\VALLABH KULKARNI\\Python Codes\\Modules and Packages in Python\\__pycache__\n",
      "\n",
      "\n",
      "The Subfolders are : \n",
      "\n",
      "\n",
      "The Files are : \n",
      "\tFile : one.cpython-312.pyc\n",
      "\n",
      "\n",
      "Currently looking at C:\\Users\\VALLABH KULKARNI\\Python Codes\\OOP in Python\n",
      "\n",
      "\n",
      "The Subfolders are : \n",
      "\tSubfolder : .ipynb_checkpoints\n",
      "\n",
      "\n",
      "The Files are : \n",
      "\tFile : 02-Object Oriented Programming Homework.ipynb\n",
      "\tFile : 04-OOP Challenge.ipynb\n",
      "\tFile : 05-OOP Challenge - Solution.ipynb\n",
      "\tFile : OOP Using Python.ipynb\n",
      "\n",
      "\n",
      "Currently looking at C:\\Users\\VALLABH KULKARNI\\Python Codes\\OOP in Python\\.ipynb_checkpoints\n",
      "\n",
      "\n",
      "The Subfolders are : \n",
      "\n",
      "\n",
      "The Files are : \n",
      "\tFile : OOP Using Python-checkpoint.ipynb\n",
      "\n",
      "\n",
      "Currently looking at C:\\Users\\VALLABH KULKARNI\\Python Codes\\Python Basics\n",
      "\n",
      "\n",
      "The Subfolders are : \n",
      "\n",
      "\n",
      "The Files are : \n",
      "\tFile : 07-Statements Assessment Test.ipynb\n",
      "\tFile : 09-Objects and Data Structures Assessment Test.ipynb\n",
      "\tFile : Comparison_operators.ipynb\n",
      "\tFile : Nested Statements and Scope.ipynb\n",
      "\tFile : Python Data Types.ipynb\n",
      "\tFile : Python_statements.ipynb\n",
      "\n",
      "\n"
     ]
    }
   ],
   "source": [
    "filepath = \"C:\\\\Users\\\\VALLABH KULKARNI\\\\Python Codes\"\n",
    "\n",
    "for folder,subfolders,files in os.walk(filepath):\n",
    "    print(f\"Currently looking at {folder}\")\n",
    "    print('\\n')\n",
    "    print('The Subfolders are : ')\n",
    "\n",
    "    for subfolder in subfolders:\n",
    "        print(f\"\\tSubfolder : {subfolder}\")\n",
    "        \n",
    "    print('\\n')\n",
    "    print ('The Files are : ')\n",
    "\n",
    "    for file in files:\n",
    "        print(f\"\\tFile : {file}\")\n",
    "    print('\\n')\n",
    "        "
   ]
  },
  {
   "cell_type": "code",
   "execution_count": null,
   "id": "2fd64b44-3378-4bc6-b58f-0d20265cbbf9",
   "metadata": {},
   "outputs": [],
   "source": []
  },
  {
   "cell_type": "markdown",
   "id": "d7d4665f-fa59-4b3d-9240-d5239d35d592",
   "metadata": {},
   "source": [
    "# Datetime Module "
   ]
  },
  {
   "cell_type": "code",
   "execution_count": 161,
   "id": "1e0373ec-1519-408b-b3fa-a8df3615414c",
   "metadata": {},
   "outputs": [],
   "source": [
    "import datetime"
   ]
  },
  {
   "cell_type": "code",
   "execution_count": 162,
   "id": "139729fc-52ec-4db1-af40-2f3624b9ce01",
   "metadata": {},
   "outputs": [],
   "source": [
    "mytime = datetime.time(13,20,1,20)"
   ]
  },
  {
   "cell_type": "code",
   "execution_count": 163,
   "id": "b998aac3-abbb-4c96-afbe-e45b51c9f752",
   "metadata": {},
   "outputs": [
    {
     "data": {
      "text/plain": [
       "20"
      ]
     },
     "execution_count": 163,
     "metadata": {},
     "output_type": "execute_result"
    }
   ],
   "source": [
    "mytime.minute"
   ]
  },
  {
   "cell_type": "code",
   "execution_count": 164,
   "id": "e7fdd37e-6e20-41e7-a2be-696b989a48b5",
   "metadata": {},
   "outputs": [
    {
     "data": {
      "text/plain": [
       "13"
      ]
     },
     "execution_count": 164,
     "metadata": {},
     "output_type": "execute_result"
    }
   ],
   "source": [
    "mytime.hour"
   ]
  },
  {
   "cell_type": "code",
   "execution_count": 165,
   "id": "0898b8ec-fbf4-441d-817f-8642571c991e",
   "metadata": {},
   "outputs": [
    {
     "name": "stdout",
     "output_type": "stream",
     "text": [
      "13:20:01.000020\n"
     ]
    }
   ],
   "source": [
    "print(mytime)"
   ]
  },
  {
   "cell_type": "code",
   "execution_count": 166,
   "id": "69c55fcc-57d0-42d2-89fb-bea9624ce322",
   "metadata": {},
   "outputs": [
    {
     "data": {
      "text/plain": [
       "20"
      ]
     },
     "execution_count": 166,
     "metadata": {},
     "output_type": "execute_result"
    }
   ],
   "source": [
    "mytime.microsecond"
   ]
  },
  {
   "cell_type": "code",
   "execution_count": 167,
   "id": "e781da3b-c681-488a-83bd-c7e45b205697",
   "metadata": {},
   "outputs": [
    {
     "data": {
      "text/plain": [
       "datetime.time"
      ]
     },
     "execution_count": 167,
     "metadata": {},
     "output_type": "execute_result"
    }
   ],
   "source": [
    "type(mytime)"
   ]
  },
  {
   "cell_type": "code",
   "execution_count": 168,
   "id": "a53d799d-6587-4696-be4a-396aa942ff86",
   "metadata": {},
   "outputs": [],
   "source": [
    "today = datetime.date.today()"
   ]
  },
  {
   "cell_type": "code",
   "execution_count": 169,
   "id": "9ec6696d-257e-481e-94e1-2e3a781c78d6",
   "metadata": {},
   "outputs": [
    {
     "name": "stdout",
     "output_type": "stream",
     "text": [
      "2025-03-17\n"
     ]
    }
   ],
   "source": [
    "print(today)"
   ]
  },
  {
   "cell_type": "code",
   "execution_count": 170,
   "id": "81e5bffe-c660-47ff-b69d-ee036de8310a",
   "metadata": {},
   "outputs": [
    {
     "data": {
      "text/plain": [
       "2025"
      ]
     },
     "execution_count": 170,
     "metadata": {},
     "output_type": "execute_result"
    }
   ],
   "source": [
    "today.year"
   ]
  },
  {
   "cell_type": "code",
   "execution_count": 181,
   "id": "0a70da4e-f535-4470-aa20-6c46b6cdf6a7",
   "metadata": {},
   "outputs": [
    {
     "data": {
      "text/plain": [
       "3"
      ]
     },
     "execution_count": 181,
     "metadata": {},
     "output_type": "execute_result"
    }
   ],
   "source": [
    "today.month"
   ]
  },
  {
   "cell_type": "code",
   "execution_count": 190,
   "id": "0813df35-c0ea-42f0-a1c9-4bf01bf14aef",
   "metadata": {},
   "outputs": [
    {
     "data": {
      "text/plain": [
       "2025"
      ]
     },
     "execution_count": 190,
     "metadata": {},
     "output_type": "execute_result"
    }
   ],
   "source": [
    "today.year"
   ]
  },
  {
   "cell_type": "code",
   "execution_count": 193,
   "id": "a7c18980-f3a5-4c41-8fe0-0f5977f0aa5c",
   "metadata": {},
   "outputs": [
    {
     "data": {
      "text/plain": [
       "'Mon Mar 17 00:00:00 2025'"
      ]
     },
     "execution_count": 193,
     "metadata": {},
     "output_type": "execute_result"
    }
   ],
   "source": [
    "today.ctime()"
   ]
  },
  {
   "cell_type": "code",
   "execution_count": 195,
   "id": "c547108c-af6a-4f8d-8a30-794e573a0d97",
   "metadata": {},
   "outputs": [],
   "source": [
    "from datetime import datetime"
   ]
  },
  {
   "cell_type": "code",
   "execution_count": 197,
   "id": "6532db51-ae82-4f8f-91e7-4fd57189dc7c",
   "metadata": {},
   "outputs": [],
   "source": [
    "mydatetime = datetime(2025,10,3,14,20,1)"
   ]
  },
  {
   "cell_type": "code",
   "execution_count": 199,
   "id": "2eedcf66-ec57-498d-9142-00e7d69b71c3",
   "metadata": {},
   "outputs": [
    {
     "name": "stdout",
     "output_type": "stream",
     "text": [
      "2025-10-03 14:20:01\n"
     ]
    }
   ],
   "source": [
    "print(mydatetime)"
   ]
  },
  {
   "cell_type": "code",
   "execution_count": 201,
   "id": "266023ed-5741-49ee-89f1-6f68ad73bae5",
   "metadata": {},
   "outputs": [],
   "source": [
    "mydatetime = mydatetime.replace(year=2027)"
   ]
  },
  {
   "cell_type": "code",
   "execution_count": 203,
   "id": "7adde811-4ffe-4916-ad1d-e8c7aed0a0c7",
   "metadata": {},
   "outputs": [
    {
     "name": "stdout",
     "output_type": "stream",
     "text": [
      "2027-10-03 14:20:01\n"
     ]
    }
   ],
   "source": [
    "print(mydatetime)"
   ]
  },
  {
   "cell_type": "code",
   "execution_count": 205,
   "id": "2623ef78-8f16-43d4-9631-dd0e3c0e09e3",
   "metadata": {},
   "outputs": [],
   "source": [
    "# DATE"
   ]
  },
  {
   "cell_type": "code",
   "execution_count": 207,
   "id": "1ba3babb-73eb-4cc7-a94e-ef771bf49580",
   "metadata": {},
   "outputs": [],
   "source": [
    "from datetime import date"
   ]
  },
  {
   "cell_type": "code",
   "execution_count": 209,
   "id": "c65bd147-19be-40d4-a710-5f63ba55ce03",
   "metadata": {},
   "outputs": [],
   "source": [
    "date1 = date(2024,5,9)\n",
    "date2 = date(2023,5,9)"
   ]
  },
  {
   "cell_type": "code",
   "execution_count": 211,
   "id": "da0fb322-bc4a-46b6-9157-eb3c1a2116df",
   "metadata": {},
   "outputs": [],
   "source": [
    "result = date1 - date2"
   ]
  },
  {
   "cell_type": "code",
   "execution_count": 213,
   "id": "2ff80a05-6707-4545-900d-25aa76c41442",
   "metadata": {},
   "outputs": [
    {
     "data": {
      "text/plain": [
       "datetime.timedelta"
      ]
     },
     "execution_count": 213,
     "metadata": {},
     "output_type": "execute_result"
    }
   ],
   "source": [
    "type(result)"
   ]
  },
  {
   "cell_type": "code",
   "execution_count": 215,
   "id": "ec55fd70-d190-47b6-9cd4-c069e6c22b94",
   "metadata": {},
   "outputs": [
    {
     "data": {
      "text/plain": [
       "366"
      ]
     },
     "execution_count": 215,
     "metadata": {},
     "output_type": "execute_result"
    }
   ],
   "source": [
    "result.days"
   ]
  },
  {
   "cell_type": "code",
   "execution_count": 217,
   "id": "bbf6af83-babb-43d3-8194-34d709729c8c",
   "metadata": {},
   "outputs": [
    {
     "data": {
      "text/plain": [
       "datetime.timedelta(days=366)"
      ]
     },
     "execution_count": 217,
     "metadata": {},
     "output_type": "execute_result"
    }
   ],
   "source": [
    "result"
   ]
  },
  {
   "cell_type": "code",
   "execution_count": 219,
   "id": "794044fd-8d8d-4095-a375-7b89056f5370",
   "metadata": {},
   "outputs": [],
   "source": [
    "datetime1 = datetime(2003,5,9,5,00,00)\n",
    "datetime2 = datetime(2003,7,18,20,35,00)"
   ]
  },
  {
   "cell_type": "code",
   "execution_count": 221,
   "id": "59b9336c-3e0e-4dc0-9e97-4f3c64bd0ffa",
   "metadata": {},
   "outputs": [
    {
     "data": {
      "text/plain": [
       "datetime.timedelta(days=-71, seconds=30300)"
      ]
     },
     "execution_count": 221,
     "metadata": {},
     "output_type": "execute_result"
    }
   ],
   "source": [
    "datetime1-datetime2"
   ]
  },
  {
   "cell_type": "code",
   "execution_count": 223,
   "id": "87979aeb-a660-48b9-be6e-0037efdb882a",
   "metadata": {},
   "outputs": [],
   "source": [
    "result = datetime2-datetime1"
   ]
  },
  {
   "cell_type": "code",
   "execution_count": 225,
   "id": "3dc02eba-dca5-4045-85a5-b079693b3d7a",
   "metadata": {},
   "outputs": [
    {
     "data": {
      "text/plain": [
       "datetime.timedelta"
      ]
     },
     "execution_count": 225,
     "metadata": {},
     "output_type": "execute_result"
    }
   ],
   "source": [
    "type(result)"
   ]
  },
  {
   "cell_type": "code",
   "execution_count": 227,
   "id": "85ddf346-a47d-415f-ab6d-18f3f726d258",
   "metadata": {},
   "outputs": [
    {
     "data": {
      "text/plain": [
       "datetime.timedelta(days=70, seconds=56100)"
      ]
     },
     "execution_count": 227,
     "metadata": {},
     "output_type": "execute_result"
    }
   ],
   "source": [
    "result"
   ]
  },
  {
   "cell_type": "code",
   "execution_count": 229,
   "id": "3b2d3b77-86a8-4eef-baf1-f6de5734daa6",
   "metadata": {},
   "outputs": [],
   "source": [
    "hours = result.seconds/60/60"
   ]
  },
  {
   "cell_type": "code",
   "execution_count": 231,
   "id": "22797003-f5ae-483b-b6c4-89306c74e110",
   "metadata": {},
   "outputs": [
    {
     "data": {
      "text/plain": [
       "15.583333333333334"
      ]
     },
     "execution_count": 231,
     "metadata": {},
     "output_type": "execute_result"
    }
   ],
   "source": [
    "hours"
   ]
  },
  {
   "cell_type": "code",
   "execution_count": null,
   "id": "eedee133-4902-4b0a-ac34-2595d04b14dc",
   "metadata": {},
   "outputs": [],
   "source": []
  },
  {
   "cell_type": "markdown",
   "id": "e64147a1-7c99-470e-8899-b7ace1900b64",
   "metadata": {},
   "source": [
    "# Math "
   ]
  },
  {
   "cell_type": "code",
   "execution_count": 235,
   "id": "8b60829f-7a6b-4906-838b-d9dd4598b876",
   "metadata": {},
   "outputs": [],
   "source": [
    "import math"
   ]
  },
  {
   "cell_type": "code",
   "execution_count": 237,
   "id": "9f3f9ecf-c8ff-4acb-a64a-f87153faa910",
   "metadata": {
    "scrolled": true
   },
   "outputs": [
    {
     "name": "stdout",
     "output_type": "stream",
     "text": [
      "Help on built-in module math:\n",
      "\n",
      "NAME\n",
      "    math\n",
      "\n",
      "DESCRIPTION\n",
      "    This module provides access to the mathematical functions\n",
      "    defined by the C standard.\n",
      "\n",
      "FUNCTIONS\n",
      "    acos(x, /)\n",
      "        Return the arc cosine (measured in radians) of x.\n",
      "        \n",
      "        The result is between 0 and pi.\n",
      "    \n",
      "    acosh(x, /)\n",
      "        Return the inverse hyperbolic cosine of x.\n",
      "    \n",
      "    asin(x, /)\n",
      "        Return the arc sine (measured in radians) of x.\n",
      "        \n",
      "        The result is between -pi/2 and pi/2.\n",
      "    \n",
      "    asinh(x, /)\n",
      "        Return the inverse hyperbolic sine of x.\n",
      "    \n",
      "    atan(x, /)\n",
      "        Return the arc tangent (measured in radians) of x.\n",
      "        \n",
      "        The result is between -pi/2 and pi/2.\n",
      "    \n",
      "    atan2(y, x, /)\n",
      "        Return the arc tangent (measured in radians) of y/x.\n",
      "        \n",
      "        Unlike atan(y/x), the signs of both x and y are considered.\n",
      "    \n",
      "    atanh(x, /)\n",
      "        Return the inverse hyperbolic tangent of x.\n",
      "    \n",
      "    cbrt(x, /)\n",
      "        Return the cube root of x.\n",
      "    \n",
      "    ceil(x, /)\n",
      "        Return the ceiling of x as an Integral.\n",
      "        \n",
      "        This is the smallest integer >= x.\n",
      "    \n",
      "    comb(n, k, /)\n",
      "        Number of ways to choose k items from n items without repetition and without order.\n",
      "        \n",
      "        Evaluates to n! / (k! * (n - k)!) when k <= n and evaluates\n",
      "        to zero when k > n.\n",
      "        \n",
      "        Also called the binomial coefficient because it is equivalent\n",
      "        to the coefficient of k-th term in polynomial expansion of the\n",
      "        expression (1 + x)**n.\n",
      "        \n",
      "        Raises TypeError if either of the arguments are not integers.\n",
      "        Raises ValueError if either of the arguments are negative.\n",
      "    \n",
      "    copysign(x, y, /)\n",
      "        Return a float with the magnitude (absolute value) of x but the sign of y.\n",
      "        \n",
      "        On platforms that support signed zeros, copysign(1.0, -0.0)\n",
      "        returns -1.0.\n",
      "    \n",
      "    cos(x, /)\n",
      "        Return the cosine of x (measured in radians).\n",
      "    \n",
      "    cosh(x, /)\n",
      "        Return the hyperbolic cosine of x.\n",
      "    \n",
      "    degrees(x, /)\n",
      "        Convert angle x from radians to degrees.\n",
      "    \n",
      "    dist(p, q, /)\n",
      "        Return the Euclidean distance between two points p and q.\n",
      "        \n",
      "        The points should be specified as sequences (or iterables) of\n",
      "        coordinates.  Both inputs must have the same dimension.\n",
      "        \n",
      "        Roughly equivalent to:\n",
      "            sqrt(sum((px - qx) ** 2.0 for px, qx in zip(p, q)))\n",
      "    \n",
      "    erf(x, /)\n",
      "        Error function at x.\n",
      "    \n",
      "    erfc(x, /)\n",
      "        Complementary error function at x.\n",
      "    \n",
      "    exp(x, /)\n",
      "        Return e raised to the power of x.\n",
      "    \n",
      "    exp2(x, /)\n",
      "        Return 2 raised to the power of x.\n",
      "    \n",
      "    expm1(x, /)\n",
      "        Return exp(x)-1.\n",
      "        \n",
      "        This function avoids the loss of precision involved in the direct evaluation of exp(x)-1 for small x.\n",
      "    \n",
      "    fabs(x, /)\n",
      "        Return the absolute value of the float x.\n",
      "    \n",
      "    factorial(n, /)\n",
      "        Find n!.\n",
      "        \n",
      "        Raise a ValueError if x is negative or non-integral.\n",
      "    \n",
      "    floor(x, /)\n",
      "        Return the floor of x as an Integral.\n",
      "        \n",
      "        This is the largest integer <= x.\n",
      "    \n",
      "    fmod(x, y, /)\n",
      "        Return fmod(x, y), according to platform C.\n",
      "        \n",
      "        x % y may differ.\n",
      "    \n",
      "    frexp(x, /)\n",
      "        Return the mantissa and exponent of x, as pair (m, e).\n",
      "        \n",
      "        m is a float and e is an int, such that x = m * 2.**e.\n",
      "        If x is 0, m and e are both 0.  Else 0.5 <= abs(m) < 1.0.\n",
      "    \n",
      "    fsum(seq, /)\n",
      "        Return an accurate floating point sum of values in the iterable seq.\n",
      "        \n",
      "        Assumes IEEE-754 floating point arithmetic.\n",
      "    \n",
      "    gamma(x, /)\n",
      "        Gamma function at x.\n",
      "    \n",
      "    gcd(*integers)\n",
      "        Greatest Common Divisor.\n",
      "    \n",
      "    hypot(...)\n",
      "        hypot(*coordinates) -> value\n",
      "        \n",
      "        Multidimensional Euclidean distance from the origin to a point.\n",
      "        \n",
      "        Roughly equivalent to:\n",
      "            sqrt(sum(x**2 for x in coordinates))\n",
      "        \n",
      "        For a two dimensional point (x, y), gives the hypotenuse\n",
      "        using the Pythagorean theorem:  sqrt(x*x + y*y).\n",
      "        \n",
      "        For example, the hypotenuse of a 3/4/5 right triangle is:\n",
      "        \n",
      "            >>> hypot(3.0, 4.0)\n",
      "            5.0\n",
      "    \n",
      "    isclose(a, b, *, rel_tol=1e-09, abs_tol=0.0)\n",
      "        Determine whether two floating point numbers are close in value.\n",
      "        \n",
      "          rel_tol\n",
      "            maximum difference for being considered \"close\", relative to the\n",
      "            magnitude of the input values\n",
      "          abs_tol\n",
      "            maximum difference for being considered \"close\", regardless of the\n",
      "            magnitude of the input values\n",
      "        \n",
      "        Return True if a is close in value to b, and False otherwise.\n",
      "        \n",
      "        For the values to be considered close, the difference between them\n",
      "        must be smaller than at least one of the tolerances.\n",
      "        \n",
      "        -inf, inf and NaN behave similarly to the IEEE 754 Standard.  That\n",
      "        is, NaN is not close to anything, even itself.  inf and -inf are\n",
      "        only close to themselves.\n",
      "    \n",
      "    isfinite(x, /)\n",
      "        Return True if x is neither an infinity nor a NaN, and False otherwise.\n",
      "    \n",
      "    isinf(x, /)\n",
      "        Return True if x is a positive or negative infinity, and False otherwise.\n",
      "    \n",
      "    isnan(x, /)\n",
      "        Return True if x is a NaN (not a number), and False otherwise.\n",
      "    \n",
      "    isqrt(n, /)\n",
      "        Return the integer part of the square root of the input.\n",
      "    \n",
      "    lcm(*integers)\n",
      "        Least Common Multiple.\n",
      "    \n",
      "    ldexp(x, i, /)\n",
      "        Return x * (2**i).\n",
      "        \n",
      "        This is essentially the inverse of frexp().\n",
      "    \n",
      "    lgamma(x, /)\n",
      "        Natural logarithm of absolute value of Gamma function at x.\n",
      "    \n",
      "    log(...)\n",
      "        log(x, [base=math.e])\n",
      "        Return the logarithm of x to the given base.\n",
      "        \n",
      "        If the base not specified, returns the natural logarithm (base e) of x.\n",
      "    \n",
      "    log10(x, /)\n",
      "        Return the base 10 logarithm of x.\n",
      "    \n",
      "    log1p(x, /)\n",
      "        Return the natural logarithm of 1+x (base e).\n",
      "        \n",
      "        The result is computed in a way which is accurate for x near zero.\n",
      "    \n",
      "    log2(x, /)\n",
      "        Return the base 2 logarithm of x.\n",
      "    \n",
      "    modf(x, /)\n",
      "        Return the fractional and integer parts of x.\n",
      "        \n",
      "        Both results carry the sign of x and are floats.\n",
      "    \n",
      "    nextafter(x, y, /)\n",
      "        Return the next floating-point value after x towards y.\n",
      "    \n",
      "    perm(n, k=None, /)\n",
      "        Number of ways to choose k items from n items without repetition and with order.\n",
      "        \n",
      "        Evaluates to n! / (n - k)! when k <= n and evaluates\n",
      "        to zero when k > n.\n",
      "        \n",
      "        If k is not specified or is None, then k defaults to n\n",
      "        and the function returns n!.\n",
      "        \n",
      "        Raises TypeError if either of the arguments are not integers.\n",
      "        Raises ValueError if either of the arguments are negative.\n",
      "    \n",
      "    pow(x, y, /)\n",
      "        Return x**y (x to the power of y).\n",
      "    \n",
      "    prod(iterable, /, *, start=1)\n",
      "        Calculate the product of all the elements in the input iterable.\n",
      "        \n",
      "        The default start value for the product is 1.\n",
      "        \n",
      "        When the iterable is empty, return the start value.  This function is\n",
      "        intended specifically for use with numeric values and may reject\n",
      "        non-numeric types.\n",
      "    \n",
      "    radians(x, /)\n",
      "        Convert angle x from degrees to radians.\n",
      "    \n",
      "    remainder(x, y, /)\n",
      "        Difference between x and the closest integer multiple of y.\n",
      "        \n",
      "        Return x - n*y where n*y is the closest integer multiple of y.\n",
      "        In the case where x is exactly halfway between two multiples of\n",
      "        y, the nearest even value of n is used. The result is always exact.\n",
      "    \n",
      "    sin(x, /)\n",
      "        Return the sine of x (measured in radians).\n",
      "    \n",
      "    sinh(x, /)\n",
      "        Return the hyperbolic sine of x.\n",
      "    \n",
      "    sqrt(x, /)\n",
      "        Return the square root of x.\n",
      "    \n",
      "    tan(x, /)\n",
      "        Return the tangent of x (measured in radians).\n",
      "    \n",
      "    tanh(x, /)\n",
      "        Return the hyperbolic tangent of x.\n",
      "    \n",
      "    trunc(x, /)\n",
      "        Truncates the Real x to the nearest Integral toward 0.\n",
      "        \n",
      "        Uses the __trunc__ magic method.\n",
      "    \n",
      "    ulp(x, /)\n",
      "        Return the value of the least significant bit of the float x.\n",
      "\n",
      "DATA\n",
      "    e = 2.718281828459045\n",
      "    inf = inf\n",
      "    nan = nan\n",
      "    pi = 3.141592653589793\n",
      "    tau = 6.283185307179586\n",
      "\n",
      "FILE\n",
      "    (built-in)\n",
      "\n",
      "\n"
     ]
    }
   ],
   "source": [
    "help(math)"
   ]
  },
  {
   "cell_type": "code",
   "execution_count": 239,
   "id": "0549e2e2-7f3b-4a00-a4e0-664302dce08d",
   "metadata": {},
   "outputs": [],
   "source": [
    "value = 4.354565"
   ]
  },
  {
   "cell_type": "code",
   "execution_count": 241,
   "id": "cbaaef4f-1551-4cd6-b36f-e693dd57dcb9",
   "metadata": {},
   "outputs": [
    {
     "data": {
      "text/plain": [
       "4"
      ]
     },
     "execution_count": 241,
     "metadata": {},
     "output_type": "execute_result"
    }
   ],
   "source": [
    "math.floor(value)"
   ]
  },
  {
   "cell_type": "code",
   "execution_count": 243,
   "id": "20a9754a-4f27-4238-b8a2-5296f16e3b04",
   "metadata": {},
   "outputs": [
    {
     "data": {
      "text/plain": [
       "5"
      ]
     },
     "execution_count": 243,
     "metadata": {},
     "output_type": "execute_result"
    }
   ],
   "source": [
    "math.ceil(value)"
   ]
  },
  {
   "cell_type": "code",
   "execution_count": 245,
   "id": "7030e5dc-3ac8-4c6f-9dec-397aaf40924b",
   "metadata": {},
   "outputs": [
    {
     "data": {
      "text/plain": [
       "4"
      ]
     },
     "execution_count": 245,
     "metadata": {},
     "output_type": "execute_result"
    }
   ],
   "source": [
    "round(4.3545)"
   ]
  },
  {
   "cell_type": "code",
   "execution_count": 247,
   "id": "a4d2e027-0c89-46ca-8325-9dc9469cc6f0",
   "metadata": {},
   "outputs": [
    {
     "data": {
      "text/plain": [
       "4"
      ]
     },
     "execution_count": 247,
     "metadata": {},
     "output_type": "execute_result"
    }
   ],
   "source": [
    "round(4.5)"
   ]
  },
  {
   "cell_type": "code",
   "execution_count": 249,
   "id": "606ab06f-a3f3-49a2-93ce-e0da584a4fe1",
   "metadata": {},
   "outputs": [
    {
     "data": {
      "text/plain": [
       "6"
      ]
     },
     "execution_count": 249,
     "metadata": {},
     "output_type": "execute_result"
    }
   ],
   "source": [
    "round(5.5)"
   ]
  },
  {
   "cell_type": "code",
   "execution_count": 251,
   "id": "24103898-79fa-46ab-81a6-32b5efb68e02",
   "metadata": {},
   "outputs": [
    {
     "data": {
      "text/plain": [
       "3.141592653589793"
      ]
     },
     "execution_count": 251,
     "metadata": {},
     "output_type": "execute_result"
    }
   ],
   "source": [
    "math.pi"
   ]
  },
  {
   "cell_type": "code",
   "execution_count": 256,
   "id": "f565afd9-0445-4e2a-b0c2-7e5eb538e0ba",
   "metadata": {},
   "outputs": [],
   "source": [
    "# OR \n",
    "from math import pi"
   ]
  },
  {
   "cell_type": "code",
   "execution_count": 258,
   "id": "3e84ebb4-facf-44d9-995d-06ef469eeb64",
   "metadata": {},
   "outputs": [
    {
     "name": "stdout",
     "output_type": "stream",
     "text": [
      "3.141592653589793\n"
     ]
    }
   ],
   "source": [
    "print(pi)"
   ]
  },
  {
   "cell_type": "code",
   "execution_count": 260,
   "id": "eb6f9c91-99a3-4052-af16-3369701d4367",
   "metadata": {},
   "outputs": [
    {
     "data": {
      "text/plain": [
       "2.718281828459045"
      ]
     },
     "execution_count": 260,
     "metadata": {},
     "output_type": "execute_result"
    }
   ],
   "source": [
    "math.e"
   ]
  },
  {
   "cell_type": "code",
   "execution_count": 262,
   "id": "760c3f91-6dac-41c0-a480-83a631b8cda1",
   "metadata": {},
   "outputs": [
    {
     "data": {
      "text/plain": [
       "inf"
      ]
     },
     "execution_count": 262,
     "metadata": {},
     "output_type": "execute_result"
    }
   ],
   "source": [
    "math.inf"
   ]
  },
  {
   "cell_type": "code",
   "execution_count": 264,
   "id": "b120b3c4-b812-45d7-a826-367c8ca5c650",
   "metadata": {},
   "outputs": [
    {
     "data": {
      "text/plain": [
       "nan"
      ]
     },
     "execution_count": 264,
     "metadata": {},
     "output_type": "execute_result"
    }
   ],
   "source": [
    "math.nan"
   ]
  },
  {
   "cell_type": "code",
   "execution_count": 266,
   "id": "23a99ea9-fdf3-4b58-98d6-7210998c356c",
   "metadata": {},
   "outputs": [],
   "source": [
    "# Numpy (For Numerical processing)"
   ]
  },
  {
   "cell_type": "code",
   "execution_count": 269,
   "id": "4ea24fee-841f-4526-8028-59892cb5737b",
   "metadata": {},
   "outputs": [
    {
     "data": {
      "text/plain": [
       "1.0"
      ]
     },
     "execution_count": 269,
     "metadata": {},
     "output_type": "execute_result"
    }
   ],
   "source": [
    "math.log(math.e)"
   ]
  },
  {
   "cell_type": "code",
   "execution_count": 271,
   "id": "f09e068a-bdab-4009-b93a-ae95bd6e3328",
   "metadata": {},
   "outputs": [
    {
     "data": {
      "text/plain": [
       "2.0"
      ]
     },
     "execution_count": 271,
     "metadata": {},
     "output_type": "execute_result"
    }
   ],
   "source": [
    "math.log(100,10)"
   ]
  },
  {
   "cell_type": "code",
   "execution_count": 273,
   "id": "9e883f8c-4453-4f7c-b2ac-f480adaa9af0",
   "metadata": {},
   "outputs": [
    {
     "data": {
      "text/plain": [
       "-0.5440211108893698"
      ]
     },
     "execution_count": 273,
     "metadata": {},
     "output_type": "execute_result"
    }
   ],
   "source": [
    "math.sin(10)"
   ]
  },
  {
   "cell_type": "code",
   "execution_count": 275,
   "id": "fcdeccad-2a46-4ce8-82d6-bee4bba544f7",
   "metadata": {},
   "outputs": [
    {
     "data": {
      "text/plain": [
       "90.0"
      ]
     },
     "execution_count": 275,
     "metadata": {},
     "output_type": "execute_result"
    }
   ],
   "source": [
    "math.degrees(pi/2)"
   ]
  },
  {
   "cell_type": "code",
   "execution_count": 277,
   "id": "af77af4a-7978-44d0-82f4-40739343bf46",
   "metadata": {},
   "outputs": [
    {
     "data": {
      "text/plain": [
       "3.141592653589793"
      ]
     },
     "execution_count": 277,
     "metadata": {},
     "output_type": "execute_result"
    }
   ],
   "source": [
    "math.radians(180)"
   ]
  },
  {
   "cell_type": "code",
   "execution_count": null,
   "id": "efe6d0de-db18-4628-97e3-a7ec0a168243",
   "metadata": {},
   "outputs": [],
   "source": []
  },
  {
   "cell_type": "markdown",
   "id": "beb471d7-93f4-4462-be96-c2719ed01d13",
   "metadata": {},
   "source": [
    "# Random "
   ]
  },
  {
   "cell_type": "markdown",
   "id": "4c8a0b3a-d4b7-454e-a65a-17196bc987d3",
   "metadata": {},
   "source": [
    "- Random Module allows us to create random numbers.\n",
    "- We can even set a seed to produce the same random set every time.\n",
    "\n",
    "https://en.wikipedia.org/wiki/Pseudorandom_number_generator\n",
    "https://en.wikipedia.org/wiki/Random_seed"
   ]
  },
  {
   "cell_type": "code",
   "execution_count": 285,
   "id": "6ee40fd2-19dd-4bf9-bc10-eb39572a7ff7",
   "metadata": {},
   "outputs": [],
   "source": [
    "import random"
   ]
  },
  {
   "cell_type": "code",
   "execution_count": 311,
   "id": "ccd1a871-9997-4ea9-b5be-f9ca9dbb1dbf",
   "metadata": {},
   "outputs": [
    {
     "data": {
      "text/plain": [
       "54"
      ]
     },
     "execution_count": 311,
     "metadata": {},
     "output_type": "execute_result"
    }
   ],
   "source": [
    "random.randint(0,100)"
   ]
  },
  {
   "cell_type": "code",
   "execution_count": 337,
   "id": "3a676f6e-8afc-452f-a496-b721e69d3ae2",
   "metadata": {},
   "outputs": [
    {
     "data": {
      "text/plain": [
       "74"
      ]
     },
     "execution_count": 337,
     "metadata": {},
     "output_type": "execute_result"
    }
   ],
   "source": [
    "random.seed(101)\n",
    "\n",
    "random.randint(0,100)"
   ]
  },
  {
   "cell_type": "code",
   "execution_count": 343,
   "id": "93bc03e9-162a-4e35-9e7c-8588014c8a5a",
   "metadata": {},
   "outputs": [
    {
     "data": {
      "text/plain": [
       "45"
      ]
     },
     "execution_count": 343,
     "metadata": {},
     "output_type": "execute_result"
    }
   ],
   "source": [
    "random.randint(0,100)"
   ]
  },
  {
   "cell_type": "code",
   "execution_count": 347,
   "id": "9b47f557-06fc-4f4c-ab0f-ee7c433a74b7",
   "metadata": {},
   "outputs": [
    {
     "name": "stdout",
     "output_type": "stream",
     "text": [
      "74\n",
      "24\n",
      "69\n",
      "45\n",
      "59\n",
      "6\n"
     ]
    }
   ],
   "source": [
    "random.seed(101)\n",
    "print(random.randint(0,100))\n",
    "print(random.randint(0,100))\n",
    "print(random.randint(0,100))\n",
    "print(random.randint(0,100))\n",
    "print(random.randint(0,100))\n",
    "print(random.randint(0,100))"
   ]
  },
  {
   "cell_type": "code",
   "execution_count": 349,
   "id": "45ba9f3a-330b-4a64-86e8-fcd7feeb8505",
   "metadata": {},
   "outputs": [],
   "source": [
    "# For the same seed, you will get the same random value every time \n",
    "# Every set of random values will also be repeated with same seed"
   ]
  },
  {
   "cell_type": "code",
   "execution_count": null,
   "id": "62dff3c5-2c5a-4566-b924-c9fee408c2c1",
   "metadata": {},
   "outputs": [],
   "source": []
  },
  {
   "cell_type": "code",
   "execution_count": 352,
   "id": "48f6be7f-4532-4443-9235-3c3fd210b663",
   "metadata": {},
   "outputs": [],
   "source": [
    "mylist = list(range(0,20))"
   ]
  },
  {
   "cell_type": "code",
   "execution_count": 354,
   "id": "50b394ac-3cd5-40a4-b4fd-703ae5215336",
   "metadata": {},
   "outputs": [
    {
     "data": {
      "text/plain": [
       "[0, 1, 2, 3, 4, 5, 6, 7, 8, 9, 10, 11, 12, 13, 14, 15, 16, 17, 18, 19]"
      ]
     },
     "execution_count": 354,
     "metadata": {},
     "output_type": "execute_result"
    }
   ],
   "source": [
    "mylist"
   ]
  },
  {
   "cell_type": "code",
   "execution_count": 356,
   "id": "7780e559-9a6d-490f-a733-264a88b7d55b",
   "metadata": {},
   "outputs": [
    {
     "data": {
      "text/plain": [
       "16"
      ]
     },
     "execution_count": 356,
     "metadata": {},
     "output_type": "execute_result"
    }
   ],
   "source": [
    "random.choice(mylist)"
   ]
  },
  {
   "cell_type": "code",
   "execution_count": 358,
   "id": "90d7104e-27aa-4411-a30d-a36c27ea45b5",
   "metadata": {},
   "outputs": [
    {
     "data": {
      "text/plain": [
       "[0, 1, 2, 3, 4, 5, 6, 7, 8, 9, 10, 11, 12, 13, 14, 15, 16, 17, 18, 19]"
      ]
     },
     "execution_count": 358,
     "metadata": {},
     "output_type": "execute_result"
    }
   ],
   "source": [
    "mylist"
   ]
  },
  {
   "cell_type": "code",
   "execution_count": 360,
   "id": "12ef512c-70ce-43bd-b10b-32388fab750f",
   "metadata": {},
   "outputs": [],
   "source": [
    "# Sample with replacement"
   ]
  },
  {
   "cell_type": "code",
   "execution_count": 371,
   "id": "b69143df-1da8-4be3-ad55-c1179e97708c",
   "metadata": {},
   "outputs": [
    {
     "data": {
      "text/plain": [
       "[7, 9, 6, 12, 8, 4, 8, 6, 2, 16]"
      ]
     },
     "execution_count": 371,
     "metadata": {},
     "output_type": "execute_result"
    }
   ],
   "source": [
    "random.choices(population=mylist, k=10)"
   ]
  },
  {
   "cell_type": "code",
   "execution_count": 379,
   "id": "ac6abae7-fe2d-4716-a759-06efe9bce71d",
   "metadata": {},
   "outputs": [],
   "source": [
    "# Sample without replacement (No repetition)"
   ]
  },
  {
   "cell_type": "code",
   "execution_count": 381,
   "id": "d050fe37-9b1f-420a-87bc-f37ada4efef0",
   "metadata": {},
   "outputs": [
    {
     "data": {
      "text/plain": [
       "[13, 0, 14, 6, 3, 5, 12, 18, 17, 11]"
      ]
     },
     "execution_count": 381,
     "metadata": {},
     "output_type": "execute_result"
    }
   ],
   "source": [
    "random.sample(population=mylist, k=10)"
   ]
  },
  {
   "cell_type": "code",
   "execution_count": 384,
   "id": "c262398c-2bdb-4b06-8646-af76df3fc97e",
   "metadata": {},
   "outputs": [
    {
     "data": {
      "text/plain": [
       "[0, 1, 2, 3, 4, 5, 6, 7, 8, 9, 10, 11, 12, 13, 14, 15, 16, 17, 18, 19]"
      ]
     },
     "execution_count": 384,
     "metadata": {},
     "output_type": "execute_result"
    }
   ],
   "source": [
    "mylist"
   ]
  },
  {
   "cell_type": "code",
   "execution_count": 386,
   "id": "74943ee7-849d-4389-8d38-f46756f7d8a9",
   "metadata": {},
   "outputs": [],
   "source": [
    "random.shuffle(mylist)"
   ]
  },
  {
   "cell_type": "code",
   "execution_count": 388,
   "id": "551d4c7e-08d6-4a35-853a-d951491e7199",
   "metadata": {},
   "outputs": [
    {
     "data": {
      "text/plain": [
       "[10, 19, 9, 12, 18, 15, 3, 11, 7, 5, 6, 14, 16, 17, 2, 13, 1, 4, 8, 0]"
      ]
     },
     "execution_count": 388,
     "metadata": {},
     "output_type": "execute_result"
    }
   ],
   "source": [
    "mylist"
   ]
  },
  {
   "cell_type": "code",
   "execution_count": 392,
   "id": "bfa015d8-d987-4d73-a931-cf4a3c7bc7c1",
   "metadata": {},
   "outputs": [
    {
     "data": {
      "text/plain": [
       "6.594850891823267"
      ]
     },
     "execution_count": 392,
     "metadata": {},
     "output_type": "execute_result"
    }
   ],
   "source": [
    "# random.uniform(lower_boundary, higher_boundary)\n",
    "random.uniform(a=0,b=100)"
   ]
  },
  {
   "cell_type": "code",
   "execution_count": 398,
   "id": "f581048d-51d8-4467-aa47-8d72b54fbc82",
   "metadata": {},
   "outputs": [
    {
     "data": {
      "text/plain": [
       "-0.5658467313685008"
      ]
     },
     "execution_count": 398,
     "metadata": {},
     "output_type": "execute_result"
    }
   ],
   "source": [
    "# random.gauss(mean mu, standard_deviation sigma)\n",
    "random.gauss(mu=0,sigma=1)"
   ]
  },
  {
   "cell_type": "code",
   "execution_count": null,
   "id": "5bc638cb-2fc1-4e48-8572-83d98d3919da",
   "metadata": {},
   "outputs": [],
   "source": []
  },
  {
   "cell_type": "markdown",
   "id": "454e9aed-cc12-4aed-8514-cf6cf869ccfc",
   "metadata": {},
   "source": [
    "# Python Debugger"
   ]
  },
  {
   "cell_type": "code",
   "execution_count": 406,
   "id": "5fc3f445-68fc-4e84-a5c0-58ff99c60eaf",
   "metadata": {},
   "outputs": [
    {
     "name": "stdout",
     "output_type": "stream",
     "text": [
      "5\n"
     ]
    },
    {
     "ename": "TypeError",
     "evalue": "can only concatenate list (not \"int\") to list",
     "output_type": "error",
     "traceback": [
      "\u001b[1;31m---------------------------------------------------------------------------\u001b[0m",
      "\u001b[1;31mTypeError\u001b[0m                                 Traceback (most recent call last)",
      "Cell \u001b[1;32mIn[406], line 7\u001b[0m\n\u001b[0;32m      5\u001b[0m result \u001b[38;5;241m=\u001b[39m y \u001b[38;5;241m+\u001b[39m z\n\u001b[0;32m      6\u001b[0m \u001b[38;5;28mprint\u001b[39m(result)\n\u001b[1;32m----> 7\u001b[0m result \u001b[38;5;241m=\u001b[39m \u001b[43mx\u001b[49m\u001b[43m \u001b[49m\u001b[38;5;241;43m+\u001b[39;49m\u001b[43m \u001b[49m\u001b[43my\u001b[49m\n\u001b[0;32m      8\u001b[0m \u001b[38;5;28mprint\u001b[39m(result)\n",
      "\u001b[1;31mTypeError\u001b[0m: can only concatenate list (not \"int\") to list"
     ]
    }
   ],
   "source": [
    "x = [1,2,3]\n",
    "y = 2\n",
    "z = 3\n",
    "\n",
    "result = y + z\n",
    "print(result)\n",
    "result = x + y\n",
    "print(result)"
   ]
  },
  {
   "cell_type": "code",
   "execution_count": 408,
   "id": "e0bbefe8-ac2e-4df6-a022-8a4927198c93",
   "metadata": {},
   "outputs": [],
   "source": [
    "x = [1,2,3]\n",
    "y = 2\n",
    "z = 3"
   ]
  },
  {
   "cell_type": "code",
   "execution_count": 410,
   "id": "24a2fbb0-b3af-4e98-a381-3114d90b2d6c",
   "metadata": {},
   "outputs": [],
   "source": [
    "import pdb"
   ]
  },
  {
   "cell_type": "code",
   "execution_count": 416,
   "id": "be00b07b-c852-4b4d-b51d-b7ff0c28a38e",
   "metadata": {},
   "outputs": [
    {
     "name": "stdout",
     "output_type": "stream",
     "text": [
      "--Return--\n",
      "None\n",
      "> \u001b[1;32mc:\\users\\vallabh kulkarni\\appdata\\local\\temp\\ipykernel_10812\\2362518776.py\u001b[0m(8)\u001b[0;36m<module>\u001b[1;34m()\u001b[0m\n",
      "\n"
     ]
    },
    {
     "name": "stdin",
     "output_type": "stream",
     "text": [
      "ipdb>  x\n"
     ]
    },
    {
     "name": "stdout",
     "output_type": "stream",
     "text": [
      "[1, 2, 3]\n"
     ]
    },
    {
     "name": "stdin",
     "output_type": "stream",
     "text": [
      "ipdb>  y\n"
     ]
    },
    {
     "name": "stdout",
     "output_type": "stream",
     "text": [
      "2\n"
     ]
    },
    {
     "name": "stdin",
     "output_type": "stream",
     "text": [
      "ipdb>  z\n"
     ]
    },
    {
     "name": "stdout",
     "output_type": "stream",
     "text": [
      "3\n"
     ]
    },
    {
     "name": "stdin",
     "output_type": "stream",
     "text": [
      "ipdb>  result\n"
     ]
    },
    {
     "name": "stdout",
     "output_type": "stream",
     "text": [
      "5\n"
     ]
    },
    {
     "name": "stdin",
     "output_type": "stream",
     "text": [
      "ipdb>  result1\n"
     ]
    },
    {
     "name": "stdout",
     "output_type": "stream",
     "text": [
      "*** NameError: name 'result1' is not defined\n"
     ]
    },
    {
     "name": "stdin",
     "output_type": "stream",
     "text": [
      "ipdb>  result2\n"
     ]
    },
    {
     "name": "stdout",
     "output_type": "stream",
     "text": [
      "*** NameError: name 'result2' is not defined\n"
     ]
    },
    {
     "name": "stdin",
     "output_type": "stream",
     "text": [
      "ipdb>  q\n"
     ]
    }
   ],
   "source": [
    "x = [1,2,3]\n",
    "y = 2\n",
    "z = 3\n",
    "\n",
    "result = y + z\n",
    "\n",
    "\n",
    "pdb.set_trace()\n",
    "\n",
    "result2 = y + x"
   ]
  },
  {
   "cell_type": "code",
   "execution_count": null,
   "id": "88e6fe4d-56d0-4017-b852-25be4bed223f",
   "metadata": {},
   "outputs": [],
   "source": []
  }
 ],
 "metadata": {
  "kernelspec": {
   "display_name": "Python 3 (ipykernel)",
   "language": "python",
   "name": "python3"
  },
  "language_info": {
   "codemirror_mode": {
    "name": "ipython",
    "version": 3
   },
   "file_extension": ".py",
   "mimetype": "text/x-python",
   "name": "python",
   "nbconvert_exporter": "python",
   "pygments_lexer": "ipython3",
   "version": "3.11.5"
  }
 },
 "nbformat": 4,
 "nbformat_minor": 5
}
