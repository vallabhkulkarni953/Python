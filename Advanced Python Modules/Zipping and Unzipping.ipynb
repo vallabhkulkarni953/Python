{
 "cells": [
  {
   "cell_type": "markdown",
   "id": "92ca59d2-838b-4efe-943a-1fbc6d0d6e7d",
   "metadata": {},
   "source": [
    "# Advance Python Modules"
   ]
  },
  {
   "cell_type": "markdown",
   "id": "f1f29445-555f-4f42-8698-29c17e458ab2",
   "metadata": {},
   "source": [
    "## Unzipping and Zipping Files"
   ]
  },
  {
   "cell_type": "code",
   "execution_count": 1,
   "id": "b1f21e16-e504-41fa-b2aa-8b2023afc699",
   "metadata": {},
   "outputs": [],
   "source": [
    "f = open('file1.txt','w+')\n",
    "f.write('One File')\n",
    "f.close()"
   ]
  },
  {
   "cell_type": "code",
   "execution_count": 3,
   "id": "4728bdc6-66a8-48ae-99dc-03a5595d6ff9",
   "metadata": {},
   "outputs": [],
   "source": [
    "f = open('file2.txt','w+')\n",
    "f.write('Two File')\n",
    "f.close()"
   ]
  },
  {
   "cell_type": "code",
   "execution_count": 5,
   "id": "cacb8f84-0a9a-464e-995a-dcf022951800",
   "metadata": {},
   "outputs": [],
   "source": [
    "import zipfile"
   ]
  },
  {
   "cell_type": "code",
   "execution_count": 7,
   "id": "c8313d4d-36a0-4eed-904d-f6b09f8d458d",
   "metadata": {},
   "outputs": [],
   "source": [
    "compressed_file = zipfile.ZipFile('compressed_file.zip','w')"
   ]
  },
  {
   "cell_type": "code",
   "execution_count": 9,
   "id": "30ff5a18-41ae-4385-a053-445186481fdf",
   "metadata": {},
   "outputs": [],
   "source": [
    "compressed_file.write('file1.txt',compress_type = zipfile.ZIP_DEFLATED) "
   ]
  },
  {
   "cell_type": "code",
   "execution_count": 11,
   "id": "73eb655c-0529-462a-9d44-59658e41830b",
   "metadata": {},
   "outputs": [],
   "source": [
    "compressed_file.write('file2.txt',compress_type = zipfile.ZIP_DEFLATED)"
   ]
  },
  {
   "cell_type": "code",
   "execution_count": 13,
   "id": "0ec2ea9c-9a78-436c-915f-362cf47c8e1b",
   "metadata": {},
   "outputs": [],
   "source": [
    "compressed_file.close()"
   ]
  },
  {
   "cell_type": "code",
   "execution_count": 48,
   "id": "5409dc14-466b-41be-953e-fc91caa1f09e",
   "metadata": {},
   "outputs": [],
   "source": [
    "# Now the two files are zipped successfully into the zip file"
   ]
  },
  {
   "cell_type": "code",
   "execution_count": 50,
   "id": "40bfba80-d9e0-42f1-a445-ac2f8d8f0118",
   "metadata": {},
   "outputs": [],
   "source": [
    "# Extracting content from a zip file"
   ]
  },
  {
   "cell_type": "code",
   "execution_count": 27,
   "id": "5ba85753-321b-478e-aea2-8ca0b3846532",
   "metadata": {},
   "outputs": [],
   "source": [
    "zip_obj = zipfile.ZipFile('compressed_file.zip','r')"
   ]
  },
  {
   "cell_type": "code",
   "execution_count": 29,
   "id": "af8a39db-f283-4544-b1d3-dd8b8731622e",
   "metadata": {},
   "outputs": [],
   "source": [
    "zip_obj.extractall('extracted_content')"
   ]
  },
  {
   "cell_type": "code",
   "execution_count": 31,
   "id": "29b66dd6-01b5-472c-9f9d-0e0daae6bbfd",
   "metadata": {},
   "outputs": [
    {
     "data": {
      "text/plain": [
       "'C:\\\\Users\\\\VALLABH KULKARNI\\\\Python Codes\\\\Advanced Python Modules'"
      ]
     },
     "execution_count": 31,
     "metadata": {},
     "output_type": "execute_result"
    }
   ],
   "source": [
    "pwd"
   ]
  },
  {
   "cell_type": "code",
   "execution_count": null,
   "id": "29b44c67-1a3c-484e-8590-b4494dfd6cdb",
   "metadata": {},
   "outputs": [],
   "source": []
  },
  {
   "cell_type": "code",
   "execution_count": 37,
   "id": "fa74cd06-4ecd-4e85-b42c-431472b9da98",
   "metadata": {},
   "outputs": [],
   "source": [
    "# Zipping an Entire folder "
   ]
  },
  {
   "cell_type": "code",
   "execution_count": 39,
   "id": "f0976e64-d5be-47ef-98cd-5565fa9c6777",
   "metadata": {},
   "outputs": [],
   "source": [
    "import shutil"
   ]
  },
  {
   "cell_type": "code",
   "execution_count": 41,
   "id": "43a08ebe-b1bd-4f39-ace5-b222c69d4a5e",
   "metadata": {},
   "outputs": [],
   "source": [
    "dir_to_zip = 'C:\\\\Users\\\\VALLABH KULKARNI\\\\Python Codes\\\\Advanced Python Modules\\\\extracted_content'"
   ]
  },
  {
   "cell_type": "code",
   "execution_count": 43,
   "id": "1665b855-57f9-4071-ba65-d62403bdf1ea",
   "metadata": {},
   "outputs": [],
   "source": [
    "output_filename = 'example'"
   ]
  },
  {
   "cell_type": "code",
   "execution_count": 45,
   "id": "6d7ee002-aee0-418f-a1aa-b8823bfaa3e5",
   "metadata": {},
   "outputs": [
    {
     "data": {
      "text/plain": [
       "'C:\\\\Users\\\\VALLABH KULKARNI\\\\Python Codes\\\\Advanced Python Modules\\\\example.zip'"
      ]
     },
     "execution_count": 45,
     "metadata": {},
     "output_type": "execute_result"
    }
   ],
   "source": [
    "shutil.make_archive(output_filename,'zip',dir_to_zip)"
   ]
  },
  {
   "cell_type": "code",
   "execution_count": null,
   "id": "8efa359d-bd02-49ec-9e03-68b50bc92575",
   "metadata": {},
   "outputs": [],
   "source": []
  },
  {
   "cell_type": "code",
   "execution_count": 52,
   "id": "5fa9df29-b7b6-4351-b82d-b60fbc552759",
   "metadata": {},
   "outputs": [],
   "source": [
    "# Extracting content from zip"
   ]
  },
  {
   "cell_type": "code",
   "execution_count": 57,
   "id": "a5d1f9c8-fcff-4258-b43b-5d7fb07579df",
   "metadata": {},
   "outputs": [],
   "source": [
    "shutil.unpack_archive('example.zip','final_unzip','zip')"
   ]
  },
  {
   "cell_type": "code",
   "execution_count": null,
   "id": "42cce127-b7d8-40b8-9fcd-4afc2eb5e5c6",
   "metadata": {},
   "outputs": [],
   "source": []
  }
 ],
 "metadata": {
  "kernelspec": {
   "display_name": "Python 3 (ipykernel)",
   "language": "python",
   "name": "python3"
  },
  "language_info": {
   "codemirror_mode": {
    "name": "ipython",
    "version": 3
   },
   "file_extension": ".py",
   "mimetype": "text/x-python",
   "name": "python",
   "nbconvert_exporter": "python",
   "pygments_lexer": "ipython3",
   "version": "3.11.5"
  }
 },
 "nbformat": 4,
 "nbformat_minor": 5
}
