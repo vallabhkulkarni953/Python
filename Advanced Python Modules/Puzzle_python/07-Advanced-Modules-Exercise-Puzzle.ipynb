{
 "cells": [
  {
   "cell_type": "markdown",
   "metadata": {},
   "source": [
    "# Advanced Modules Exercise Puzzle\n",
    "\n",
    "It's time to test your new skills, this puzzle project will combine multiple skills sets, including unzipping files with Python, using os module to automatically search through lots of files.\n",
    "\n",
    "## Your Goal\n",
    "\n",
    "This is a puzzle, so we don't want to give you too much guidance and instead have you figure out things on your own.\n",
    "\n",
    "There is a .zip file called 'unzip_me_for_instructions.zip', unzip it, open the .txt file with Python, read the instructions and see if you can figure out what you need to do!\n",
    "\n",
    "**If you get stuck or don't know where to start, here is a [guide/hints](https://docs.google.com/document/d/1JxydUr4n4fSR0EwwuwT-aHia-yPK6r-oTBuVT2sqheo/edit?usp=sharing)**"
   ]
  },
  {
   "cell_type": "code",
   "execution_count": 4,
   "metadata": {},
   "outputs": [
    {
     "data": {
      "text/plain": [
       "'C:\\\\Users\\\\VALLABH KULKARNI\\\\Python Codes\\\\Advanced Python Modules\\\\Puzzle_python'"
      ]
     },
     "execution_count": 4,
     "metadata": {},
     "output_type": "execute_result"
    }
   ],
   "source": [
    "pwd"
   ]
  },
  {
   "cell_type": "code",
   "execution_count": 10,
   "metadata": {},
   "outputs": [],
   "source": [
    "import os"
   ]
  },
  {
   "cell_type": "code",
   "execution_count": 14,
   "metadata": {},
   "outputs": [
    {
     "data": {
      "text/plain": [
       "['.ipynb_checkpoints',\n",
       " '07-Advanced-Modules-Exercise-Puzzle.ipynb',\n",
       " '08-Advanced-Modules-Exercise-Solutions.ipynb',\n",
       " 'unzip_me_for_instructions.zip']"
      ]
     },
     "execution_count": 14,
     "metadata": {},
     "output_type": "execute_result"
    }
   ],
   "source": [
    "os.listdir()"
   ]
  },
  {
   "cell_type": "code",
   "execution_count": 18,
   "metadata": {},
   "outputs": [],
   "source": [
    "import shutil"
   ]
  },
  {
   "cell_type": "code",
   "execution_count": 20,
   "metadata": {},
   "outputs": [],
   "source": [
    "extract_dir = 'C:\\\\Users\\\\VALLABH KULKARNI\\\\Python Codes\\\\Advanced Python Modules\\\\Puzzle_python'"
   ]
  },
  {
   "cell_type": "code",
   "execution_count": 22,
   "metadata": {},
   "outputs": [],
   "source": [
    "shutil.unpack_archive('unzip_me_for_instructions.zip',extract_dir,'zip')"
   ]
  },
  {
   "cell_type": "code",
   "execution_count": 24,
   "metadata": {},
   "outputs": [
    {
     "data": {
      "text/plain": [
       "['.ipynb_checkpoints',\n",
       " '07-Advanced-Modules-Exercise-Puzzle.ipynb',\n",
       " '08-Advanced-Modules-Exercise-Solutions.ipynb',\n",
       " 'extracted_content',\n",
       " 'unzip_me_for_instructions.zip']"
      ]
     },
     "execution_count": 24,
     "metadata": {},
     "output_type": "execute_result"
    }
   ],
   "source": [
    "os.listdir()"
   ]
  },
  {
   "cell_type": "code",
   "execution_count": 85,
   "metadata": {},
   "outputs": [],
   "source": [
    "path = 'C:\\\\Users\\\\VALLABH KULKARNI\\\\Python Codes\\\\Advanced Python Modules\\\\Puzzle_python\\\\extracted_content'"
   ]
  },
  {
   "cell_type": "code",
   "execution_count": 87,
   "metadata": {},
   "outputs": [
    {
     "data": {
      "text/plain": [
       "'C:\\\\Users\\\\VALLABH KULKARNI\\\\Python Codes\\\\Advanced Python Modules\\\\Puzzle_python\\\\extracted_content'"
      ]
     },
     "execution_count": 87,
     "metadata": {},
     "output_type": "execute_result"
    }
   ],
   "source": [
    "path"
   ]
  },
  {
   "cell_type": "code",
   "execution_count": 91,
   "metadata": {},
   "outputs": [
    {
     "data": {
      "text/plain": [
       "['.ipynb_checkpoints',\n",
       " 'Five',\n",
       " 'Four',\n",
       " 'Instructions.txt',\n",
       " 'One',\n",
       " 'Three',\n",
       " 'Two']"
      ]
     },
     "execution_count": 91,
     "metadata": {},
     "output_type": "execute_result"
    }
   ],
   "source": [
    "os.listdir(path)"
   ]
  },
  {
   "cell_type": "code",
   "execution_count": 93,
   "metadata": {},
   "outputs": [],
   "source": [
    "path2 = path + \"\\\\Instructions.txt\""
   ]
  },
  {
   "cell_type": "code",
   "execution_count": 95,
   "metadata": {},
   "outputs": [
    {
     "data": {
      "text/plain": [
       "'C:\\\\Users\\\\VALLABH KULKARNI\\\\Python Codes\\\\Advanced Python Modules\\\\Puzzle_python\\\\extracted_content\\\\Instructions.txt'"
      ]
     },
     "execution_count": 95,
     "metadata": {},
     "output_type": "execute_result"
    }
   ],
   "source": [
    "path2"
   ]
  },
  {
   "cell_type": "code",
   "execution_count": 97,
   "metadata": {},
   "outputs": [],
   "source": [
    "f = open(path2,'r')"
   ]
  },
  {
   "cell_type": "code",
   "execution_count": 99,
   "metadata": {},
   "outputs": [
    {
     "data": {
      "text/plain": [
       "'Good work on unzipping the file!\\nYou should now see 5 folders, each with a lot of random .txt files.\\nWithin one of these text files is a telephone number formated ###-###-#### \\nUse the Python os module and regular expressions to iterate through each file, open it, and search for a telephone number.\\nGood luck!'"
      ]
     },
     "execution_count": 99,
     "metadata": {},
     "output_type": "execute_result"
    }
   ],
   "source": [
    "f.read().strip()"
   ]
  },
  {
   "cell_type": "code",
   "execution_count": 101,
   "metadata": {},
   "outputs": [],
   "source": [
    "f.close()"
   ]
  },
  {
   "cell_type": "code",
   "execution_count": 103,
   "metadata": {},
   "outputs": [
    {
     "data": {
      "text/plain": [
       "'C:\\\\Users\\\\VALLABH KULKARNI\\\\Python Codes\\\\Advanced Python Modules\\\\Puzzle_python\\\\extracted_content'"
      ]
     },
     "execution_count": 103,
     "metadata": {},
     "output_type": "execute_result"
    }
   ],
   "source": [
    "path "
   ]
  },
  {
   "cell_type": "code",
   "execution_count": 133,
   "metadata": {},
   "outputs": [
    {
     "data": {
      "text/plain": [
       "['.ipynb_checkpoints',\n",
       " 'Five',\n",
       " 'Four',\n",
       " 'Instructions.txt',\n",
       " 'One',\n",
       " 'Three',\n",
       " 'Two']"
      ]
     },
     "execution_count": 133,
     "metadata": {},
     "output_type": "execute_result"
    }
   ],
   "source": [
    "os.listdir(path)"
   ]
  },
  {
   "cell_type": "code",
   "execution_count": 135,
   "metadata": {},
   "outputs": [],
   "source": [
    "import re"
   ]
  },
  {
   "cell_type": "code",
   "execution_count": 139,
   "metadata": {},
   "outputs": [],
   "source": [
    "pattern = r'\\d\\d\\d-\\d\\d\\d-\\d\\d\\d\\d'"
   ]
  },
  {
   "cell_type": "code",
   "execution_count": 144,
   "metadata": {},
   "outputs": [
    {
     "data": {
      "text/plain": [
       "<re.Match object; span=(27, 39), match='555-666-7777'>"
      ]
     },
     "execution_count": 144,
     "metadata": {},
     "output_type": "execute_result"
    }
   ],
   "source": [
    "re.search(pattern,'This is my mobile number : 555-666-7777')"
   ]
  },
  {
   "cell_type": "code",
   "execution_count": 176,
   "metadata": {},
   "outputs": [
    {
     "name": "stdout",
     "output_type": "stream",
     "text": [
      "C:\\Users\\VALLABH KULKARNI\\Python Codes\\Advanced Python Modules\\Puzzle_python\\extracted_content\\.ipynb_checkpoints\\Instructions-checkpoint.txt\n",
      "C:\\Users\\VALLABH KULKARNI\\Python Codes\\Advanced Python Modules\\Puzzle_python\\extracted_content\\Five\\AEITMYIRQLP.txt\n",
      "C:\\Users\\VALLABH KULKARNI\\Python Codes\\Advanced Python Modules\\Puzzle_python\\extracted_content\\Five\\APJKSRITGGX.txt\n",
      "C:\\Users\\VALLABH KULKARNI\\Python Codes\\Advanced Python Modules\\Puzzle_python\\extracted_content\\Five\\AQKATDFGXTS.txt\n",
      "C:\\Users\\VALLABH KULKARNI\\Python Codes\\Advanced Python Modules\\Puzzle_python\\extracted_content\\Five\\ARLKFCWIAJE.txt\n",
      "C:\\Users\\VALLABH KULKARNI\\Python Codes\\Advanced Python Modules\\Puzzle_python\\extracted_content\\Five\\AXJGVPVEFAS.txt\n",
      "C:\\Users\\VALLABH KULKARNI\\Python Codes\\Advanced Python Modules\\Puzzle_python\\extracted_content\\Five\\BNUQEHCFRTG.txt\n",
      "C:\\Users\\VALLABH KULKARNI\\Python Codes\\Advanced Python Modules\\Puzzle_python\\extracted_content\\Five\\BSKJDRNEZQM.txt\n",
      "C:\\Users\\VALLABH KULKARNI\\Python Codes\\Advanced Python Modules\\Puzzle_python\\extracted_content\\Five\\BTYWAHLHKBM.txt\n",
      "C:\\Users\\VALLABH KULKARNI\\Python Codes\\Advanced Python Modules\\Puzzle_python\\extracted_content\\Five\\BUGKBZWRRVI.txt\n",
      "C:\\Users\\VALLABH KULKARNI\\Python Codes\\Advanced Python Modules\\Puzzle_python\\extracted_content\\Five\\BVBURZZCAPR.txt\n",
      "C:\\Users\\VALLABH KULKARNI\\Python Codes\\Advanced Python Modules\\Puzzle_python\\extracted_content\\Five\\CAHBEVSVDDN.txt\n",
      "C:\\Users\\VALLABH KULKARNI\\Python Codes\\Advanced Python Modules\\Puzzle_python\\extracted_content\\Five\\COMGMZBJAYE.txt\n",
      "C:\\Users\\VALLABH KULKARNI\\Python Codes\\Advanced Python Modules\\Puzzle_python\\extracted_content\\Five\\CRFSDGYFSHA.txt\n",
      "C:\\Users\\VALLABH KULKARNI\\Python Codes\\Advanced Python Modules\\Puzzle_python\\extracted_content\\Five\\CSCLFZCDYYC.txt\n",
      "C:\\Users\\VALLABH KULKARNI\\Python Codes\\Advanced Python Modules\\Puzzle_python\\extracted_content\\Five\\CXBVCTRBBIE.txt\n",
      "C:\\Users\\VALLABH KULKARNI\\Python Codes\\Advanced Python Modules\\Puzzle_python\\extracted_content\\Five\\DDLASODUVPX.txt\n",
      "C:\\Users\\VALLABH KULKARNI\\Python Codes\\Advanced Python Modules\\Puzzle_python\\extracted_content\\Five\\DHZBAAYEADM.txt\n",
      "C:\\Users\\VALLABH KULKARNI\\Python Codes\\Advanced Python Modules\\Puzzle_python\\extracted_content\\Five\\DQPZQLBCJYP.txt\n",
      "C:\\Users\\VALLABH KULKARNI\\Python Codes\\Advanced Python Modules\\Puzzle_python\\extracted_content\\Five\\DYOPIIVMZOO.txt\n",
      "C:\\Users\\VALLABH KULKARNI\\Python Codes\\Advanced Python Modules\\Puzzle_python\\extracted_content\\Five\\DZUWWXYIAEL.txt\n",
      "C:\\Users\\VALLABH KULKARNI\\Python Codes\\Advanced Python Modules\\Puzzle_python\\extracted_content\\Five\\EAAOEPSAWMQ.txt\n",
      "C:\\Users\\VALLABH KULKARNI\\Python Codes\\Advanced Python Modules\\Puzzle_python\\extracted_content\\Five\\EIPWXMQZJKU.txt\n",
      "C:\\Users\\VALLABH KULKARNI\\Python Codes\\Advanced Python Modules\\Puzzle_python\\extracted_content\\Five\\ESIZWBHMGDP.txt\n",
      "C:\\Users\\VALLABH KULKARNI\\Python Codes\\Advanced Python Modules\\Puzzle_python\\extracted_content\\Five\\ETCUEXWNBCF.txt\n",
      "C:\\Users\\VALLABH KULKARNI\\Python Codes\\Advanced Python Modules\\Puzzle_python\\extracted_content\\Five\\EYTCGIOYWIW.txt\n",
      "C:\\Users\\VALLABH KULKARNI\\Python Codes\\Advanced Python Modules\\Puzzle_python\\extracted_content\\Four\\ECIOBYCDVFI.txt\n",
      "C:\\Users\\VALLABH KULKARNI\\Python Codes\\Advanced Python Modules\\Puzzle_python\\extracted_content\\Four\\EMTGPSXQEJX.txt\n",
      "<re.Match object; span=(1062, 1074), match='719-266-2837'>\n",
      "Can't See file\n",
      "C:\\Users\\VALLABH KULKARNI\\Python Codes\\Advanced Python Modules\\Puzzle_python\\extracted_content\\One\\HDOHZHFSTTK.txt\n",
      "C:\\Users\\VALLABH KULKARNI\\Python Codes\\Advanced Python Modules\\Puzzle_python\\extracted_content\\One\\HFUTPPAXDIS.txt\n",
      "C:\\Users\\VALLABH KULKARNI\\Python Codes\\Advanced Python Modules\\Puzzle_python\\extracted_content\\One\\HMNZTLIFGPD.txt\n",
      "C:\\Users\\VALLABH KULKARNI\\Python Codes\\Advanced Python Modules\\Puzzle_python\\extracted_content\\One\\HRQFTHKVJTL.txt\n",
      "C:\\Users\\VALLABH KULKARNI\\Python Codes\\Advanced Python Modules\\Puzzle_python\\extracted_content\\One\\HVUTZEVMSBW.txt\n",
      "C:\\Users\\VALLABH KULKARNI\\Python Codes\\Advanced Python Modules\\Puzzle_python\\extracted_content\\One\\JDLRVFCXYLU.txt\n",
      "C:\\Users\\VALLABH KULKARNI\\Python Codes\\Advanced Python Modules\\Puzzle_python\\extracted_content\\One\\JEHBLZPUPSP.txt\n",
      "C:\\Users\\VALLABH KULKARNI\\Python Codes\\Advanced Python Modules\\Puzzle_python\\extracted_content\\One\\JLTXKIGCWDL.txt\n",
      "C:\\Users\\VALLABH KULKARNI\\Python Codes\\Advanced Python Modules\\Puzzle_python\\extracted_content\\One\\JQUOBKFUACN.txt\n",
      "C:\\Users\\VALLABH KULKARNI\\Python Codes\\Advanced Python Modules\\Puzzle_python\\extracted_content\\One\\JTHSNBNPQSE.txt\n",
      "C:\\Users\\VALLABH KULKARNI\\Python Codes\\Advanced Python Modules\\Puzzle_python\\extracted_content\\One\\KCXGNQCZBLO.txt\n",
      "C:\\Users\\VALLABH KULKARNI\\Python Codes\\Advanced Python Modules\\Puzzle_python\\extracted_content\\One\\KFIUZFERLET.txt\n",
      "C:\\Users\\VALLABH KULKARNI\\Python Codes\\Advanced Python Modules\\Puzzle_python\\extracted_content\\One\\KMMLGJOWLGI.txt\n",
      "C:\\Users\\VALLABH KULKARNI\\Python Codes\\Advanced Python Modules\\Puzzle_python\\extracted_content\\One\\KNBSKDREHQU.txt\n",
      "C:\\Users\\VALLABH KULKARNI\\Python Codes\\Advanced Python Modules\\Puzzle_python\\extracted_content\\One\\KTXDHIOKAUI.txt\n",
      "C:\\Users\\VALLABH KULKARNI\\Python Codes\\Advanced Python Modules\\Puzzle_python\\extracted_content\\One\\LDGOCUQJNNS.txt\n",
      "C:\\Users\\VALLABH KULKARNI\\Python Codes\\Advanced Python Modules\\Puzzle_python\\extracted_content\\One\\LFEATJAAYDC.txt\n",
      "C:\\Users\\VALLABH KULKARNI\\Python Codes\\Advanced Python Modules\\Puzzle_python\\extracted_content\\One\\LHODFIKVTQA.txt\n",
      "C:\\Users\\VALLABH KULKARNI\\Python Codes\\Advanced Python Modules\\Puzzle_python\\extracted_content\\One\\LIFDHOFKWOI.txt\n",
      "C:\\Users\\VALLABH KULKARNI\\Python Codes\\Advanced Python Modules\\Puzzle_python\\extracted_content\\One\\LPNDVDXPZIG.txt\n",
      "C:\\Users\\VALLABH KULKARNI\\Python Codes\\Advanced Python Modules\\Puzzle_python\\extracted_content\\One\\PDJMSMNKIRM.txt\n",
      "C:\\Users\\VALLABH KULKARNI\\Python Codes\\Advanced Python Modules\\Puzzle_python\\extracted_content\\One\\PHWAVPEKAER.txt\n",
      "C:\\Users\\VALLABH KULKARNI\\Python Codes\\Advanced Python Modules\\Puzzle_python\\extracted_content\\One\\PLYCGPVEAWO.txt\n",
      "C:\\Users\\VALLABH KULKARNI\\Python Codes\\Advanced Python Modules\\Puzzle_python\\extracted_content\\One\\PQNVCVJINAR.txt\n",
      "C:\\Users\\VALLABH KULKARNI\\Python Codes\\Advanced Python Modules\\Puzzle_python\\extracted_content\\One\\PTOBBCJYURJ.txt\n",
      "C:\\Users\\VALLABH KULKARNI\\Python Codes\\Advanced Python Modules\\Puzzle_python\\extracted_content\\Three\\VAQIJTDOFUJ.txt\n",
      "C:\\Users\\VALLABH KULKARNI\\Python Codes\\Advanced Python Modules\\Puzzle_python\\extracted_content\\Three\\VCFJCGJFBIH.txt\n",
      "C:\\Users\\VALLABH KULKARNI\\Python Codes\\Advanced Python Modules\\Puzzle_python\\extracted_content\\Three\\VSXFSTABZDY.txt\n",
      "C:\\Users\\VALLABH KULKARNI\\Python Codes\\Advanced Python Modules\\Puzzle_python\\extracted_content\\Three\\VVHFVZUNLOO.txt\n",
      "C:\\Users\\VALLABH KULKARNI\\Python Codes\\Advanced Python Modules\\Puzzle_python\\extracted_content\\Three\\VVKGWLRMHLU.txt\n",
      "C:\\Users\\VALLABH KULKARNI\\Python Codes\\Advanced Python Modules\\Puzzle_python\\extracted_content\\Three\\XAJMCPEWFNI.txt\n",
      "C:\\Users\\VALLABH KULKARNI\\Python Codes\\Advanced Python Modules\\Puzzle_python\\extracted_content\\Three\\XFHJOTNPEJG.txt\n",
      "C:\\Users\\VALLABH KULKARNI\\Python Codes\\Advanced Python Modules\\Puzzle_python\\extracted_content\\Three\\XHZPVUQTXIO.txt\n",
      "C:\\Users\\VALLABH KULKARNI\\Python Codes\\Advanced Python Modules\\Puzzle_python\\extracted_content\\Three\\XJCWENFFGHB.txt\n",
      "C:\\Users\\VALLABH KULKARNI\\Python Codes\\Advanced Python Modules\\Puzzle_python\\extracted_content\\Three\\XVMPVSVYKFR.txt\n",
      "C:\\Users\\VALLABH KULKARNI\\Python Codes\\Advanced Python Modules\\Puzzle_python\\extracted_content\\Three\\YCESZHJDBXH.txt\n",
      "C:\\Users\\VALLABH KULKARNI\\Python Codes\\Advanced Python Modules\\Puzzle_python\\extracted_content\\Three\\YDQFMWXOUMW.txt\n",
      "C:\\Users\\VALLABH KULKARNI\\Python Codes\\Advanced Python Modules\\Puzzle_python\\extracted_content\\Three\\YQBIUHSUEVW.txt\n",
      "C:\\Users\\VALLABH KULKARNI\\Python Codes\\Advanced Python Modules\\Puzzle_python\\extracted_content\\Three\\YQRNCMNFFHW.txt\n",
      "C:\\Users\\VALLABH KULKARNI\\Python Codes\\Advanced Python Modules\\Puzzle_python\\extracted_content\\Three\\YYIZGBTQHZP.txt\n",
      "C:\\Users\\VALLABH KULKARNI\\Python Codes\\Advanced Python Modules\\Puzzle_python\\extracted_content\\Three\\ZEZKKRBIZEB.txt\n",
      "C:\\Users\\VALLABH KULKARNI\\Python Codes\\Advanced Python Modules\\Puzzle_python\\extracted_content\\Three\\ZKQJXAYKPVD.txt\n",
      "C:\\Users\\VALLABH KULKARNI\\Python Codes\\Advanced Python Modules\\Puzzle_python\\extracted_content\\Three\\ZOWVXWPOGWP.txt\n",
      "C:\\Users\\VALLABH KULKARNI\\Python Codes\\Advanced Python Modules\\Puzzle_python\\extracted_content\\Three\\ZXEZRQXZNPG.txt\n",
      "C:\\Users\\VALLABH KULKARNI\\Python Codes\\Advanced Python Modules\\Puzzle_python\\extracted_content\\Three\\ZXIBJMPROKW.txt\n",
      "C:\\Users\\VALLABH KULKARNI\\Python Codes\\Advanced Python Modules\\Puzzle_python\\extracted_content\\Two\\GKQBQRCTNNK.txt\n",
      "C:\\Users\\VALLABH KULKARNI\\Python Codes\\Advanced Python Modules\\Puzzle_python\\extracted_content\\Two\\GMMQQUBMJNR.txt\n",
      "C:\\Users\\VALLABH KULKARNI\\Python Codes\\Advanced Python Modules\\Puzzle_python\\extracted_content\\Two\\GQTJJORZBXY.txt\n",
      "C:\\Users\\VALLABH KULKARNI\\Python Codes\\Advanced Python Modules\\Puzzle_python\\extracted_content\\Two\\GTOTCIWMDBY.txt\n",
      "C:\\Users\\VALLABH KULKARNI\\Python Codes\\Advanced Python Modules\\Puzzle_python\\extracted_content\\Two\\GXYSEPAFRTP.txt\n",
      "C:\\Users\\VALLABH KULKARNI\\Python Codes\\Advanced Python Modules\\Puzzle_python\\extracted_content\\Two\\HARDNJGDRBC.txt\n",
      "C:\\Users\\VALLABH KULKARNI\\Python Codes\\Advanced Python Modules\\Puzzle_python\\extracted_content\\Two\\HEORIXOTANT.txt\n",
      "C:\\Users\\VALLABH KULKARNI\\Python Codes\\Advanced Python Modules\\Puzzle_python\\extracted_content\\Two\\HMUTDOVNYTV.txt\n",
      "C:\\Users\\VALLABH KULKARNI\\Python Codes\\Advanced Python Modules\\Puzzle_python\\extracted_content\\Two\\HMZXPBOPRAE.txt\n",
      "C:\\Users\\VALLABH KULKARNI\\Python Codes\\Advanced Python Modules\\Puzzle_python\\extracted_content\\Two\\HTOHSTYXTCO.txt\n",
      "C:\\Users\\VALLABH KULKARNI\\Python Codes\\Advanced Python Modules\\Puzzle_python\\extracted_content\\Two\\LCJZYDHBFRM.txt\n",
      "C:\\Users\\VALLABH KULKARNI\\Python Codes\\Advanced Python Modules\\Puzzle_python\\extracted_content\\Two\\LSQSTGPIGIY.txt\n",
      "C:\\Users\\VALLABH KULKARNI\\Python Codes\\Advanced Python Modules\\Puzzle_python\\extracted_content\\Two\\LULTNYAQEJG.txt\n",
      "C:\\Users\\VALLABH KULKARNI\\Python Codes\\Advanced Python Modules\\Puzzle_python\\extracted_content\\Two\\LVMBINRBJXL.txt\n",
      "C:\\Users\\VALLABH KULKARNI\\Python Codes\\Advanced Python Modules\\Puzzle_python\\extracted_content\\Two\\LYZEQCVYNEZ.txt\n",
      "C:\\Users\\VALLABH KULKARNI\\Python Codes\\Advanced Python Modules\\Puzzle_python\\extracted_content\\Two\\OHZOUOSFJQC.txt\n",
      "C:\\Users\\VALLABH KULKARNI\\Python Codes\\Advanced Python Modules\\Puzzle_python\\extracted_content\\Two\\OIHMLGMWTHL.txt\n",
      "C:\\Users\\VALLABH KULKARNI\\Python Codes\\Advanced Python Modules\\Puzzle_python\\extracted_content\\Two\\OKWFOOYTXFU.txt\n",
      "C:\\Users\\VALLABH KULKARNI\\Python Codes\\Advanced Python Modules\\Puzzle_python\\extracted_content\\Two\\OMWIMVRCMYM.txt\n",
      "C:\\Users\\VALLABH KULKARNI\\Python Codes\\Advanced Python Modules\\Puzzle_python\\extracted_content\\Two\\OYMAGXAGWHJ.txt\n",
      "C:\\Users\\VALLABH KULKARNI\\Python Codes\\Advanced Python Modules\\Puzzle_python\\extracted_content\\Two\\SIKFPPLCJDN.txt\n",
      "C:\\Users\\VALLABH KULKARNI\\Python Codes\\Advanced Python Modules\\Puzzle_python\\extracted_content\\Two\\SJMJLDGPBSJ.txt\n",
      "C:\\Users\\VALLABH KULKARNI\\Python Codes\\Advanced Python Modules\\Puzzle_python\\extracted_content\\Two\\SOFUJYXTIMK.txt\n",
      "C:\\Users\\VALLABH KULKARNI\\Python Codes\\Advanced Python Modules\\Puzzle_python\\extracted_content\\Two\\SPDZYGDHEWO.txt\n",
      "C:\\Users\\VALLABH KULKARNI\\Python Codes\\Advanced Python Modules\\Puzzle_python\\extracted_content\\Two\\SWOFXREEHWA.txt\n"
     ]
    }
   ],
   "source": [
    "required_filepath = ''\n",
    "\n",
    "for folder in os.listdir(path):\n",
    "    folder_path = path + f'\\\\{folder}'\n",
    "    # print(folder_path)\n",
    "    try:\n",
    "        for file in os.listdir(folder_path):\n",
    "            file_path = folder_path + f'\\\\{file}'\n",
    "            print(file_path)\n",
    "            f = open(file_path,'r')\n",
    "            content = f.read()\n",
    "            # print(content)\n",
    "            if re.search(pattern,content):\n",
    "                print(re.search(pattern,content))\n",
    "                required_filepath = file_path\n",
    "                f.close()\n",
    "                break\n",
    "            f.close()\n",
    "    except:\n",
    "        print(\"Can't See file\")\n",
    "\n",
    "    "
   ]
  },
  {
   "cell_type": "code",
   "execution_count": 178,
   "metadata": {},
   "outputs": [
    {
     "data": {
      "text/plain": [
       "'C:\\\\Users\\\\VALLABH KULKARNI\\\\Python Codes\\\\Advanced Python Modules\\\\Puzzle_python\\\\extracted_content\\\\Four\\\\EMTGPSXQEJX.txt'"
      ]
     },
     "execution_count": 178,
     "metadata": {},
     "output_type": "execute_result"
    }
   ],
   "source": [
    "required_filepath"
   ]
  },
  {
   "cell_type": "code",
   "execution_count": 210,
   "metadata": {},
   "outputs": [],
   "source": [
    "f = open(required_filepath,'r')"
   ]
  },
  {
   "cell_type": "code",
   "execution_count": 212,
   "metadata": {},
   "outputs": [],
   "source": [
    "content = f.read()"
   ]
  },
  {
   "cell_type": "code",
   "execution_count": 214,
   "metadata": {},
   "outputs": [
    {
     "name": "stdout",
     "output_type": "stream",
     "text": [
      "Justocras est placerat dui nascetur, varius senectus aptent suscipit esse aliquip erat labore sociosqu consequat.Facilisinam iusto fames, praesent dictumstvivamus consecteturpraesent felis ipsumcurabitur imperdietaliquam egestasmauris pharetra.Tristique luctus urnamorbi quisque nec massaphasellus.Fringilla dictumstvivamus laoreetphasellus delenit.Ipsuminteger ultrices nonumy per gubergren natoque pharetra, labore semvestibulum vivamus donec massapellentesque.Veniam et ligula commodo aliquam fusce laoreetphasellus sem, labore parturient magnainteger eleifend odio elitduis.Leopraesent quod phasellus fermentumfusce, magna conubia mollis eirmod.Magnapraesent ipsuminteger soluta accusam.Etiam placerat venenatis nunc sodales, massapellentesque feugait dolores.Erosin neque eos, netus molestie takimata cras nisised nullam.Lacus nostra morbi.Lectusnullam lobortisetiam nihil iaculis fermentumfusce imperdietaliquam, semvestibulum sempermorbi nisi duimauris duis.Ullamcorper urna viverra mipellentesque massapellentesque arcumorbi, feugiat zzril aliquammauris 719-266-2837 cursus tation quam id.Magna nullasuspendisse, sodalessed inceptos facilisis taciti lectus.Scelerisque euismod, egestasmauris exerci sed dolor praesent pharetra facilisis.Aenean facilisinam malesuada torquent aptent, tempor temporsuspendisse assum pellentesque dictum quammaecenas quod dolor euismod.Te amet ante risus quammaecenas magna viverra, laoreetphasellus cras elit elitnunc sanctus sempermorbi luptatum.Class sem bibendum enim, conguenulla facilisisproin amet erosin bibendumin odio.Et assum sedfusce, porta elementum eratproin aaenean urnapraesent eos taciti.Duo tation id risus illum molestie, justocras massaphasellus zzril muspellentesque autem wisi pharetra curae nobis.Convallis ea dictumstvivamus, tation metus mollis taciti egestas.Tristique quod blandit mi, parturient interdumdonec sedfusce malesuada cursus elitvivamus auctor.Semper facilisisat vehicula nobis tortorcurabitur convallis.Volutpat wisi vestibulum sodalessed imperdiet nonumy.Euismod erat orci, sedfusce conguenulla pulvinarvestibulum interdumdonec.Euismod scelerisque varius orci, luctus wisi antesuspendisse accumsannulla dolor faucibus pharetra.Fusce et ad tincidunt qui aptent mollis, metusdonec pellentesque maecenas ametduis mauris soluta.Rebum mattis porta tristique placerat nisised eleifend viverra, imperdiet nequeetiam tortor lacus lectus amet conguenulla.Quod elitduis consecteturpraesent auctormauris dolores.Temporsuspendisse eget urnamorbi enimaliquam enimsed felis soluta, potenti proin accumsannulla porta exerci bibendum mazim.Eratproin tempor nondonec erat auctormauris, vivamus potenti feliscras nullamauris consetetur.Fermentumfusce erosin aliquet lectusnullam habitant odio illum dictumst, urnapraesent consetetur amet varius facilisicurabitur sapien ligula.Tempus turpis class telluspraesent enimnulla nullasuspendisse, conubia bibendumin variuscras enimaliquam urnapraesent euismod te vestibulumnulla quis.Leopraesent metus turpis, ut minulla id consectetuer.Tortorvestibulum facilisisproin lectusnullam fermentumfusce.Consectetuer eu, vestibulumnulla pulvinar semper volutpatut conguenulla.Bibendumin nullam.Erat purusvestibulum elitnunc facilisisat, enimsed telluspraesent penatibus.Assum stet cum, metus dignissim magnainteger arcu antesuspendisse.Nostrud enimaliquam bibendumin neque, fermentum posuere kasd nulla laoreet facilisisproin fusce vero sapien.Liber feugiat nam magnainteger.Conguenulla accumsan cras semvestibulum cum, eleifend mattis interdum pretium volutpatut dapibusnam congue erosin dis facilisinam.Torquent velit metusdonec est tincidunt, imperdietaliquam dapibusnam orci possim condimentum eos libero.Nostra mipellentesque a, nisi no luctus nulla auctormauris.Vulputate integer dolores enimnulla, massa vestibulumnulla consectetuer exerci ipsumcurabitur nulla duimauris facilisicurabitur etiam.Penatibus nunc vulputate mi facilisicurabitur massa, sed mipellentesque ipsumcurabitur duis hac.Te massa rhoncus feugiat dictumst semper lorem, posuere pharetra proin rebum ultrices bibendum vero.Interdum sed soluta maecenas clita pretium inceptos, mazim quis laoreetphasellus luctus urnamorbi.Eros nonummy nunc zzril veniam mazim, sea cum amet facilisis luctus gravida a dolore.Ex invidunt arcumorbi velit mi.\n"
     ]
    }
   ],
   "source": [
    "print(content)"
   ]
  },
  {
   "cell_type": "code",
   "execution_count": 216,
   "metadata": {},
   "outputs": [],
   "source": [
    "result = re.search(pattern, content)"
   ]
  },
  {
   "cell_type": "code",
   "execution_count": 226,
   "metadata": {},
   "outputs": [
    {
     "data": {
      "text/plain": [
       "<re.Match object; span=(1062, 1074), match='719-266-2837'>"
      ]
     },
     "execution_count": 226,
     "metadata": {},
     "output_type": "execute_result"
    }
   ],
   "source": [
    "result"
   ]
  },
  {
   "cell_type": "code",
   "execution_count": 230,
   "metadata": {},
   "outputs": [
    {
     "data": {
      "text/plain": [
       "'719-266-2837'"
      ]
     },
     "execution_count": 230,
     "metadata": {},
     "output_type": "execute_result"
    }
   ],
   "source": [
    "result.group()"
   ]
  },
  {
   "cell_type": "code",
   "execution_count": null,
   "metadata": {},
   "outputs": [],
   "source": []
  }
 ],
 "metadata": {
  "anaconda-cloud": {},
  "kernelspec": {
   "display_name": "Python 3 (ipykernel)",
   "language": "python",
   "name": "python3"
  },
  "language_info": {
   "codemirror_mode": {
    "name": "ipython",
    "version": 3
   },
   "file_extension": ".py",
   "mimetype": "text/x-python",
   "name": "python",
   "nbconvert_exporter": "python",
   "pygments_lexer": "ipython3",
   "version": "3.11.5"
  }
 },
 "nbformat": 4,
 "nbformat_minor": 4
}
