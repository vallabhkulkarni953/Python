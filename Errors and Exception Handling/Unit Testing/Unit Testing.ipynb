{
 "cells": [
  {
   "cell_type": "markdown",
   "id": "e721dc2a-168b-4791-9728-981ae09b2657",
   "metadata": {},
   "source": [
    "# UNIT TESTING"
   ]
  },
  {
   "cell_type": "markdown",
   "id": "bd66a94d-2460-4fd4-ba10-ef531bee1740",
   "metadata": {},
   "source": [
    "#### As you begin to expand to larger multifile projects, it becomes important to have tests in place"
   ]
  },
  {
   "cell_type": "markdown",
   "id": "4938f962-32f5-4a73-8648-0fe989858f31",
   "metadata": {},
   "source": [
    "#### This way as you make changes or update your code, you can run your test files to make sure previous code still runs as expected. "
   ]
  },
  {
   "cell_type": "code",
   "execution_count": 1,
   "id": "e7ae9d12-31ab-436c-a688-d427f4766cb6",
   "metadata": {},
   "outputs": [],
   "source": [
    "# THERE ARE MANY TESTING TOOLS "
   ]
  },
  {
   "cell_type": "markdown",
   "id": "fdb0e898-9f66-4127-8a74-9b74fdc5e14c",
   "metadata": {},
   "source": [
    "#### 1) pylint : This is a library that looks at your code and reports back possible issues."
   ]
  },
  {
   "cell_type": "markdown",
   "id": "e66e4d8e-93ed-4050-aecf-8e9228fab6b8",
   "metadata": {},
   "source": [
    "#### 2) unittest : This built-in library allows you to test your own programs and check you are getting desired outputs."
   ]
  },
  {
   "cell_type": "markdown",
   "id": "2cca01a2-e91c-4dbb-850d-94723ddf8d8b",
   "metadata": {},
   "source": [
    "Python has a set of style convention rules known as \"PEP 8\""
   ]
  },
  {
   "cell_type": "markdown",
   "id": "010e76ee-1a66-4c97-a09f-a50e1daf400c",
   "metadata": {},
   "source": [
    "go to command prompt and install pylint using\n",
    "\n",
    "pip install pylint"
   ]
  },
  {
   "cell_type": "code",
   "execution_count": 2,
   "id": "930921cf-4e45-4b9e-936b-ff7b43e77b56",
   "metadata": {},
   "outputs": [
    {
     "name": "stdout",
     "output_type": "stream",
     "text": [
      "Requirement already satisfied: pylint in c:\\python312\\lib\\site-packages (3.3.1)\n",
      "Requirement already satisfied: platformdirs>=2.2.0 in c:\\users\\vallabh kulkarni\\appdata\\roaming\\python\\python312\\site-packages (from pylint) (4.2.0)\n",
      "Requirement already satisfied: astroid<=3.4.0-dev0,>=3.3.4 in c:\\python312\\lib\\site-packages (from pylint) (3.3.4)\n",
      "Requirement already satisfied: isort!=5.13.0,<6,>=4.2.5 in c:\\python312\\lib\\site-packages (from pylint) (5.13.2)\n",
      "Requirement already satisfied: mccabe<0.8,>=0.6 in c:\\python312\\lib\\site-packages (from pylint) (0.7.0)\n",
      "Requirement already satisfied: tomlkit>=0.10.1 in c:\\python312\\lib\\site-packages (from pylint) (0.13.2)\n",
      "Requirement already satisfied: dill>=0.3.6 in c:\\python312\\lib\\site-packages (from pylint) (0.3.9)\n",
      "Requirement already satisfied: colorama>=0.4.5 in c:\\users\\vallabh kulkarni\\appdata\\roaming\\python\\python312\\site-packages (from pylint) (0.4.6)\n",
      "Note: you may need to restart the kernel to use updated packages.\n"
     ]
    },
    {
     "name": "stderr",
     "output_type": "stream",
     "text": [
      "WARNING: Ignoring invalid distribution ~%p (c:\\Python312\\Lib\\site-packages)\n",
      "WARNING: Ignoring invalid distribution ~ (c:\\Python312\\Lib\\site-packages)\n",
      "WARNING: Ignoring invalid distribution ~-p (c:\\Python312\\Lib\\site-packages)\n",
      "WARNING: Ignoring invalid distribution ~=p (c:\\Python312\\Lib\\site-packages)\n",
      "WARNING: Ignoring invalid distribution ~ip (c:\\Python312\\Lib\\site-packages)\n",
      "WARNING: Ignoring invalid distribution ~~p (c:\\Python312\\Lib\\site-packages)\n",
      "WARNING: Ignoring invalid distribution ~%p (c:\\Python312\\Lib\\site-packages)\n",
      "WARNING: Ignoring invalid distribution ~ (c:\\Python312\\Lib\\site-packages)\n",
      "WARNING: Ignoring invalid distribution ~-p (c:\\Python312\\Lib\\site-packages)\n",
      "WARNING: Ignoring invalid distribution ~=p (c:\\Python312\\Lib\\site-packages)\n",
      "WARNING: Ignoring invalid distribution ~ip (c:\\Python312\\Lib\\site-packages)\n",
      "WARNING: Ignoring invalid distribution ~~p (c:\\Python312\\Lib\\site-packages)\n",
      "WARNING: Ignoring invalid distribution ~%p (c:\\Python312\\Lib\\site-packages)\n",
      "WARNING: Ignoring invalid distribution ~ (c:\\Python312\\Lib\\site-packages)\n",
      "WARNING: Ignoring invalid distribution ~-p (c:\\Python312\\Lib\\site-packages)\n",
      "WARNING: Ignoring invalid distribution ~=p (c:\\Python312\\Lib\\site-packages)\n",
      "WARNING: Ignoring invalid distribution ~ip (c:\\Python312\\Lib\\site-packages)\n",
      "WARNING: Ignoring invalid distribution ~~p (c:\\Python312\\Lib\\site-packages)\n"
     ]
    }
   ],
   "source": [
    "pip install pylint"
   ]
  },
  {
   "cell_type": "code",
   "execution_count": 3,
   "id": "81697b84-2be3-4420-8085-9a581cce14ba",
   "metadata": {},
   "outputs": [
    {
     "name": "stdout",
     "output_type": "stream",
     "text": [
      "Overwriting myfile.py\n"
     ]
    }
   ],
   "source": [
    "%%writefile myfile.py\n",
    "'''\n",
    "A Very Simple Script\n",
    "'''\n",
    "\n",
    "def my_func():\n",
    "    '''\n",
    "    A Simple Function\n",
    "    Pylint want spaces else it gives mixed indentation\n",
    "    '''\n",
    "\n",
    "    first = 1\n",
    "    second = 2\n",
    "    print(first)\n",
    "    print(second)\n",
    "    print('\\n')\n",
    "\n",
    "my_func()"
   ]
  },
  {
   "cell_type": "code",
   "execution_count": 4,
   "id": "4ad4cacf-d0f4-4c76-9d17-fc56a6e9be21",
   "metadata": {},
   "outputs": [
    {
     "name": "stdout",
     "output_type": "stream",
     "text": [
      "\n",
      "\n",
      "Report\n",
      "======\n",
      "7 statements analysed.\n",
      "\n",
      "Statistics by type\n",
      "------------------\n",
      "\n",
      "+---------+-------+-----------+-----------+------------+---------+\n",
      "|type     |number |old number |difference |%documented |%badname |\n",
      "+=========+=======+===========+===========+============+=========+\n",
      "|module   |1      |1          |=          |100.00      |0.00     |\n",
      "+---------+-------+-----------+-----------+------------+---------+\n",
      "|class    |0      |NC         |NC         |0           |0        |\n",
      "+---------+-------+-----------+-----------+------------+---------+\n",
      "|method   |0      |NC         |NC         |0           |0        |\n",
      "+---------+-------+-----------+-----------+------------+---------+\n",
      "|function |1      |1          |=          |100.00      |0.00     |\n",
      "+---------+-------+-----------+-----------+------------+---------+\n",
      "\n",
      "\n",
      "\n",
      "19 lines have been analyzed\n",
      "\n",
      "Raw metrics\n",
      "-----------\n",
      "\n",
      "+----------+-------+------+---------+-----------+\n",
      "|type      |number |%     |previous |difference |\n",
      "+==========+=======+======+=========+===========+\n",
      "|code      |8      |42.11 |8        |=          |\n",
      "+----------+-------+------+---------+-----------+\n",
      "|docstring |7      |36.84 |7        |=          |\n",
      "+----------+-------+------+---------+-----------+\n",
      "|comment   |0      |0.00  |NC       |NC         |\n",
      "+----------+-------+------+---------+-----------+\n",
      "|empty     |4      |21.05 |4        |=          |\n",
      "+----------+-------+------+---------+-----------+\n",
      "\n",
      "\n",
      "\n",
      "Duplication\n",
      "-----------\n",
      "\n",
      "+-------------------------+------+---------+-----------+\n",
      "|                         |now   |previous |difference |\n",
      "+=========================+======+=========+===========+\n",
      "|nb duplicated lines      |0     |0        |0          |\n",
      "+-------------------------+------+---------+-----------+\n",
      "|percent duplicated lines |0.000 |0.000    |=          |\n",
      "+-------------------------+------+---------+-----------+\n",
      "\n",
      "\n",
      "\n",
      "Messages by category\n",
      "--------------------\n",
      "\n",
      "+-----------+-------+---------+-----------+\n",
      "|type       |number |previous |difference |\n",
      "+===========+=======+=========+===========+\n",
      "|convention |0      |0        |0          |\n",
      "+-----------+-------+---------+-----------+\n",
      "|refactor   |0      |0        |0          |\n",
      "+-----------+-------+---------+-----------+\n",
      "|warning    |0      |0        |0          |\n",
      "+-----------+-------+---------+-----------+\n",
      "|error      |0      |0        |0          |\n",
      "+-----------+-------+---------+-----------+\n",
      "\n",
      "\n",
      "\n",
      "Messages\n",
      "--------\n",
      "\n",
      "+-----------+------------+\n",
      "|message id |occurrences |\n",
      "+===========+============+\n",
      "\n",
      "\n",
      "\n",
      "\n",
      "--------------------------------------------------------------------\n",
      "Your code has been rated at 10.00/10 (previous run: 10.00/10, +0.00)\n",
      "\n"
     ]
    }
   ],
   "source": [
    "! pylint myfile.py -r y"
   ]
  },
  {
   "cell_type": "code",
   "execution_count": 5,
   "id": "f47a5db4-5c1e-4b9c-a957-c9ed1152b799",
   "metadata": {},
   "outputs": [],
   "source": [
    "# While using cmd commands use ! in front of them "
   ]
  },
  {
   "cell_type": "code",
   "execution_count": null,
   "id": "8cc7e5cc-6de7-4d11-9bb2-d230c42d6cff",
   "metadata": {},
   "outputs": [],
   "source": []
  },
  {
   "cell_type": "code",
   "execution_count": null,
   "id": "fbe3613f-745f-4a18-80e8-1e8d3813d051",
   "metadata": {},
   "outputs": [],
   "source": []
  },
  {
   "cell_type": "code",
   "execution_count": null,
   "id": "4cdcf008-36a4-4e14-8f65-45e3a185a9de",
   "metadata": {},
   "outputs": [],
   "source": []
  },
  {
   "cell_type": "code",
   "execution_count": 6,
   "id": "15b0590c-067d-4283-b35c-c42f6bc9c703",
   "metadata": {},
   "outputs": [],
   "source": [
    "# USING unittest library"
   ]
  },
  {
   "cell_type": "code",
   "execution_count": null,
   "id": "96db1266-f520-48d4-b99f-491f1fadd14b",
   "metadata": {},
   "outputs": [],
   "source": []
  },
  {
   "cell_type": "code",
   "execution_count": 7,
   "id": "4c57111f-cbef-413a-8662-8b8fd7f965d8",
   "metadata": {},
   "outputs": [
    {
     "name": "stdout",
     "output_type": "stream",
     "text": [
      "Overwriting script.py\n"
     ]
    }
   ],
   "source": [
    "%%writefile script.py\n",
    "\n",
    "def capitalize_each_letter(text):\n",
    "    '''\n",
    "    Each letter of the string is to be converted to capital letter\n",
    "    '''\n",
    "    return text.upper()"
   ]
  },
  {
   "cell_type": "code",
   "execution_count": 8,
   "id": "b0ecdcfb-850c-4329-b59c-97773921c37a",
   "metadata": {},
   "outputs": [
    {
     "name": "stdout",
     "output_type": "stream",
     "text": [
      "Overwriting test_script.py\n"
     ]
    }
   ],
   "source": [
    "%%writefile test_script.py\n",
    "\n",
    "import unittest\n",
    "import script\n",
    "\n",
    "class TestCapital(unittest.TestCase):\n",
    "\n",
    "    def test_single_word(self):\n",
    "        text = 'Vallabh'\n",
    "        result = script.capitalize_each_letter(text)\n",
    "        self.assertEqual(result,'VALLABH')\n",
    "\n",
    "    def test_whole_string(self):\n",
    "        text = 'Vallabh Rajendra Kulkarni'\n",
    "        result = script.capitalize_each_letter(text)\n",
    "        self.assertEqual(result,'VALLABH RAJENDRA KULKARNI')\n",
    "\n",
    "if __name__ == '__main__':\n",
    "    unittest.main()"
   ]
  },
  {
   "cell_type": "code",
   "execution_count": 9,
   "id": "a330648a-07cd-4b4d-9c5e-6e3a314c62be",
   "metadata": {},
   "outputs": [],
   "source": [
    "! python script.py"
   ]
  },
  {
   "cell_type": "code",
   "execution_count": 10,
   "id": "be8b924e-87a9-431f-9744-5a894fd6b518",
   "metadata": {},
   "outputs": [
    {
     "name": "stderr",
     "output_type": "stream",
     "text": [
      "..\n",
      "----------------------------------------------------------------------\n",
      "Ran 2 tests in 0.000s\n",
      "\n",
      "OK\n"
     ]
    }
   ],
   "source": [
    "! python test_script.py"
   ]
  },
  {
   "cell_type": "code",
   "execution_count": null,
   "id": "48f6ecb3-1ffa-42f2-ae32-f6363a917ce0",
   "metadata": {},
   "outputs": [],
   "source": []
  }
 ],
 "metadata": {
  "kernelspec": {
   "display_name": "Python 3 (ipykernel)",
   "language": "python",
   "name": "python3"
  },
  "language_info": {
   "codemirror_mode": {
    "name": "ipython",
    "version": 3
   },
   "file_extension": ".py",
   "mimetype": "text/x-python",
   "name": "python",
   "nbconvert_exporter": "python",
   "pygments_lexer": "ipython3",
   "version": "3.12.1"
  }
 },
 "nbformat": 4,
 "nbformat_minor": 5
}
