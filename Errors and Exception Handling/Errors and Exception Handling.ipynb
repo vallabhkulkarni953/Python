{
 "cells": [
  {
   "cell_type": "markdown",
   "id": "fc286ea7-c8af-44ba-ba98-2997031b3f4f",
   "metadata": {},
   "source": [
    "#### We can use error handling to let the script continue with other code, even if there is an error."
   ]
  },
  {
   "cell_type": "markdown",
   "id": "e2328f55-545a-4264-a7e5-ed55ad913dda",
   "metadata": {},
   "source": [
    "## We use three keywords for this :\n",
    "### try : Block of code to be attempted that may lead to error\n",
    "### except : Block of code that will execute in case there is error in try block\n",
    "### finally : A final block of code that is to be executed, regardless of an error"
   ]
  },
  {
   "cell_type": "code",
   "execution_count": 1,
   "id": "ef47be78-e306-4016-bd4e-8bc165096878",
   "metadata": {},
   "outputs": [],
   "source": [
    "def add(n1,n2):\n",
    "    print(n1+n2)"
   ]
  },
  {
   "cell_type": "code",
   "execution_count": 2,
   "id": "e92099e2-f459-4002-91e7-33db80f35fbe",
   "metadata": {},
   "outputs": [
    {
     "name": "stdout",
     "output_type": "stream",
     "text": [
      "30\n"
     ]
    }
   ],
   "source": [
    "add(10,20)"
   ]
  },
  {
   "cell_type": "code",
   "execution_count": 3,
   "id": "3bdc0edc-c63e-4590-8f48-680c1b21ae26",
   "metadata": {},
   "outputs": [],
   "source": [
    "number1 = 10"
   ]
  },
  {
   "cell_type": "code",
   "execution_count": 4,
   "id": "cc180f33-b45c-401b-8351-8e5c99af4510",
   "metadata": {},
   "outputs": [
    {
     "name": "stdin",
     "output_type": "stream",
     "text": [
      "Please provide a Number :  20\n"
     ]
    }
   ],
   "source": [
    "number2 = input(\"Please provide a Number : \")"
   ]
  },
  {
   "cell_type": "code",
   "execution_count": 5,
   "id": "175c9327-3d8a-473e-9f76-47af0dd74206",
   "metadata": {},
   "outputs": [
    {
     "ename": "TypeError",
     "evalue": "unsupported operand type(s) for +: 'int' and 'str'",
     "output_type": "error",
     "traceback": [
      "\u001b[1;31m---------------------------------------------------------------------------\u001b[0m",
      "\u001b[1;31mTypeError\u001b[0m                                 Traceback (most recent call last)",
      "Cell \u001b[1;32mIn[5], line 1\u001b[0m\n\u001b[1;32m----> 1\u001b[0m \u001b[43madd\u001b[49m\u001b[43m(\u001b[49m\u001b[43mnumber1\u001b[49m\u001b[43m,\u001b[49m\u001b[43mnumber2\u001b[49m\u001b[43m)\u001b[49m\n\u001b[0;32m      2\u001b[0m \u001b[38;5;28mprint\u001b[39m(\u001b[38;5;124m\"\u001b[39m\u001b[38;5;124mSomething Happened!\u001b[39m\u001b[38;5;124m\"\u001b[39m)\n",
      "Cell \u001b[1;32mIn[1], line 2\u001b[0m, in \u001b[0;36madd\u001b[1;34m(n1, n2)\u001b[0m\n\u001b[0;32m      1\u001b[0m \u001b[38;5;28;01mdef\u001b[39;00m \u001b[38;5;21madd\u001b[39m(n1,n2):\n\u001b[1;32m----> 2\u001b[0m     \u001b[38;5;28mprint\u001b[39m(\u001b[43mn1\u001b[49m\u001b[38;5;241;43m+\u001b[39;49m\u001b[43mn2\u001b[49m)\n",
      "\u001b[1;31mTypeError\u001b[0m: unsupported operand type(s) for +: 'int' and 'str'"
     ]
    }
   ],
   "source": [
    "add(number1,number2)\n",
    "print(\"Something Happened!\")"
   ]
  },
  {
   "cell_type": "code",
   "execution_count": null,
   "id": "486fa717-b19c-4bb1-8415-33e3a86c0f69",
   "metadata": {},
   "outputs": [],
   "source": []
  },
  {
   "cell_type": "code",
   "execution_count": null,
   "id": "194f8520-f4c8-4532-9e25-e3e6c4e816b7",
   "metadata": {},
   "outputs": [],
   "source": []
  },
  {
   "cell_type": "code",
   "execution_count": 6,
   "id": "e0546861-1642-4d21-84ea-f97d732a0043",
   "metadata": {},
   "outputs": [
    {
     "name": "stdout",
     "output_type": "stream",
     "text": [
      "Addition Successful\n",
      "20\n"
     ]
    }
   ],
   "source": [
    "try:\n",
    "    # CODE THAT MAY RESULT IN ERROR\n",
    "    result = 10 + 10\n",
    "except:\n",
    "    print(\"Hey, it looks like you aren't adding correctly!\")\n",
    "else:\n",
    "    print('Addition Successful')\n",
    "    print(result)\n"
   ]
  },
  {
   "cell_type": "code",
   "execution_count": 7,
   "id": "746354be-2d1b-4b61-980c-184773ab2176",
   "metadata": {},
   "outputs": [
    {
     "data": {
      "text/plain": [
       "20"
      ]
     },
     "execution_count": 7,
     "metadata": {},
     "output_type": "execute_result"
    }
   ],
   "source": [
    "result"
   ]
  },
  {
   "cell_type": "code",
   "execution_count": null,
   "id": "00868012-8c99-4979-bdd5-a9a7c92e1790",
   "metadata": {},
   "outputs": [],
   "source": []
  },
  {
   "cell_type": "code",
   "execution_count": 8,
   "id": "a4be811b-5338-45ee-bcba-102509ea1543",
   "metadata": {},
   "outputs": [
    {
     "name": "stdout",
     "output_type": "stream",
     "text": [
      "All Other Exceptions\n",
      "I Always Run\n"
     ]
    }
   ],
   "source": [
    "try:\n",
    "    f = open('testfile','r')\n",
    "    f.write(\"Write a Test Line\")\n",
    "except TypeError:\n",
    "    print(\"There was a TypeError\")\n",
    "# except OSError:\n",
    "#     print(\"Hey you have an OS Error\")\n",
    "except:\n",
    "    print(\"All Other Exceptions\")\n",
    "finally:\n",
    "    print('I Always Run')\n",
    "    "
   ]
  },
  {
   "cell_type": "code",
   "execution_count": null,
   "id": "40131723-bb9a-4a7a-85df-b26e96afa474",
   "metadata": {},
   "outputs": [],
   "source": []
  },
  {
   "cell_type": "code",
   "execution_count": null,
   "id": "2cd20f93-db15-4d3b-a29e-e91b66da3ee0",
   "metadata": {},
   "outputs": [],
   "source": []
  },
  {
   "cell_type": "code",
   "execution_count": 9,
   "id": "22d010d8-feab-448f-b776-2abcf194665e",
   "metadata": {},
   "outputs": [],
   "source": [
    "def ask_for_int():\n",
    "    try:\n",
    "        result = int(input('Please provide a Number: '))\n",
    "    except:\n",
    "        print(\"Whoops! That is not a Number\")\n",
    "    finally:\n",
    "        print(\"End of try/except/finally\")\n",
    "                           "
   ]
  },
  {
   "cell_type": "code",
   "execution_count": 11,
   "id": "d5227023-59b0-4a35-9816-464a4df008e2",
   "metadata": {},
   "outputs": [
    {
     "name": "stdin",
     "output_type": "stream",
     "text": [
      "Please provide a Number:  200000000\n"
     ]
    },
    {
     "name": "stdout",
     "output_type": "stream",
     "text": [
      "End of try/except/finally\n"
     ]
    }
   ],
   "source": [
    "ask_for_int()"
   ]
  },
  {
   "cell_type": "code",
   "execution_count": null,
   "id": "d7df67e6-8c3c-4a08-af31-37013c94bba5",
   "metadata": {},
   "outputs": [],
   "source": []
  },
  {
   "cell_type": "code",
   "execution_count": null,
   "id": "fedc9fd4-a334-41f1-99d3-e1aa241f7d1e",
   "metadata": {},
   "outputs": [],
   "source": []
  },
  {
   "cell_type": "code",
   "execution_count": 43,
   "id": "f75e750d-9d92-4794-9587-cfc34421b05b",
   "metadata": {},
   "outputs": [],
   "source": [
    "def ask_for_int():\n",
    "    while True:\n",
    "        try:\n",
    "            result = int(input('Enter an Integer'))\n",
    "        except :\n",
    "            print('Whoops ! That is not a number !')\n",
    "            continue\n",
    "        else:\n",
    "            print(\"Yes Thank You!\")\n",
    "            break\n",
    "        # finally:\n",
    "        #     print(\"I am going to ask you again ! \\n\")"
   ]
  },
  {
   "cell_type": "code",
   "execution_count": 44,
   "id": "4a9bbb6e-7baa-47a3-ae4a-362c1d4d0ea2",
   "metadata": {},
   "outputs": [
    {
     "name": "stdin",
     "output_type": "stream",
     "text": [
      "Enter an Integer g\n"
     ]
    },
    {
     "name": "stdout",
     "output_type": "stream",
     "text": [
      "Whoops ! That is not a number !\n"
     ]
    },
    {
     "name": "stdin",
     "output_type": "stream",
     "text": [
      "Enter an Integer 4\n"
     ]
    },
    {
     "name": "stdout",
     "output_type": "stream",
     "text": [
      "Yes Thank You!\n"
     ]
    }
   ],
   "source": [
    "ask_for_int()"
   ]
  },
  {
   "cell_type": "code",
   "execution_count": 14,
   "id": "79b53a59-cd9a-41c1-a6e7-d43d3de41924",
   "metadata": {},
   "outputs": [],
   "source": [
    "# EVEN IF YOU APPLY A BREAK STATEMENT, THE CODE IN FINALLY WILL BE EXECUTED\n"
   ]
  },
  {
   "cell_type": "code",
   "execution_count": 39,
   "id": "961f310d-e9b9-471f-8488-2f089b49de78",
   "metadata": {},
   "outputs": [],
   "source": [
    "def check_finally():\n",
    "    for i in range(100):\n",
    "        try:\n",
    "            if i == 10:\n",
    "                i = i/0\n",
    "                break\n",
    "        except:\n",
    "            print(\"Error dividing by Zero!\")\n",
    "            break\n",
    "        finally:\n",
    "            print('This code will be executed even after break Statement for this current loop')\n",
    "            "
   ]
  },
  {
   "cell_type": "code",
   "execution_count": 40,
   "id": "81ab1f22-406d-4630-860f-b27a849bef17",
   "metadata": {},
   "outputs": [
    {
     "name": "stdout",
     "output_type": "stream",
     "text": [
      "This code will be executed even after break Statement for this current loop\n",
      "This code will be executed even after break Statement for this current loop\n",
      "This code will be executed even after break Statement for this current loop\n",
      "This code will be executed even after break Statement for this current loop\n",
      "This code will be executed even after break Statement for this current loop\n",
      "This code will be executed even after break Statement for this current loop\n",
      "This code will be executed even after break Statement for this current loop\n",
      "This code will be executed even after break Statement for this current loop\n",
      "This code will be executed even after break Statement for this current loop\n",
      "This code will be executed even after break Statement for this current loop\n",
      "Error dividing by Zero!\n",
      "This code will be executed even after break Statement for this current loop\n"
     ]
    }
   ],
   "source": [
    "check_finally()"
   ]
  },
  {
   "cell_type": "code",
   "execution_count": null,
   "id": "c68ebb2b-ad9c-4af2-9b13-b25b995c93c8",
   "metadata": {},
   "outputs": [],
   "source": []
  }
 ],
 "metadata": {
  "kernelspec": {
   "display_name": "Python 3 (ipykernel)",
   "language": "python",
   "name": "python3"
  },
  "language_info": {
   "codemirror_mode": {
    "name": "ipython",
    "version": 3
   },
   "file_extension": ".py",
   "mimetype": "text/x-python",
   "name": "python",
   "nbconvert_exporter": "python",
   "pygments_lexer": "ipython3",
   "version": "3.11.5"
  }
 },
 "nbformat": 4,
 "nbformat_minor": 5
}
