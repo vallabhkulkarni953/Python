{
 "cells": [
  {
   "cell_type": "markdown",
   "id": "d54515fc-ad4a-4748-9642-1af72ce44376",
   "metadata": {},
   "source": [
    "# Working with PDFs"
   ]
  },
  {
   "cell_type": "code",
   "execution_count": 2,
   "id": "42bce06d-af6b-4e55-a637-47e2099b82af",
   "metadata": {},
   "outputs": [],
   "source": [
    "# PDF : Portable Document Format\n",
    "# Developed by Adobe in 1990s"
   ]
  },
  {
   "cell_type": "code",
   "execution_count": 3,
   "id": "a4ec2492-06e1-44a9-898a-7665c29af84d",
   "metadata": {},
   "outputs": [],
   "source": [
    "# Many PDFs are not machine readable through Python"
   ]
  },
  {
   "cell_type": "code",
   "execution_count": 4,
   "id": "6febb004-13b3-48d8-85d1-5754a8b8a08c",
   "metadata": {},
   "outputs": [],
   "source": [
    "# A scanned PDF is highly unlikely to be readable."
   ]
  },
  {
   "cell_type": "code",
   "execution_count": 5,
   "id": "f6bae51a-dc9e-4f96-a7af-0df8b21c6ee1",
   "metadata": {},
   "outputs": [],
   "source": [
    "# Images, Tables, Format Adjustments can also render a PDF unreadable by Python"
   ]
  },
  {
   "cell_type": "code",
   "execution_count": 6,
   "id": "05dd6dd6-92ad-49df-b671-d691a9f9b5c3",
   "metadata": {},
   "outputs": [],
   "source": [
    "# Open Source PyPDF2 Library"
   ]
  },
  {
   "cell_type": "markdown",
   "id": "d4efafc1-8fb0-4442-b81e-ae96b14290ea",
   "metadata": {},
   "source": [
    "## PyPDF2 Library"
   ]
  },
  {
   "cell_type": "code",
   "execution_count": 8,
   "id": "f9041753-0f64-4a33-9838-225d802b84a5",
   "metadata": {},
   "outputs": [
    {
     "name": "stdout",
     "output_type": "stream",
     "text": [
      "Defaulting to user installation because normal site-packages is not writeable\n",
      "Requirement already satisfied: PyPDF2 in c:\\users\\vallabh kulkarni\\appdata\\roaming\\python\\python311\\site-packages (3.0.1)\n",
      "Note: you may need to restart the kernel to use updated packages.\n"
     ]
    }
   ],
   "source": [
    "pip install PyPDF2"
   ]
  },
  {
   "cell_type": "code",
   "execution_count": 9,
   "id": "26e418dd-39c6-43b8-a906-27f248a9708b",
   "metadata": {},
   "outputs": [],
   "source": [
    "import PyPDF2"
   ]
  },
  {
   "cell_type": "code",
   "execution_count": 10,
   "id": "f27c9e8f-fab1-4273-9680-97ca6dc0c223",
   "metadata": {},
   "outputs": [],
   "source": [
    "f = open('Working_Business_Proposal.pdf','rb')"
   ]
  },
  {
   "cell_type": "code",
   "execution_count": 11,
   "id": "a39cdf44-e546-49be-bd30-effe6dac1af8",
   "metadata": {},
   "outputs": [],
   "source": [
    "pdf_reader = PyPDF2.PdfReader(f)"
   ]
  },
  {
   "cell_type": "code",
   "execution_count": 12,
   "id": "bcf9ddcd-4e21-4d01-8578-4fa173624eb7",
   "metadata": {},
   "outputs": [
    {
     "data": {
      "text/plain": [
       "5"
      ]
     },
     "execution_count": 12,
     "metadata": {},
     "output_type": "execute_result"
    }
   ],
   "source": [
    "len(pdf_reader.pages)"
   ]
  },
  {
   "cell_type": "code",
   "execution_count": 13,
   "id": "0f9832f0-a115-4cbf-a7fd-9d4c47e0f4b8",
   "metadata": {},
   "outputs": [],
   "source": [
    "page_one = pdf_reader.pages[0]"
   ]
  },
  {
   "cell_type": "code",
   "execution_count": 14,
   "id": "fc16badb-c127-4f3a-827b-faa61f259338",
   "metadata": {},
   "outputs": [],
   "source": [
    "page_one_text = page_one.extract_text()"
   ]
  },
  {
   "cell_type": "code",
   "execution_count": 15,
   "id": "50992df1-b10a-4b5b-b288-83d5940699cc",
   "metadata": {},
   "outputs": [
    {
     "data": {
      "text/plain": [
       "'Business Proposal The Revolution is Coming Leverage agile frameworks to provide a robust synopsis for high level overviews. Iterative approaches to corporate strategy foster collaborative thinking to further the overall value proposition. Organically grow the holistic world view of disruptive innovation via workplace diversity and empowerment. Bring to the table win-win survival strategies to ensure proactive domination. At the end of the day, going forward, a new normal that has evolved from generation X is on the runway heading towards a streamlined cloud solution. User generated content in real-time will have multiple touchpoints for offshoring. Capitalize on low hanging fruit to identify a ballpark value added activity to beta test. Override the digital divide with additional clickthroughs from DevOps. Nanotechnology immersion along the information highway will close the loop on focusing solely on the bottom line. Podcasting operational change management inside of workﬂows to establish a framework. Taking seamless key performance indicators ofﬂine to maximise the long tail. Keeping your eye on the ball while performing a deep dive on the start-up mentality to derive convergence on cross-platform integration. Collaboratively administrate empowered markets via plug-and-play networks. Dynamically procrastinate B2C users after installed base beneﬁts. Dramatically visualize customer directed convergence without revolutionary ROI. Efﬁciently unleash cross-media information without cross-media value. Quickly maximize timely deliverables for real-time schemas. Dramatically maintain clicks-and-mortar solutions without functional solutions. BUSINESS PROPOSAL!1'"
      ]
     },
     "execution_count": 15,
     "metadata": {},
     "output_type": "execute_result"
    }
   ],
   "source": [
    "page_one_text"
   ]
  },
  {
   "cell_type": "code",
   "execution_count": 16,
   "id": "10fddb0c-ca96-4014-a4a0-a77228605b4e",
   "metadata": {},
   "outputs": [],
   "source": [
    "f.close()"
   ]
  },
  {
   "cell_type": "markdown",
   "id": "e5f82eb7-177a-4d03-93e9-84f35d9cdba3",
   "metadata": {},
   "source": [
    "### Adding pages to PDF"
   ]
  },
  {
   "cell_type": "code",
   "execution_count": 18,
   "id": "c65772bd-5063-4676-8f52-2d762c3950c7",
   "metadata": {},
   "outputs": [],
   "source": [
    "f = open('Working_Business_Proposal.pdf','rb')"
   ]
  },
  {
   "cell_type": "code",
   "execution_count": 19,
   "id": "a530e494-28a5-41df-8295-473daea65c38",
   "metadata": {},
   "outputs": [],
   "source": [
    "pdf_reader = PyPDF2.PdfReader(f)"
   ]
  },
  {
   "cell_type": "code",
   "execution_count": 20,
   "id": "fb06e4ef-9cde-428e-ae7e-ee4bbdb1b790",
   "metadata": {},
   "outputs": [],
   "source": [
    "first_page = pdf_reader.pages[0]"
   ]
  },
  {
   "cell_type": "code",
   "execution_count": 21,
   "id": "28a35ef8-8488-487e-81c6-d39c81f7b85a",
   "metadata": {},
   "outputs": [],
   "source": [
    "pdf_writer = PyPDF2.PdfWriter()"
   ]
  },
  {
   "cell_type": "code",
   "execution_count": 22,
   "id": "fd1245b6-9fbd-4e47-bbb6-1c2870539655",
   "metadata": {},
   "outputs": [
    {
     "data": {
      "text/plain": [
       "PyPDF2._page.PageObject"
      ]
     },
     "execution_count": 22,
     "metadata": {},
     "output_type": "execute_result"
    }
   ],
   "source": [
    "type(first_page)"
   ]
  },
  {
   "cell_type": "code",
   "execution_count": 23,
   "id": "f1a45c9e-7e3f-477a-b5b0-474d9dc00e8b",
   "metadata": {},
   "outputs": [
    {
     "data": {
      "text/plain": [
       "{'/Type': '/Page',\n",
       " '/Parent': NullObject,\n",
       " '/Resources': {},\n",
       " '/MediaBox': RectangleObject([0, 0, 612, 792])}"
      ]
     },
     "execution_count": 23,
     "metadata": {},
     "output_type": "execute_result"
    }
   ],
   "source": [
    "# pdf_writer.add_Page(first_page)\n",
    "pdf_writer.add_blank_page(width=612, height=792)"
   ]
  },
  {
   "cell_type": "code",
   "execution_count": 24,
   "id": "9059308d-6deb-47a2-b410-1e0bf76faae0",
   "metadata": {},
   "outputs": [],
   "source": [
    "pdf_output = open('Some_BrandNew_Doc.pdf','wb')"
   ]
  },
  {
   "cell_type": "code",
   "execution_count": 34,
   "id": "c14625a2-d0c3-442b-a6f1-a60745d230c0",
   "metadata": {},
   "outputs": [
    {
     "data": {
      "text/plain": [
       "(False, <_io.BufferedWriter name='Some_BrandNew_Doc.pdf'>)"
      ]
     },
     "execution_count": 34,
     "metadata": {},
     "output_type": "execute_result"
    }
   ],
   "source": [
    "pdf_writer.write(pdf_output)"
   ]
  },
  {
   "cell_type": "code",
   "execution_count": 26,
   "id": "2d18f10c-e516-4b06-8691-9ec5feaf310c",
   "metadata": {},
   "outputs": [],
   "source": [
    "# f.close()"
   ]
  },
  {
   "cell_type": "code",
   "execution_count": 40,
   "id": "f7a118a1-ffed-4ad7-9d4d-b406d3cec7a9",
   "metadata": {},
   "outputs": [
    {
     "name": "stdout",
     "output_type": "stream",
     "text": [
      "PDF successfully written to Some_BrandNew_Doc.pdf\n"
     ]
    }
   ],
   "source": [
    "output_filepath = 'Some_BrandNew_Doc.pdf'\n",
    "with open(output_filepath, 'wb') as pdf_output_file:\n",
    "    pdf_writer.write(pdf_output_file)\n",
    "\n",
    "print(f\"PDF successfully written to {output_filepath}\")"
   ]
  },
  {
   "cell_type": "code",
   "execution_count": 42,
   "id": "c2318971-bd26-4dfa-bf48-70429c42555e",
   "metadata": {},
   "outputs": [],
   "source": [
    "f = open('Working_Business_Proposal.pdf','rb')"
   ]
  },
  {
   "cell_type": "code",
   "execution_count": 44,
   "id": "dc612bd8-ab5f-4902-a766-db186d3ababc",
   "metadata": {},
   "outputs": [],
   "source": [
    "pdf_text = []"
   ]
  },
  {
   "cell_type": "code",
   "execution_count": 46,
   "id": "ee1ebd87-8e42-481e-b5d1-1dd4e986b5c2",
   "metadata": {},
   "outputs": [],
   "source": [
    "pdf_reader = PyPDF2.PdfReader(f)"
   ]
  },
  {
   "cell_type": "code",
   "execution_count": 52,
   "id": "740de2db-009c-4da1-805b-dea0a8b9f73c",
   "metadata": {},
   "outputs": [],
   "source": [
    "for num in range(len(pdf_reader.pages)):\n",
    "    page = pdf_reader.pages[num]\n",
    "\n",
    "    pdf_text.append(page.extract_text())"
   ]
  },
  {
   "cell_type": "code",
   "execution_count": 56,
   "id": "8321d766-ae64-46f4-be70-8fbcf09c1aca",
   "metadata": {},
   "outputs": [
    {
     "data": {
      "text/plain": [
       "'Completely synergize resource taxing relationships via premier niche markets. Professionally cultivate one-to-one customer service with robust ideas. Dynamically innovate resource-leveling customer service for state of the art customer service. Objectively innovate empowered manufactured products whereas parallel platforms. Holisticly predominate extensible testing procedures for reliable supply chains. Dramatically engage top-line web services vis-a-vis cutting-edge deliverables. Proactively envisioned multimedia based expertise and cross-media growth strategies. Seamlessly visualize quality intellectual capital without superior collaboration and idea-sharing. Holistically pontiﬁcate installed base portals after maintainable products. Phosﬂuorescently engage worldwide methodologies with web-enabled technology. Interactively coordinate proactive e-commerce via process-centric \"outside the box\" thinking. Completely pursue scalable customer service through sustainable potentialities. Collaboratively administrate turnkey channels whereas virtual e-tailers. Objectively seize scalable metrics whereas proactive e-services. Seamlessly empower fully researched growth strategies and interoperable internal or \"organic\" sources. Credibly innovate granular internal or \"organic\" sources whereas high standards in web-readiness. Energistically scale future-proof core competencies vis-a-vis impactful experiences. Dramatically synthesize integrated schemas with optimal networks. Interactively procrastinate high-payoff content without backward-compatible data. Quickly cultivate optimal processes and tactical architectures. Completely iterate covalent strategic theme areas via accurate e-markets. Globally incubate standards compliant channels before scalable beneﬁts. Quickly disseminate superior deliverables whereas web-enabled BUSINESS PROPOSAL!2'"
      ]
     },
     "execution_count": 56,
     "metadata": {},
     "output_type": "execute_result"
    }
   ],
   "source": [
    "pdf_text[1]"
   ]
  },
  {
   "cell_type": "code",
   "execution_count": null,
   "id": "a78bcade-ad6d-4619-a4f5-4818b6cd656f",
   "metadata": {},
   "outputs": [],
   "source": []
  }
 ],
 "metadata": {
  "kernelspec": {
   "display_name": "Python 3 (ipykernel)",
   "language": "python",
   "name": "python3"
  },
  "language_info": {
   "codemirror_mode": {
    "name": "ipython",
    "version": 3
   },
   "file_extension": ".py",
   "mimetype": "text/x-python",
   "name": "python",
   "nbconvert_exporter": "python",
   "pygments_lexer": "ipython3",
   "version": "3.11.5"
  }
 },
 "nbformat": 4,
 "nbformat_minor": 5
}
