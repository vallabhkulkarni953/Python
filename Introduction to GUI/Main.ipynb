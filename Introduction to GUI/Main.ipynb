{
 "cells": [
  {
   "cell_type": "markdown",
   "id": "c26a887a-0b48-4470-a9f1-3407ea3819f4",
   "metadata": {},
   "source": [
    "## Interact and Interactive"
   ]
  },
  {
   "cell_type": "code",
   "execution_count": 1,
   "id": "7210c963-3515-4b67-b7fc-9569e1f79715",
   "metadata": {},
   "outputs": [],
   "source": [
    "from ipywidgets import interact, interactive, fixed\n",
    "import ipywidgets as widgets"
   ]
  },
  {
   "cell_type": "code",
   "execution_count": 3,
   "id": "cd530ac5-ebd1-4faf-a62d-4441647ca5af",
   "metadata": {},
   "outputs": [],
   "source": [
    "# Autogenerate User Interface control for function arguments"
   ]
  },
  {
   "cell_type": "code",
   "execution_count": 17,
   "id": "ea35549f-4b38-4dc5-befc-46d61684b0a4",
   "metadata": {},
   "outputs": [],
   "source": [
    "def func(x):\n",
    "    return x"
   ]
  },
  {
   "cell_type": "code",
   "execution_count": 21,
   "id": "aee22765-85d3-48ac-8b8a-a4dad4d740b9",
   "metadata": {},
   "outputs": [
    {
     "data": {
      "application/vnd.jupyter.widget-view+json": {
       "model_id": "4b35a725123148dbb0c7ddbd565eab21",
       "version_major": 2,
       "version_minor": 0
      },
      "text/plain": [
       "interactive(children=(IntSlider(value=10, description='x', max=30, min=-10), Output()), _dom_classes=('widget-…"
      ]
     },
     "metadata": {},
     "output_type": "display_data"
    },
    {
     "data": {
      "text/plain": [
       "<function __main__.func(x)>"
      ]
     },
     "execution_count": 21,
     "metadata": {},
     "output_type": "execute_result"
    }
   ],
   "source": [
    "interact(func, x=10)"
   ]
  },
  {
   "cell_type": "code",
   "execution_count": 23,
   "id": "8276d312-e1b6-4b4f-a4ac-3e9e06d9f015",
   "metadata": {},
   "outputs": [
    {
     "data": {
      "application/vnd.jupyter.widget-view+json": {
       "model_id": "6f21b8bcc5734a908ed43a2566e4147c",
       "version_major": 2,
       "version_minor": 0
      },
      "text/plain": [
       "interactive(children=(Checkbox(value=True, description='x'), Output()), _dom_classes=('widget-interact',))"
      ]
     },
     "metadata": {},
     "output_type": "display_data"
    },
    {
     "data": {
      "text/plain": [
       "<function __main__.func(x)>"
      ]
     },
     "execution_count": 23,
     "metadata": {},
     "output_type": "execute_result"
    }
   ],
   "source": [
    "interact(func, x=True)"
   ]
  },
  {
   "cell_type": "code",
   "execution_count": 25,
   "id": "b662cb99-d476-4b24-991f-8df73a581050",
   "metadata": {},
   "outputs": [
    {
     "data": {
      "application/vnd.jupyter.widget-view+json": {
       "model_id": "0660fffc71e641f8a394b938c67aaa64",
       "version_major": 2,
       "version_minor": 0
      },
      "text/plain": [
       "interactive(children=(Text(value='Vallabh', description='x'), Output()), _dom_classes=('widget-interact',))"
      ]
     },
     "metadata": {},
     "output_type": "display_data"
    },
    {
     "data": {
      "text/plain": [
       "<function __main__.func(x)>"
      ]
     },
     "execution_count": 25,
     "metadata": {},
     "output_type": "execute_result"
    }
   ],
   "source": [
    "interact(func, x=\"Vallabh\")"
   ]
  },
  {
   "cell_type": "code",
   "execution_count": null,
   "id": "c6bf985b-c0c5-4aa5-a4f0-215675bfb40e",
   "metadata": {},
   "outputs": [],
   "source": []
  },
  {
   "cell_type": "code",
   "execution_count": 30,
   "id": "b6af8493-2d67-40f7-b0cd-a641f01a3ba5",
   "metadata": {},
   "outputs": [
    {
     "data": {
      "application/vnd.jupyter.widget-view+json": {
       "model_id": "38909d56e6fa46679819a39314d830cb",
       "version_major": 2,
       "version_minor": 0
      },
      "text/plain": [
       "interactive(children=(Checkbox(value=True, description='x'), FloatSlider(value=1.0, description='y', max=3.0, …"
      ]
     },
     "metadata": {},
     "output_type": "display_data"
    }
   ],
   "source": [
    "@interact(x=True,y=1.0)\n",
    "def g(x,y):\n",
    "    return (x,y)"
   ]
  },
  {
   "cell_type": "code",
   "execution_count": 32,
   "id": "d2b90941-16de-4a1f-8fa9-99dc2397bb7f",
   "metadata": {},
   "outputs": [
    {
     "data": {
      "application/vnd.jupyter.widget-view+json": {
       "model_id": "5334aa1aea3e48cc9429c64637ccd121",
       "version_major": 2,
       "version_minor": 0
      },
      "text/plain": [
       "interactive(children=(Checkbox(value=True, description='x'), Output()), _dom_classes=('widget-interact',))"
      ]
     },
     "metadata": {},
     "output_type": "display_data"
    }
   ],
   "source": [
    "@interact(x=True,y=fixed(1.0))\n",
    "def g(x,y):\n",
    "    return (x,y)"
   ]
  },
  {
   "cell_type": "code",
   "execution_count": 34,
   "id": "320b053b-206e-4106-8f7e-0592c6683121",
   "metadata": {},
   "outputs": [
    {
     "data": {
      "application/vnd.jupyter.widget-view+json": {
       "model_id": "712a69ef45884b25ba8ce8c3cbaa0949",
       "version_major": 2,
       "version_minor": 0
      },
      "text/plain": [
       "interactive(children=(FloatSlider(value=1.0, description='y', max=3.0, min=-1.0), Output()), _dom_classes=('wi…"
      ]
     },
     "metadata": {},
     "output_type": "display_data"
    }
   ],
   "source": [
    "@interact(x=fixed(True),y=1.0)\n",
    "def g(x,y):\n",
    "    return (x,y)"
   ]
  },
  {
   "cell_type": "code",
   "execution_count": null,
   "id": "eecad8d1-fcb4-4ed9-bd9d-66af703f1142",
   "metadata": {},
   "outputs": [],
   "source": []
  },
  {
   "cell_type": "code",
   "execution_count": 37,
   "id": "b6df404e-4d34-4e74-89c9-ddf483936677",
   "metadata": {},
   "outputs": [],
   "source": [
    "#Widget Abbreviation"
   ]
  },
  {
   "cell_type": "code",
   "execution_count": 39,
   "id": "d4b1c31f-05ec-4958-8f45-6db088b3b7d4",
   "metadata": {},
   "outputs": [
    {
     "data": {
      "application/vnd.jupyter.widget-view+json": {
       "model_id": "c31f6cb2526240fc95d3fd93b9554979",
       "version_major": 2,
       "version_minor": 0
      },
      "text/plain": [
       "interactive(children=(Checkbox(value=True, description='x'), FloatSlider(value=1.0, description='y', max=3.0, …"
      ]
     },
     "metadata": {},
     "output_type": "display_data"
    }
   ],
   "source": [
    "@interact(x=True,y=1.0)\n",
    "def g(x,y):\n",
    "    return (x,y)"
   ]
  },
  {
   "cell_type": "code",
   "execution_count": 41,
   "id": "4af00e2a-4273-411a-a1f2-01fa274f14e8",
   "metadata": {},
   "outputs": [
    {
     "data": {
      "application/vnd.jupyter.widget-view+json": {
       "model_id": "443280956c0441118ae434ceba90852e",
       "version_major": 2,
       "version_minor": 0
      },
      "text/plain": [
       "interactive(children=(Checkbox(value=True, description='x'), IntSlider(value=0, description='y', min=-100), Ou…"
      ]
     },
     "metadata": {},
     "output_type": "display_data"
    }
   ],
   "source": [
    "@interact(x=True,y=widgets.IntSlider(min=-100,max=100,step=1,value=0))\n",
    "def g(x,y):\n",
    "    return (x,y)"
   ]
  },
  {
   "cell_type": "code",
   "execution_count": 45,
   "id": "2a8c262b-7c64-4fd0-90fe-9e7968adb5bc",
   "metadata": {},
   "outputs": [
    {
     "data": {
      "application/vnd.jupyter.widget-view+json": {
       "model_id": "5aad64713b934f27b5cee62cb2e737f0",
       "version_major": 2,
       "version_minor": 0
      },
      "text/plain": [
       "interactive(children=(IntSlider(value=0, description='x', min=-100), Output()), _dom_classes=('widget-interact…"
      ]
     },
     "metadata": {},
     "output_type": "display_data"
    },
    {
     "data": {
      "text/plain": [
       "<function __main__.func(x)>"
      ]
     },
     "execution_count": 45,
     "metadata": {},
     "output_type": "execute_result"
    }
   ],
   "source": [
    "interact(func,x=(-100,100,1))"
   ]
  },
  {
   "cell_type": "code",
   "execution_count": null,
   "id": "9a51c915-3012-43b5-a3e9-178a7531d3b4",
   "metadata": {},
   "outputs": [],
   "source": []
  },
  {
   "cell_type": "code",
   "execution_count": 48,
   "id": "5edc1d96-a959-49af-80ce-a1f17ef60c42",
   "metadata": {},
   "outputs": [
    {
     "data": {
      "application/vnd.jupyter.widget-view+json": {
       "model_id": "94e3b2eb8b2c4d44b4edd258618513ad",
       "version_major": 2,
       "version_minor": 0
      },
      "text/plain": [
       "interactive(children=(FloatSlider(value=5.0, description='x', max=20.0, step=0.5), Output()), _dom_classes=('w…"
      ]
     },
     "metadata": {},
     "output_type": "display_data"
    }
   ],
   "source": [
    "@interact(x=(0.0,20.0,0.5))\n",
    "def h(x=5.0):\n",
    "    return x"
   ]
  },
  {
   "cell_type": "code",
   "execution_count": 52,
   "id": "c6ce5203-5de5-48c0-aece-8e0aee5d8f76",
   "metadata": {},
   "outputs": [
    {
     "data": {
      "application/vnd.jupyter.widget-view+json": {
       "model_id": "aa21080d5c6e441d873319ae4a8b20a2",
       "version_major": 2,
       "version_minor": 0
      },
      "text/plain": [
       "interactive(children=(Text(value='Hello', description='x'), Output()), _dom_classes=('widget-interact',))"
      ]
     },
     "metadata": {},
     "output_type": "display_data"
    },
    {
     "data": {
      "text/plain": [
       "<function __main__.func(x)>"
      ]
     },
     "execution_count": 52,
     "metadata": {},
     "output_type": "execute_result"
    }
   ],
   "source": [
    "interact(func,x=\"Hello\")"
   ]
  },
  {
   "cell_type": "code",
   "execution_count": 54,
   "id": "309076a8-239e-4af6-9e6e-4c530764739e",
   "metadata": {},
   "outputs": [
    {
     "data": {
      "application/vnd.jupyter.widget-view+json": {
       "model_id": "094c050a0b4142db8b7c98e2097ee63a",
       "version_major": 2,
       "version_minor": 0
      },
      "text/plain": [
       "interactive(children=(Dropdown(description='x', options=('Hello', 'Two', 'Three'), value='Hello'), Output()), …"
      ]
     },
     "metadata": {},
     "output_type": "display_data"
    },
    {
     "data": {
      "text/plain": [
       "<function __main__.func(x)>"
      ]
     },
     "execution_count": 54,
     "metadata": {},
     "output_type": "execute_result"
    }
   ],
   "source": [
    "interact(func,x=[\"Hello\",\"Two\",\"Three\"])"
   ]
  },
  {
   "cell_type": "code",
   "execution_count": 56,
   "id": "36a3e41e-efd5-4aff-837d-cbab905f97a8",
   "metadata": {},
   "outputs": [
    {
     "data": {
      "application/vnd.jupyter.widget-view+json": {
       "model_id": "2b2780c3e3154624b94da523d3c7f704",
       "version_major": 2,
       "version_minor": 0
      },
      "text/plain": [
       "interactive(children=(Dropdown(description='x', options={'one': 10, 'two': 20}, value=10), Output()), _dom_cla…"
      ]
     },
     "metadata": {},
     "output_type": "display_data"
    },
    {
     "data": {
      "text/plain": [
       "<function __main__.func(x)>"
      ]
     },
     "execution_count": 56,
     "metadata": {},
     "output_type": "execute_result"
    }
   ],
   "source": [
    "interact(func,x={'one':10,'two':20})"
   ]
  },
  {
   "cell_type": "code",
   "execution_count": 60,
   "id": "32742007-7023-4670-b9da-ff677807dabb",
   "metadata": {},
   "outputs": [],
   "source": [
    "from IPython.display import display\n",
    "\n",
    "def f(a,b):\n",
    "    display(a+b)\n",
    "    return a+b"
   ]
  },
  {
   "cell_type": "code",
   "execution_count": 62,
   "id": "6f78fd24-d3fe-4b45-aef8-faf05c8729bf",
   "metadata": {},
   "outputs": [],
   "source": [
    "w = interactive(f,a=10,b=20)"
   ]
  },
  {
   "cell_type": "code",
   "execution_count": 64,
   "id": "4d353071-7628-4223-997c-06a7ce84ba26",
   "metadata": {},
   "outputs": [
    {
     "data": {
      "text/plain": [
       "ipywidgets.widgets.interaction.interactive"
      ]
     },
     "execution_count": 64,
     "metadata": {},
     "output_type": "execute_result"
    }
   ],
   "source": [
    "type(w)"
   ]
  },
  {
   "cell_type": "code",
   "execution_count": 66,
   "id": "624d78cc-31b5-4ef3-b51b-f53faade62f4",
   "metadata": {},
   "outputs": [
    {
     "data": {
      "text/plain": [
       "(IntSlider(value=10, description='a', max=30, min=-10),\n",
       " IntSlider(value=20, description='b', max=60, min=-20),\n",
       " Output(outputs=({'output_type': 'display_data', 'data': {'text/plain': '30'}, 'metadata': {}},)))"
      ]
     },
     "execution_count": 66,
     "metadata": {},
     "output_type": "execute_result"
    }
   ],
   "source": [
    "w.children"
   ]
  },
  {
   "cell_type": "code",
   "execution_count": 68,
   "id": "afb71caa-1f7e-449f-8f3a-597ae68ea254",
   "metadata": {},
   "outputs": [
    {
     "data": {
      "application/vnd.jupyter.widget-view+json": {
       "model_id": "6a63309e92d847d09c240fa892a3c31c",
       "version_major": 2,
       "version_minor": 0
      },
      "text/plain": [
       "interactive(children=(IntSlider(value=10, description='a', max=30, min=-10), IntSlider(value=20, description='…"
      ]
     },
     "metadata": {},
     "output_type": "display_data"
    }
   ],
   "source": [
    "display(w)"
   ]
  },
  {
   "cell_type": "code",
   "execution_count": 70,
   "id": "59fd18d7-e167-4b08-88b4-6fddcdf7edd1",
   "metadata": {},
   "outputs": [
    {
     "data": {
      "application/vnd.jupyter.widget-view+json": {
       "model_id": "e77a4531b14e482abb856d60224e33b2",
       "version_major": 2,
       "version_minor": 0
      },
      "text/plain": [
       "interactive(children=(Text(value='Hello', description='x'), Output()), _dom_classes=('widget-interact',))"
      ]
     },
     "metadata": {},
     "output_type": "display_data"
    },
    {
     "data": {
      "text/plain": [
       "<function __main__.func(x)>"
      ]
     },
     "execution_count": 70,
     "metadata": {},
     "output_type": "execute_result"
    }
   ],
   "source": [
    "interact(func,x=\"Hello\")"
   ]
  },
  {
   "cell_type": "code",
   "execution_count": 72,
   "id": "f1c5aab7-8939-46bd-981e-c5809795818e",
   "metadata": {},
   "outputs": [
    {
     "data": {
      "application/vnd.jupyter.widget-view+json": {
       "model_id": "5edcf619ac864c6aaa599dde7a05a618",
       "version_major": 2,
       "version_minor": 0
      },
      "text/plain": [
       "interactive(children=(Text(value='Hello', description='x'), Output()), _dom_classes=('widget-interact',))"
      ]
     },
     "metadata": {},
     "output_type": "display_data"
    }
   ],
   "source": [
    "interact(func,x=\"Hello\");"
   ]
  },
  {
   "cell_type": "code",
   "execution_count": null,
   "id": "8882efb5-fbc1-4d15-866e-779f29a50259",
   "metadata": {},
   "outputs": [],
   "source": []
  },
  {
   "cell_type": "markdown",
   "id": "1af3ebca-c297-4f56-b428-f40204b83018",
   "metadata": {},
   "source": [
    "## Widget Basics"
   ]
  },
  {
   "cell_type": "code",
   "execution_count": 77,
   "id": "c6dda620-d075-4091-9525-4971bd25c1f6",
   "metadata": {},
   "outputs": [],
   "source": [
    "import ipywidgets as widgets"
   ]
  },
  {
   "cell_type": "code",
   "execution_count": 79,
   "id": "057c614a-3393-4ca8-862c-28fd70c3009e",
   "metadata": {},
   "outputs": [
    {
     "data": {
      "application/vnd.jupyter.widget-view+json": {
       "model_id": "fe1aa8dd318f405abbd07d05b4608408",
       "version_major": 2,
       "version_minor": 0
      },
      "text/plain": [
       "IntSlider(value=0)"
      ]
     },
     "execution_count": 79,
     "metadata": {},
     "output_type": "execute_result"
    }
   ],
   "source": [
    "widgets.IntSlider()"
   ]
  },
  {
   "cell_type": "code",
   "execution_count": 81,
   "id": "c7c6d98d-ee51-4032-a6ef-822b2a807158",
   "metadata": {},
   "outputs": [],
   "source": [
    "w = widgets.IntSlider()"
   ]
  },
  {
   "cell_type": "code",
   "execution_count": 83,
   "id": "8306ed2c-6b50-433c-8517-8c83866dc623",
   "metadata": {},
   "outputs": [],
   "source": [
    "from IPython.display import display"
   ]
  },
  {
   "cell_type": "code",
   "execution_count": 85,
   "id": "dd21f918-cd12-4542-9fd1-2fa2959c8548",
   "metadata": {},
   "outputs": [
    {
     "data": {
      "application/vnd.jupyter.widget-view+json": {
       "model_id": "",
       "version_major": 2,
       "version_minor": 0
      },
      "text/plain": [
       "IntSlider(value=0)"
      ]
     },
     "metadata": {},
     "output_type": "display_data"
    }
   ],
   "source": [
    "display(w)"
   ]
  },
  {
   "cell_type": "code",
   "execution_count": 87,
   "id": "6c771f7a-94e9-43f2-8ca1-3aab7c6fb294",
   "metadata": {},
   "outputs": [],
   "source": [
    "# Create a widget object and you can store it any number of times"
   ]
  },
  {
   "cell_type": "code",
   "execution_count": 89,
   "id": "1880408f-a63a-406c-be7a-abab1375c994",
   "metadata": {},
   "outputs": [
    {
     "data": {
      "application/vnd.jupyter.widget-view+json": {
       "model_id": "",
       "version_major": 2,
       "version_minor": 0
      },
      "text/plain": [
       "IntSlider(value=44)"
      ]
     },
     "metadata": {},
     "output_type": "display_data"
    }
   ],
   "source": [
    "display(w)"
   ]
  },
  {
   "cell_type": "code",
   "execution_count": 91,
   "id": "0278ef47-f92a-4dbe-8fd1-71e470b991a9",
   "metadata": {},
   "outputs": [],
   "source": [
    "# These above two widgets are in sync with each other"
   ]
  },
  {
   "cell_type": "code",
   "execution_count": 93,
   "id": "9ec8134e-128d-4ed2-b8d3-504b736341da",
   "metadata": {},
   "outputs": [],
   "source": [
    "w.close()"
   ]
  },
  {
   "cell_type": "code",
   "execution_count": 95,
   "id": "12019b98-8276-4ef4-9113-79420360204b",
   "metadata": {},
   "outputs": [],
   "source": [
    "# This will remove the widget"
   ]
  },
  {
   "cell_type": "code",
   "execution_count": 99,
   "id": "4e14e417-0ee3-4faa-8613-dba767ae7256",
   "metadata": {},
   "outputs": [],
   "source": [
    "w = widgets.IntSlider()"
   ]
  },
  {
   "cell_type": "code",
   "execution_count": 101,
   "id": "208654bb-98a9-4e7a-8d85-e12c2595ffac",
   "metadata": {},
   "outputs": [
    {
     "data": {
      "application/vnd.jupyter.widget-view+json": {
       "model_id": "b90836d1cf8a4fc9b9cac97e7946828d",
       "version_major": 2,
       "version_minor": 0
      },
      "text/plain": [
       "IntSlider(value=0)"
      ]
     },
     "metadata": {},
     "output_type": "display_data"
    }
   ],
   "source": [
    "display(w)"
   ]
  },
  {
   "cell_type": "code",
   "execution_count": 103,
   "id": "d51c1b14-4833-4a59-9b9c-6fb23e25d2c6",
   "metadata": {},
   "outputs": [
    {
     "data": {
      "text/plain": [
       "68"
      ]
     },
     "execution_count": 103,
     "metadata": {},
     "output_type": "execute_result"
    }
   ],
   "source": [
    "w.value"
   ]
  },
  {
   "cell_type": "code",
   "execution_count": 105,
   "id": "491b08cf-5bae-4748-b795-e02d0d12ebc8",
   "metadata": {},
   "outputs": [],
   "source": [
    "w.value = 50"
   ]
  },
  {
   "cell_type": "code",
   "execution_count": 107,
   "id": "05f2cdaa-3bf5-4791-83a6-68c4d0d58408",
   "metadata": {},
   "outputs": [
    {
     "data": {
      "text/plain": [
       "['_dom_classes',\n",
       " '_model_module',\n",
       " '_model_module_version',\n",
       " '_model_name',\n",
       " '_view_count',\n",
       " '_view_module',\n",
       " '_view_module_version',\n",
       " '_view_name',\n",
       " 'behavior',\n",
       " 'continuous_update',\n",
       " 'description',\n",
       " 'description_allow_html',\n",
       " 'disabled',\n",
       " 'layout',\n",
       " 'max',\n",
       " 'min',\n",
       " 'orientation',\n",
       " 'readout',\n",
       " 'readout_format',\n",
       " 'step',\n",
       " 'style',\n",
       " 'tabbable',\n",
       " 'tooltip',\n",
       " 'value']"
      ]
     },
     "execution_count": 107,
     "metadata": {},
     "output_type": "execute_result"
    }
   ],
   "source": [
    "w.keys"
   ]
  },
  {
   "cell_type": "code",
   "execution_count": 109,
   "id": "32fe9f09-ba73-46c8-877b-c992ea1a0b1c",
   "metadata": {},
   "outputs": [],
   "source": [
    "w.max = 2000"
   ]
  },
  {
   "cell_type": "code",
   "execution_count": 115,
   "id": "087e5a52-63b2-4d62-bcc2-f1cab6d019d2",
   "metadata": {},
   "outputs": [],
   "source": [
    "a = widgets.FloatText()\n",
    "b = widgets.FloatSlider()"
   ]
  },
  {
   "cell_type": "code",
   "execution_count": 119,
   "id": "06e85fbe-c773-465c-972e-9e9240c05d20",
   "metadata": {},
   "outputs": [
    {
     "data": {
      "application/vnd.jupyter.widget-view+json": {
       "model_id": "6547270b44124be288178eefb9f9e3e2",
       "version_major": 2,
       "version_minor": 0
      },
      "text/plain": [
       "FloatText(value=0.0)"
      ]
     },
     "metadata": {},
     "output_type": "display_data"
    },
    {
     "data": {
      "application/vnd.jupyter.widget-view+json": {
       "model_id": "63328209a5274ddebe75d1d131218a56",
       "version_major": 2,
       "version_minor": 0
      },
      "text/plain": [
       "FloatSlider(value=0.0)"
      ]
     },
     "metadata": {},
     "output_type": "display_data"
    }
   ],
   "source": [
    "display(a,b)"
   ]
  },
  {
   "cell_type": "code",
   "execution_count": 121,
   "id": "1fb3833d-1753-44d9-9548-4aff4decdab5",
   "metadata": {},
   "outputs": [],
   "source": [
    "# We can link these widgets"
   ]
  },
  {
   "cell_type": "code",
   "execution_count": 127,
   "id": "aec8f207-6f50-4d14-a927-00bb476d598a",
   "metadata": {},
   "outputs": [
    {
     "data": {
      "application/vnd.jupyter.widget-view+json": {
       "model_id": "c945f4c230444ae585192a1aabdb4c8a",
       "version_major": 2,
       "version_minor": 0
      },
      "text/plain": [
       "FloatText(value=0.0)"
      ]
     },
     "metadata": {},
     "output_type": "display_data"
    },
    {
     "data": {
      "application/vnd.jupyter.widget-view+json": {
       "model_id": "933e6f8b902c4c8a895164507227c9b5",
       "version_major": 2,
       "version_minor": 0
      },
      "text/plain": [
       "FloatSlider(value=0.0)"
      ]
     },
     "metadata": {},
     "output_type": "display_data"
    }
   ],
   "source": [
    "a = widgets.FloatText()\n",
    "b = widgets.FloatSlider()\n",
    "\n",
    "display (a,b)\n",
    "\n",
    "mylink = widgets.jslink((a,'value'),(b,'max'))"
   ]
  },
  {
   "cell_type": "code",
   "execution_count": 129,
   "id": "0efdfe63-8368-4c00-b45f-75f712f88620",
   "metadata": {},
   "outputs": [],
   "source": [
    "mylink.unlink()"
   ]
  },
  {
   "cell_type": "code",
   "execution_count": null,
   "id": "370b8d7d-b485-4c6a-979b-eaccff755e07",
   "metadata": {},
   "outputs": [],
   "source": []
  },
  {
   "cell_type": "markdown",
   "id": "a37a72ee-1ac2-4b6f-92e6-4cd047c935a6",
   "metadata": {},
   "source": [
    "## Widget List"
   ]
  },
  {
   "cell_type": "code",
   "execution_count": 3,
   "id": "5dea4188-a07e-4f30-9bc7-3ebd096168c6",
   "metadata": {},
   "outputs": [],
   "source": [
    "# For complete list of GUI Widgets avaialable"
   ]
  },
  {
   "cell_type": "code",
   "execution_count": 5,
   "id": "7103962f-fb82-4623-bcc6-3e5e4241c30c",
   "metadata": {},
   "outputs": [],
   "source": [
    "import ipywidgets as widgets"
   ]
  },
  {
   "cell_type": "code",
   "execution_count": 16,
   "id": "0241b53b-5e99-4857-a31a-e42ac23ec6d9",
   "metadata": {},
   "outputs": [
    {
     "name": "stdout",
     "output_type": "stream",
     "text": [
      "LayoutModel\n",
      "AccordionModel\n",
      "AudioModel\n",
      "BoundedFloatTextModel\n",
      "BoundedIntTextModel\n",
      "BoxModel\n",
      "ButtonModel\n",
      "ButtonStyleModel\n",
      "CheckboxModel\n",
      "CheckboxStyleModel\n",
      "ColorPickerModel\n",
      "ColorsInputModel\n",
      "ComboboxModel\n",
      "ControllerAxisModel\n",
      "ControllerButtonModel\n",
      "ControllerModel\n",
      "DOMWidgetModel\n",
      "DatePickerModel\n",
      "DatetimeModel\n",
      "DescriptionStyleModel\n",
      "DirectionalLinkModel\n",
      "DropdownModel\n",
      "FileUploadModel\n",
      "FloatLogSliderModel\n",
      "FloatProgressModel\n",
      "FloatRangeSliderModel\n",
      "FloatSliderModel\n",
      "FloatTextModel\n",
      "FloatsInputModel\n",
      "GridBoxModel\n",
      "HBoxModel\n",
      "HTMLMathModel\n",
      "HTMLMathStyleModel\n",
      "HTMLModel\n",
      "HTMLStyleModel\n",
      "ImageModel\n",
      "IntProgressModel\n",
      "IntRangeSliderModel\n",
      "IntSliderModel\n",
      "IntTextModel\n",
      "IntsInputModel\n",
      "LabelModel\n",
      "LabelStyleModel\n",
      "LinkModel\n",
      "NaiveDatetimeModel\n",
      "PasswordModel\n",
      "PlayModel\n",
      "ProgressStyleModel\n",
      "RadioButtonsModel\n",
      "SelectModel\n",
      "SelectMultipleModel\n",
      "SelectionRangeSliderModel\n",
      "SelectionSliderModel\n",
      "SliderStyleModel\n",
      "StackModel\n",
      "TabModel\n",
      "TagsInputModel\n",
      "TextModel\n",
      "TextStyleModel\n",
      "TextareaModel\n",
      "TimeModel\n",
      "ToggleButtonModel\n",
      "ToggleButtonStyleModel\n",
      "ToggleButtonsModel\n",
      "ToggleButtonsStyleModel\n",
      "VBoxModel\n",
      "ValidModel\n",
      "VideoModel\n",
      "OutputModel\n"
     ]
    },
    {
     "name": "stderr",
     "output_type": "stream",
     "text": [
      "C:\\Users\\VALLABH KULKARNI\\AppData\\Local\\Temp\\ipykernel_7552\\310452769.py:1: DeprecationWarning: Widget.widget_types is deprecated.\n",
      "  for item in widgets.Widget.widget_types.items():\n"
     ]
    }
   ],
   "source": [
    "for item in widgets.Widget.widget_types.items():\n",
    "    print(item[0][2])"
   ]
  },
  {
   "cell_type": "code",
   "execution_count": null,
   "id": "1bebebfc-90b5-4e35-83ad-1feded8f9d3e",
   "metadata": {},
   "outputs": [],
   "source": []
  },
  {
   "cell_type": "markdown",
   "id": "8e40ec09-c273-4b6b-ad84-b235bb85fb51",
   "metadata": {},
   "source": [
    "## Widget Styling"
   ]
  },
  {
   "cell_type": "code",
   "execution_count": 20,
   "id": "9ef1eb14-e072-4ccd-b9b2-e53afd11dfda",
   "metadata": {},
   "outputs": [],
   "source": [
    "import ipywidgets as widgets\n",
    "from IPython.display import display"
   ]
  },
  {
   "cell_type": "code",
   "execution_count": 26,
   "id": "1eb11f17-f402-418f-a46b-35c1a1ebc9b9",
   "metadata": {},
   "outputs": [
    {
     "data": {
      "application/vnd.jupyter.widget-view+json": {
       "model_id": "0a7cfa35a9374293aae5f2f37a08b491",
       "version_major": 2,
       "version_minor": 0
      },
      "text/plain": [
       "IntSlider(value=0)"
      ]
     },
     "metadata": {},
     "output_type": "display_data"
    }
   ],
   "source": [
    "w = widgets.IntSlider()\n",
    "display(w)"
   ]
  },
  {
   "cell_type": "code",
   "execution_count": 28,
   "id": "eb1f3cd5-c1a5-40fd-8e43-faa215246e38",
   "metadata": {},
   "outputs": [],
   "source": [
    "w.layout.margin = 'auto';"
   ]
  },
  {
   "cell_type": "code",
   "execution_count": 30,
   "id": "a5114b0f-2a71-44c5-bb17-4e3a71b95d4f",
   "metadata": {},
   "outputs": [],
   "source": [
    "w.layout.height = '75px';"
   ]
  },
  {
   "cell_type": "code",
   "execution_count": 32,
   "id": "8e995bf3-4369-4387-b695-6640929dc7d0",
   "metadata": {},
   "outputs": [
    {
     "data": {
      "application/vnd.jupyter.widget-view+json": {
       "model_id": "0a7cfa35a9374293aae5f2f37a08b491",
       "version_major": 2,
       "version_minor": 0
      },
      "text/plain": [
       "IntSlider(value=48, layout=Layout(height='75px', margin='auto'))"
      ]
     },
     "metadata": {},
     "output_type": "display_data"
    }
   ],
   "source": [
    "display(w)"
   ]
  },
  {
   "cell_type": "code",
   "execution_count": 34,
   "id": "2e227753-c747-4fef-aa7f-6b24c85dbeac",
   "metadata": {},
   "outputs": [
    {
     "data": {
      "application/vnd.jupyter.widget-view+json": {
       "model_id": "b0bdd57d57cc4b879c851ccdef2ae145",
       "version_major": 2,
       "version_minor": 0
      },
      "text/plain": [
       "IntSlider(value=15, description='New Slider')"
      ]
     },
     "metadata": {},
     "output_type": "display_data"
    }
   ],
   "source": [
    "x = widgets.IntSlider(value=15, description = 'New Slider')\n",
    "display(x)"
   ]
  },
  {
   "cell_type": "code",
   "execution_count": 36,
   "id": "f3aa6e2f-6de1-416f-8b7b-3316b2bc01e4",
   "metadata": {},
   "outputs": [],
   "source": [
    "x.layout = w.layout"
   ]
  },
  {
   "cell_type": "code",
   "execution_count": 42,
   "id": "f7776f10-5f78-43da-ac83-3968271b2eee",
   "metadata": {},
   "outputs": [
    {
     "data": {
      "application/vnd.jupyter.widget-view+json": {
       "model_id": "9b38246599d84c319671eca70e10161f",
       "version_major": 2,
       "version_minor": 0
      },
      "text/plain": [
       "Button(button_style='info', description='Ordinary Button', style=ButtonStyle())"
      ]
     },
     "execution_count": 42,
     "metadata": {},
     "output_type": "execute_result"
    }
   ],
   "source": [
    "widgets.Button(description=\"Ordinary Button\", button_style=\"info\")"
   ]
  },
  {
   "cell_type": "code",
   "execution_count": null,
   "id": "9d0b6611-f526-4061-9976-cb4cf7460752",
   "metadata": {},
   "outputs": [],
   "source": []
  },
  {
   "cell_type": "code",
   "execution_count": null,
   "id": "10b067bc-1921-43ed-9774-aa154c40d436",
   "metadata": {},
   "outputs": [],
   "source": []
  },
  {
   "cell_type": "code",
   "execution_count": 64,
   "id": "6c0a4284-6cdd-4162-9c64-00fd5bb10ab5",
   "metadata": {},
   "outputs": [
    {
     "data": {
      "application/vnd.jupyter.widget-view+json": {
       "model_id": "a730260d3176466a9fd6d04267d9f014",
       "version_major": 2,
       "version_minor": 0
      },
      "text/plain": [
       "Button(description='Custom Color', style=ButtonStyle(button_color='purple'))"
      ]
     },
     "execution_count": 64,
     "metadata": {},
     "output_type": "execute_result"
    }
   ],
   "source": [
    "b1 = widgets.Button(description=\"Custom Color\")\n",
    "b1.style.button_color = 'purple'\n",
    "b1"
   ]
  },
  {
   "cell_type": "code",
   "execution_count": 66,
   "id": "6274640a-4382-42c4-82b1-636b19c124e6",
   "metadata": {},
   "outputs": [
    {
     "data": {
      "text/plain": [
       "['_model_module',\n",
       " '_model_module_version',\n",
       " '_model_name',\n",
       " '_view_count',\n",
       " '_view_module',\n",
       " '_view_module_version',\n",
       " '_view_name',\n",
       " 'button_color',\n",
       " 'font_family',\n",
       " 'font_size',\n",
       " 'font_style',\n",
       " 'font_variant',\n",
       " 'font_weight',\n",
       " 'text_color',\n",
       " 'text_decoration']"
      ]
     },
     "execution_count": 66,
     "metadata": {},
     "output_type": "execute_result"
    }
   ],
   "source": [
    "b1.style.keys"
   ]
  },
  {
   "cell_type": "code",
   "execution_count": 74,
   "id": "4ba71c1a-69f9-472c-aa3f-a90a43be954a",
   "metadata": {},
   "outputs": [
    {
     "data": {
      "application/vnd.jupyter.widget-view+json": {
       "model_id": "4b24ad6446644aab801efb7fbe3c278d",
       "version_major": 2,
       "version_minor": 0
      },
      "text/plain": [
       "Button(description='new', style=ButtonStyle(button_color='purple'))"
      ]
     },
     "execution_count": 74,
     "metadata": {},
     "output_type": "execute_result"
    }
   ],
   "source": [
    "b2 = widgets.Button(description=\"new\")\n",
    "b2.style = b1.style\n",
    "b2"
   ]
  },
  {
   "cell_type": "code",
   "execution_count": null,
   "id": "123a5e85-f080-4cc1-93bd-2b7e0a45138c",
   "metadata": {},
   "outputs": [],
   "source": []
  },
  {
   "cell_type": "code",
   "execution_count": 81,
   "id": "327ef189-bf9f-4332-a098-2a4b691063d3",
   "metadata": {},
   "outputs": [
    {
     "data": {
      "application/vnd.jupyter.widget-view+json": {
       "model_id": "d3fbe8581653448a9b61dd692306a935",
       "version_major": 2,
       "version_minor": 0
      },
      "text/plain": [
       "IntSlider(value=0, description='My Handle', style=SliderStyle(handle_color='cyan'))"
      ]
     },
     "execution_count": 81,
     "metadata": {},
     "output_type": "execute_result"
    }
   ],
   "source": [
    "s1 = widgets.IntSlider(description=\"My Handle\")\n",
    "s1.style.handle_color = 'cyan'\n",
    "s1"
   ]
  },
  {
   "cell_type": "code",
   "execution_count": 79,
   "id": "089fa231-59be-49cc-b677-e5567b77a28a",
   "metadata": {},
   "outputs": [
    {
     "data": {
      "text/plain": [
       "['_model_module',\n",
       " '_model_module_version',\n",
       " '_model_name',\n",
       " '_view_count',\n",
       " '_view_module',\n",
       " '_view_module_version',\n",
       " '_view_name',\n",
       " 'description_width',\n",
       " 'handle_color']"
      ]
     },
     "execution_count": 79,
     "metadata": {},
     "output_type": "execute_result"
    }
   ],
   "source": [
    "s1.style.keys"
   ]
  },
  {
   "cell_type": "code",
   "execution_count": null,
   "id": "464467e2-cc07-46a3-a0fb-7b6d98bf03c6",
   "metadata": {},
   "outputs": [],
   "source": []
  }
 ],
 "metadata": {
  "kernelspec": {
   "display_name": "Python 3 (ipykernel)",
   "language": "python",
   "name": "python3"
  },
  "language_info": {
   "codemirror_mode": {
    "name": "ipython",
    "version": 3
   },
   "file_extension": ".py",
   "mimetype": "text/x-python",
   "name": "python",
   "nbconvert_exporter": "python",
   "pygments_lexer": "ipython3",
   "version": "3.11.5"
  }
 },
 "nbformat": 4,
 "nbformat_minor": 5
}
