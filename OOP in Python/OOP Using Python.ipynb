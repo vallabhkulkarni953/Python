{
 "cells": [
  {
   "cell_type": "code",
   "execution_count": 1,
   "id": "9eeb5826-54a2-4db8-b971-d32bbf4d56bb",
   "metadata": {},
   "outputs": [],
   "source": [
    "mylist = [1,2,3]"
   ]
  },
  {
   "cell_type": "code",
   "execution_count": 4,
   "id": "68cf16e4-2bea-4860-b7b8-131463ed039e",
   "metadata": {},
   "outputs": [
    {
     "data": {
      "text/plain": [
       "1"
      ]
     },
     "execution_count": 4,
     "metadata": {},
     "output_type": "execute_result"
    }
   ],
   "source": [
    "mylist.index(2)"
   ]
  },
  {
   "cell_type": "code",
   "execution_count": 5,
   "id": "6f94223e-125d-42f7-a1d8-0d81892bb467",
   "metadata": {},
   "outputs": [],
   "source": [
    "myset = set()"
   ]
  },
  {
   "cell_type": "code",
   "execution_count": 6,
   "id": "6d721133-c3e6-43ef-8576-4fee344c653c",
   "metadata": {},
   "outputs": [
    {
     "data": {
      "text/plain": [
       "set()"
      ]
     },
     "execution_count": 6,
     "metadata": {},
     "output_type": "execute_result"
    }
   ],
   "source": [
    "myset"
   ]
  },
  {
   "cell_type": "code",
   "execution_count": 7,
   "id": "ed0935e8-433f-497a-b494-19ca4fb37442",
   "metadata": {},
   "outputs": [
    {
     "data": {
      "text/plain": [
       "set"
      ]
     },
     "execution_count": 7,
     "metadata": {},
     "output_type": "execute_result"
    }
   ],
   "source": [
    "type(myset)"
   ]
  },
  {
   "cell_type": "code",
   "execution_count": 8,
   "id": "a45deb8f-739d-4aa6-8248-b4a89273d3d7",
   "metadata": {},
   "outputs": [
    {
     "data": {
      "text/plain": [
       "list"
      ]
     },
     "execution_count": 8,
     "metadata": {},
     "output_type": "execute_result"
    }
   ],
   "source": [
    "type(mylist)"
   ]
  },
  {
   "cell_type": "code",
   "execution_count": 45,
   "id": "9a855dda-d3ae-4a46-8343-5ac010e96cbd",
   "metadata": {},
   "outputs": [],
   "source": [
    "class Dog():\n",
    "    # THIS IS A CLASS \n",
    "    def __init__(self,mybreed,name,spots):\n",
    "        # THIS IS SPECIAL METHOD WHICH IS CALLED UPON CREATION OF INSTANCE\n",
    "        # IT IS THE CONSTRUCTOR OF A CLASS\n",
    "        # __init__() method gets called automatically when created instance of the class\n",
    "        # SELF is the instance of the object itself (Explicit in Python)\n",
    "        \n",
    "        # ATTRIBUTES \n",
    "        # We take in the argument\n",
    "        # We assign it using self.attribute_name\n",
    "        self.breed = mybreed\n",
    "        self.name = name\n",
    "        \n",
    "        # EXPECT BOOLEAN TO BE TRUE OR FALSE\n",
    "        self.spots = spots\n",
    "        "
   ]
  },
  {
   "cell_type": "code",
   "execution_count": 46,
   "id": "713ebba1-281d-4837-bf5e-e13f75617f13",
   "metadata": {},
   "outputs": [
    {
     "ename": "TypeError",
     "evalue": "Dog.__init__() missing 3 required positional arguments: 'mybreed', 'name', and 'spots'",
     "output_type": "error",
     "traceback": [
      "\u001b[1;31m---------------------------------------------------------------------------\u001b[0m",
      "\u001b[1;31mTypeError\u001b[0m                                 Traceback (most recent call last)",
      "Cell \u001b[1;32mIn[46], line 1\u001b[0m\n\u001b[1;32m----> 1\u001b[0m my_dog \u001b[38;5;241m=\u001b[39m \u001b[43mDog\u001b[49m\u001b[43m(\u001b[49m\u001b[43m)\u001b[49m \n\u001b[0;32m      2\u001b[0m \u001b[38;5;66;03m# THIS IS THE INSTANCE OF THE CLASS\u001b[39;00m\n",
      "\u001b[1;31mTypeError\u001b[0m: Dog.__init__() missing 3 required positional arguments: 'mybreed', 'name', and 'spots'"
     ]
    }
   ],
   "source": [
    "my_dog = Dog() \n",
    "# THIS IS THE INSTANCE OF THE CLASS"
   ]
  },
  {
   "cell_type": "code",
   "execution_count": 47,
   "id": "b9ce0f7b-4720-4023-b0b0-cf87d533e065",
   "metadata": {},
   "outputs": [],
   "source": [
    "my_dog = Dog(mybreed='Lab',name='Champi',spots = False)"
   ]
  },
  {
   "cell_type": "code",
   "execution_count": 48,
   "id": "e0067ccf-9472-418c-b640-ac226a0aa8e4",
   "metadata": {},
   "outputs": [
    {
     "data": {
      "text/plain": [
       "__main__.Dog"
      ]
     },
     "execution_count": 48,
     "metadata": {},
     "output_type": "execute_result"
    }
   ],
   "source": [
    "type(my_dog)"
   ]
  },
  {
   "cell_type": "code",
   "execution_count": 50,
   "id": "ed8a53f1-52b4-461d-b2c0-5f3087262518",
   "metadata": {},
   "outputs": [
    {
     "data": {
      "text/plain": [
       "'Lab'"
      ]
     },
     "execution_count": 50,
     "metadata": {},
     "output_type": "execute_result"
    }
   ],
   "source": [
    "my_dog.breed"
   ]
  },
  {
   "cell_type": "code",
   "execution_count": 51,
   "id": "a8940946-44e3-49b7-9cb8-11151867b0e0",
   "metadata": {},
   "outputs": [
    {
     "data": {
      "text/plain": [
       "'Champi'"
      ]
     },
     "execution_count": 51,
     "metadata": {},
     "output_type": "execute_result"
    }
   ],
   "source": [
    "my_dog.name"
   ]
  },
  {
   "cell_type": "code",
   "execution_count": 52,
   "id": "489d95e7-0a3e-4412-a299-1155fbc00d9e",
   "metadata": {},
   "outputs": [
    {
     "data": {
      "text/plain": [
       "False"
      ]
     },
     "execution_count": 52,
     "metadata": {},
     "output_type": "execute_result"
    }
   ],
   "source": [
    "my_dog.spots"
   ]
  },
  {
   "cell_type": "code",
   "execution_count": null,
   "id": "53d41d4e-e5ab-4b60-b576-f1cf6faba2c6",
   "metadata": {},
   "outputs": [],
   "source": []
  },
  {
   "cell_type": "code",
   "execution_count": null,
   "id": "cf231821-3f41-4109-b596-c814076f7f1d",
   "metadata": {},
   "outputs": [],
   "source": []
  },
  {
   "cell_type": "code",
   "execution_count": null,
   "id": "4fd823a3-6357-470e-8810-d87cc9f09cc0",
   "metadata": {},
   "outputs": [],
   "source": []
  },
  {
   "cell_type": "code",
   "execution_count": 97,
   "id": "b67917e0-3dc6-46a8-9068-66f8b51c36ff",
   "metadata": {},
   "outputs": [],
   "source": [
    "class Dog():\n",
    "    # CLASS OBJECT ATTRIBUTE\n",
    "    # SAME FOR ANY INSTANCE OF THE CLASS\n",
    "    species = 'Mammal'\n",
    "    \n",
    "    def __init__(self,breed,name,spots):\n",
    "\n",
    "        self.breed = breed\n",
    "        self.name = name\n",
    "        self.spots = spots\n",
    "\n",
    "    # METHODS : OPERATIONS OR ACTIONS Functions inside class\n",
    "    def bark(self,number):\n",
    "        print(\"WOOF! My name is {} and the number is {}\".format(self.name,number))"
   ]
  },
  {
   "cell_type": "code",
   "execution_count": 98,
   "id": "98f987a4-9f3c-4e69-a3d8-77b0805a09a5",
   "metadata": {},
   "outputs": [],
   "source": [
    "my_dog = Dog(breed='Lab', name='Champi', spots = False)"
   ]
  },
  {
   "cell_type": "code",
   "execution_count": 99,
   "id": "b932b35b-607a-4936-991a-1e8f8a08dd5e",
   "metadata": {},
   "outputs": [
    {
     "data": {
      "text/plain": [
       "__main__.Dog"
      ]
     },
     "execution_count": 99,
     "metadata": {},
     "output_type": "execute_result"
    }
   ],
   "source": [
    "type(my_dog)"
   ]
  },
  {
   "cell_type": "code",
   "execution_count": 100,
   "id": "ed064d30-ea44-4acf-a563-2be7cfde893f",
   "metadata": {},
   "outputs": [
    {
     "data": {
      "text/plain": [
       "'Lab'"
      ]
     },
     "execution_count": 100,
     "metadata": {},
     "output_type": "execute_result"
    }
   ],
   "source": [
    "my_dog.breed"
   ]
  },
  {
   "cell_type": "code",
   "execution_count": 101,
   "id": "8f41ad24-57ca-485e-bd7d-71b2bbd1d718",
   "metadata": {},
   "outputs": [
    {
     "data": {
      "text/plain": [
       "'Champi'"
      ]
     },
     "execution_count": 101,
     "metadata": {},
     "output_type": "execute_result"
    }
   ],
   "source": [
    "my_dog.name"
   ]
  },
  {
   "cell_type": "code",
   "execution_count": 102,
   "id": "88eaed02-ff18-481a-81ac-bb2c9f740cc4",
   "metadata": {},
   "outputs": [
    {
     "data": {
      "text/plain": [
       "False"
      ]
     },
     "execution_count": 102,
     "metadata": {},
     "output_type": "execute_result"
    }
   ],
   "source": [
    "my_dog.spots"
   ]
  },
  {
   "cell_type": "code",
   "execution_count": 103,
   "id": "59996d07-3d83-438e-a09f-ca246309ad88",
   "metadata": {},
   "outputs": [
    {
     "data": {
      "text/plain": [
       "'Mammal'"
      ]
     },
     "execution_count": 103,
     "metadata": {},
     "output_type": "execute_result"
    }
   ],
   "source": [
    "my_dog.species"
   ]
  },
  {
   "cell_type": "code",
   "execution_count": 104,
   "id": "b7525ad8-c98c-4da2-b746-85b6cfb1caac",
   "metadata": {},
   "outputs": [
    {
     "data": {
      "text/plain": [
       "<bound method Dog.bark of <__main__.Dog object at 0x000001F028A7F210>>"
      ]
     },
     "execution_count": 104,
     "metadata": {},
     "output_type": "execute_result"
    }
   ],
   "source": [
    "my_dog.bark"
   ]
  },
  {
   "cell_type": "code",
   "execution_count": 106,
   "id": "a14b8980-a046-44a7-b1a6-e69dd89a3f1b",
   "metadata": {},
   "outputs": [
    {
     "name": "stdout",
     "output_type": "stream",
     "text": [
      "WOOF! My name is Champi and the number is 25\n"
     ]
    }
   ],
   "source": [
    "my_dog.bark(number=25)"
   ]
  },
  {
   "cell_type": "code",
   "execution_count": null,
   "id": "18bd99d0-f509-48a4-9de3-c2b6b880f162",
   "metadata": {},
   "outputs": [],
   "source": []
  },
  {
   "cell_type": "code",
   "execution_count": null,
   "id": "b5636616-f35b-4cb2-997c-2ccb874e99e0",
   "metadata": {},
   "outputs": [],
   "source": []
  },
  {
   "cell_type": "code",
   "execution_count": null,
   "id": "6c41ee28-2989-4407-8f03-6c77a4e26219",
   "metadata": {},
   "outputs": [],
   "source": []
  },
  {
   "cell_type": "code",
   "execution_count": 131,
   "id": "6d32c111-43be-46fe-a538-18560c64c06d",
   "metadata": {},
   "outputs": [],
   "source": [
    "class Circle():\n",
    "\n",
    "    # CLASS OBJECT ATTRIBUTE\n",
    "    pi = 3.14\n",
    "\n",
    "    def __init__(self,radius=1):\n",
    "        self.radius = radius\n",
    "        self.area = radius*radius*self.pi # Can also be called with Circle.pi\n",
    "        \n",
    "\n",
    "    def get_circumference(self):\n",
    "        return self.radius * Circle.pi * 2\n",
    "        "
   ]
  },
  {
   "cell_type": "code",
   "execution_count": 132,
   "id": "7a19b546-c6e7-42c6-86ac-9356117fc5ee",
   "metadata": {},
   "outputs": [],
   "source": [
    "my_circle = Circle()"
   ]
  },
  {
   "cell_type": "code",
   "execution_count": 133,
   "id": "277c7b01-7194-4ca1-8a9c-280a0043b6f7",
   "metadata": {},
   "outputs": [
    {
     "data": {
      "text/plain": [
       "6.28"
      ]
     },
     "execution_count": 133,
     "metadata": {},
     "output_type": "execute_result"
    }
   ],
   "source": [
    "my_circle.get_circumference()"
   ]
  },
  {
   "cell_type": "code",
   "execution_count": 134,
   "id": "2c4ee1af-f858-4444-8e01-19d5adb33924",
   "metadata": {},
   "outputs": [],
   "source": [
    "my_circle = Circle(radius=30)"
   ]
  },
  {
   "cell_type": "code",
   "execution_count": 135,
   "id": "afbd00e8-b220-427d-8c71-00926ef11aaf",
   "metadata": {},
   "outputs": [
    {
     "data": {
      "text/plain": [
       "188.4"
      ]
     },
     "execution_count": 135,
     "metadata": {},
     "output_type": "execute_result"
    }
   ],
   "source": [
    "my_circle.get_circumference()"
   ]
  },
  {
   "cell_type": "code",
   "execution_count": 136,
   "id": "9b8c7ad4-d247-43e2-b98a-ee4cd71325b1",
   "metadata": {},
   "outputs": [
    {
     "data": {
      "text/plain": [
       "2826.0"
      ]
     },
     "execution_count": 136,
     "metadata": {},
     "output_type": "execute_result"
    }
   ],
   "source": [
    "my_circle.area"
   ]
  },
  {
   "cell_type": "code",
   "execution_count": null,
   "id": "2fe32789-a9c5-4736-8446-c1d19cd7bcab",
   "metadata": {},
   "outputs": [],
   "source": []
  },
  {
   "cell_type": "code",
   "execution_count": 1,
   "id": "044e77fa-ebb2-492a-b0bf-a8331dc940c9",
   "metadata": {},
   "outputs": [],
   "source": [
    "# INHERITANCE"
   ]
  },
  {
   "cell_type": "code",
   "execution_count": 15,
   "id": "e49b9248-2986-433d-8589-66a6950c2791",
   "metadata": {},
   "outputs": [],
   "source": [
    "class Animal():\n",
    "    # BASE CLASS\n",
    "    def __init__(self):\n",
    "        print(\"ANIMAL CREATED\")\n",
    "    def who_am_i(self):\n",
    "        print(\"I am an Animal\")\n",
    "    def eat(self):\n",
    "        print(\"I am Eating\")\n",
    "\n",
    "## THIS IS THE BASE CLASS\n",
    "## THE NEW CLASSES WILL INHERIT THE MEMBERS AND METHODS OF THIS CLASS"
   ]
  },
  {
   "cell_type": "code",
   "execution_count": 11,
   "id": "87790a76-8a2f-4cb0-b060-a7ab9e20a6e3",
   "metadata": {},
   "outputs": [
    {
     "name": "stdout",
     "output_type": "stream",
     "text": [
      "ANIMAL CREATED\n"
     ]
    }
   ],
   "source": [
    "myanimal = Animal()"
   ]
  },
  {
   "cell_type": "code",
   "execution_count": 12,
   "id": "d757aec5-d909-4e9d-9fb0-d6b0019ddffd",
   "metadata": {},
   "outputs": [
    {
     "name": "stdout",
     "output_type": "stream",
     "text": [
      "I am Eating\n"
     ]
    }
   ],
   "source": [
    "myanimal.eat()"
   ]
  },
  {
   "cell_type": "code",
   "execution_count": 13,
   "id": "3d4a597f-50f0-4ca2-a14f-953bb7306552",
   "metadata": {},
   "outputs": [
    {
     "name": "stdout",
     "output_type": "stream",
     "text": [
      "I am an Animal\n"
     ]
    }
   ],
   "source": [
    "myanimal.who_am_i()"
   ]
  },
  {
   "cell_type": "code",
   "execution_count": 32,
   "id": "ac7ed678-660c-4416-80f2-f05af16a49d0",
   "metadata": {},
   "outputs": [],
   "source": [
    "class Dog(Animal):\n",
    "    # INHERITED CLASS\n",
    "    def __init__(self):\n",
    "        Animal.__init__(self)\n",
    "        print(\"DOG CREATED\")\n",
    "        \n",
    "    def who_am_i(self):\n",
    "        # THIS WILL OVERWRITE THE BASE CLASS METHOD\n",
    "        print(\"I AM A DOG\")\n",
    "\n",
    "    def bark(self):\n",
    "        # WE CAN ADD METHODS SPECIFIC TO THIS CLASS ONLY\n",
    "        print(\"WOOF!\")\n",
    "\n",
    "    def eat(self):\n",
    "        print(\"I AM A DOG AND I AM EATING\")"
   ]
  },
  {
   "cell_type": "code",
   "execution_count": 33,
   "id": "6e63717a-09f3-4f17-a03f-c179880c9e57",
   "metadata": {},
   "outputs": [
    {
     "name": "stdout",
     "output_type": "stream",
     "text": [
      "ANIMAL CREATED\n",
      "DOG CREATED\n"
     ]
    }
   ],
   "source": [
    "mydog = Dog()"
   ]
  },
  {
   "cell_type": "code",
   "execution_count": 34,
   "id": "70a7c321-d61f-49e9-a4e7-f0739fbc9221",
   "metadata": {},
   "outputs": [
    {
     "name": "stdout",
     "output_type": "stream",
     "text": [
      "I AM A DOG AND I AM EATING\n"
     ]
    }
   ],
   "source": [
    "mydog.eat()"
   ]
  },
  {
   "cell_type": "code",
   "execution_count": 35,
   "id": "aaf8a76b-a020-4a14-8513-44de4e51648c",
   "metadata": {},
   "outputs": [
    {
     "name": "stdout",
     "output_type": "stream",
     "text": [
      "I AM A DOG\n"
     ]
    }
   ],
   "source": [
    "mydog.who_am_i()"
   ]
  },
  {
   "cell_type": "code",
   "execution_count": 37,
   "id": "d93d58c8-f631-4c28-816a-2398cd03622e",
   "metadata": {},
   "outputs": [
    {
     "name": "stdout",
     "output_type": "stream",
     "text": [
      "WOOF!\n"
     ]
    }
   ],
   "source": [
    "mydog.bark()"
   ]
  },
  {
   "cell_type": "code",
   "execution_count": null,
   "id": "8f57a50f-77ff-4ec5-a6f9-aec7934c05c7",
   "metadata": {},
   "outputs": [],
   "source": []
  },
  {
   "cell_type": "code",
   "execution_count": 38,
   "id": "41a57517-492b-426b-9806-773ae6fd3600",
   "metadata": {},
   "outputs": [],
   "source": [
    "# POLYMORPHISM"
   ]
  },
  {
   "cell_type": "code",
   "execution_count": 52,
   "id": "3f4449fb-4d80-4183-a8fb-0a95d7b247c6",
   "metadata": {},
   "outputs": [],
   "source": [
    "class Dog():\n",
    "    def __init__(self,name):\n",
    "        self.name = name\n",
    "\n",
    "    def speak(self):\n",
    "        return self.name + \" says WOOF!\"\n",
    "        # THIS SPEAK METHOD IS UNIQUE TO THE OBJECT OF DOG"
   ]
  },
  {
   "cell_type": "code",
   "execution_count": 53,
   "id": "17f16f46-cc6c-4cf5-a80a-8f4320cfa0a7",
   "metadata": {},
   "outputs": [],
   "source": [
    "class Cat():\n",
    "    def __init__(self,name):\n",
    "        self.name = name\n",
    "\n",
    "    def speak(self):\n",
    "        return self.name + \" says Meow!\"\n",
    "        # THIS SPEAK METHOD IS UNIQUE TO THE OBJECT OF CAT"
   ]
  },
  {
   "cell_type": "code",
   "execution_count": 54,
   "id": "325a56c7-9453-4ab3-baf8-ec04b4574e61",
   "metadata": {},
   "outputs": [],
   "source": [
    "niko = Dog(\"Niko\")\n",
    "felix = Cat(\"Felix\")"
   ]
  },
  {
   "cell_type": "code",
   "execution_count": 55,
   "id": "36840a0b-c177-4265-a9fe-b5a2cde43045",
   "metadata": {},
   "outputs": [
    {
     "name": "stdout",
     "output_type": "stream",
     "text": [
      "Niko says WOOF!\n"
     ]
    }
   ],
   "source": [
    "print(niko.speak())"
   ]
  },
  {
   "cell_type": "code",
   "execution_count": 56,
   "id": "e6c9a9d1-6c85-47c5-89c3-fb169322b7b6",
   "metadata": {},
   "outputs": [
    {
     "name": "stdout",
     "output_type": "stream",
     "text": [
      "Felix says Meow!\n"
     ]
    }
   ],
   "source": [
    "print(felix.speak())"
   ]
  },
  {
   "cell_type": "code",
   "execution_count": 60,
   "id": "905b2d47-b9eb-4f3c-aa0e-f93033ba51f1",
   "metadata": {},
   "outputs": [
    {
     "name": "stdout",
     "output_type": "stream",
     "text": [
      "<class '__main__.Dog'>\n",
      "Niko says WOOF!\n",
      "<class '__main__.Cat'>\n",
      "Felix says Meow!\n"
     ]
    }
   ],
   "source": [
    "for pet in [niko,felix]:\n",
    "    print(type(pet))\n",
    "    print(pet.speak())"
   ]
  },
  {
   "cell_type": "code",
   "execution_count": 61,
   "id": "1efa0b2e-6ed4-422c-bf58-5244dd7151c1",
   "metadata": {},
   "outputs": [],
   "source": [
    "def pet_speak(pet):\n",
    "    print(pet.speak())"
   ]
  },
  {
   "cell_type": "code",
   "execution_count": 62,
   "id": "7fde5ea1-7149-4398-ab24-5c90a3d07077",
   "metadata": {},
   "outputs": [
    {
     "name": "stdout",
     "output_type": "stream",
     "text": [
      "Niko says WOOF!\n"
     ]
    }
   ],
   "source": [
    "pet_speak(niko)"
   ]
  },
  {
   "cell_type": "code",
   "execution_count": 63,
   "id": "09f28396-6888-4f8d-930b-fb6dc998efb8",
   "metadata": {},
   "outputs": [
    {
     "name": "stdout",
     "output_type": "stream",
     "text": [
      "Felix says Meow!\n"
     ]
    }
   ],
   "source": [
    "pet_speak(felix)"
   ]
  },
  {
   "cell_type": "code",
   "execution_count": null,
   "id": "5079f6ff-41d9-4e8d-a0a7-850c619bed34",
   "metadata": {},
   "outputs": [],
   "source": []
  },
  {
   "cell_type": "code",
   "execution_count": null,
   "id": "ad3dca5b-cd6d-4de3-bb18-9050d4c9c5ef",
   "metadata": {},
   "outputs": [],
   "source": []
  },
  {
   "cell_type": "code",
   "execution_count": 65,
   "id": "0881c0bb-8452-4e9a-8099-9acd2d505fe3",
   "metadata": {},
   "outputs": [],
   "source": [
    "# ABSTRACT CLASSES IN INHERITANCE - Commom Practice"
   ]
  },
  {
   "cell_type": "code",
   "execution_count": 67,
   "id": "d13de7bb-8a22-4fff-83d4-694f3e99b342",
   "metadata": {},
   "outputs": [],
   "source": [
    "# ABSTRACT CLASSES are only used to serve as a base class.\n",
    "# Their object cannot be created"
   ]
  },
  {
   "cell_type": "code",
   "execution_count": 69,
   "id": "2ae387f5-8ca7-4e42-9e85-830fc1567400",
   "metadata": {},
   "outputs": [],
   "source": [
    "class Animal():\n",
    "    def __init__(self,name):\n",
    "        self.name = name\n",
    "    def speak(self):\n",
    "        raise NotImplementedError(\"Subclass must implement this abstract method\")"
   ]
  },
  {
   "cell_type": "code",
   "execution_count": 71,
   "id": "c88990ec-8bda-4467-9932-5c1e1acc4796",
   "metadata": {},
   "outputs": [],
   "source": [
    "myanimal = Animal('Champi')"
   ]
  },
  {
   "cell_type": "code",
   "execution_count": 72,
   "id": "b85299ca-5c2a-4e26-84c7-b6a793d9525b",
   "metadata": {},
   "outputs": [
    {
     "ename": "NotImplementedError",
     "evalue": "Subclass must implement this abstract method",
     "output_type": "error",
     "traceback": [
      "\u001b[1;31m---------------------------------------------------------------------------\u001b[0m",
      "\u001b[1;31mNotImplementedError\u001b[0m                       Traceback (most recent call last)",
      "Cell \u001b[1;32mIn[72], line 1\u001b[0m\n\u001b[1;32m----> 1\u001b[0m \u001b[43mmyanimal\u001b[49m\u001b[38;5;241;43m.\u001b[39;49m\u001b[43mspeak\u001b[49m\u001b[43m(\u001b[49m\u001b[43m)\u001b[49m\n",
      "Cell \u001b[1;32mIn[69], line 5\u001b[0m, in \u001b[0;36mAnimal.speak\u001b[1;34m(self)\u001b[0m\n\u001b[0;32m      4\u001b[0m \u001b[38;5;28;01mdef\u001b[39;00m \u001b[38;5;21mspeak\u001b[39m(\u001b[38;5;28mself\u001b[39m):\n\u001b[1;32m----> 5\u001b[0m     \u001b[38;5;28;01mraise\u001b[39;00m \u001b[38;5;167;01mNotImplementedError\u001b[39;00m(\u001b[38;5;124m\"\u001b[39m\u001b[38;5;124mSubclass must implement this abstract method\u001b[39m\u001b[38;5;124m\"\u001b[39m)\n",
      "\u001b[1;31mNotImplementedError\u001b[0m: Subclass must implement this abstract method"
     ]
    }
   ],
   "source": [
    "myanimal.speak()"
   ]
  },
  {
   "cell_type": "code",
   "execution_count": 78,
   "id": "c2bc56d2-33d4-467a-8195-ec7ef280ebee",
   "metadata": {},
   "outputs": [],
   "source": [
    "class Dog(Animal):\n",
    "    def speak(self):\n",
    "        return self.name + \" SAYS WOOF!\" "
   ]
  },
  {
   "cell_type": "code",
   "execution_count": 79,
   "id": "b24edda6-92b8-4a30-b853-7ea2954da8de",
   "metadata": {},
   "outputs": [],
   "source": [
    "class Cat(Animal):\n",
    "    def speak(self):\n",
    "        return self.name + \" SAYS MEOW!\""
   ]
  },
  {
   "cell_type": "code",
   "execution_count": 80,
   "id": "f5dc8c25-dff3-445d-ac2e-005664aa577b",
   "metadata": {},
   "outputs": [],
   "source": [
    "fido = Dog('FIDO')"
   ]
  },
  {
   "cell_type": "code",
   "execution_count": 81,
   "id": "6c8b045f-44d6-4440-9610-e754a16eeaa5",
   "metadata": {},
   "outputs": [],
   "source": [
    "billu = Cat(\"BILLU\")"
   ]
  },
  {
   "cell_type": "code",
   "execution_count": 82,
   "id": "4afbe552-93aa-40ab-a0c3-2a98a2671932",
   "metadata": {},
   "outputs": [
    {
     "data": {
      "text/plain": [
       "'FIDO SAYS WOOF!'"
      ]
     },
     "execution_count": 82,
     "metadata": {},
     "output_type": "execute_result"
    }
   ],
   "source": [
    "fido.speak()"
   ]
  },
  {
   "cell_type": "code",
   "execution_count": 83,
   "id": "9d2f6ff8-1089-4326-a73b-c8ba50c45fcc",
   "metadata": {},
   "outputs": [
    {
     "data": {
      "text/plain": [
       "'BILLU SAYS MEOW!'"
      ]
     },
     "execution_count": 83,
     "metadata": {},
     "output_type": "execute_result"
    }
   ],
   "source": [
    "billu.speak()"
   ]
  },
  {
   "cell_type": "code",
   "execution_count": null,
   "id": "b013886c-1628-49cb-abb0-fded2ecb6062",
   "metadata": {},
   "outputs": [],
   "source": []
  },
  {
   "cell_type": "code",
   "execution_count": 85,
   "id": "5f78ebe5-39c0-4e70-a58b-1f2f5b0e34f1",
   "metadata": {},
   "outputs": [],
   "source": [
    "# SPECIAL METHODS \n",
    "# These are used to apply built in methods for user created objects"
   ]
  },
  {
   "cell_type": "code",
   "execution_count": 86,
   "id": "67373eeb-e581-4244-bec8-f0d2293fc432",
   "metadata": {},
   "outputs": [],
   "source": [
    "mylist = [1,2,3]"
   ]
  },
  {
   "cell_type": "code",
   "execution_count": 87,
   "id": "8fc2fc69-1731-4bb6-9c59-b5c1d403f619",
   "metadata": {},
   "outputs": [
    {
     "data": {
      "text/plain": [
       "3"
      ]
     },
     "execution_count": 87,
     "metadata": {},
     "output_type": "execute_result"
    }
   ],
   "source": [
    "len(mylist)"
   ]
  },
  {
   "cell_type": "code",
   "execution_count": 88,
   "id": "d17790b6-722d-4994-8343-e487ea9e5f15",
   "metadata": {},
   "outputs": [],
   "source": [
    "class Sample():\n",
    "    pass"
   ]
  },
  {
   "cell_type": "code",
   "execution_count": 89,
   "id": "b8343fb8-1aed-4e81-bc5d-1d95aeb93ee0",
   "metadata": {},
   "outputs": [],
   "source": [
    "mysample = Sample()"
   ]
  },
  {
   "cell_type": "code",
   "execution_count": 91,
   "id": "31038054-58c0-4a20-9975-491e7e865ad4",
   "metadata": {},
   "outputs": [
    {
     "ename": "TypeError",
     "evalue": "object of type 'Sample' has no len()",
     "output_type": "error",
     "traceback": [
      "\u001b[1;31m---------------------------------------------------------------------------\u001b[0m",
      "\u001b[1;31mTypeError\u001b[0m                                 Traceback (most recent call last)",
      "Cell \u001b[1;32mIn[91], line 1\u001b[0m\n\u001b[1;32m----> 1\u001b[0m \u001b[38;5;28;43mlen\u001b[39;49m\u001b[43m(\u001b[49m\u001b[43mmysample\u001b[49m\u001b[43m)\u001b[49m\n",
      "\u001b[1;31mTypeError\u001b[0m: object of type 'Sample' has no len()"
     ]
    }
   ],
   "source": [
    "len(mysample)"
   ]
  },
  {
   "cell_type": "code",
   "execution_count": 93,
   "id": "5fdd3b67-acd1-44f2-ae57-f8ed9e774b9e",
   "metadata": {},
   "outputs": [],
   "source": [
    "# __init__ is a special method that initializes the object"
   ]
  },
  {
   "cell_type": "code",
   "execution_count": null,
   "id": "fa05d819-83a9-4b82-b5d3-85c8a72e345e",
   "metadata": {},
   "outputs": [],
   "source": []
  },
  {
   "cell_type": "code",
   "execution_count": 111,
   "id": "da223147-6218-4bc3-bdda-a26e63bc494c",
   "metadata": {},
   "outputs": [],
   "source": [
    "class Book():\n",
    "    def __init__(self,title,author,pages):\n",
    "        self.title = title\n",
    "        self.author = author\n",
    "        self.pages = pages\n",
    "\n",
    "    ## Special method to represent string representation of the class\n",
    "    def __str__(self):\n",
    "        return f\"{self.title} by {self.author}\"\n",
    "\n",
    "    def __len__(self):\n",
    "        return self.pages\n",
    "\n",
    "    def __del__(self):\n",
    "        print(\"A Book Object has been deleted\")"
   ]
  },
  {
   "cell_type": "code",
   "execution_count": 112,
   "id": "d6245720-3f0a-40bd-b87d-fbc45a4e11e0",
   "metadata": {},
   "outputs": [],
   "source": [
    "b = Book('THE HARMONY', 'VALLABH', 200)"
   ]
  },
  {
   "cell_type": "code",
   "execution_count": 113,
   "id": "6f7c3cae-ef48-4a38-8058-37667b1dcfb7",
   "metadata": {},
   "outputs": [
    {
     "name": "stdout",
     "output_type": "stream",
     "text": [
      "THE HARMONY by VALLABH\n"
     ]
    }
   ],
   "source": [
    "print(b) # PRITNS MEMORY LOCATION OF b"
   ]
  },
  {
   "cell_type": "code",
   "execution_count": 114,
   "id": "b15df854-0c34-460a-bc4b-1fe9bd6ec77f",
   "metadata": {},
   "outputs": [
    {
     "data": {
      "text/plain": [
       "'THE HARMONY by VALLABH'"
      ]
     },
     "execution_count": 114,
     "metadata": {},
     "output_type": "execute_result"
    }
   ],
   "source": [
    "str(b)"
   ]
  },
  {
   "cell_type": "code",
   "execution_count": 115,
   "id": "072b65be-42f9-4c1b-b96a-60e6506e20d9",
   "metadata": {},
   "outputs": [
    {
     "data": {
      "text/plain": [
       "200"
      ]
     },
     "execution_count": 115,
     "metadata": {},
     "output_type": "execute_result"
    }
   ],
   "source": [
    "len(b)"
   ]
  },
  {
   "cell_type": "code",
   "execution_count": 116,
   "id": "c647d36b-4958-403c-a4f8-2c5412bd5b5d",
   "metadata": {},
   "outputs": [
    {
     "name": "stdout",
     "output_type": "stream",
     "text": [
      "A Book Object has been deleted\n"
     ]
    }
   ],
   "source": [
    "del b"
   ]
  },
  {
   "cell_type": "code",
   "execution_count": 117,
   "id": "7fa36ee4-e31b-46d1-998a-709fec4819dc",
   "metadata": {},
   "outputs": [
    {
     "ename": "NameError",
     "evalue": "name 'b' is not defined",
     "output_type": "error",
     "traceback": [
      "\u001b[1;31m---------------------------------------------------------------------------\u001b[0m",
      "\u001b[1;31mNameError\u001b[0m                                 Traceback (most recent call last)",
      "Cell \u001b[1;32mIn[117], line 1\u001b[0m\n\u001b[1;32m----> 1\u001b[0m \u001b[43mb\u001b[49m\n",
      "\u001b[1;31mNameError\u001b[0m: name 'b' is not defined"
     ]
    }
   ],
   "source": [
    "b"
   ]
  },
  {
   "cell_type": "code",
   "execution_count": null,
   "id": "fffe860e-8947-4301-a8f8-7c8c1fdd105c",
   "metadata": {},
   "outputs": [],
   "source": []
  }
 ],
 "metadata": {
  "kernelspec": {
   "display_name": "Python 3 (ipykernel)",
   "language": "python",
   "name": "python3"
  },
  "language_info": {
   "codemirror_mode": {
    "name": "ipython",
    "version": 3
   },
   "file_extension": ".py",
   "mimetype": "text/x-python",
   "name": "python",
   "nbconvert_exporter": "python",
   "pygments_lexer": "ipython3",
   "version": "3.11.5"
  }
 },
 "nbformat": 4,
 "nbformat_minor": 5
}
