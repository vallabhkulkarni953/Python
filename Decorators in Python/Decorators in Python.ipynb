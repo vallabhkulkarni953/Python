{
 "cells": [
  {
   "cell_type": "code",
   "execution_count": 3,
   "id": "e582a889-8a91-43df-9f42-a1a7f980960e",
   "metadata": {},
   "outputs": [],
   "source": [
    "# Python has decorators that allow user to tak on extra functionality to \n",
    "# an already existing function"
   ]
  },
  {
   "cell_type": "code",
   "execution_count": 5,
   "id": "3f6b247c-605f-4171-8ed5-0d445e80f92e",
   "metadata": {},
   "outputs": [],
   "source": [
    "# They use the @ operator and are then placed on top of the original function"
   ]
  },
  {
   "cell_type": "code",
   "execution_count": 11,
   "id": "09c30be3-5d56-478d-8d4c-3fbbaa2ff5fe",
   "metadata": {},
   "outputs": [],
   "source": [
    "# @some_decorator\n",
    "# def simple_function():\n",
    "#     # DO SOME STUFF\n",
    "#     return \"Something\""
   ]
  },
  {
   "cell_type": "code",
   "execution_count": 13,
   "id": "3e1308c9-bb1b-4b89-bdc9-8f25e5af488e",
   "metadata": {},
   "outputs": [],
   "source": [
    "# Add decorator to add the extra functionality to the function when needed"
   ]
  },
  {
   "cell_type": "code",
   "execution_count": 15,
   "id": "cf6168dc-341d-4fe0-85a8-2b156db6373b",
   "metadata": {},
   "outputs": [],
   "source": [
    "def func():\n",
    "    return 1"
   ]
  },
  {
   "cell_type": "code",
   "execution_count": 17,
   "id": "c729dd2c-f04c-495c-8ff2-805d324fab9c",
   "metadata": {},
   "outputs": [
    {
     "data": {
      "text/plain": [
       "1"
      ]
     },
     "execution_count": 17,
     "metadata": {},
     "output_type": "execute_result"
    }
   ],
   "source": [
    "func()"
   ]
  },
  {
   "cell_type": "code",
   "execution_count": 19,
   "id": "a1db1f9d-9a15-4136-9270-e297132189ce",
   "metadata": {},
   "outputs": [
    {
     "data": {
      "text/plain": [
       "<function __main__.func()>"
      ]
     },
     "execution_count": 19,
     "metadata": {},
     "output_type": "execute_result"
    }
   ],
   "source": [
    "func"
   ]
  },
  {
   "cell_type": "code",
   "execution_count": 41,
   "id": "e9d43136-6027-473f-8c37-9b92c6be6fe0",
   "metadata": {},
   "outputs": [],
   "source": [
    "def hello():\n",
    "    return \"Hello!\""
   ]
  },
  {
   "cell_type": "code",
   "execution_count": 43,
   "id": "20b71ff3-08e9-4dc0-8f62-6fdbd6ff471e",
   "metadata": {},
   "outputs": [
    {
     "data": {
      "text/plain": [
       "'Hello!'"
      ]
     },
     "execution_count": 43,
     "metadata": {},
     "output_type": "execute_result"
    }
   ],
   "source": [
    "hello()"
   ]
  },
  {
   "cell_type": "code",
   "execution_count": 45,
   "id": "0e5e8d9b-439d-484e-a0b2-93f2a65d4001",
   "metadata": {},
   "outputs": [
    {
     "data": {
      "text/plain": [
       "<function __main__.hello()>"
      ]
     },
     "execution_count": 45,
     "metadata": {},
     "output_type": "execute_result"
    }
   ],
   "source": [
    "hello"
   ]
  },
  {
   "cell_type": "code",
   "execution_count": 47,
   "id": "fc434d86-ed12-48e0-885f-5122d4a5fea2",
   "metadata": {},
   "outputs": [],
   "source": [
    "greet = hello"
   ]
  },
  {
   "cell_type": "code",
   "execution_count": 49,
   "id": "46c69295-6766-4b49-bb5e-ca48332fbd17",
   "metadata": {},
   "outputs": [
    {
     "data": {
      "text/plain": [
       "'Hello!'"
      ]
     },
     "execution_count": 49,
     "metadata": {},
     "output_type": "execute_result"
    }
   ],
   "source": [
    "greet()"
   ]
  },
  {
   "cell_type": "code",
   "execution_count": 51,
   "id": "3eb8ddd4-6a5c-4adc-b043-61966df4ab16",
   "metadata": {},
   "outputs": [
    {
     "data": {
      "text/plain": [
       "'Hello!'"
      ]
     },
     "execution_count": 51,
     "metadata": {},
     "output_type": "execute_result"
    }
   ],
   "source": [
    "hello()"
   ]
  },
  {
   "cell_type": "code",
   "execution_count": 53,
   "id": "9e326297-261f-40e9-a207-5a4af24a231d",
   "metadata": {},
   "outputs": [],
   "source": [
    "del hello"
   ]
  },
  {
   "cell_type": "code",
   "execution_count": 55,
   "id": "51c2858a-507f-45ec-be61-b3f1c0fdf354",
   "metadata": {},
   "outputs": [
    {
     "ename": "NameError",
     "evalue": "name 'hello' is not defined",
     "output_type": "error",
     "traceback": [
      "\u001b[1;31m---------------------------------------------------------------------------\u001b[0m",
      "\u001b[1;31mNameError\u001b[0m                                 Traceback (most recent call last)",
      "Cell \u001b[1;32mIn[55], line 1\u001b[0m\n\u001b[1;32m----> 1\u001b[0m \u001b[43mhello\u001b[49m()\n",
      "\u001b[1;31mNameError\u001b[0m: name 'hello' is not defined"
     ]
    }
   ],
   "source": [
    "hello()"
   ]
  },
  {
   "cell_type": "code",
   "execution_count": 57,
   "id": "13d8ccf1-2363-4dca-8b39-a3fef5170109",
   "metadata": {},
   "outputs": [
    {
     "data": {
      "text/plain": [
       "'Hello!'"
      ]
     },
     "execution_count": 57,
     "metadata": {},
     "output_type": "execute_result"
    }
   ],
   "source": [
    "greet()"
   ]
  },
  {
   "cell_type": "code",
   "execution_count": 61,
   "id": "f6b01ede-6ae1-4516-97b0-51245bcf8571",
   "metadata": {},
   "outputs": [],
   "source": [
    "# This means that greet() function is the copy of the hello function\n",
    "# It also means that greet is not pointing to the hello function"
   ]
  },
  {
   "cell_type": "code",
   "execution_count": null,
   "id": "c8e91eb8-37d6-4a29-bf45-c7c770a7e54a",
   "metadata": {},
   "outputs": [],
   "source": []
  },
  {
   "cell_type": "code",
   "execution_count": null,
   "id": "b994fded-158f-4670-94ee-4b8e67a0bb4c",
   "metadata": {},
   "outputs": [],
   "source": []
  },
  {
   "cell_type": "code",
   "execution_count": null,
   "id": "6f267353-4c8b-43fa-ac5d-97a0eee60537",
   "metadata": {},
   "outputs": [],
   "source": []
  },
  {
   "cell_type": "code",
   "execution_count": null,
   "id": "03a29d2b-e027-49d3-b79f-35aff197c156",
   "metadata": {},
   "outputs": [],
   "source": []
  },
  {
   "cell_type": "code",
   "execution_count": 99,
   "id": "fcb4c1ff-564e-49ec-984e-19833a8b9042",
   "metadata": {},
   "outputs": [],
   "source": [
    "def hello(name=\"Vallabh\"):\n",
    "    print(\"The hello() function has been executed!\")\n",
    "\n",
    "    def greet():\n",
    "        return '\\t This is the greet() function inside hello!'\n",
    "\n",
    "    def welcome():\n",
    "        return '\\t This is welcome() function inside hello'\n",
    "\n",
    "    # print(greet())\n",
    "    # print(welcome())\n",
    "    # print(\"This is the end of the Hello Function\")\n",
    "    print(\"I am going to return a function!!\")\n",
    "\n",
    "    if name == \"Vallabh\":\n",
    "        return greet\n",
    "    else:\n",
    "        return welcome"
   ]
  },
  {
   "cell_type": "code",
   "execution_count": 101,
   "id": "9335412e-2217-42d1-bfcb-3e86aa77742c",
   "metadata": {},
   "outputs": [
    {
     "name": "stdout",
     "output_type": "stream",
     "text": [
      "The hello() function has been executed!\n",
      "I am going to return a function!!\n"
     ]
    },
    {
     "data": {
      "text/plain": [
       "<function __main__.hello.<locals>.greet()>"
      ]
     },
     "execution_count": 101,
     "metadata": {},
     "output_type": "execute_result"
    }
   ],
   "source": [
    "hello()"
   ]
  },
  {
   "cell_type": "code",
   "execution_count": 93,
   "id": "71a6ce95-8b33-4f45-a47e-10dccecfad8b",
   "metadata": {},
   "outputs": [],
   "source": [
    "# The scope of greet and welcome function is inside the hello function only"
   ]
  },
  {
   "cell_type": "code",
   "execution_count": 95,
   "id": "929e422d-814d-479c-bf6f-30d7076e7da5",
   "metadata": {},
   "outputs": [
    {
     "ename": "NameError",
     "evalue": "name 'welcome' is not defined",
     "output_type": "error",
     "traceback": [
      "\u001b[1;31m---------------------------------------------------------------------------\u001b[0m",
      "\u001b[1;31mNameError\u001b[0m                                 Traceback (most recent call last)",
      "Cell \u001b[1;32mIn[95], line 1\u001b[0m\n\u001b[1;32m----> 1\u001b[0m \u001b[43mwelcome\u001b[49m()\n",
      "\u001b[1;31mNameError\u001b[0m: name 'welcome' is not defined"
     ]
    }
   ],
   "source": [
    "welcome()"
   ]
  },
  {
   "cell_type": "code",
   "execution_count": 97,
   "id": "7fee2a26-1fa2-48e8-a951-26468b8b1811",
   "metadata": {},
   "outputs": [],
   "source": [
    "# To have access to these functions, \n",
    "# we need to return the functions by the hello function"
   ]
  },
  {
   "cell_type": "code",
   "execution_count": 103,
   "id": "d8ed5226-e7d5-4e85-92fc-dbfb145ff36c",
   "metadata": {},
   "outputs": [
    {
     "name": "stdout",
     "output_type": "stream",
     "text": [
      "The hello() function has been executed!\n",
      "I am going to return a function!!\n"
     ]
    }
   ],
   "source": [
    "my_new_func = hello(name='Vallabh')"
   ]
  },
  {
   "cell_type": "code",
   "execution_count": 111,
   "id": "72793736-d53e-4962-88d5-909348340907",
   "metadata": {},
   "outputs": [
    {
     "name": "stdout",
     "output_type": "stream",
     "text": [
      "\t This is the greet() function inside hello!\n"
     ]
    }
   ],
   "source": [
    "print(my_new_func())"
   ]
  },
  {
   "cell_type": "code",
   "execution_count": 115,
   "id": "55f6035d-8860-4044-998c-b481128f3639",
   "metadata": {},
   "outputs": [],
   "source": [
    "def cool():\n",
    "\n",
    "    def supercool():\n",
    "        return \"I am supercool\"\n",
    "\n",
    "    return supercool"
   ]
  },
  {
   "cell_type": "code",
   "execution_count": 117,
   "id": "0a738ea2-9e51-4b24-b6bc-066f3b751a3d",
   "metadata": {},
   "outputs": [],
   "source": [
    "some_func = cool()"
   ]
  },
  {
   "cell_type": "code",
   "execution_count": 119,
   "id": "58f880ce-772b-4fbf-aa9b-3588cf133fc5",
   "metadata": {},
   "outputs": [
    {
     "data": {
      "text/plain": [
       "<function __main__.cool.<locals>.supercool()>"
      ]
     },
     "execution_count": 119,
     "metadata": {},
     "output_type": "execute_result"
    }
   ],
   "source": [
    "some_func"
   ]
  },
  {
   "cell_type": "code",
   "execution_count": 121,
   "id": "bc075e35-409e-42d4-a5e9-0dd1975c037f",
   "metadata": {},
   "outputs": [
    {
     "data": {
      "text/plain": [
       "'I am supercool'"
      ]
     },
     "execution_count": 121,
     "metadata": {},
     "output_type": "execute_result"
    }
   ],
   "source": [
    "some_func()"
   ]
  },
  {
   "cell_type": "code",
   "execution_count": null,
   "id": "997e7b2e-a980-4399-9ecf-e36bf530660a",
   "metadata": {},
   "outputs": [],
   "source": []
  },
  {
   "cell_type": "code",
   "execution_count": null,
   "id": "c69c798c-c6c0-490e-b768-78f94f7b9339",
   "metadata": {},
   "outputs": [],
   "source": []
  },
  {
   "cell_type": "code",
   "execution_count": 125,
   "id": "03bb5a35-83b1-42db-962b-9862be5e0b46",
   "metadata": {},
   "outputs": [],
   "source": [
    "# Passing a function as an argument"
   ]
  },
  {
   "cell_type": "code",
   "execution_count": 127,
   "id": "ac967c8b-bc02-40e5-8dff-0b63be3700d3",
   "metadata": {},
   "outputs": [],
   "source": [
    "def hello():\n",
    "    return \"Hello Vallabh\""
   ]
  },
  {
   "cell_type": "code",
   "execution_count": 129,
   "id": "b83c7318-3e86-4bc0-a562-d618b89b79e2",
   "metadata": {},
   "outputs": [],
   "source": [
    "def other(some_defined_function):\n",
    "    print(\"Other code runs here!\")\n",
    "    print(some_defined_function)"
   ]
  },
  {
   "cell_type": "code",
   "execution_count": 135,
   "id": "bde9b847-72dd-4c3d-a971-c0b421570e11",
   "metadata": {},
   "outputs": [
    {
     "name": "stdout",
     "output_type": "stream",
     "text": [
      "Other code runs here!\n",
      "<function hello at 0x00000245A1AE32E0>\n"
     ]
    }
   ],
   "source": [
    "other(hello)"
   ]
  },
  {
   "cell_type": "code",
   "execution_count": 137,
   "id": "8a1d6513-6623-419e-ac91-7894d93da745",
   "metadata": {},
   "outputs": [
    {
     "name": "stdout",
     "output_type": "stream",
     "text": [
      "Other code runs here!\n",
      "Hello Vallabh\n"
     ]
    }
   ],
   "source": [
    "other(hello())"
   ]
  },
  {
   "cell_type": "code",
   "execution_count": null,
   "id": "b1c9057f-d99c-4b65-97dd-2e8a49be7944",
   "metadata": {},
   "outputs": [],
   "source": []
  },
  {
   "cell_type": "code",
   "execution_count": null,
   "id": "145c64c3-63d6-4ca0-889e-15fbd50ecdb0",
   "metadata": {},
   "outputs": [],
   "source": []
  },
  {
   "cell_type": "code",
   "execution_count": null,
   "id": "48a065fb-1782-414f-bf78-ff48a116db1c",
   "metadata": {},
   "outputs": [],
   "source": []
  },
  {
   "cell_type": "code",
   "execution_count": 142,
   "id": "dda25933-fb0f-4516-88e3-b2ecb665240b",
   "metadata": {},
   "outputs": [],
   "source": [
    "# Creating our own decorator"
   ]
  },
  {
   "cell_type": "code",
   "execution_count": 144,
   "id": "8d582ffa-f252-4e3f-a9c3-da754d5af057",
   "metadata": {},
   "outputs": [],
   "source": [
    "# It is actually an on off switch to add and remove extra functionalities."
   ]
  },
  {
   "cell_type": "code",
   "execution_count": 152,
   "id": "1a46091d-e8c9-485d-9989-02bdabaf183e",
   "metadata": {},
   "outputs": [],
   "source": [
    "def new_decorator(original_function):\n",
    "\n",
    "    def wrap_func():\n",
    "\n",
    "        print(\"Some Extra code, before the original function\")\n",
    "\n",
    "        original_function()\n",
    "\n",
    "        print(\"Some extra code, after the original function\")\n",
    "\n",
    "    return wrap_func"
   ]
  },
  {
   "cell_type": "code",
   "execution_count": 154,
   "id": "15095689-7c06-4271-8bd8-4b7c5b32153f",
   "metadata": {},
   "outputs": [],
   "source": [
    "def func_needs_decorator():\n",
    "    print(\"I want to be decorated!!!\")"
   ]
  },
  {
   "cell_type": "code",
   "execution_count": 156,
   "id": "1d4a13bd-cdcc-41ef-8dae-b1676f413a5c",
   "metadata": {},
   "outputs": [
    {
     "name": "stdout",
     "output_type": "stream",
     "text": [
      "I want to be decorated!!!\n"
     ]
    }
   ],
   "source": [
    "func_needs_decorator()"
   ]
  },
  {
   "cell_type": "code",
   "execution_count": 160,
   "id": "b1c22795-eeda-467d-8b5f-d6e55cdea865",
   "metadata": {},
   "outputs": [],
   "source": [
    "decorated_func = new_decorator(func_needs_decorator)"
   ]
  },
  {
   "cell_type": "code",
   "execution_count": 164,
   "id": "63c4152f-f83e-4ccf-a6c0-769e2b3b4d6c",
   "metadata": {},
   "outputs": [
    {
     "name": "stdout",
     "output_type": "stream",
     "text": [
      "Some Extra code, before the original function\n",
      "I want to be decorated!!!\n",
      "Some extra code, after the original function\n"
     ]
    }
   ],
   "source": [
    "decorated_func()"
   ]
  },
  {
   "cell_type": "code",
   "execution_count": null,
   "id": "a141e65d-e40f-4119-bd05-9baab2cb7d32",
   "metadata": {},
   "outputs": [],
   "source": []
  },
  {
   "cell_type": "code",
   "execution_count": null,
   "id": "c517f137-08a7-4063-b25a-175f26ba6d53",
   "metadata": {},
   "outputs": [],
   "source": []
  },
  {
   "cell_type": "code",
   "execution_count": 168,
   "id": "e0149e32-fe29-4ef0-9545-a04b959f2e8d",
   "metadata": {},
   "outputs": [],
   "source": [
    "# Special symbol @ is used to create the same decorator :"
   ]
  },
  {
   "cell_type": "code",
   "execution_count": 170,
   "id": "7baa4c21-7bd7-4cab-bd1b-3854ca5da517",
   "metadata": {},
   "outputs": [],
   "source": [
    "@new_decorator\n",
    "def func_needs_decorator():\n",
    "    print(\"I want to be decorated!!!\")"
   ]
  },
  {
   "cell_type": "code",
   "execution_count": 174,
   "id": "0dff660c-cb5b-4cd0-86a6-286a603372e9",
   "metadata": {},
   "outputs": [
    {
     "name": "stdout",
     "output_type": "stream",
     "text": [
      "Some Extra code, before the original function\n",
      "I want to be decorated!!!\n",
      "Some extra code, after the original function\n"
     ]
    }
   ],
   "source": [
    "func_needs_decorator()"
   ]
  },
  {
   "cell_type": "code",
   "execution_count": 186,
   "id": "709a484d-7dcd-4f02-8faa-bd35c849fd68",
   "metadata": {},
   "outputs": [],
   "source": [
    "# @new_decorator\n",
    "def func_needs_decorator():\n",
    "    print(\"I want to be decorated!!!\")"
   ]
  },
  {
   "cell_type": "code",
   "execution_count": 188,
   "id": "021485a4-44a7-431c-8841-a9860cf30e9a",
   "metadata": {},
   "outputs": [
    {
     "name": "stdout",
     "output_type": "stream",
     "text": [
      "I want to be decorated!!!\n"
     ]
    }
   ],
   "source": [
    "func_needs_decorator()"
   ]
  },
  {
   "cell_type": "code",
   "execution_count": null,
   "id": "e9a8a9e9-dde2-42cf-bd87-ce86cc00c51d",
   "metadata": {},
   "outputs": [],
   "source": []
  }
 ],
 "metadata": {
  "kernelspec": {
   "display_name": "Python 3 (ipykernel)",
   "language": "python",
   "name": "python3"
  },
  "language_info": {
   "codemirror_mode": {
    "name": "ipython",
    "version": 3
   },
   "file_extension": ".py",
   "mimetype": "text/x-python",
   "name": "python",
   "nbconvert_exporter": "python",
   "pygments_lexer": "ipython3",
   "version": "3.11.5"
  }
 },
 "nbformat": 4,
 "nbformat_minor": 5
}
