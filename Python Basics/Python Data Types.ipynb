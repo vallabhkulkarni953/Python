{
 "cells": [
  {
   "cell_type": "code",
   "execution_count": 1,
   "id": "13ae7b1a",
   "metadata": {},
   "outputs": [
    {
     "name": "stdout",
     "output_type": "stream",
     "text": [
      "Hello\n"
     ]
    }
   ],
   "source": [
    "print('Hello')"
   ]
  },
  {
   "cell_type": "code",
   "execution_count": 2,
   "id": "643f1d9a",
   "metadata": {},
   "outputs": [
    {
     "name": "stdout",
     "output_type": "stream",
     "text": [
      "New Line\n"
     ]
    }
   ],
   "source": [
    "print('New Line')"
   ]
  },
  {
   "cell_type": "markdown",
   "id": "2a1a8054",
   "metadata": {},
   "source": [
    "Normal Text and not the Code"
   ]
  },
  {
   "cell_type": "markdown",
   "id": "fe51a0e6",
   "metadata": {},
   "source": [
    "# Playing with Numbers"
   ]
  },
  {
   "cell_type": "code",
   "execution_count": 1,
   "id": "d5ed2a49",
   "metadata": {},
   "outputs": [
    {
     "data": {
      "text/plain": [
       "3"
      ]
     },
     "execution_count": 1,
     "metadata": {},
     "output_type": "execute_result"
    }
   ],
   "source": [
    "2+1"
   ]
  },
  {
   "cell_type": "code",
   "execution_count": 2,
   "id": "5749e584",
   "metadata": {},
   "outputs": [
    {
     "data": {
      "text/plain": [
       "1"
      ]
     },
     "execution_count": 2,
     "metadata": {},
     "output_type": "execute_result"
    }
   ],
   "source": [
    "2-1"
   ]
  },
  {
   "cell_type": "code",
   "execution_count": 3,
   "id": "d8bc1e13",
   "metadata": {},
   "outputs": [
    {
     "data": {
      "text/plain": [
       "2.0"
      ]
     },
     "execution_count": 3,
     "metadata": {},
     "output_type": "execute_result"
    }
   ],
   "source": [
    "4/2"
   ]
  },
  {
   "cell_type": "code",
   "execution_count": 4,
   "id": "0f24d281",
   "metadata": {},
   "outputs": [
    {
     "data": {
      "text/plain": [
       "6"
      ]
     },
     "execution_count": 4,
     "metadata": {},
     "output_type": "execute_result"
    }
   ],
   "source": [
    "3*2"
   ]
  },
  {
   "cell_type": "code",
   "execution_count": 5,
   "id": "057470d5",
   "metadata": {},
   "outputs": [
    {
     "data": {
      "text/plain": [
       "1.75"
      ]
     },
     "execution_count": 5,
     "metadata": {},
     "output_type": "execute_result"
    }
   ],
   "source": [
    "7/4"
   ]
  },
  {
   "cell_type": "code",
   "execution_count": 6,
   "id": "d182d19a",
   "metadata": {},
   "outputs": [
    {
     "data": {
      "text/plain": [
       "3"
      ]
     },
     "execution_count": 6,
     "metadata": {},
     "output_type": "execute_result"
    }
   ],
   "source": [
    "7%4 #Modulo Division (Gives Remainder)"
   ]
  },
  {
   "cell_type": "code",
   "execution_count": 7,
   "id": "c1da4345",
   "metadata": {},
   "outputs": [
    {
     "data": {
      "text/plain": [
       "1"
      ]
     },
     "execution_count": 7,
     "metadata": {},
     "output_type": "execute_result"
    }
   ],
   "source": [
    "7//4 #Floor Division"
   ]
  },
  {
   "cell_type": "code",
   "execution_count": 9,
   "id": "f6a349c1",
   "metadata": {},
   "outputs": [
    {
     "data": {
      "text/plain": [
       "8"
      ]
     },
     "execution_count": 9,
     "metadata": {},
     "output_type": "execute_result"
    }
   ],
   "source": [
    "2**3 # 2 to the power 3 = 8"
   ]
  },
  {
   "cell_type": "markdown",
   "id": "2b4edb21",
   "metadata": {},
   "source": [
    "# String Interpolation"
   ]
  },
  {
   "cell_type": "code",
   "execution_count": 1,
   "id": "509f7e03",
   "metadata": {},
   "outputs": [],
   "source": [
    "#Formatting strings to inject variable for printing"
   ]
  },
  {
   "cell_type": "code",
   "execution_count": 3,
   "id": "c00e8bbb",
   "metadata": {},
   "outputs": [
    {
     "name": "stdout",
     "output_type": "stream",
     "text": [
      "Hello Vallabh\n"
     ]
    }
   ],
   "source": [
    "name = 'Vallabh'\n",
    "print(\"Hello \"+name)"
   ]
  },
  {
   "cell_type": "code",
   "execution_count": 20,
   "id": "65fb7c85",
   "metadata": {},
   "outputs": [],
   "source": [
    "#Two methods are used for String Interpolation\n",
    "# 1) .format() method\n",
    "# 2) f-strings (formatted string literals)"
   ]
  },
  {
   "cell_type": "code",
   "execution_count": null,
   "id": "fd4e6b7e",
   "metadata": {},
   "outputs": [],
   "source": [
    "#.format()"
   ]
  },
  {
   "cell_type": "code",
   "execution_count": 7,
   "id": "f8a6a320",
   "metadata": {},
   "outputs": [
    {
     "name": "stdout",
     "output_type": "stream",
     "text": [
      "This is an inserted string\n"
     ]
    }
   ],
   "source": [
    "print('This is an {} string'.format('inserted'))"
   ]
  },
  {
   "cell_type": "code",
   "execution_count": 8,
   "id": "225d0e7f",
   "metadata": {},
   "outputs": [
    {
     "name": "stdout",
     "output_type": "stream",
     "text": [
      "The fox brown quick\n"
     ]
    }
   ],
   "source": [
    "print('The {} {} {}'.format('fox','brown','quick'))"
   ]
  },
  {
   "cell_type": "code",
   "execution_count": 9,
   "id": "79698597",
   "metadata": {},
   "outputs": [
    {
     "name": "stdout",
     "output_type": "stream",
     "text": [
      "The quick brown fox\n"
     ]
    }
   ],
   "source": [
    "print('The {2} {1} {0}'.format('fox','brown','quick'))"
   ]
  },
  {
   "cell_type": "code",
   "execution_count": 10,
   "id": "cf54f949",
   "metadata": {},
   "outputs": [
    {
     "name": "stdout",
     "output_type": "stream",
     "text": [
      "The fox fox fox\n"
     ]
    }
   ],
   "source": [
    "print('The {0} {0} {0}'.format('fox','brown','quick'))"
   ]
  },
  {
   "cell_type": "code",
   "execution_count": 11,
   "id": "3e0e3687",
   "metadata": {},
   "outputs": [
    {
     "name": "stdout",
     "output_type": "stream",
     "text": [
      "The quick brown fox\n"
     ]
    }
   ],
   "source": [
    "print('The {q} {b} {f}'.format(f='fox',b='brown',q='quick'))"
   ]
  },
  {
   "cell_type": "markdown",
   "id": "bd850177",
   "metadata": {},
   "source": [
    "# Float formatting Values "
   ]
  },
  {
   "cell_type": "code",
   "execution_count": 12,
   "id": "47205283",
   "metadata": {},
   "outputs": [],
   "source": [
    "result = 100/777"
   ]
  },
  {
   "cell_type": "code",
   "execution_count": 13,
   "id": "1391c6d1",
   "metadata": {},
   "outputs": [
    {
     "data": {
      "text/plain": [
       "0.1287001287001287"
      ]
     },
     "execution_count": 13,
     "metadata": {},
     "output_type": "execute_result"
    }
   ],
   "source": [
    "result"
   ]
  },
  {
   "cell_type": "code",
   "execution_count": 14,
   "id": "35d7d0a4",
   "metadata": {},
   "outputs": [
    {
     "name": "stdout",
     "output_type": "stream",
     "text": [
      "The result was 0.1287001287001287\n"
     ]
    }
   ],
   "source": [
    "print('The result was {r}'.format(r=result))"
   ]
  },
  {
   "cell_type": "code",
   "execution_count": 17,
   "id": "fa4537b9",
   "metadata": {},
   "outputs": [
    {
     "name": "stdout",
     "output_type": "stream",
     "text": [
      "The result was      0.129\n"
     ]
    }
   ],
   "source": [
    "print('The result was {r:10.3f}'.format(r=result)) #value:width.precisionf"
   ]
  },
  {
   "cell_type": "code",
   "execution_count": 21,
   "id": "da870aa2",
   "metadata": {},
   "outputs": [],
   "source": [
    "#f-strings "
   ]
  },
  {
   "cell_type": "code",
   "execution_count": 22,
   "id": "9449cb5a",
   "metadata": {},
   "outputs": [],
   "source": [
    "name = 'Vallabh'"
   ]
  },
  {
   "cell_type": "code",
   "execution_count": 23,
   "id": "b120b335",
   "metadata": {},
   "outputs": [
    {
     "name": "stdout",
     "output_type": "stream",
     "text": [
      "My name is Vallabh\n"
     ]
    }
   ],
   "source": [
    "print(f'My name is {name}')"
   ]
  },
  {
   "cell_type": "markdown",
   "id": "ca2e3153",
   "metadata": {},
   "source": [
    "# Lists "
   ]
  },
  {
   "cell_type": "code",
   "execution_count": 35,
   "id": "6e7c7b2b",
   "metadata": {},
   "outputs": [],
   "source": [
    "#list.append()\n",
    "#list.pop()\n",
    "#list.sort()\n",
    "#list.reverse()"
   ]
  },
  {
   "cell_type": "code",
   "execution_count": 1,
   "id": "8bce65a5",
   "metadata": {},
   "outputs": [
    {
     "data": {
      "text/plain": [
       "['one', 'two', 'three']"
      ]
     },
     "execution_count": 1,
     "metadata": {},
     "output_type": "execute_result"
    }
   ],
   "source": [
    "list = ['one','two','three']\n",
    "list"
   ]
  },
  {
   "cell_type": "code",
   "execution_count": 2,
   "id": "853469de",
   "metadata": {},
   "outputs": [
    {
     "data": {
      "text/plain": [
       "[4, 5, 6]"
      ]
     },
     "execution_count": 2,
     "metadata": {},
     "output_type": "execute_result"
    }
   ],
   "source": [
    "list2 = [4,5,6]\n",
    "list2"
   ]
  },
  {
   "cell_type": "code",
   "execution_count": 3,
   "id": "5befc596",
   "metadata": {},
   "outputs": [
    {
     "data": {
      "text/plain": [
       "['one', 'two', 'three', 4, 5, 6]"
      ]
     },
     "execution_count": 3,
     "metadata": {},
     "output_type": "execute_result"
    }
   ],
   "source": [
    "n_list = list+list2\n",
    "n_list"
   ]
  },
  {
   "cell_type": "code",
   "execution_count": 4,
   "id": "15b4b133",
   "metadata": {},
   "outputs": [
    {
     "data": {
      "text/plain": [
       "'one'"
      ]
     },
     "execution_count": 4,
     "metadata": {},
     "output_type": "execute_result"
    }
   ],
   "source": [
    "n_list[0]"
   ]
  },
  {
   "cell_type": "code",
   "execution_count": 5,
   "id": "a429a54e",
   "metadata": {},
   "outputs": [
    {
     "data": {
      "text/plain": [
       "['two', 'three', 4, 5, 6]"
      ]
     },
     "execution_count": 5,
     "metadata": {},
     "output_type": "execute_result"
    }
   ],
   "source": [
    "n_list[1:]"
   ]
  },
  {
   "cell_type": "code",
   "execution_count": 9,
   "id": "c2385530",
   "metadata": {},
   "outputs": [],
   "source": [
    "n_list.append('SEVEN')"
   ]
  },
  {
   "cell_type": "code",
   "execution_count": 10,
   "id": "d333e656",
   "metadata": {},
   "outputs": [
    {
     "data": {
      "text/plain": [
       "['one', 'two', 'three', 4, 5, 6, 'SEVEN']"
      ]
     },
     "execution_count": 10,
     "metadata": {},
     "output_type": "execute_result"
    }
   ],
   "source": [
    "n_list"
   ]
  },
  {
   "cell_type": "code",
   "execution_count": 11,
   "id": "0eeda45c",
   "metadata": {},
   "outputs": [
    {
     "data": {
      "text/plain": [
       "'SEVEN'"
      ]
     },
     "execution_count": 11,
     "metadata": {},
     "output_type": "execute_result"
    }
   ],
   "source": [
    "n_list.pop()"
   ]
  },
  {
   "cell_type": "code",
   "execution_count": 12,
   "id": "a3c55690",
   "metadata": {},
   "outputs": [
    {
     "data": {
      "text/plain": [
       "['one', 'two', 'three', 4, 5, 6]"
      ]
     },
     "execution_count": 12,
     "metadata": {},
     "output_type": "execute_result"
    }
   ],
   "source": [
    "n_list"
   ]
  },
  {
   "cell_type": "code",
   "execution_count": 13,
   "id": "2088ae70",
   "metadata": {},
   "outputs": [
    {
     "data": {
      "text/plain": [
       "6"
      ]
     },
     "execution_count": 13,
     "metadata": {},
     "output_type": "execute_result"
    }
   ],
   "source": [
    "popped_item = n_list.pop()\n",
    "popped_item"
   ]
  },
  {
   "cell_type": "code",
   "execution_count": 14,
   "id": "e4f3f88f",
   "metadata": {},
   "outputs": [
    {
     "data": {
      "text/plain": [
       "['one', 'two', 'three', 4, 5]"
      ]
     },
     "execution_count": 14,
     "metadata": {},
     "output_type": "execute_result"
    }
   ],
   "source": [
    "n_list"
   ]
  },
  {
   "cell_type": "code",
   "execution_count": 15,
   "id": "a3909841",
   "metadata": {},
   "outputs": [
    {
     "data": {
      "text/plain": [
       "'one'"
      ]
     },
     "execution_count": 15,
     "metadata": {},
     "output_type": "execute_result"
    }
   ],
   "source": [
    "n_list.pop(0)"
   ]
  },
  {
   "cell_type": "code",
   "execution_count": 16,
   "id": "073eeb9f",
   "metadata": {},
   "outputs": [
    {
     "data": {
      "text/plain": [
       "['two', 'three', 4, 5]"
      ]
     },
     "execution_count": 16,
     "metadata": {},
     "output_type": "execute_result"
    }
   ],
   "source": [
    "n_list"
   ]
  },
  {
   "cell_type": "code",
   "execution_count": 17,
   "id": "c22788d0",
   "metadata": {},
   "outputs": [],
   "source": [
    "alpha=['a','x','v','b','m']"
   ]
  },
  {
   "cell_type": "code",
   "execution_count": 20,
   "id": "f945f00d",
   "metadata": {},
   "outputs": [],
   "source": [
    "alpha.sort() #Returns nothing.. Sorts list at its place only"
   ]
  },
  {
   "cell_type": "code",
   "execution_count": 21,
   "id": "d3661765",
   "metadata": {},
   "outputs": [
    {
     "data": {
      "text/plain": [
       "['a', 'b', 'm', 'v', 'x']"
      ]
     },
     "execution_count": 21,
     "metadata": {},
     "output_type": "execute_result"
    }
   ],
   "source": [
    "alpha"
   ]
  },
  {
   "cell_type": "code",
   "execution_count": 22,
   "id": "a93a8681",
   "metadata": {},
   "outputs": [],
   "source": [
    "sorted_list = alpha.sort()"
   ]
  },
  {
   "cell_type": "code",
   "execution_count": 23,
   "id": "80aa93eb",
   "metadata": {},
   "outputs": [],
   "source": [
    "sorted_list"
   ]
  },
  {
   "cell_type": "code",
   "execution_count": 24,
   "id": "4fce45d2",
   "metadata": {},
   "outputs": [
    {
     "data": {
      "text/plain": [
       "NoneType"
      ]
     },
     "execution_count": 24,
     "metadata": {},
     "output_type": "execute_result"
    }
   ],
   "source": [
    "type(sorted_list)"
   ]
  },
  {
   "cell_type": "code",
   "execution_count": 26,
   "id": "a3922694",
   "metadata": {},
   "outputs": [],
   "source": [
    "None #Object in python which is return type of void method"
   ]
  },
  {
   "cell_type": "code",
   "execution_count": 28,
   "id": "cc6a8820",
   "metadata": {},
   "outputs": [
    {
     "data": {
      "text/plain": [
       "[10, 25, 11, 60, 80, 42]"
      ]
     },
     "execution_count": 28,
     "metadata": {},
     "output_type": "execute_result"
    }
   ],
   "source": [
    "num =[10,25,11,60,80,42]\n",
    "num"
   ]
  },
  {
   "cell_type": "code",
   "execution_count": 29,
   "id": "03d1d740",
   "metadata": {},
   "outputs": [],
   "source": [
    "num.sort()"
   ]
  },
  {
   "cell_type": "code",
   "execution_count": 30,
   "id": "9034a7fd",
   "metadata": {},
   "outputs": [
    {
     "data": {
      "text/plain": [
       "[10, 11, 25, 42, 60, 80]"
      ]
     },
     "execution_count": 30,
     "metadata": {},
     "output_type": "execute_result"
    }
   ],
   "source": [
    "num"
   ]
  },
  {
   "cell_type": "code",
   "execution_count": 31,
   "id": "f7a1337e",
   "metadata": {},
   "outputs": [],
   "source": [
    "num.reverse()"
   ]
  },
  {
   "cell_type": "code",
   "execution_count": 32,
   "id": "ceb9a50e",
   "metadata": {},
   "outputs": [
    {
     "data": {
      "text/plain": [
       "[80, 60, 42, 25, 11, 10]"
      ]
     },
     "execution_count": 32,
     "metadata": {},
     "output_type": "execute_result"
    }
   ],
   "source": [
    "num"
   ]
  },
  {
   "cell_type": "markdown",
   "id": "32a95343",
   "metadata": {},
   "source": [
    "# Dictionary (Key-Value Pairs)"
   ]
  },
  {
   "cell_type": "code",
   "execution_count": 1,
   "id": "ad16d5ea-f667-4988-b5b2-8d7790b3a232",
   "metadata": {},
   "outputs": [],
   "source": [
    "my_dict = {'Name': 'Vallabh','Age' : 20}"
   ]
  },
  {
   "cell_type": "code",
   "execution_count": 2,
   "id": "7259b15d-1879-450e-adc1-41ca4f9a4073",
   "metadata": {},
   "outputs": [
    {
     "data": {
      "text/plain": [
       "{'Name': 'Vallabh', 'Age': 20}"
      ]
     },
     "execution_count": 2,
     "metadata": {},
     "output_type": "execute_result"
    }
   ],
   "source": [
    "my_dict"
   ]
  },
  {
   "cell_type": "code",
   "execution_count": 4,
   "id": "399a65cc-9f5d-4bc8-8a0d-95fee4356863",
   "metadata": {},
   "outputs": [
    {
     "data": {
      "text/plain": [
       "20"
      ]
     },
     "execution_count": 4,
     "metadata": {},
     "output_type": "execute_result"
    }
   ],
   "source": [
    "my_dict['Age']"
   ]
  },
  {
   "cell_type": "code",
   "execution_count": 5,
   "id": "fcf3ce81-ad46-462a-b4be-d1670d08ad4a",
   "metadata": {},
   "outputs": [],
   "source": [
    "bev = {'tea':12,'coffee':15, 'coco':40}"
   ]
  },
  {
   "cell_type": "code",
   "execution_count": 7,
   "id": "62411bfd-4560-4c66-a60b-f6ecb044b3ec",
   "metadata": {},
   "outputs": [
    {
     "data": {
      "text/plain": [
       "12"
      ]
     },
     "execution_count": 7,
     "metadata": {},
     "output_type": "execute_result"
    }
   ],
   "source": [
    "bev['tea']"
   ]
  },
  {
   "cell_type": "code",
   "execution_count": 8,
   "id": "d77b6f11-90a7-491e-bd8f-57202f5acc31",
   "metadata": {},
   "outputs": [],
   "source": [
    "#Dictionaries can hold other lists or dictionaries too !"
   ]
  },
  {
   "cell_type": "code",
   "execution_count": 9,
   "id": "f23d31c9-8d39-48de-b192-14470b80ef80",
   "metadata": {},
   "outputs": [],
   "source": [
    "d = {'k1':123, 'k2':[1,3,5],'k3':{'nested_dict':10000}}"
   ]
  },
  {
   "cell_type": "code",
   "execution_count": 10,
   "id": "e681a578-5a07-48db-b29f-7a723d64ed55",
   "metadata": {},
   "outputs": [
    {
     "data": {
      "text/plain": [
       "{'k1': 123, 'k2': [1, 3, 5], 'k3': {'nested_dict': 10000}}"
      ]
     },
     "execution_count": 10,
     "metadata": {},
     "output_type": "execute_result"
    }
   ],
   "source": [
    "d"
   ]
  },
  {
   "cell_type": "code",
   "execution_count": 11,
   "id": "5ac5df00-e3fb-4aed-878f-fa46faf5b7b0",
   "metadata": {},
   "outputs": [
    {
     "data": {
      "text/plain": [
       "[1, 3, 5]"
      ]
     },
     "execution_count": 11,
     "metadata": {},
     "output_type": "execute_result"
    }
   ],
   "source": [
    "d['k2']"
   ]
  },
  {
   "cell_type": "code",
   "execution_count": 12,
   "id": "c146c93a-13f4-47da-9870-8150a205b64e",
   "metadata": {},
   "outputs": [
    {
     "data": {
      "text/plain": [
       "3"
      ]
     },
     "execution_count": 12,
     "metadata": {},
     "output_type": "execute_result"
    }
   ],
   "source": [
    "d['k2'][1]"
   ]
  },
  {
   "cell_type": "code",
   "execution_count": 13,
   "id": "52c5e9bc-1164-4a4b-9766-7e065c241875",
   "metadata": {},
   "outputs": [
    {
     "data": {
      "text/plain": [
       "10000"
      ]
     },
     "execution_count": 13,
     "metadata": {},
     "output_type": "execute_result"
    }
   ],
   "source": [
    "d['k3']['nested_dict']"
   ]
  },
  {
   "cell_type": "code",
   "execution_count": 15,
   "id": "01f248cb-36f6-46a3-85a6-a13794ac29b5",
   "metadata": {},
   "outputs": [],
   "source": [
    "new_list = d['k2']"
   ]
  },
  {
   "cell_type": "code",
   "execution_count": 16,
   "id": "ff13bd05-1f56-4f9a-b16a-0062d752ab4f",
   "metadata": {},
   "outputs": [
    {
     "data": {
      "text/plain": [
       "[1, 3, 5]"
      ]
     },
     "execution_count": 16,
     "metadata": {},
     "output_type": "execute_result"
    }
   ],
   "source": [
    "new_list"
   ]
  },
  {
   "cell_type": "code",
   "execution_count": 17,
   "id": "05ae1eca-43a5-4107-b4a3-1d879624efe0",
   "metadata": {},
   "outputs": [],
   "source": [
    "d = {'k1':100, 'k2':200}"
   ]
  },
  {
   "cell_type": "code",
   "execution_count": 18,
   "id": "5de48db5-bbae-4540-b7a5-2a92b603ab1a",
   "metadata": {},
   "outputs": [
    {
     "data": {
      "text/plain": [
       "{'k1': 100, 'k2': 200}"
      ]
     },
     "execution_count": 18,
     "metadata": {},
     "output_type": "execute_result"
    }
   ],
   "source": [
    "d"
   ]
  },
  {
   "cell_type": "code",
   "execution_count": 21,
   "id": "41f258c1-8654-45ff-b171-e04be9024678",
   "metadata": {},
   "outputs": [],
   "source": [
    "d['k3'] = 300 # Appending the new pair to the dictionary"
   ]
  },
  {
   "cell_type": "code",
   "execution_count": 26,
   "id": "ade23968-156f-4e78-afc2-b252da2ffec5",
   "metadata": {},
   "outputs": [
    {
     "data": {
      "text/plain": [
       "{'k1': 100, 'k2': 200, 'k3': 300}"
      ]
     },
     "execution_count": 26,
     "metadata": {},
     "output_type": "execute_result"
    }
   ],
   "source": [
    "d"
   ]
  },
  {
   "cell_type": "code",
   "execution_count": 27,
   "id": "4132ddb6-20ec-47eb-b028-a4c5f80c40b0",
   "metadata": {},
   "outputs": [
    {
     "data": {
      "text/plain": [
       "dict_keys(['k1', 'k2', 'k3'])"
      ]
     },
     "execution_count": 27,
     "metadata": {},
     "output_type": "execute_result"
    }
   ],
   "source": [
    "d.keys()"
   ]
  },
  {
   "cell_type": "code",
   "execution_count": 24,
   "id": "8c5d312c-0289-499f-8c54-9df5d7d32420",
   "metadata": {},
   "outputs": [
    {
     "data": {
      "text/plain": [
       "dict_values([100, 200, 300])"
      ]
     },
     "execution_count": 24,
     "metadata": {},
     "output_type": "execute_result"
    }
   ],
   "source": [
    "d.values()"
   ]
  },
  {
   "cell_type": "code",
   "execution_count": 25,
   "id": "8a18fef1-53e6-4772-9df5-adb1d307a40c",
   "metadata": {},
   "outputs": [
    {
     "data": {
      "text/plain": [
       "dict_items([('k1', 100), ('k2', 200), ('k3', 300)])"
      ]
     },
     "execution_count": 25,
     "metadata": {},
     "output_type": "execute_result"
    }
   ],
   "source": [
    "d.items()"
   ]
  },
  {
   "cell_type": "markdown",
   "id": "e0036b43-5ca6-4b6d-af74-1d566ea7cd25",
   "metadata": {},
   "source": [
    "# Tuples"
   ]
  },
  {
   "cell_type": "code",
   "execution_count": 2,
   "id": "6425c645-04d0-4e8d-afcf-09af0bd358cf",
   "metadata": {},
   "outputs": [],
   "source": [
    "#Tuples are same like the list but the difference is that these are Immutable, that is,\n",
    "#once assigned they cannot be reassigned"
   ]
  },
  {
   "cell_type": "code",
   "execution_count": 3,
   "id": "2f80dc4a-8a62-49b3-be93-871571883e5f",
   "metadata": {},
   "outputs": [],
   "source": [
    "t = (1,2,3)"
   ]
  },
  {
   "cell_type": "code",
   "execution_count": 4,
   "id": "9d369cb6-5c38-4f17-a59a-bb47721e9cf9",
   "metadata": {},
   "outputs": [],
   "source": [
    "mylist = [1,2,3]"
   ]
  },
  {
   "cell_type": "code",
   "execution_count": 5,
   "id": "962d8ed0-3cc3-4b12-82b1-729d965c9f51",
   "metadata": {},
   "outputs": [
    {
     "data": {
      "text/plain": [
       "tuple"
      ]
     },
     "execution_count": 5,
     "metadata": {},
     "output_type": "execute_result"
    }
   ],
   "source": [
    "type(t)"
   ]
  },
  {
   "cell_type": "code",
   "execution_count": 6,
   "id": "1da1274a-3819-47f7-a35e-b2eb313be509",
   "metadata": {},
   "outputs": [
    {
     "data": {
      "text/plain": [
       "list"
      ]
     },
     "execution_count": 6,
     "metadata": {},
     "output_type": "execute_result"
    }
   ],
   "source": [
    "type(mylist)"
   ]
  },
  {
   "cell_type": "code",
   "execution_count": 7,
   "id": "632bbc0e-f4fd-49e3-8c89-54f63f1960c5",
   "metadata": {},
   "outputs": [
    {
     "data": {
      "text/plain": [
       "3"
      ]
     },
     "execution_count": 7,
     "metadata": {},
     "output_type": "execute_result"
    }
   ],
   "source": [
    "len(t)"
   ]
  },
  {
   "cell_type": "code",
   "execution_count": 8,
   "id": "300d81d6-dad1-43e3-8b78-a38a07886746",
   "metadata": {},
   "outputs": [
    {
     "data": {
      "text/plain": [
       "3"
      ]
     },
     "execution_count": 8,
     "metadata": {},
     "output_type": "execute_result"
    }
   ],
   "source": [
    "len(mylist)"
   ]
  },
  {
   "cell_type": "code",
   "execution_count": 9,
   "id": "43d548e1-cf75-49ab-8922-59cb77575797",
   "metadata": {},
   "outputs": [
    {
     "data": {
      "text/plain": [
       "(1, 2, 3)"
      ]
     },
     "execution_count": 9,
     "metadata": {},
     "output_type": "execute_result"
    }
   ],
   "source": [
    "t"
   ]
  },
  {
   "cell_type": "code",
   "execution_count": 10,
   "id": "d54d336c-8c3b-4292-8e05-9a76ac8bdf14",
   "metadata": {},
   "outputs": [],
   "source": [
    "t = ('one',2)"
   ]
  },
  {
   "cell_type": "code",
   "execution_count": 12,
   "id": "f42ff855-cb27-41ba-89a3-7228ca64f45e",
   "metadata": {},
   "outputs": [
    {
     "data": {
      "text/plain": [
       "('one', 2)"
      ]
     },
     "execution_count": 12,
     "metadata": {},
     "output_type": "execute_result"
    }
   ],
   "source": [
    "t #tuple can have different data types in it"
   ]
  },
  {
   "cell_type": "code",
   "execution_count": 13,
   "id": "cfa3585a-aabd-4b00-ae95-ade22d453331",
   "metadata": {},
   "outputs": [
    {
     "data": {
      "text/plain": [
       "'one'"
      ]
     },
     "execution_count": 13,
     "metadata": {},
     "output_type": "execute_result"
    }
   ],
   "source": [
    "t[0]"
   ]
  },
  {
   "cell_type": "code",
   "execution_count": 14,
   "id": "aef451f4-b141-4b31-8463-402f49e2fe95",
   "metadata": {
    "jp-MarkdownHeadingCollapsed": true
   },
   "outputs": [
    {
     "data": {
      "text/plain": [
       "2"
      ]
     },
     "execution_count": 14,
     "metadata": {},
     "output_type": "execute_result"
    }
   ],
   "source": [
    " t[-1]"
   ]
  },
  {
   "cell_type": "code",
   "execution_count": 18,
   "id": "460347d4-4728-4ea8-809f-f97a6cee948e",
   "metadata": {},
   "outputs": [],
   "source": [
    "t = (2,2,2,22,2,2,2,22,2,2,2,2,22,2)"
   ]
  },
  {
   "cell_type": "code",
   "execution_count": 19,
   "id": "982617e8-4c46-4a07-83d8-66a2c3647ca9",
   "metadata": {},
   "outputs": [
    {
     "data": {
      "text/plain": [
       "11"
      ]
     },
     "execution_count": 19,
     "metadata": {},
     "output_type": "execute_result"
    }
   ],
   "source": [
    "t.count(2)"
   ]
  },
  {
   "cell_type": "code",
   "execution_count": 20,
   "id": "17abc020-fe78-4a2c-884b-d6a18c015b81",
   "metadata": {},
   "outputs": [
    {
     "data": {
      "text/plain": [
       "3"
      ]
     },
     "execution_count": 20,
     "metadata": {},
     "output_type": "execute_result"
    }
   ],
   "source": [
    "t.index(22)"
   ]
  },
  {
   "cell_type": "code",
   "execution_count": 21,
   "id": "0f0bb668-4bb6-4cd8-ae7a-6f8f00a27ec2",
   "metadata": {},
   "outputs": [
    {
     "data": {
      "text/plain": [
       "[1, 2, 3]"
      ]
     },
     "execution_count": 21,
     "metadata": {},
     "output_type": "execute_result"
    }
   ],
   "source": [
    "mylist"
   ]
  },
  {
   "cell_type": "code",
   "execution_count": 22,
   "id": "c7afc1b9-99ef-40c7-9ad0-15d0d1d1bcea",
   "metadata": {},
   "outputs": [
    {
     "data": {
      "text/plain": [
       "(2, 2, 2, 22, 2, 2, 2, 22, 2, 2, 2, 2, 22, 2)"
      ]
     },
     "execution_count": 22,
     "metadata": {},
     "output_type": "execute_result"
    }
   ],
   "source": [
    "t"
   ]
  },
  {
   "cell_type": "code",
   "execution_count": 23,
   "id": "7ac087c1-bc5a-467c-b749-373517c24696",
   "metadata": {},
   "outputs": [],
   "source": [
    "mylist[0] = 'NewData'"
   ]
  },
  {
   "cell_type": "code",
   "execution_count": 24,
   "id": "74a54666-f0a2-4819-a7e9-a0795d86b369",
   "metadata": {},
   "outputs": [
    {
     "data": {
      "text/plain": [
       "['NewData', 2, 3]"
      ]
     },
     "execution_count": 24,
     "metadata": {},
     "output_type": "execute_result"
    }
   ],
   "source": [
    "mylist"
   ]
  },
  {
   "cell_type": "code",
   "execution_count": 25,
   "id": "a137ab05-935d-41df-a0ac-5b5f4d515690",
   "metadata": {},
   "outputs": [
    {
     "ename": "TypeError",
     "evalue": "'tuple' object does not support item assignment",
     "output_type": "error",
     "traceback": [
      "\u001b[1;31m---------------------------------------------------------------------------\u001b[0m",
      "\u001b[1;31mTypeError\u001b[0m                                 Traceback (most recent call last)",
      "Cell \u001b[1;32mIn[25], line 1\u001b[0m\n\u001b[1;32m----> 1\u001b[0m \u001b[43mt\u001b[49m\u001b[43m[\u001b[49m\u001b[38;5;241;43m0\u001b[39;49m\u001b[43m]\u001b[49m \u001b[38;5;241m=\u001b[39m \u001b[38;5;124m'\u001b[39m\u001b[38;5;124mNewData\u001b[39m\u001b[38;5;124m'\u001b[39m\n",
      "\u001b[1;31mTypeError\u001b[0m: 'tuple' object does not support item assignment"
     ]
    }
   ],
   "source": [
    "t[0] = 'NewData'"
   ]
  },
  {
   "cell_type": "markdown",
   "id": "c890abe4-c3bc-4684-a005-cf019bcdd5f2",
   "metadata": {},
   "source": [
    "## Sets"
   ]
  },
  {
   "cell_type": "code",
   "execution_count": 26,
   "id": "36312893-24ee-4023-8f6c-90300406991c",
   "metadata": {},
   "outputs": [],
   "source": [
    "# Sets are unordered collections of UNIQUE Elements."
   ]
  },
  {
   "cell_type": "code",
   "execution_count": 27,
   "id": "e5d0a028-1b29-4406-bb20-9184c1002e84",
   "metadata": {},
   "outputs": [],
   "source": [
    "myset = set()"
   ]
  },
  {
   "cell_type": "code",
   "execution_count": 28,
   "id": "7db5bcc0-f88e-4d1a-9abc-4bd8611a6df8",
   "metadata": {},
   "outputs": [
    {
     "data": {
      "text/plain": [
       "set()"
      ]
     },
     "execution_count": 28,
     "metadata": {},
     "output_type": "execute_result"
    }
   ],
   "source": [
    "myset"
   ]
  },
  {
   "cell_type": "code",
   "execution_count": 29,
   "id": "a0dd3b28-55ba-4db8-99da-ccbe32137b11",
   "metadata": {},
   "outputs": [],
   "source": [
    "myset.add(1)"
   ]
  },
  {
   "cell_type": "code",
   "execution_count": 30,
   "id": "7864ea6c-da15-4b3c-9090-f6effc0f18b4",
   "metadata": {},
   "outputs": [
    {
     "data": {
      "text/plain": [
       "{1}"
      ]
     },
     "execution_count": 30,
     "metadata": {},
     "output_type": "execute_result"
    }
   ],
   "source": [
    "myset"
   ]
  },
  {
   "cell_type": "code",
   "execution_count": 31,
   "id": "00bb7ae2-f5be-4dbc-9c2d-3e3984549540",
   "metadata": {},
   "outputs": [],
   "source": [
    "myset.add(2)"
   ]
  },
  {
   "cell_type": "code",
   "execution_count": 32,
   "id": "312da505-67ad-48a2-bc26-66d05e7efdd2",
   "metadata": {},
   "outputs": [
    {
     "data": {
      "text/plain": [
       "{1, 2}"
      ]
     },
     "execution_count": 32,
     "metadata": {},
     "output_type": "execute_result"
    }
   ],
   "source": [
    "myset"
   ]
  },
  {
   "cell_type": "code",
   "execution_count": 33,
   "id": "52d904cd-8741-459c-9e5a-674aa3eedf09",
   "metadata": {},
   "outputs": [],
   "source": [
    "myset.add(2)"
   ]
  },
  {
   "cell_type": "code",
   "execution_count": 34,
   "id": "7ca67b13-d810-4cc6-9dbb-a66bf2810e17",
   "metadata": {},
   "outputs": [
    {
     "data": {
      "text/plain": [
       "{1, 2}"
      ]
     },
     "execution_count": 34,
     "metadata": {},
     "output_type": "execute_result"
    }
   ],
   "source": [
    "myset"
   ]
  },
  {
   "cell_type": "code",
   "execution_count": 35,
   "id": "c87960ce-67b2-4ce6-a26c-0a6858701b36",
   "metadata": {},
   "outputs": [],
   "source": [
    "mylist = [2,3,5,5,2,6,6,1,2,4,3,1,6,2,3,2,3,5]"
   ]
  },
  {
   "cell_type": "code",
   "execution_count": 36,
   "id": "18edafbc-6468-4e0a-90a4-213bc8dd1d9f",
   "metadata": {},
   "outputs": [
    {
     "data": {
      "text/plain": [
       "{1, 2, 3, 4, 5, 6}"
      ]
     },
     "execution_count": 36,
     "metadata": {},
     "output_type": "execute_result"
    }
   ],
   "source": [
    "set(mylist)"
   ]
  },
  {
   "cell_type": "markdown",
   "id": "4decccb5-4ea6-4327-b970-32aa1c5d1c36",
   "metadata": {},
   "source": [
    "## Booleans - True or False"
   ]
  },
  {
   "cell_type": "code",
   "execution_count": 37,
   "id": "c4df3545-d656-42d7-bcb0-1260ffc34588",
   "metadata": {},
   "outputs": [
    {
     "data": {
      "text/plain": [
       "True"
      ]
     },
     "execution_count": 37,
     "metadata": {},
     "output_type": "execute_result"
    }
   ],
   "source": [
    "True"
   ]
  },
  {
   "cell_type": "code",
   "execution_count": 38,
   "id": "d6163feb-4d02-468d-ae62-1ba5a8f4cfff",
   "metadata": {},
   "outputs": [
    {
     "ename": "NameError",
     "evalue": "name 'true' is not defined",
     "output_type": "error",
     "traceback": [
      "\u001b[1;31m---------------------------------------------------------------------------\u001b[0m",
      "\u001b[1;31mNameError\u001b[0m                                 Traceback (most recent call last)",
      "Cell \u001b[1;32mIn[38], line 1\u001b[0m\n\u001b[1;32m----> 1\u001b[0m \u001b[43mtrue\u001b[49m\n",
      "\u001b[1;31mNameError\u001b[0m: name 'true' is not defined"
     ]
    }
   ],
   "source": [
    "true"
   ]
  },
  {
   "cell_type": "code",
   "execution_count": 39,
   "id": "90552df8-adc6-4242-b41d-e3f3fa1896bc",
   "metadata": {},
   "outputs": [
    {
     "data": {
      "text/plain": [
       "False"
      ]
     },
     "execution_count": 39,
     "metadata": {},
     "output_type": "execute_result"
    }
   ],
   "source": [
    "False"
   ]
  },
  {
   "cell_type": "code",
   "execution_count": 40,
   "id": "ca2a51a7-5f92-4af2-abd7-50eeaef0b48a",
   "metadata": {},
   "outputs": [
    {
     "data": {
      "text/plain": [
       "bool"
      ]
     },
     "execution_count": 40,
     "metadata": {},
     "output_type": "execute_result"
    }
   ],
   "source": [
    "type(True)"
   ]
  },
  {
   "cell_type": "code",
   "execution_count": 41,
   "id": "d09c8e80-8593-41f3-b9ba-87e96e2958e9",
   "metadata": {},
   "outputs": [
    {
     "data": {
      "text/plain": [
       "False"
      ]
     },
     "execution_count": 41,
     "metadata": {},
     "output_type": "execute_result"
    }
   ],
   "source": [
    "1 > 2"
   ]
  },
  {
   "cell_type": "code",
   "execution_count": 42,
   "id": "9331bd66-a144-4d83-b630-323b48fcc3c8",
   "metadata": {},
   "outputs": [
    {
     "data": {
      "text/plain": [
       "True"
      ]
     },
     "execution_count": 42,
     "metadata": {},
     "output_type": "execute_result"
    }
   ],
   "source": [
    "1 == 1"
   ]
  },
  {
   "cell_type": "code",
   "execution_count": 44,
   "id": "69ce5606-c805-40d9-b9c1-6b0f2905530a",
   "metadata": {},
   "outputs": [],
   "source": [
    "None # Just a Placeholder"
   ]
  },
  {
   "cell_type": "code",
   "execution_count": 45,
   "id": "593958f9-7e1e-4f17-9965-23fade70d3a8",
   "metadata": {},
   "outputs": [],
   "source": [
    "b = None"
   ]
  },
  {
   "cell_type": "code",
   "execution_count": 46,
   "id": "270cb18e-25eb-41e7-bf3b-d44c3a01435e",
   "metadata": {},
   "outputs": [],
   "source": [
    "b"
   ]
  },
  {
   "cell_type": "code",
   "execution_count": null,
   "id": "2a3424de-4ce0-4ea7-9e4d-b13ebce42a6f",
   "metadata": {},
   "outputs": [],
   "source": []
  }
 ],
 "metadata": {
  "kernelspec": {
   "display_name": "Python 3 (ipykernel)",
   "language": "python",
   "name": "python3"
  },
  "language_info": {
   "codemirror_mode": {
    "name": "ipython",
    "version": 3
   },
   "file_extension": ".py",
   "mimetype": "text/x-python",
   "name": "python",
   "nbconvert_exporter": "python",
   "pygments_lexer": "ipython3",
   "version": "3.11.5"
  }
 },
 "nbformat": 4,
 "nbformat_minor": 5
}
