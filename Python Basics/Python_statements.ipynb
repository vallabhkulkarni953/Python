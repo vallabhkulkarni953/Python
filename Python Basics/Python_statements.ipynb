{
 "cells": [
  {
   "cell_type": "markdown",
   "id": "3d2b829b-931c-463a-903f-751fdfe6983a",
   "metadata": {},
   "source": [
    "# If, elif and else statements\n"
   ]
  },
  {
   "cell_type": "code",
   "execution_count": 3,
   "id": "236ca776-d197-4be5-a653-53febc67d3ee",
   "metadata": {},
   "outputs": [
    {
     "data": {
      "text/plain": [
       "'\\nif condition:\\n    execute this\\n'"
      ]
     },
     "execution_count": 3,
     "metadata": {},
     "output_type": "execute_result"
    }
   ],
   "source": [
    "'''\n",
    "if condition:\n",
    "    execute this\n",
    "'''"
   ]
  },
  {
   "cell_type": "code",
   "execution_count": 3,
   "id": "bed1782f-9e52-4e07-940c-615d3b8cb965",
   "metadata": {},
   "outputs": [
    {
     "data": {
      "text/plain": [
       "'\\nif condition:\\n    execute this\\nelse:\\n    execute this\\n'"
      ]
     },
     "execution_count": 3,
     "metadata": {},
     "output_type": "execute_result"
    }
   ],
   "source": [
    "'''\n",
    "if condition:\n",
    "    execute this\n",
    "else:\n",
    "    execute this\n",
    "'''"
   ]
  },
  {
   "cell_type": "code",
   "execution_count": 4,
   "id": "2bf8ba69-8682-461b-a395-a706d97485cc",
   "metadata": {},
   "outputs": [
    {
     "data": {
      "text/plain": [
       "'\\nif condition1:\\n    execute this\\nelif condition2:\\n    execute this\\nelse \\n    execute this\\n'"
      ]
     },
     "execution_count": 4,
     "metadata": {},
     "output_type": "execute_result"
    }
   ],
   "source": [
    "'''\n",
    "if condition1:\n",
    "    execute this\n",
    "elif condition2:\n",
    "    execute this\n",
    "else \n",
    "    execute this\n",
    "'''"
   ]
  },
  {
   "cell_type": "code",
   "execution_count": 7,
   "id": "ee55caa5-3af2-4982-8493-11fe3690aba9",
   "metadata": {},
   "outputs": [
    {
     "name": "stdout",
     "output_type": "stream",
     "text": [
      "Its True!\n"
     ]
    }
   ],
   "source": [
    "if True:\n",
    "    print('Its True!')"
   ]
  },
  {
   "cell_type": "code",
   "execution_count": 8,
   "id": "17290729-cd26-43ab-a7ac-740b14ad7f61",
   "metadata": {},
   "outputs": [
    {
     "name": "stdout",
     "output_type": "stream",
     "text": [
      "3 is greater than 2\n"
     ]
    }
   ],
   "source": [
    "if 3>2:\n",
    "    print('3 is greater than 2')"
   ]
  },
  {
   "cell_type": "code",
   "execution_count": 11,
   "id": "8c316167-abd3-4fd1-a34a-93443dd11acd",
   "metadata": {},
   "outputs": [
    {
     "name": "stdout",
     "output_type": "stream",
     "text": [
      "Please Feed Me !\n"
     ]
    }
   ],
   "source": [
    "hungry = True\n",
    "\n",
    "if hungry:\n",
    "    print('Please Feed Me !')\n",
    "else:\n",
    "    print('I am not Hungry')"
   ]
  },
  {
   "cell_type": "code",
   "execution_count": 12,
   "id": "851ba26d-3ef0-4db1-94b0-226dae97e394",
   "metadata": {},
   "outputs": [
    {
     "name": "stdout",
     "output_type": "stream",
     "text": [
      "I am not Hungry\n"
     ]
    }
   ],
   "source": [
    "hungry = False\n",
    "\n",
    "if hungry:\n",
    "    print('Please Feed Me !')\n",
    "else:\n",
    "    print('I am not Hungry')"
   ]
  },
  {
   "cell_type": "code",
   "execution_count": 2,
   "id": "68af8a2c-2f9c-42df-87ff-f539ea9519a9",
   "metadata": {},
   "outputs": [
    {
     "name": "stdout",
     "output_type": "stream",
     "text": [
      "Hello Vallabh!\n"
     ]
    }
   ],
   "source": [
    "name = 'Vallabh'\n",
    "\n",
    "if name == 'Vallabh':\n",
    "    print('Hello Vallabh!')\n",
    "elif name == 'Vaibhav':\n",
    "    print('Hello Vaibhav')\n",
    "elif name == 'Kunal':\n",
    "    print('Hello Kunal!')\n",
    "else:\n",
    "    print('What is your name ?')"
   ]
  },
  {
   "cell_type": "markdown",
   "id": "b2c82428-cae7-4ff3-97e5-00a68993fb5d",
   "metadata": {},
   "source": [
    "# For Loop "
   ]
  },
  {
   "cell_type": "code",
   "execution_count": 4,
   "id": "3da7ed2d-a902-4515-8540-01d72997d114",
   "metadata": {},
   "outputs": [
    {
     "data": {
      "text/plain": [
       "'\\nmy_iterable = [1,2,3]\\n\\nfor item_name in my_iterable:\\n    print(item_name)\\n'"
      ]
     },
     "execution_count": 4,
     "metadata": {},
     "output_type": "execute_result"
    }
   ],
   "source": [
    "'''\n",
    "my_iterable = [1,2,3]\n",
    "\n",
    "for item_name in my_iterable:\n",
    "    print(item_name)\n",
    "'''"
   ]
  },
  {
   "cell_type": "code",
   "execution_count": 5,
   "id": "2d55a883-7657-4e46-8330-66bb58bb4a7d",
   "metadata": {},
   "outputs": [
    {
     "name": "stdout",
     "output_type": "stream",
     "text": [
      "1\n",
      "2\n",
      "3\n"
     ]
    }
   ],
   "source": [
    "my_iterable = [1,2,3]\n",
    "\n",
    "for item_name in my_iterable:\n",
    "    print(item_name)"
   ]
  },
  {
   "cell_type": "code",
   "execution_count": 6,
   "id": "e6b30731-59fa-49cd-b06d-6f65e6854078",
   "metadata": {},
   "outputs": [],
   "source": [
    "mylist = [1,2,3,4,5,6,7,8,9,10]"
   ]
  },
  {
   "cell_type": "code",
   "execution_count": 8,
   "id": "ef13daf4-9693-4f52-9b17-de7019a11eee",
   "metadata": {},
   "outputs": [
    {
     "name": "stdout",
     "output_type": "stream",
     "text": [
      "1\n",
      "2\n",
      "3\n",
      "4\n",
      "5\n",
      "6\n",
      "7\n",
      "8\n",
      "9\n",
      "10\n"
     ]
    }
   ],
   "source": [
    "for item in mylist:\n",
    "    print(item)"
   ]
  },
  {
   "cell_type": "code",
   "execution_count": 9,
   "id": "ba1e0d27-d446-4669-a749-1e62e3399b2c",
   "metadata": {},
   "outputs": [
    {
     "name": "stdout",
     "output_type": "stream",
     "text": [
      "Hello\n",
      "Hello\n",
      "Hello\n",
      "Hello\n",
      "Hello\n",
      "Hello\n",
      "Hello\n",
      "Hello\n",
      "Hello\n",
      "Hello\n"
     ]
    }
   ],
   "source": [
    "for item in mylist:\n",
    "    print(\"Hello\")"
   ]
  },
  {
   "cell_type": "code",
   "execution_count": 12,
   "id": "d8325476-2b86-4624-a29d-4f153a762073",
   "metadata": {},
   "outputs": [
    {
     "name": "stdout",
     "output_type": "stream",
     "text": [
      "Odd Number : 1\n",
      "Even Number : 2\n",
      "Odd Number : 3\n",
      "Even Number : 4\n",
      "Odd Number : 5\n",
      "Even Number : 6\n",
      "Odd Number : 7\n",
      "Even Number : 8\n",
      "Odd Number : 9\n",
      "Even Number : 10\n"
     ]
    }
   ],
   "source": [
    "for num in mylist:\n",
    "    if num%2 == 0:\n",
    "        print(f'Even Number : {num}')\n",
    "    else:\n",
    "        print(f'Odd Number : {num}')"
   ]
  },
  {
   "cell_type": "code",
   "execution_count": 14,
   "id": "6837341b-7e2e-449b-b1ac-8f2d3086e685",
   "metadata": {},
   "outputs": [
    {
     "name": "stdout",
     "output_type": "stream",
     "text": [
      "Sum of Elements : 55\n"
     ]
    }
   ],
   "source": [
    "list_sum = 0\n",
    "\n",
    "for num in mylist:\n",
    "    list_sum = list_sum + num;\n",
    "print(f'Sum of Elements : {list_sum}')"
   ]
  },
  {
   "cell_type": "code",
   "execution_count": 15,
   "id": "03b76b69-1d2b-4b1e-af4b-5f2f80759153",
   "metadata": {},
   "outputs": [
    {
     "name": "stdout",
     "output_type": "stream",
     "text": [
      "H\n",
      "e\n",
      "l\n",
      "l\n",
      "o\n",
      " \n",
      "W\n",
      "o\n",
      "r\n",
      "l\n",
      "d\n"
     ]
    }
   ],
   "source": [
    "mystring = 'Hello World'\n",
    "\n",
    "for letter in mystring:\n",
    "    print(letter)"
   ]
  },
  {
   "cell_type": "code",
   "execution_count": 16,
   "id": "9ce48060-f363-4e78-9ca2-23e6119f5350",
   "metadata": {},
   "outputs": [
    {
     "name": "stdout",
     "output_type": "stream",
     "text": [
      "H\n",
      "e\n",
      "l\n",
      "l\n",
      "o\n",
      " \n",
      "W\n",
      "o\n",
      "r\n",
      "l\n",
      "d\n"
     ]
    }
   ],
   "source": [
    "for _ in mystring:\n",
    "    print(_)"
   ]
  },
  {
   "cell_type": "code",
   "execution_count": 18,
   "id": "e741a763-9855-4ac1-aabb-c2f85bbe39ce",
   "metadata": {},
   "outputs": [
    {
     "name": "stdout",
     "output_type": "stream",
     "text": [
      "1\n",
      "2\n",
      "3\n"
     ]
    }
   ],
   "source": [
    "tup = (1,2,3)\n",
    "\n",
    "for item in tup:\n",
    "    print(item)"
   ]
  },
  {
   "cell_type": "code",
   "execution_count": 19,
   "id": "c5aaeec3-a310-4f24-a3fa-7ecef053a3fc",
   "metadata": {},
   "outputs": [],
   "source": [
    "mylist = [(1,2),(3,4),(5,6),(7,8)]"
   ]
  },
  {
   "cell_type": "code",
   "execution_count": 20,
   "id": "9c499ae5-8998-4140-8cdb-50a849404065",
   "metadata": {},
   "outputs": [
    {
     "data": {
      "text/plain": [
       "4"
      ]
     },
     "execution_count": 20,
     "metadata": {},
     "output_type": "execute_result"
    }
   ],
   "source": [
    "len(mylist)"
   ]
  },
  {
   "cell_type": "code",
   "execution_count": 21,
   "id": "28ee977f-402a-41fe-989d-b56d85685ccb",
   "metadata": {},
   "outputs": [
    {
     "name": "stdout",
     "output_type": "stream",
     "text": [
      "(1, 2)\n",
      "(3, 4)\n",
      "(5, 6)\n",
      "(7, 8)\n"
     ]
    }
   ],
   "source": [
    "for _ in mylist:\n",
    "    print(_)"
   ]
  },
  {
   "cell_type": "code",
   "execution_count": 22,
   "id": "e5cf6d49-67e9-4bd6-aba1-6119265f15ea",
   "metadata": {},
   "outputs": [
    {
     "name": "stdout",
     "output_type": "stream",
     "text": [
      "1\n",
      "2\n",
      "3\n",
      "4\n",
      "5\n",
      "6\n",
      "7\n",
      "8\n"
     ]
    }
   ],
   "source": [
    "for a,b in mylist:\n",
    "    print(a)\n",
    "    print(b)"
   ]
  },
  {
   "cell_type": "code",
   "execution_count": 23,
   "id": "2838268c-eac1-4998-b833-79a7b5b15a2b",
   "metadata": {},
   "outputs": [
    {
     "name": "stdout",
     "output_type": "stream",
     "text": [
      "2\n",
      "4\n",
      "6\n",
      "8\n"
     ]
    }
   ],
   "source": [
    "for a,b in mylist:\n",
    "    print(b)"
   ]
  },
  {
   "cell_type": "code",
   "execution_count": 24,
   "id": "8b9564b5-0a48-424b-96a3-0e04a06b2f76",
   "metadata": {},
   "outputs": [
    {
     "name": "stdout",
     "output_type": "stream",
     "text": [
      "1 2 3\n",
      "4 5 6\n",
      "7 8 9\n"
     ]
    }
   ],
   "source": [
    "mylist = [(1,2,3),(4,5,6),(7,8,9)]\n",
    "\n",
    "for a,b,c in mylist:\n",
    "    print(a,b,c)"
   ]
  },
  {
   "cell_type": "code",
   "execution_count": 25,
   "id": "d740a219-98b3-4a86-ae13-a445569b2d05",
   "metadata": {},
   "outputs": [
    {
     "name": "stdout",
     "output_type": "stream",
     "text": [
      "k1\n",
      "k2\n",
      "k3\n"
     ]
    }
   ],
   "source": [
    "d = {'k1':1,'k2':2,'k3':3}\n",
    "\n",
    "for _ in d:\n",
    "    print(_)"
   ]
  },
  {
   "cell_type": "code",
   "execution_count": 27,
   "id": "8af9e3f8-6b2f-4252-8680-a7d9281e6ca2",
   "metadata": {},
   "outputs": [
    {
     "name": "stdout",
     "output_type": "stream",
     "text": [
      "1\n",
      "2\n",
      "3\n"
     ]
    }
   ],
   "source": [
    "d = {'k1':1,'k2':2,'k3':3}\n",
    "\n",
    "for key,value in d.items():\n",
    "    print(value)"
   ]
  },
  {
   "cell_type": "code",
   "execution_count": 29,
   "id": "ee3174a3-32da-4984-a8ff-53cbd2cb882f",
   "metadata": {},
   "outputs": [
    {
     "name": "stdout",
     "output_type": "stream",
     "text": [
      "1\n",
      "2\n",
      "3\n"
     ]
    }
   ],
   "source": [
    "d = {'k1':1,'k2':2,'k3':3}\n",
    "\n",
    "for _ in d.values():\n",
    "    print(_)"
   ]
  },
  {
   "cell_type": "markdown",
   "id": "04161e50-7f9a-4fb4-b5be-11d0cc0497b6",
   "metadata": {},
   "source": [
    "# While Loop"
   ]
  },
  {
   "cell_type": "code",
   "execution_count": 1,
   "id": "131a257e-bd1c-46a9-b4d1-0f7b358b4325",
   "metadata": {},
   "outputs": [
    {
     "data": {
      "text/plain": [
       "'\\nwhile condition:\\n    do something\\nelse:\\n    do something else\\n'"
      ]
     },
     "execution_count": 1,
     "metadata": {},
     "output_type": "execute_result"
    }
   ],
   "source": [
    "'''\n",
    "while condition:\n",
    "    do something\n",
    "else:\n",
    "    do something else\n",
    "'''"
   ]
  },
  {
   "cell_type": "code",
   "execution_count": 6,
   "id": "3e37921f-0592-40ac-856c-1989bbb2c322",
   "metadata": {},
   "outputs": [
    {
     "name": "stdout",
     "output_type": "stream",
     "text": [
      "Current Value of x is 0\n",
      "Current Value of x is 1\n",
      "Current Value of x is 2\n",
      "Current Value of x is 3\n",
      "Current Value of x is 4\n"
     ]
    }
   ],
   "source": [
    "x=0\n",
    "\n",
    "while x<5:\n",
    "    print(f'Current Value of x is {x}')\n",
    "    #x=x+1\n",
    "    x += 1"
   ]
  },
  {
   "cell_type": "code",
   "execution_count": 7,
   "id": "aa159f8b-f6a5-495c-acfd-280e661c6c3a",
   "metadata": {},
   "outputs": [
    {
     "name": "stdout",
     "output_type": "stream",
     "text": [
      "Current Value of x is 0\n",
      "Current Value of x is 1\n",
      "Current Value of x is 2\n",
      "Current Value of x is 3\n",
      "Current Value of x is 4\n",
      "x is not less than 5\n"
     ]
    }
   ],
   "source": [
    "x=0\n",
    "\n",
    "while x<5:\n",
    "    print(f'Current Value of x is {x}')\n",
    "    #x=x+1\n",
    "    x += 1\n",
    "else:\n",
    "    print('x is not less than 5')"
   ]
  },
  {
   "cell_type": "markdown",
   "id": "9cf8fbea-4da7-4fdf-8ea7-1b4c6ee311b8",
   "metadata": {},
   "source": [
    "# Break, Continue and Pass"
   ]
  },
  {
   "cell_type": "code",
   "execution_count": 8,
   "id": "be556190-98ee-45da-962f-ab2968526d22",
   "metadata": {},
   "outputs": [],
   "source": [
    "#break : Breaks out of the current closest enclosing loop\n",
    "#continue : Goes into the top of the closest enclosing loop\n",
    "#pass : Does nothing at all "
   ]
  },
  {
   "cell_type": "code",
   "execution_count": 10,
   "id": "4fa0e4e2-ee76-4885-b733-2fce84809cef",
   "metadata": {},
   "outputs": [
    {
     "ename": "SyntaxError",
     "evalue": "incomplete input (1670540967.py, line 4)",
     "output_type": "error",
     "traceback": [
      "\u001b[1;36m  Cell \u001b[1;32mIn[10], line 4\u001b[1;36m\u001b[0m\n\u001b[1;33m    #comment\u001b[0m\n\u001b[1;37m            ^\u001b[0m\n\u001b[1;31mSyntaxError\u001b[0m\u001b[1;31m:\u001b[0m incomplete input\n"
     ]
    }
   ],
   "source": [
    "x = [1,2,3]\n",
    "\n",
    "for _ in x:\n",
    "    #comment"
   ]
  },
  {
   "cell_type": "code",
   "execution_count": 11,
   "id": "4b5e2498-c0dc-4580-8430-978590b7b159",
   "metadata": {},
   "outputs": [
    {
     "name": "stdout",
     "output_type": "stream",
     "text": [
      "Loop is executed without doing anything\n"
     ]
    }
   ],
   "source": [
    "x = [1,2,3]\n",
    "for _  in x :\n",
    "    pass\n",
    "print('Loop is executed without doing anything')"
   ]
  },
  {
   "cell_type": "code",
   "execution_count": 15,
   "id": "e21d63a1-9c76-4960-adf5-155d728afc9f",
   "metadata": {},
   "outputs": [
    {
     "name": "stdout",
     "output_type": "stream",
     "text": [
      "V\n",
      "a\n",
      "a\n",
      "b\n",
      "h\n"
     ]
    }
   ],
   "source": [
    "mystring = 'Vallabh'\n",
    "\n",
    "for letter in mystring:\n",
    "    if letter == 'l':\n",
    "        continue\n",
    "    print(letter)"
   ]
  },
  {
   "cell_type": "markdown",
   "id": "c1d08364-2409-41c8-9ed3-56398085f09a",
   "metadata": {},
   "source": [
    "# Useful Operators"
   ]
  },
  {
   "cell_type": "code",
   "execution_count": 16,
   "id": "ea39fadc-be3d-4300-ae39-76d134927e28",
   "metadata": {},
   "outputs": [],
   "source": [
    "mylist = [1,2,3]"
   ]
  },
  {
   "cell_type": "code",
   "execution_count": 17,
   "id": "94f45b77-7bcd-478d-a9bf-19369c7bc799",
   "metadata": {},
   "outputs": [
    {
     "name": "stdout",
     "output_type": "stream",
     "text": [
      "0\n",
      "1\n",
      "2\n",
      "3\n",
      "4\n",
      "5\n",
      "6\n",
      "7\n",
      "8\n",
      "9\n"
     ]
    }
   ],
   "source": [
    "for num in range(10):\n",
    "    print(num)"
   ]
  },
  {
   "cell_type": "code",
   "execution_count": 18,
   "id": "09b1b344-6346-4df3-b9d8-7b3acdf7e4cc",
   "metadata": {},
   "outputs": [
    {
     "name": "stdout",
     "output_type": "stream",
     "text": [
      "3\n",
      "4\n",
      "5\n",
      "6\n",
      "7\n",
      "8\n",
      "9\n"
     ]
    }
   ],
   "source": [
    "for num in range(3,10):\n",
    "    print(num)"
   ]
  },
  {
   "cell_type": "code",
   "execution_count": 19,
   "id": "860a7a46-1117-40c5-845d-56cee0319aeb",
   "metadata": {},
   "outputs": [
    {
     "name": "stdout",
     "output_type": "stream",
     "text": [
      "0\n",
      "2\n",
      "4\n",
      "6\n",
      "8\n"
     ]
    }
   ],
   "source": [
    "for num in range(0,10,2):\n",
    "    print(num)"
   ]
  },
  {
   "cell_type": "code",
   "execution_count": 20,
   "id": "92583342-6e26-4575-bcd0-685d7e53eb5c",
   "metadata": {},
   "outputs": [
    {
     "data": {
      "text/plain": [
       "[0, 2, 4, 6, 8]"
      ]
     },
     "execution_count": 20,
     "metadata": {},
     "output_type": "execute_result"
    }
   ],
   "source": [
    "list(range(0,10,2))"
   ]
  },
  {
   "cell_type": "code",
   "execution_count": 22,
   "id": "282b06da-9c97-4bdc-8e33-1e2abb9d96c9",
   "metadata": {},
   "outputs": [
    {
     "name": "stdout",
     "output_type": "stream",
     "text": [
      "At Index 0 the letter is a\n",
      "At Index 1 the letter is b\n",
      "At Index 2 the letter is c\n",
      "At Index 3 the letter is d\n",
      "At Index 4 the letter is e\n"
     ]
    }
   ],
   "source": [
    "index_count = 0\n",
    "\n",
    "for letter in 'abcde':\n",
    "    print('At Index {} the letter is {}'.format(index_count,letter))\n",
    "    index_count +=1"
   ]
  },
  {
   "cell_type": "code",
   "execution_count": 27,
   "id": "13b97d1c-8f6c-4bc5-ad69-f4f76b8e98b4",
   "metadata": {},
   "outputs": [
    {
     "name": "stdout",
     "output_type": "stream",
     "text": [
      "0\n",
      "a\n",
      "\n",
      "\n",
      "1\n",
      "b\n",
      "\n",
      "\n",
      "2\n",
      "c\n",
      "\n",
      "\n",
      "3\n",
      "d\n",
      "\n",
      "\n",
      "4\n",
      "e\n",
      "\n",
      "\n"
     ]
    }
   ],
   "source": [
    "word = 'abcde'\n",
    "\n",
    "for index,letter in enumerate(word):\n",
    "    print(index)\n",
    "    print(letter)\n",
    "    print('\\n')"
   ]
  },
  {
   "cell_type": "markdown",
   "id": "9c9a1c04-228b-44e4-83ac-d03c946b601c",
   "metadata": {},
   "source": [
    "# Zipping Lists "
   ]
  },
  {
   "cell_type": "code",
   "execution_count": 30,
   "id": "9d29b1dd-1476-4908-8c81-76942cae1015",
   "metadata": {},
   "outputs": [
    {
     "name": "stdout",
     "output_type": "stream",
     "text": [
      "(1, 'a', 100)\n",
      "(2, 'b', 200)\n",
      "(3, 'c', 300)\n"
     ]
    }
   ],
   "source": [
    "list1 = [1,2,3,4,5,6,7]\n",
    "list2 = ['a','b','c']\n",
    "list3 = [100,200,300]\n",
    "\n",
    "for item in zip(list1,list2,list3):\n",
    "    print(item)"
   ]
  },
  {
   "cell_type": "code",
   "execution_count": 31,
   "id": "12e068fa-fc16-4e94-a197-929d714865dc",
   "metadata": {},
   "outputs": [
    {
     "name": "stdout",
     "output_type": "stream",
     "text": [
      "a\n",
      "b\n",
      "c\n"
     ]
    }
   ],
   "source": [
    "for a,b,c in zip(list1,list2,list3):\n",
    "    print (b)"
   ]
  },
  {
   "cell_type": "markdown",
   "id": "83efd2ec-795d-4ada-b0c1-b97663d1eb39",
   "metadata": {},
   "source": [
    "# in Keyword"
   ]
  },
  {
   "cell_type": "code",
   "execution_count": 1,
   "id": "1b0d559f-ed44-4848-8af9-a8f59d8ac4f6",
   "metadata": {},
   "outputs": [
    {
     "data": {
      "text/plain": [
       "False"
      ]
     },
     "execution_count": 1,
     "metadata": {},
     "output_type": "execute_result"
    }
   ],
   "source": [
    "'x' in [1,2,3]"
   ]
  },
  {
   "cell_type": "code",
   "execution_count": 2,
   "id": "8fd11eb5-7ca7-450b-b1dd-970bf63eb70c",
   "metadata": {},
   "outputs": [
    {
     "data": {
      "text/plain": [
       "True"
      ]
     },
     "execution_count": 2,
     "metadata": {},
     "output_type": "execute_result"
    }
   ],
   "source": [
    "'x' in ['x','y','z']"
   ]
  },
  {
   "cell_type": "code",
   "execution_count": 3,
   "id": "28ae4d22-b7df-42e7-9352-676dabc26573",
   "metadata": {},
   "outputs": [
    {
     "data": {
      "text/plain": [
       "True"
      ]
     },
     "execution_count": 3,
     "metadata": {},
     "output_type": "execute_result"
    }
   ],
   "source": [
    "'a' in 'a world'"
   ]
  },
  {
   "cell_type": "code",
   "execution_count": 4,
   "id": "3a18ef90-3f53-4370-b042-ffcd979667c4",
   "metadata": {},
   "outputs": [
    {
     "data": {
      "text/plain": [
       "True"
      ]
     },
     "execution_count": 4,
     "metadata": {},
     "output_type": "execute_result"
    }
   ],
   "source": [
    "'mykey' in {'mykey' : 123}"
   ]
  },
  {
   "cell_type": "code",
   "execution_count": 5,
   "id": "4305823c-18bd-4b9e-b703-7ed2f3d5ae1e",
   "metadata": {},
   "outputs": [
    {
     "data": {
      "text/plain": [
       "True"
      ]
     },
     "execution_count": 5,
     "metadata": {},
     "output_type": "execute_result"
    }
   ],
   "source": [
    "d = {'mykey' : 123}\n",
    "123 in d.values()"
   ]
  },
  {
   "cell_type": "code",
   "execution_count": 6,
   "id": "70d3d772-1e6e-4a5e-aea3-6615c2e24d28",
   "metadata": {},
   "outputs": [
    {
     "data": {
      "text/plain": [
       "False"
      ]
     },
     "execution_count": 6,
     "metadata": {},
     "output_type": "execute_result"
    }
   ],
   "source": [
    "123 in d.keys()"
   ]
  },
  {
   "cell_type": "markdown",
   "id": "b8aa7d27-1222-418f-ab33-1ade87a0cb57",
   "metadata": {},
   "source": [
    "# Min Max Functions in Python"
   ]
  },
  {
   "cell_type": "code",
   "execution_count": 8,
   "id": "8a37f943-436b-4cbe-ae3f-bda70a62d107",
   "metadata": {},
   "outputs": [],
   "source": [
    "mylist = [10,20,30,40,50,60,70,80,90,100]"
   ]
  },
  {
   "cell_type": "code",
   "execution_count": 9,
   "id": "17d428c5-9d62-4871-9e44-34eaa1cb686b",
   "metadata": {},
   "outputs": [
    {
     "data": {
      "text/plain": [
       "10"
      ]
     },
     "execution_count": 9,
     "metadata": {},
     "output_type": "execute_result"
    }
   ],
   "source": [
    "min(mylist)"
   ]
  },
  {
   "cell_type": "code",
   "execution_count": 10,
   "id": "596d1123-c036-43fd-aa9e-11fd8cf4374d",
   "metadata": {},
   "outputs": [
    {
     "data": {
      "text/plain": [
       "100"
      ]
     },
     "execution_count": 10,
     "metadata": {},
     "output_type": "execute_result"
    }
   ],
   "source": [
    "max(mylist)"
   ]
  },
  {
   "cell_type": "markdown",
   "id": "5911584a-e528-4d93-96fd-338db78c25f0",
   "metadata": {},
   "source": [
    "# Python Library : Random Libaray in Python"
   ]
  },
  {
   "cell_type": "code",
   "execution_count": 11,
   "id": "6f7f2eb6-6332-4b97-b753-d319caecb04e",
   "metadata": {},
   "outputs": [],
   "source": [
    "from random import shuffle"
   ]
  },
  {
   "cell_type": "code",
   "execution_count": 12,
   "id": "10fc0e19-9c22-4d1d-83e4-33854d423fab",
   "metadata": {},
   "outputs": [
    {
     "data": {
      "text/plain": [
       "[10, 20, 30, 40, 50, 60, 70, 80, 90, 100]"
      ]
     },
     "execution_count": 12,
     "metadata": {},
     "output_type": "execute_result"
    }
   ],
   "source": [
    "mylist"
   ]
  },
  {
   "cell_type": "code",
   "execution_count": 13,
   "id": "9782d95e-2616-4b29-bb23-a4ebe775a7d0",
   "metadata": {},
   "outputs": [],
   "source": [
    "shuffle(mylist)"
   ]
  },
  {
   "cell_type": "code",
   "execution_count": 14,
   "id": "ed4e44cd-8be6-4297-a30d-9584849c8536",
   "metadata": {},
   "outputs": [
    {
     "data": {
      "text/plain": [
       "[80, 20, 30, 10, 50, 100, 90, 40, 60, 70]"
      ]
     },
     "execution_count": 14,
     "metadata": {},
     "output_type": "execute_result"
    }
   ],
   "source": [
    "mylist"
   ]
  },
  {
   "cell_type": "code",
   "execution_count": 16,
   "id": "7883610e-af3a-426a-a7c6-7b6f7cf16835",
   "metadata": {},
   "outputs": [
    {
     "data": {
      "text/plain": [
       "NoneType"
      ]
     },
     "execution_count": 16,
     "metadata": {},
     "output_type": "execute_result"
    }
   ],
   "source": [
    "type(shuffle(mylist)) # It doesn not return anything"
   ]
  },
  {
   "cell_type": "code",
   "execution_count": 17,
   "id": "e53b2865-8603-440c-8f8b-8e9d12eb9572",
   "metadata": {},
   "outputs": [],
   "source": [
    "from random import randint"
   ]
  },
  {
   "cell_type": "code",
   "execution_count": 18,
   "id": "475750bc-c2a5-4afc-997f-b0380f01c326",
   "metadata": {},
   "outputs": [
    {
     "data": {
      "text/plain": [
       "28"
      ]
     },
     "execution_count": 18,
     "metadata": {},
     "output_type": "execute_result"
    }
   ],
   "source": [
    "randint(0,100)"
   ]
  },
  {
   "cell_type": "code",
   "execution_count": 19,
   "id": "66fe9c14-3c5d-4d29-a86b-646c1b4a77bb",
   "metadata": {},
   "outputs": [
    {
     "data": {
      "text/plain": [
       "42"
      ]
     },
     "execution_count": 19,
     "metadata": {},
     "output_type": "execute_result"
    }
   ],
   "source": [
    "randint(0,100)"
   ]
  },
  {
   "cell_type": "code",
   "execution_count": 20,
   "id": "77b4fca8-4bfe-4820-b270-0e018e6ce160",
   "metadata": {},
   "outputs": [],
   "source": [
    "random_integer  = randint(0,100)"
   ]
  },
  {
   "cell_type": "code",
   "execution_count": 21,
   "id": "c89070f3-2c80-4f7b-b26c-b379ab25e37b",
   "metadata": {},
   "outputs": [
    {
     "data": {
      "text/plain": [
       "82"
      ]
     },
     "execution_count": 21,
     "metadata": {},
     "output_type": "execute_result"
    }
   ],
   "source": [
    "random_integer"
   ]
  },
  {
   "cell_type": "markdown",
   "id": "1692bf5e-7f34-4c53-bb81-ce51e9fd2b27",
   "metadata": {},
   "source": [
    "# Input From a User "
   ]
  },
  {
   "cell_type": "code",
   "execution_count": 31,
   "id": "6e50affc-af5b-491e-8e96-ab37b5be5a77",
   "metadata": {},
   "outputs": [
    {
     "name": "stdin",
     "output_type": "stream",
     "text": [
      "Enter your Favourite Number Here :  50\n"
     ]
    }
   ],
   "source": [
    "result = input('Enter your Favourite Number Here : ')"
   ]
  },
  {
   "cell_type": "code",
   "execution_count": 32,
   "id": "e6e5cda1-5c42-4c4b-88f3-d2159cca9f17",
   "metadata": {},
   "outputs": [
    {
     "data": {
      "text/plain": [
       "str"
      ]
     },
     "execution_count": 32,
     "metadata": {},
     "output_type": "execute_result"
    }
   ],
   "source": [
    "type(result)"
   ]
  },
  {
   "cell_type": "code",
   "execution_count": 33,
   "id": "c94ce36d-9d88-466b-826a-92b06438990b",
   "metadata": {},
   "outputs": [
    {
     "data": {
      "text/plain": [
       "50.0"
      ]
     },
     "execution_count": 33,
     "metadata": {},
     "output_type": "execute_result"
    }
   ],
   "source": [
    "float(result)"
   ]
  },
  {
   "cell_type": "code",
   "execution_count": 34,
   "id": "00c2f8c0-e003-41a8-82ae-3f025a20827f",
   "metadata": {},
   "outputs": [
    {
     "data": {
      "text/plain": [
       "50"
      ]
     },
     "execution_count": 34,
     "metadata": {},
     "output_type": "execute_result"
    }
   ],
   "source": [
    "int(result)"
   ]
  },
  {
   "cell_type": "code",
   "execution_count": 36,
   "id": "78456262-cef0-44cf-83d3-9591faef17a2",
   "metadata": {},
   "outputs": [
    {
     "name": "stdin",
     "output_type": "stream",
     "text": [
      "Enter your Favourite Number Here :  50\n"
     ]
    }
   ],
   "source": [
    "result = int(input(\"Enter your Favourite Number Here : \"))"
   ]
  },
  {
   "cell_type": "code",
   "execution_count": 37,
   "id": "4acf1096-c528-4019-9e94-d8869bf164e1",
   "metadata": {},
   "outputs": [
    {
     "data": {
      "text/plain": [
       "int"
      ]
     },
     "execution_count": 37,
     "metadata": {},
     "output_type": "execute_result"
    }
   ],
   "source": [
    "type(result)"
   ]
  },
  {
   "cell_type": "markdown",
   "id": "17eb1fa1-30b6-40d7-b71a-7fc59f8b40f7",
   "metadata": {},
   "source": [
    "# List Comprehensions"
   ]
  },
  {
   "cell_type": "markdown",
   "id": "15e00831-6e51-4948-b7d5-95e4218f5be1",
   "metadata": {},
   "source": [
    "These are Unique way of Quickly Creating a list with Python"
   ]
  },
  {
   "cell_type": "code",
   "execution_count": 38,
   "id": "febdc2c6-0224-4a80-9634-8b7eceda56da",
   "metadata": {},
   "outputs": [],
   "source": [
    "mystring = 'Hello'"
   ]
  },
  {
   "cell_type": "code",
   "execution_count": 41,
   "id": "c757d96b-8396-43a8-8186-c1481092f33b",
   "metadata": {},
   "outputs": [],
   "source": [
    "mylist = [] # Empty List\n",
    "\n",
    "for letter in mystring:\n",
    "    mylist.append(letter)"
   ]
  },
  {
   "cell_type": "code",
   "execution_count": 42,
   "id": "fa9ee042-638c-4855-b1da-23bad05243f5",
   "metadata": {},
   "outputs": [
    {
     "data": {
      "text/plain": [
       "['H', 'e', 'l', 'l', 'o']"
      ]
     },
     "execution_count": 42,
     "metadata": {},
     "output_type": "execute_result"
    }
   ],
   "source": [
    "mylist"
   ]
  },
  {
   "cell_type": "code",
   "execution_count": 45,
   "id": "787a9f45-4820-4e14-9b00-6ec69f92d056",
   "metadata": {},
   "outputs": [],
   "source": [
    "mylist2 = [letter for letter in mystring]"
   ]
  },
  {
   "cell_type": "code",
   "execution_count": 46,
   "id": "1186a5f8-6069-4e55-9820-4d99b97e833b",
   "metadata": {},
   "outputs": [
    {
     "data": {
      "text/plain": [
       "['H', 'e', 'l', 'l', 'o']"
      ]
     },
     "execution_count": 46,
     "metadata": {},
     "output_type": "execute_result"
    }
   ],
   "source": [
    "mylist2"
   ]
  },
  {
   "cell_type": "code",
   "execution_count": 47,
   "id": "1e11c333-8cad-490f-b770-789c8f086bfc",
   "metadata": {},
   "outputs": [],
   "source": [
    "mylist = [x for x in 'Vallabh Kulkarni']"
   ]
  },
  {
   "cell_type": "code",
   "execution_count": 48,
   "id": "efa35452-295a-4afa-9cb0-1ffc01c08fff",
   "metadata": {},
   "outputs": [
    {
     "data": {
      "text/plain": [
       "['V',\n",
       " 'a',\n",
       " 'l',\n",
       " 'l',\n",
       " 'a',\n",
       " 'b',\n",
       " 'h',\n",
       " ' ',\n",
       " 'K',\n",
       " 'u',\n",
       " 'l',\n",
       " 'k',\n",
       " 'a',\n",
       " 'r',\n",
       " 'n',\n",
       " 'i']"
      ]
     },
     "execution_count": 48,
     "metadata": {},
     "output_type": "execute_result"
    }
   ],
   "source": [
    "mylist"
   ]
  },
  {
   "cell_type": "code",
   "execution_count": 5,
   "id": "ef8aa82a-1990-4c41-bed4-3a68e3afe8c5",
   "metadata": {},
   "outputs": [],
   "source": [
    "mylist = [num for num in range(0,11)]"
   ]
  },
  {
   "cell_type": "code",
   "execution_count": 6,
   "id": "cd669073-2158-49c4-be7e-a06f8fe982fa",
   "metadata": {},
   "outputs": [
    {
     "data": {
      "text/plain": [
       "[0, 1, 2, 3, 4, 5, 6, 7, 8, 9, 10]"
      ]
     },
     "execution_count": 6,
     "metadata": {},
     "output_type": "execute_result"
    }
   ],
   "source": [
    "mylist"
   ]
  },
  {
   "cell_type": "code",
   "execution_count": 7,
   "id": "630b1590-6390-47c9-8bc4-f5438a41bdc7",
   "metadata": {},
   "outputs": [],
   "source": [
    "mylist = [num**2 for num in mylist]"
   ]
  },
  {
   "cell_type": "code",
   "execution_count": 8,
   "id": "49e251e7-03f3-4f31-9e2e-aae7885fa0ac",
   "metadata": {},
   "outputs": [
    {
     "data": {
      "text/plain": [
       "[0, 1, 4, 9, 16, 25, 36, 49, 64, 81, 100]"
      ]
     },
     "execution_count": 8,
     "metadata": {},
     "output_type": "execute_result"
    }
   ],
   "source": [
    "mylist"
   ]
  },
  {
   "cell_type": "code",
   "execution_count": 9,
   "id": "dbe0a58e-c0f0-4e16-a187-bdeab2bdd0ab",
   "metadata": {},
   "outputs": [],
   "source": [
    "mylist = [x for x in range(0,11)]"
   ]
  },
  {
   "cell_type": "code",
   "execution_count": 10,
   "id": "c6a987f7-3350-417e-9ab1-59ff34d083af",
   "metadata": {},
   "outputs": [
    {
     "data": {
      "text/plain": [
       "[0, 1, 2, 3, 4, 5, 6, 7, 8, 9, 10]"
      ]
     },
     "execution_count": 10,
     "metadata": {},
     "output_type": "execute_result"
    }
   ],
   "source": [
    "mylist"
   ]
  },
  {
   "cell_type": "code",
   "execution_count": 13,
   "id": "0e240272-604d-4839-bfd0-6559ebd39432",
   "metadata": {},
   "outputs": [],
   "source": [
    "even_list = [num for num in mylist if num%2==0]"
   ]
  },
  {
   "cell_type": "code",
   "execution_count": 14,
   "id": "7b35f1d2-a1f3-464a-a454-e19ff71b3bd0",
   "metadata": {},
   "outputs": [
    {
     "data": {
      "text/plain": [
       "[0, 2, 4, 6, 8, 10]"
      ]
     },
     "execution_count": 14,
     "metadata": {},
     "output_type": "execute_result"
    }
   ],
   "source": [
    "even_list"
   ]
  },
  {
   "cell_type": "code",
   "execution_count": 15,
   "id": "1f90ac06-3d0b-470a-b045-c9344f88ec70",
   "metadata": {},
   "outputs": [],
   "source": [
    "odd_list = [num for num in mylist if num%2==1]"
   ]
  },
  {
   "cell_type": "code",
   "execution_count": 16,
   "id": "bcb9cac9-0ee0-449e-a7bb-f19fb10b1133",
   "metadata": {},
   "outputs": [
    {
     "data": {
      "text/plain": [
       "[1, 3, 5, 7, 9]"
      ]
     },
     "execution_count": 16,
     "metadata": {},
     "output_type": "execute_result"
    }
   ],
   "source": [
    "odd_list"
   ]
  },
  {
   "cell_type": "code",
   "execution_count": 18,
   "id": "1fc1586d-9054-4cf7-86e5-254cb6b5c92a",
   "metadata": {},
   "outputs": [],
   "source": [
    "celcius = [0,10,20,34.5,50,12]\n",
    "\n",
    "fahreinheight = [((9/5)*temp + 32) for temp in celcius]"
   ]
  },
  {
   "cell_type": "code",
   "execution_count": 19,
   "id": "7e866b80-ab69-459b-8138-5f8c15d99cb3",
   "metadata": {},
   "outputs": [
    {
     "data": {
      "text/plain": [
       "[32.0, 50.0, 68.0, 94.1, 122.0, 53.6]"
      ]
     },
     "execution_count": 19,
     "metadata": {},
     "output_type": "execute_result"
    }
   ],
   "source": [
    "fahreinheight"
   ]
  },
  {
   "cell_type": "code",
   "execution_count": 21,
   "id": "66f3df31-8384-4a4b-baad-a07863b95347",
   "metadata": {},
   "outputs": [],
   "source": [
    "fh = []\n",
    "\n",
    "for temp in celcius :\n",
    "    fh.append((9/5)*temp + 32)"
   ]
  },
  {
   "cell_type": "code",
   "execution_count": 22,
   "id": "aeb6739c-3371-49eb-8328-7da0568c0d55",
   "metadata": {},
   "outputs": [
    {
     "data": {
      "text/plain": [
       "[32.0, 50.0, 68.0, 94.1, 122.0, 53.6]"
      ]
     },
     "execution_count": 22,
     "metadata": {},
     "output_type": "execute_result"
    }
   ],
   "source": [
    "fh"
   ]
  },
  {
   "cell_type": "code",
   "execution_count": 23,
   "id": "bef858d5-b5b9-4d84-9e62-6f5afa19991f",
   "metadata": {},
   "outputs": [],
   "source": [
    "results  = [x if x%2==0 else 'ODD' for x in range(0,11)]"
   ]
  },
  {
   "cell_type": "code",
   "execution_count": 24,
   "id": "593fa29b-d454-4a14-91b8-4feb97498bed",
   "metadata": {},
   "outputs": [
    {
     "data": {
      "text/plain": [
       "[0, 'ODD', 2, 'ODD', 4, 'ODD', 6, 'ODD', 8, 'ODD', 10]"
      ]
     },
     "execution_count": 24,
     "metadata": {},
     "output_type": "execute_result"
    }
   ],
   "source": [
    "results"
   ]
  },
  {
   "cell_type": "code",
   "execution_count": 29,
   "id": "44cf0a89-9052-45b1-b53f-481489ba9600",
   "metadata": {},
   "outputs": [],
   "source": [
    "# More preferred\n",
    "mylist = []\n",
    "\n",
    "for x in [2,3,4] :\n",
    "    for y in [200,300,400]:\n",
    "        mylist.append(x*y)"
   ]
  },
  {
   "cell_type": "code",
   "execution_count": 30,
   "id": "67221e48-ab7b-4a16-a2c5-6e674d005db3",
   "metadata": {},
   "outputs": [
    {
     "data": {
      "text/plain": [
       "[400, 600, 800, 600, 900, 1200, 800, 1200, 1600]"
      ]
     },
     "execution_count": 30,
     "metadata": {},
     "output_type": "execute_result"
    }
   ],
   "source": [
    "mylist"
   ]
  },
  {
   "cell_type": "code",
   "execution_count": 31,
   "id": "58ffb1f4-2844-4d40-9d76-8de5dbb5f627",
   "metadata": {},
   "outputs": [],
   "source": [
    "mylist = [x*y for x in [2,3,4] for y in [200,300,400]]"
   ]
  },
  {
   "cell_type": "code",
   "execution_count": 32,
   "id": "75d5af2f-faa1-462a-9bd2-89796e5c1449",
   "metadata": {},
   "outputs": [
    {
     "data": {
      "text/plain": [
       "[400, 600, 800, 600, 900, 1200, 800, 1200, 1600]"
      ]
     },
     "execution_count": 32,
     "metadata": {},
     "output_type": "execute_result"
    }
   ],
   "source": [
    "mylist"
   ]
  }
 ],
 "metadata": {
  "kernelspec": {
   "display_name": "Python 3 (ipykernel)",
   "language": "python",
   "name": "python3"
  },
  "language_info": {
   "codemirror_mode": {
    "name": "ipython",
    "version": 3
   },
   "file_extension": ".py",
   "mimetype": "text/x-python",
   "name": "python",
   "nbconvert_exporter": "python",
   "pygments_lexer": "ipython3",
   "version": "3.11.5"
  }
 },
 "nbformat": 4,
 "nbformat_minor": 5
}
